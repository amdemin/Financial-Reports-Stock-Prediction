{
 "cells": [
  {
   "cell_type": "code",
   "execution_count": 2,
   "metadata": {},
   "outputs": [],
   "source": [
    "# Import libraries\n",
    "import pandas as pd\n",
    "import numpy as np\n",
    "import matplotlib.pyplot as plt\n",
    "import seaborn as sns\n",
    "import requests\n",
    "import os\n",
    "import re\n",
    "import pickle\n",
    "from tqdm.notebook import tqdm\n",
    "from difflib import SequenceMatcher\n",
    "\n",
    "# load credentials for OpenAI API\n",
    "import openai\n",
    "import credentials\n",
    "openai.api_key = credentials.openai_api_key"
   ]
  },
  {
   "cell_type": "code",
   "execution_count": 9,
   "metadata": {},
   "outputs": [],
   "source": [
    "def split_text_into_blocks(text, headings):\n",
    "\n",
    "    # Split the text into blocks based on the headings\n",
    "    text_blocks = {}\n",
    "\n",
    "    # Iterate over the headings\n",
    "    for heading in range(len(headings)):\n",
    "\n",
    "        if heading == 0:\n",
    "            document_intro = text.split(headings[heading])[0]\n",
    "            text_blocks['Document_intro'] = document_intro\n",
    "        \n",
    "        text_after_heading = text.split(headings[heading])[1]\n",
    "        if heading == len(headings) - 1:\n",
    "            text_blocks[headings[heading]] = text_after_heading\n",
    "            break\n",
    "        else:\n",
    "            text_of_heading = text_after_heading.split(headings[heading+1])[0]\n",
    "            text_blocks[headings[heading]] = text_of_heading\n",
    "    \n",
    "    return text_blocks"
   ]
  },
  {
   "cell_type": "code",
   "execution_count": 12,
   "metadata": {},
   "outputs": [],
   "source": [
    "def clean_text_blocks(text_blocks):\n",
    "\n",
    "    # iterate over text blocks, removing '\\u200b' and extra spaces\n",
    "    for key in text_blocks:\n",
    "        text_blocks[key] = re.sub('\\u200b', '', text_blocks[key])\n",
    "        text_blocks[key] = re.sub(' +', ' ', text_blocks[key])\n",
    "\n",
    "    return text_blocks"
   ]
  },
  {
   "cell_type": "code",
   "execution_count": 17,
   "metadata": {},
   "outputs": [],
   "source": [
    "def summarize_long_text_blocks(text_blocks):\n",
    "\n",
    "    for heading, text in text_blocks.items():\n",
    "        # if the block is too long (contains over 750 words), summarize it\n",
    "        if len(text.split(' ')) > 750:\n",
    "\n",
    "            # use the OpenAI API to summarize the text\n",
    "            completion = openai.ChatCompletion.create(\n",
    "                model=\"gpt-3.5-turbo\",\n",
    "                messages=[\n",
    "                {\"role\": \"user\", \"content\": \"Please effectively summarize the following text: \" + text}\n",
    "                ])\n",
    "            # replace the long text block with the summarized version\n",
    "            text_blocks[heading] = completion.choices[0].message.content\n",
    "    \n",
    "    return text_blocks"
   ]
  },
  {
   "cell_type": "code",
   "execution_count": 29,
   "metadata": {},
   "outputs": [],
   "source": [
    "def openai_sentiment_analysis(final_prompt):\n",
    "\n",
    "    # run the request for ChatGPT\n",
    "    fine_tune_messages = {\"role\": \"system\", \"content\":\n",
    "                    \"You are a helpful financial assistant who is expert in evaluating sentiment scores for financial statements \\\n",
    "                You give precise answers to questions \\\n",
    "                the quality of your answers is highly important, you never hallucinate answers - only \\\n",
    "                answering based on your knowledge. Where the answer requires creative thought you engage \\\n",
    "                in reflective internal dialogue to ascertain the best answer\"\n",
    "    }\n",
    "\n",
    "    user_content = \"Please tell me about the sentiment (positive, negative, neutral) of this information (Netflix) for the investors. \\\n",
    "                    Please, be consice and lucid. \\\n",
    "                    Calculate the total polarity and subjectivity scores on the range -1 to 1 (show scores in the beginning of your output): \"\n",
    "\n",
    "\n",
    "    completion = openai.ChatCompletion.create(\n",
    "    model=\"gpt-3.5-turbo\",\n",
    "    messages=[\n",
    "        fine_tune_messages,\n",
    "        {\"role\": \"user\", \"content\": user_content + final_prompt}\n",
    "    ]\n",
    "    )\n",
    "\n",
    "    return completion.choices[0].message.content"
   ]
  },
  {
   "cell_type": "code",
   "execution_count": 14,
   "metadata": {},
   "outputs": [],
   "source": [
    "# Load pdf text and headings from the pickle file\n",
    "pdf_texts = pickle.load(open(\"pdf_texts.pkl\", \"rb\"))\n",
    "pdf_headings = pickle.load(open(\"pdf_headings.pkl\", \"rb\"))"
   ]
  },
  {
   "cell_type": "code",
   "execution_count": null,
   "metadata": {},
   "outputs": [],
   "source": [
    "# store openai responses in a dictionary\n",
    "openai_responses = {}\n",
    "\n",
    "for pdf_name in tqdm(pdf_texts):\n",
    "\n",
    "    try:\n",
    "\n",
    "        if pdf_name == \"FINAL-Q2-23-Shareholder-Letter\" or pdf_name == \"Final-Q1-23-Shareholder-Letter\":\n",
    "            continue\n",
    "\n",
    "        else:\n",
    "\n",
    "            text = pdf_texts[pdf_name]\n",
    "            headings = pdf_headings[pdf_name]\n",
    "\n",
    "            # split the text into blocks based on the headings\n",
    "            text_blocks = split_text_into_blocks(text, headings)\n",
    "            \n",
    "            # clean the text blocks\n",
    "            text_blocks = clean_text_blocks(text_blocks)\n",
    "\n",
    "            # print the original length of the text blocks\n",
    "            print(\"Original length of blocks for \" + pdf_name + \":\")\n",
    "            for heading, text in text_blocks.items():\n",
    "                print(len(text.split(\" \")), end=\" \")\n",
    "            print(\" \")\n",
    "\n",
    "            # summarize the text blocks\n",
    "            text_blocks = summarize_long_text_blocks(text_blocks)\n",
    "\n",
    "            # print the length of the text blocks after summarization\n",
    "            print(\"Updated length of blocks for \" + pdf_name + \":\")\n",
    "            for heading, text in text_blocks.items():\n",
    "                print(len(text.split(\" \")), end=\" \")\n",
    "            print(\" \")\n",
    "\n",
    "            # Create a final prompt\n",
    "            final_prompt = ''\n",
    "            for heading, text in text_blocks.items():\n",
    "                final_prompt += heading + ': ' + text + \" \"\n",
    "\n",
    "            # Perform openAI sentiment analysis\n",
    "            response = openai_sentiment_analysis(final_prompt)\n",
    "            openai_responses[pdf_name] = response\n",
    "\n",
    "    except Exception as e:\n",
    "        print(f\"Exception occurred in file {pdf_name}\")\n",
    "        print(f\"Exception message: {str(e)}\")"
   ]
  },
  {
   "cell_type": "code",
   "execution_count": 53,
   "metadata": {},
   "outputs": [],
   "source": [
    "import tiktoken\n",
    "\n",
    "# define the number of tokens in the prompt\n",
    "def num_tokens_from_string(string: str, encoding_name: str) -> int:\n",
    "    \"\"\"Returns the number of tokens in a text string.\"\"\"\n",
    "    encoding = tiktoken.get_encoding(encoding_name)\n",
    "    num_tokens = len(encoding.encode(string))\n",
    "    return num_tokens\n",
    "\n",
    "num_tokens_from_string"
   ]
  },
  {
   "cell_type": "code",
   "execution_count": 54,
   "metadata": {},
   "outputs": [
    {
     "data": {
      "text/plain": [
       "4893"
      ]
     },
     "execution_count": 54,
     "metadata": {},
     "output_type": "execute_result"
    }
   ],
   "source": [
    "# show number of tokens in prompt (max 4096 tokens for both input & output)\n",
    "num_tokens_from_string(final_prompt, \"cl100k_base\")"
   ]
  },
  {
   "cell_type": "code",
   "execution_count": 61,
   "metadata": {},
   "outputs": [
    {
     "data": {
      "text/plain": [
       "\" InMay,wesuccessfullylaunchedpaidsharingin100+countries,representingmorethan80%of ourrevenuebase.  Revenueineachregionisnowhigherthanpre-launch,withsign-upsalreadyexceeding cancellations.  Paidnetadditionswere5.9MinQ2,andtodaywe’rerollingoutpaidsharingtoalmost alloftheremainingcountries.  Q2‘23revenueof$8.2Bandoperatingprofitof$1.8Bweregenerallyin-linewithour forecast—andweexpectrevenuegrowthtoaccelerateinthesecondhalfof‘23aswestartto seethefullbenefitsofpaidsharingpluscontinuedsteadygrowthinourad-supportedplan. We’restilltargetingafullyear2023operatingmarginof18%to20%.  We’realeaderintermsofstreamingengagementand,perNielsen,wehadthetoporiginal streamingseriesintheUSfor24ofthefirst25weeksof2023,andthetopmoviefor21weeks. Whilewe’vemadesteadyprogressthisyear,wehavemoreworktodotoreaccelerateourgrowth.We remainfocusedon:creatingasteadydrumbeatofmustwatchshowsandmovies;improving monetization;growingtheenjoymentofourgames;andinvestingtoimproveourserviceformembers. Q3'23 (inmillionsexceptpersharedata) Q2'22 Q3'22 Q4'22 Q1'23 Q2'23 Forecast Revenue $7,970 $7,926 $7,852 $8,162 $8,187 $8,520 Y/Y%Growth 8.6% 5.9% 1.9% 3.7% 2.7% 7.5% OperatingIncome $1,578 $1,533 $550 $1,714 $1,827 $1,890 OperatingMargin 19.8% 19.3% 7.0% 21.0% 22.3% 22.2% NetIncome $1,441 $1,398 $55 $1,305 $1,488 $1,580 DilutedEPS $3.20 $3.10 $0.12 $2.88 $3.29 $3.52 GlobalStreamingPaidMemberships 220.67 223.09 230.75 232.50 238.39 Y/Y%Growth 5.5% 4.5% 4.0% 4.9% 8.0% GlobalStreamingPaidNetAdditions -0.97 2.41 7.66 1.75 5.89 Netcashprovidedbyoperatingactivities $103 $557 $444 $2,179 $1,440 FreeCashFlow $13 $472 $332 $2,117 $1,339 Shares(FD) 450.2 450.3 451.6 452.4 451.6 Q2 Results RevenueinQ2grew3%yearoveryear(+6%onaforeignexchange(F/X)neutralbasis1).Revenuegrowth wasdrivenbya6%increaseinaveragepaidmembership,whileARM2declined3%yearoveryear(-1% F/Xneutral).Theyear-over-yearARMdeclinewasdrivenbyacombinationoflimitedpriceincreasesover thepast12months(leadinguptothelaunchofpaidsharing),timingofpaidnetadditions(primarilylate inthequarterduetotheMay23rolloutofpaidsharinginQ2),andahighermixofmembershipgrowth fromlowerARMcountries. Wehadpaidnetadditionsof5.9MforQ2’23(withover1Mpaidnetaddsineachregion)vs.-1.0Min Q2’22aswesuccessfullyrolledoutpaidsharingtomorethan100countries(representingover80%of ourrevenue).Q2operatingincometotaled$1.8B,up16%vs.$1.6Bintheyearagoquarter.Operating marginwas22%,comparedwith20%inQ2’22.Bothwereslightlyaheadofourbeginning-of-quarter forecastduetoongoingexpensemanagement,slower-than-projectedheadcountgrowthandtimingof contentspend.EPSinQ2amountedto$3.29vs.$3.20inQ2’22andincludeda$29millionnon-cash unrealizedlossfromF/XremeasurementonourEurodenominateddebt,whichisrecognizedbelow operatingincomein“interestandotherincome/expense.” Forecast Ourprimaryfinancialmetricsarerevenueforgrowth,andoperatingmarginforprofitability.Ourgoalis toacceleraterevenuegrowth,expandouroperatingmarginanddelivergrowingpositivefreecashflow. Asareminder,thequarterlyguidanceweprovideisouractualinternalforecastatthetimewereport. Nowthatwe’velaunchedpaidsharingbroadly,wehaveincreasedconfidenceinourfinancialoutlook. Weexpectrevenuegrowthwillaccelerateinthesecondhalfof2023asmonetizationgrowsfromour mostrecentpaidsharinglaunchandweexpandourinitiativeacrossnearlyallremainingcountriesplus thecontinuedsteadygrowthinourad-supportedplan(moredetailsintheMonetizationandRevenue section). ForQ3,weforecastrevenueof$8.5B,up7%yearoveryearonbothareportedandF/Xneutralbasis,a slightaccelerationfromourQ2’23F/Xneutralrevenuegrowthrateof6%.OurrevenuegrowthinQ3will comefromgrowthinaveragepaidmemberships.WeexpectF/XneutralARMtobeflattoslightlydown yearoveryear,aswearelappingpriceincreasesin2022andwegenerallyhaven’thadpriceincreasesin ourlargestrevenuemarketssincethefirsthalfoflastyear(limitedduringpaidsharingrollout).Revenue fromadvertisingandourextramemberfeature3arenotyetmaterialenoughtooffsetthesefactors.We anticipateQ3’23paidnetaddswillbesimilartoQ2’23paidnetadditions.Weexpectthatourrevenue 1Excludingtheyearoveryeareffectofforeignexchangeratemovements.Assumesforeignexchangerates remainedconstantwithforeignexchangeratesfromeachofthecorrespondingmonthsoftheprior-yearperiod. 2ARM(AverageRevenueperMembership)isdefinedasstreamingrevenuedividedbytheaveragenumberof streamingpaidmembershipsdividedbythenumberofmonthsintheperiod.Thesefiguresdonotincludesales taxesorVAT. 3Asareminder,extramemberaccountsarenotincludedinourpaidmembershipcountbutaddrevenuethatis includedinARM. 2growthwillacceleratemoresubstantiallyinQ4’23aswefurthermonetizeaccountsharingbetween householdsandsteadilygrowouradvertisingrevenue. WeexpectQ3operatingincomeof$1.9Bvs.$1.5BinQ3’22andoperatingmarginof22%comparedwith 19%intheyearagoperiod.We’restilltargetingafullyear2023operatingmarginof18%-20%,basedon F/XratesasofJanuary1,2023,upfrom17.8%inFY22. Engagement Wefocusonengagementbecauseit'sthebestproxywehaveforsatisfaction.It’salsocloselylinkedto retention,animportantdriverofourbusiness.KeyforNetflixmembersisthevarietyandqualityofour content,withtheunderstandingthatqualityisintheeyeofthebeholder.We’reoftenasked“whatisa Netflixshow?”Theanswerisonethatsuperservestheaudience,leavingthemhighlysatisfiedand excitedformore.It’sthesatiricaldramedyBeef(starringAliWongandStevenYeun)andthedatingshow LoveisBlindS4(bothofwhichwereintheNetflixTop10throughoutApril),theromanceofQueen Charlotte:ABridgertonStoryandtheactionofTheNightAgent(bothofwhichwereinourtop10 throughoutMay)—storiesthatcouldnotbemoredifferentandyetthrilledmillions.Thecombinationof contentvarietyandpersonalizationmeansthateachpersoneasilyfindstitlestheywilllove. WelearnedtheimportanceofvarietybackintheDVDdays,andit’sbecomeevenmoreimportantwith streaming.Becauseifyouaspiretoservehundredsofmillionsofpeopleallaroundtheworld,youcan’t programforonesetoftastesorsensibilities.Youneedtoinvestacrossgenres,culturesandlanguages. Q2wasagoodexampleoftherangetowhichweaspire.MemberscouldchoosedramaslikeThe DiplomatandSanctuary(Japan),adrenaline-filledactionwithArnoldSchwarzeneggerinFUBAR (followedbyArnold,adocumentaryabouthislife)andFakeProfile(Colombia),satirewithBlackMirror, sportswiththeTourdeFrance:Unchained,romanticyoungadultcomedywithXOKitty(aTVspinoff fromtheToAllBoysI’veLovedBeforefilmtrilogy)orrapcompetitionwithRhythm&FlowFranceS2. AllthesetitlesnotonlyhitNetflix’sTop10listintheirowncountrybutalsoacrossmultiplecountriesand ourGlobalTop10—showingthat,withgoodsubtitlesanddubbing,pluseasydiscovery,greatstoriescan trulycomefromanywhereandexciteaudienceseverywhere.EvenintheUS,whichhashistoricallyhad incrediblylocalviewinghabits,we’veseennon-Englishlanguagetitlesgainincreasingpopularity.Shows likePhysical100(Korea),TheGlory(Korea),AliceinBorderland(Japan),MarkedHeart(Colombia),The SnowGirl(Spain)andQueVivaMexico!(Mexico)andfilmssuchasHunger(Thailand)andAKA(France) haveallhitNielsen’sweeklyoriginalstreamingTVorfilmtop10listsintheUSforatleastoneweekthis year. Asalways,westriveforconstantimprovementandtoincreasetheimpactofourslateinvestmentsover time.Filmisagoodexampleofoursteadyprogress,asourQ2filmslatedemonstratedaconsistent stringofhits.WekickedoffthequarterwithMurderMystery2,featuringAdamSandlerandJennifer Aniston(114.3Mviews4initsfirstthreemonths).ThiswasfollowedbythethrillerTheMother*(starring 4Viewsarebasedonthefirst91daysofrelease.Fortitlesreleasedlessthan91days(denotedwithanasterisk), dataisfromlaunchdatethroughJuly16,2023.WepublishweeklyourtoptitlesbasedonengagementatNetflix Top10. 3JenniferLopez)inMay,whichspentsixweeksatopourTop10weeklyfilmslistandhasnowbecomeone ofourmostpopularfilmsofalltimewith131.6millionviews.WeclosedthequarterwiththeChris Hemsworth-ledactionblockbusterExtraction2*,whichgarnered116.7Mviewsinonly31days. MurderMystery2andExtraction2alsosparkedrenewedinterestintheoriginalfilms,withbothsurging backintotheGlobalTop10inQ2,severalyearsaftertheyfirstpremieredonNetflix,highlightingthe durabilityofthesetitlesandtalent.WeseesimilarfandomontheTVsidetoo.BridgertonS1reappeared inNetflix’sTop10inMaywhenQueenCharlotte*—ourlateststoryintheBridgerton franchise—launched(79.6Mviews),NeverHaveIEverS1re-emergedinJunewhenwepremieredthe fourthandfinalseasonofthisbelovedcomingofagestoryandTheWitcherS1andS2returnedtoour Top10inJulyasfansre-immersethemselvesinthethirdseasonofthisfantasydrama.Thissuccess demonstratestheprogresswe’vemadebuildinglastingintellectualproperty(IP)fromastandingstart justadecadeago.Thisyearwe’llhavemorereturningseasonsthananyotherstreamerwithTheCrown, TopBoy,TheUpshaws,SweetMagnolias,Heartstopper,VirginRiver,TooHotToHandleandmorestillto come. InJune,weevolvedourNetflixTop10,whichprovidesweeklyengagementdataforourtopshowsand movies,across93countries.Wecontinuetoprovidetotalhoursviewed,butnowranktitlesbythe numberofviews(i.e.totalhoursvieweddividedbytheruntime5).Wethinkthisnewapproachismore intuitiveanditalsoadjustsforruntime(i.e.longerfilmsorseriesdon’tgetaninherentadvantage). We’vealsoextendedourMostPopularlistsofalltimefrom28daysto91dayssopeoplecanseehow greatstoriesgrowovertime.Webelievesharingthisengagementdataonaregularbasishelpstalent andthebroaderindustryunderstandwhatsuccesslookslikeonNetflix—andwehopethatother streamersbecomemoretransparentaboutengagementontheirservicesovertime.Belowisa consolidatedlistofourglobalTop10all-timemostpopularTVshowsandmoviesbasedonviews.6 Webuildonthesuccessofourtitleswithmarketingtofuelconversation,fandomanddiscovery(the thrillofthefind).InJune,wehostedourthirdannualfaneventTuduminpersonforthefirsttime.Over 10,000fansattendedliveinBrazilandtheshowgenerated78Mviewsacrossoursocialplatforms,an 5We’llpublishallthreedatasets-views,totalhoursviewedandruntime-eachweek. 6AsofJuly162023. 486%year-over-yearincreaseandupover200%from2021’s25.7M.It’sinspiringtowitnessthepassion thatexistsforourshowsandfilms,somethingwebelievetrulysetsNetflixapart. Monetization and Revenue Inadditiontodeliveringanever-improvingslateandproductexperience,we’vebeenworkingtoimprove ourmonetizationthroughinitiativeslikepaidsharingandadvertising.Thiswillallowustogeneratemore revenueoffabiggerbase,whichwecanreinvesttomakeNetflixevenbetterforourmembers. Advertisingenablesustoofferconsumersalowerpricepointand,eightmonthspostlaunch,we’re workinghardtoscalethebusiness.Ourkeyfocusisimprovingtheadsexperienceforbothmembersand advertisers.Inadditiontonowoffering95%contentparityglobally(byviewing),morestreamsplus improvedvideoqualityonouradsplan,we’repartneringwithNielsenandEDOtoimprove measurementandinnovatingforadvertisers.BrandscanalsonowtargetmediabuysonourTop10, whichisupdateddailyandenablesthemtoconnectwithaudiencesduringourbiggestviewing moments.Whilewecontinuetogrowourreach—adsplanmembershiphasnearlydoubledsinceQ1— it’sstilloffasmallmembershipbase,socurrentadrevenueisn’tmaterialforNetflix.Buildinganads businessfromscratchisn’teasyandwehavelotsofhardworkahead,butwe’reconfidentthatovertime wecandevelopadvertisingintoamulti-billiondollarincrementalrevenuestream. Increasedsophisticationonpricingandplansstrategyisimportanttoimprovedmonetization.InQ1,we loweredpricesinanumberoflesspenetratedmarkets,andinQ2,wephasedoutourBasicads-freeplan fornewandrejoiningmembersinCanada(existingmembersontheBasicads-freeplanareunaffected). We’renowdoingthesameintheUSandtheUK.Webelieveourentrypricesinthesecountries–$6.99 intheUS,£4.99intheUKand$5.99inCanada–providegreatvaluetoconsumersgiventhebreadthand qualityofourcatalog. Tacklingaccountsharingbetweenhouseholdshasbeenanotherfocusasitunderminesourabilityto investtoimproveNetflixforourpayingmembersandgrowourbusiness.InMay,weexpandedpaid sharingto100+countries,whichaccountforover80%ofourrevenue.Thecancelreactionwaslowand whilewe’restillintheearlystagesofmonetization,we’reseeinghealthyconversionofborrower householdsintofullpayingNetflixmembershipsaswellastheuptakeofourextramemberfeature.We arerevenueandpaidmembershippositivevs.priortothelaunchofpaidsharingacrosseveryregionin ourlatestlaunch. Beginningtoday,we’llstarttoaddressaccountsharingbetweenhouseholdsinalmostallofour remainingcountries.Inthesemarkets,we’renotofferinganextramemberoptiongiventhatwe’ve recentlycutpricesinagoodnumberofthesecountries(forexample,Indonesia,Croatia,Kenya,and India)andpenetrationisstillrelativelylowinmanyofthemsowehaveplentyofrunwaywithout creatingadditionalcomplexity.HouseholdsborrowingNetflixwillbeabletotransferexistingprofilesto newandexistingaccounts. 5Competition Consumershavesomanyamazingentertainmentchoices—frommoviesandTVshowstosportsand newstogamingandsocialmediajusttonameafew.Weexpectthatcompetitionwillremainintense, includingwithinstreaming.Ourbiggesttraditionalentertainmentcompetitors,Disney,Comcast/NBCU, ParamountGlobalandWarnerBrothersDiscovery—withtheirlargecontentlibrariesandcreative expertise—arenowfocusedonprofitsotheycanbuildsustainable,longtermstreamingbusinesses. AndourbigtechcompetitorsApple,AmazonandYouTube—withtheirbroadreachanddeeppockets— continuetoinvestheavilytogrowtheirstreamingrevenues.Netflix’srevenuewas$32Bin2022, comparedtonearly$40BforYouTubeacrossallitsproducts7(trailing12-monthbasisasofQ1’23)and Amazon’s$35Bsubscriptionrevenuein2022,ofwhichweassumethemajorityrelatestothePrime bundle8thatincludesshipping,videoandotherservices.CombinedwithApple’svideoinitiatives,there’s quiteacompetitivebattlehappening. Nielsen’sTheGauge:ShareofUSTVScreenTime,TotalDay,Persons2+ Butwhilestreamingisintenselycompetitive,we’veshownthatwithstrongexecutionandfocus,itcan beagreatbusiness.Longtermsuccesstakesstrengthinbothentertainmentandtechnology,a combinationthat’snotbeenrequiredoflargemediaortechcompaniesinthepast.It’saboutone’s abilitytoworkwiththebestcreators;toproduceandlicensemovies,TVshowsandultimatelygames acrossmultiplegenresandlanguagesglobally;tocreateastellardiscoveryengine;tobuildgreat partnershipsandpaymentssystems;andtocontinuallypiercethezeitgeistwithconsumerpassionand fandom.ImprovingacrossalltheseareasiskeytoensuringthatNetflixcontinuestoleadthestreaming 7IncludingYouTubeAds,Premium,Music,andTV. 8Wedon’tknowhowmuchofAmazon’ssubscriptionrevenueisrelatedtoPrime,PrimeVideo,orotherdigitaland non-AWSsubscriptions. 6packintermsofengagement,revenueandprofitoverthelongterm.Wehavemuchmoretodoand we’rereadyforthechallenge. Cash Flow and Capital Structure NetcashgeneratedbyoperatingactivitiesinQ2was$1.4Bvs.$0.1Bintheprioryearperiod.Freecash flow9inQ2’23amountedto$1.3Bcomparedwithaboutbreakevenintheyearagoquarter.Assumingno materialswingsinF/X,wenowanticipateatleast$5BinFCFfor2023,upfromourpriorestimateofat least$3.5B.Ourupdatedexpectationreflectslowercashcontentspendin2023thanweoriginally anticipatedduetotimingofproductionstartsandtheongoingWGAandSAG-AFTRAstrikes.Whilethis maycreatesomelumpinessinFCFfrom2023to2024,weplantodeliversubstantialpositiveFCFin2024 (withacashcontentspendtocontentamortizationratioofroughly1.1x). WefinishedQ2withgrossdebtof$14.5B(in-linewithour$10B-$15Btargetedrange)andcashandshort terminvestmentsof$8.6B.Duringthequarter,werepurchased1.8Msharesfor$645M.Wenowhave $3.4Bofcapacityremainingunderour$5Bsharebuybackauthorization.We’recurrentlyrunningabit aboveourtargetedminimumcashlevel10,soweexpecttoincreaseourstockrepurchaseactivityinthe secondhalfof2023,assumingnomaterialchangeinourbusiness. Environmental, Social, and Governance (ESG) Weaspiretoentertaintheworld—andtodososustainablyandresponsibly.InApril,wepublishedour 2022InclusionReportUpdate—sharingtheprogresswe’vemadetoincreaserepresentationwithinour company.ThelatestUSCAnnenbergInclusionInitiativestudyintodiversityonandoffcamerainourUS filmandseriesfrom2020to2021showsimprovementsforwomenandpeoplefromunderrepresented groups.WealsocontinuetosupportthenextgenerationoftalentthroughourNetflixFundforCreative Equity,whichhasinvested$29millioninmorethan100programsacross35countriesinthelasttwo years. Theseupdatesoninclusion,alongwithupdatesonadditionalESGinitiatives,canbefoundinourfourth annualESGreport,whichwaspublishedinJune.Wecontinuetomakeprogressonmeetingourclimate targetsthroughoptimizingourenergyuse,thenelectrifyingitanddecarbonizingtheresttobring remainingemissionstozero.Thereportalsoshareshowwehaveevolvedourgovernancestructure. Reference Forquickreference,ourpastinvestorletterscanbefoundhere. 9Definedascashprovidedby(usedin)operatingactivitieslesspurchasesofpropertyandequipmentandchange inotherassets. 10Wetargetmaintainingminimumcashequivalenttoroughlytwomonthsofrevenue(i.e.,about$5.5Bbasedon Q2revenueof$8.2B). 7\""
      ]
     },
     "execution_count": 61,
     "metadata": {},
     "output_type": "execute_result"
    }
   ],
   "source": [
    "pdf_texts[\"FINAL-Q2-23-Shareholder-Letter\"]"
   ]
  },
  {
   "cell_type": "code",
   "execution_count": 58,
   "metadata": {},
   "outputs": [
    {
     "data": {
      "text/plain": [
       "{'Document_intro': \" InMay,wesuccessfullylaunchedpaidsharingin100+countries,representingmorethan80%of ourrevenuebase. Revenueineachregionisnowhigherthanpre-launch,withsign-upsalreadyexceeding cancellations. Paidnetadditionswere5.9MinQ2,andtodaywe’rerollingoutpaidsharingtoalmost alloftheremainingcountries. Q2‘23revenueof$8.2Bandoperatingprofitof$1.8Bweregenerallyin-linewithour forecast—andweexpectrevenuegrowthtoaccelerateinthesecondhalfof‘23aswestartto seethefullbenefitsofpaidsharingpluscontinuedsteadygrowthinourad-supportedplan. We’restilltargetingafullyear2023operatingmarginof18%to20%. We’realeaderintermsofstreamingengagementand,perNielsen,wehadthetoporiginal streamingseriesintheUSfor24ofthefirst25weeksof2023,andthetopmoviefor21weeks. Whilewe’vemadesteadyprogressthisyear,wehavemoreworktodotoreaccelerateourgrowth.We remainfocusedon:creatingasteadydrumbeatofmustwatchshowsandmovies;improving monetization;growingtheenjoymentofourgames;andinvestingtoimproveourserviceformembers. Q3'23 (inmillionsexceptpersharedata) Q2'22 Q3'22 Q4'22 Q1'23 Q2'23 Forecast Revenue $7,970 $7,926 $7,852 $8,162 $8,187 $8,520 Y/Y%Growth 8.6% 5.9% 1.9% 3.7% 2.7% 7.5% OperatingIncome $1,578 $1,533 $550 $1,714 $1,827 $1,890 OperatingMargin 19.8% 19.3% 7.0% 21.0% 22.3% 22.2% NetIncome $1,441 $1,398 $55 $1,305 $1,488 $1,580 DilutedEPS $3.20 $3.10 $0.12 $2.88 $3.29 $3.52 GlobalStreamingPaidMemberships 220.67 223.09 230.75 232.50 238.39 Y/Y%Growth 5.5% 4.5% 4.0% 4.9% 8.0% GlobalStreamingPaidNetAdditions -0.97 2.41 7.66 1.75 5.89 Netcashprovidedbyoperatingactivities $103 $557 $444 $2,179 $1,440 FreeCashFlow $13 $472 $332 $2,117 $1,339 Shares(FD) 450.2 450.3 451.6 452.4 451.6 \",\n",
       " 'Q2 Results': ' RevenueinQ2grew3%yearoveryear(+6%onaforeignexchange(F/X)neutralbasis1).Revenuegrowth wasdrivenbya6%increaseinaveragepaidmembership,whileARM2declined3%yearoveryear(-1% F/Xneutral).Theyear-over-yearARMdeclinewasdrivenbyacombinationoflimitedpriceincreasesover thepast12months(leadinguptothelaunchofpaidsharing),timingofpaidnetadditions(primarilylate inthequarterduetotheMay23rolloutofpaidsharinginQ2),andahighermixofmembershipgrowth fromlowerARMcountries. Wehadpaidnetadditionsof5.9MforQ2’23(withover1Mpaidnetaddsineachregion)vs.-1.0Min Q2’22aswesuccessfullyrolledoutpaidsharingtomorethan100countries(representingover80%of ourrevenue).Q2operatingincometotaled$1.8B,up16%vs.$1.6Bintheyearagoquarter.Operating marginwas22%,comparedwith20%inQ2’22.Bothwereslightlyaheadofourbeginning-of-quarter forecastduetoongoingexpensemanagement,slower-than-projectedheadcountgrowthandtimingof contentspend.EPSinQ2amountedto$3.29vs.$3.20inQ2’22andincludeda$29millionnon-cash unrealizedlossfromF/XremeasurementonourEurodenominateddebt,whichisrecognizedbelow operatingincomein“interestandotherincome/expense.” ',\n",
       " 'Forecast': ' Revenue $7,970 $7,926 $7,852 $8,162 $8,187 $8,520 Y/Y%Growth 8.6% 5.9% 1.9% 3.7% 2.7% 7.5% OperatingIncome $1,578 $1,533 $550 $1,714 $1,827 $1,890 OperatingMargin 19.8% 19.3% 7.0% 21.0% 22.3% 22.2% NetIncome $1,441 $1,398 $55 $1,305 $1,488 $1,580 DilutedEPS $3.20 $3.10 $0.12 $2.88 $3.29 $3.52 GlobalStreamingPaidMemberships 220.67 223.09 230.75 232.50 238.39 Y/Y%Growth 5.5% 4.5% 4.0% 4.9% 8.0% GlobalStreamingPaidNetAdditions -0.97 2.41 7.66 1.75 5.89 Netcashprovidedbyoperatingactivities $103 $557 $444 $2,179 $1,440 FreeCashFlow $13 $472 $332 $2,117 $1,339 Shares(FD) 450.2 450.3 451.6 452.4 451.6 Q2 Results RevenueinQ2grew3%yearoveryear(+6%onaforeignexchange(F/X)neutralbasis1).Revenuegrowth wasdrivenbya6%increaseinaveragepaidmembership,whileARM2declined3%yearoveryear(-1% F/Xneutral).Theyear-over-yearARMdeclinewasdrivenbyacombinationoflimitedpriceincreasesover thepast12months(leadinguptothelaunchofpaidsharing),timingofpaidnetadditions(primarilylate inthequarterduetotheMay23rolloutofpaidsharinginQ2),andahighermixofmembershipgrowth fromlowerARMcountries. Wehadpaidnetadditionsof5.9MforQ2’23(withover1Mpaidnetaddsineachregion)vs.-1.0Min Q2’22aswesuccessfullyrolledoutpaidsharingtomorethan100countries(representingover80%of ourrevenue).Q2operatingincometotaled$1.8B,up16%vs.$1.6Bintheyearagoquarter.Operating marginwas22%,comparedwith20%inQ2’22.Bothwereslightlyaheadofourbeginning-of-quarter forecastduetoongoingexpensemanagement,slower-than-projectedheadcountgrowthandtimingof contentspend.EPSinQ2amountedto$3.29vs.$3.20inQ2’22andincludeda$29millionnon-cash unrealizedlossfromF/XremeasurementonourEurodenominateddebt,whichisrecognizedbelow operatingincomein“interestandotherincome/expense.” ',\n",
       " 'Engagement': \" Wefocusonengagementbecauseit'sthebestproxywehaveforsatisfaction.It’salsocloselylinkedto retention,animportantdriverofourbusiness.KeyforNetflixmembersisthevarietyandqualityofour content,withtheunderstandingthatqualityisintheeyeofthebeholder.We’reoftenasked“whatisa Netflixshow?”Theanswerisonethatsuperservestheaudience,leavingthemhighlysatisfiedand excitedformore.It’sthesatiricaldramedyBeef(starringAliWongandStevenYeun)andthedatingshow LoveisBlindS4(bothofwhichwereintheNetflixTop10throughoutApril),theromanceofQueen Charlotte:ABridgertonStoryandtheactionofTheNightAgent(bothofwhichwereinourtop10 throughoutMay)—storiesthatcouldnotbemoredifferentandyetthrilledmillions.Thecombinationof contentvarietyandpersonalizationmeansthateachpersoneasilyfindstitlestheywilllove. WelearnedtheimportanceofvarietybackintheDVDdays,andit’sbecomeevenmoreimportantwith streaming.Becauseifyouaspiretoservehundredsofmillionsofpeopleallaroundtheworld,youcan’t programforonesetoftastesorsensibilities.Youneedtoinvestacrossgenres,culturesandlanguages. Q2wasagoodexampleoftherangetowhichweaspire.MemberscouldchoosedramaslikeThe DiplomatandSanctuary(Japan),adrenaline-filledactionwithArnoldSchwarzeneggerinFUBAR (followedbyArnold,adocumentaryabouthislife)andFakeProfile(Colombia),satirewithBlackMirror, sportswiththeTourdeFrance:Unchained,romanticyoungadultcomedywithXOKitty(aTVspinoff fromtheToAllBoysI’veLovedBeforefilmtrilogy)orrapcompetitionwithRhythm&FlowFranceS2. AllthesetitlesnotonlyhitNetflix’sTop10listintheirowncountrybutalsoacrossmultiplecountriesand ourGlobalTop10—showingthat,withgoodsubtitlesanddubbing,pluseasydiscovery,greatstoriescan trulycomefromanywhereandexciteaudienceseverywhere.EvenintheUS,whichhashistoricallyhad incrediblylocalviewinghabits,we’veseennon-Englishlanguagetitlesgainincreasingpopularity.Shows likePhysical100(Korea),TheGlory(Korea),AliceinBorderland(Japan),MarkedHeart(Colombia),The SnowGirl(Spain)andQueVivaMexico!(Mexico)andfilmssuchasHunger(Thailand)andAKA(France) haveallhitNielsen’sweeklyoriginalstreamingTVorfilmtop10listsintheUSforatleastoneweekthis year. Asalways,westriveforconstantimprovementandtoincreasetheimpactofourslateinvestmentsover time.Filmisagoodexampleofoursteadyprogress,asourQ2filmslatedemonstratedaconsistent stringofhits.WekickedoffthequarterwithMurderMystery2,featuringAdamSandlerandJennifer Aniston(114.3Mviews4initsfirstthreemonths).ThiswasfollowedbythethrillerTheMother*(starring 4Viewsarebasedonthefirst91daysofrelease.Fortitlesreleasedlessthan91days(denotedwithanasterisk), dataisfromlaunchdatethroughJuly16,2023.WepublishweeklyourtoptitlesbasedonengagementatNetflix Top10. 3JenniferLopez)inMay,whichspentsixweeksatopourTop10weeklyfilmslistandhasnowbecomeone ofourmostpopularfilmsofalltimewith131.6millionviews.WeclosedthequarterwiththeChris Hemsworth-ledactionblockbusterExtraction2*,whichgarnered116.7Mviewsinonly31days. MurderMystery2andExtraction2alsosparkedrenewedinterestintheoriginalfilms,withbothsurging backintotheGlobalTop10inQ2,severalyearsaftertheyfirstpremieredonNetflix,highlightingthe durabilityofthesetitlesandtalent.WeseesimilarfandomontheTVsidetoo.BridgertonS1reappeared inNetflix’sTop10inMaywhenQueenCharlotte*—ourlateststoryintheBridgerton franchise—launched(79.6Mviews),NeverHaveIEverS1re-emergedinJunewhenwepremieredthe fourthandfinalseasonofthisbelovedcomingofagestoryandTheWitcherS1andS2returnedtoour Top10inJulyasfansre-immersethemselvesinthethirdseasonofthisfantasydrama.Thissuccess demonstratestheprogresswe’vemadebuildinglastingintellectualproperty(IP)fromastandingstart justadecadeago.Thisyearwe’llhavemorereturningseasonsthananyotherstreamerwithTheCrown, TopBoy,TheUpshaws,SweetMagnolias,Heartstopper,VirginRiver,TooHotToHandleandmorestillto come. InJune,weevolvedourNetflixTop10,whichprovidesweeklyengagementdataforourtopshowsand movies,across93countries.Wecontinuetoprovidetotalhoursviewed,butnowranktitlesbythe numberofviews(i.e.totalhoursvieweddividedbytheruntime5).Wethinkthisnewapproachismore intuitiveanditalsoadjustsforruntime(i.e.longerfilmsorseriesdon’tgetaninherentadvantage). We’vealsoextendedourMostPopularlistsofalltimefrom28daysto91dayssopeoplecanseehow greatstoriesgrowovertime.Webelievesharingthisengagementdataonaregularbasishelpstalent andthebroaderindustryunderstandwhatsuccesslookslikeonNetflix—andwehopethatother streamersbecomemoretransparentaboutengagementontheirservicesovertime.Belowisa consolidatedlistofourglobalTop10all-timemostpopularTVshowsandmoviesbasedonviews.6 Webuildonthesuccessofourtitleswithmarketingtofuelconversation,fandomanddiscovery(the thrillofthefind).InJune,wehostedourthirdannualfaneventTuduminpersonforthefirsttime.Over 10,000fansattendedliveinBrazilandtheshowgenerated78Mviewsacrossoursocialplatforms,an 5We’llpublishallthreedatasets-views,totalhoursviewedandruntime-eachweek. 6AsofJuly162023. 486%year-over-yearincreaseandupover200%from2021’s25.7M.It’sinspiringtowitnessthepassion thatexistsforourshowsandfilms,somethingwebelievetrulysetsNetflixapart. \",\n",
       " 'Monetization and Revenue': ' Inadditiontodeliveringanever-improvingslateandproductexperience,we’vebeenworkingtoimprove ourmonetizationthroughinitiativeslikepaidsharingandadvertising.Thiswillallowustogeneratemore revenueoffabiggerbase,whichwecanreinvesttomakeNetflixevenbetterforourmembers. Advertisingenablesustoofferconsumersalowerpricepointand,eightmonthspostlaunch,we’re workinghardtoscalethebusiness.Ourkeyfocusisimprovingtheadsexperienceforbothmembersand advertisers.Inadditiontonowoffering95%contentparityglobally(byviewing),morestreamsplus improvedvideoqualityonouradsplan,we’repartneringwithNielsenandEDOtoimprove measurementandinnovatingforadvertisers.BrandscanalsonowtargetmediabuysonourTop10, whichisupdateddailyandenablesthemtoconnectwithaudiencesduringourbiggestviewing moments.Whilewecontinuetogrowourreach—adsplanmembershiphasnearlydoubledsinceQ1— it’sstilloffasmallmembershipbase,socurrentadrevenueisn’tmaterialforNetflix.Buildinganads businessfromscratchisn’teasyandwehavelotsofhardworkahead,butwe’reconfidentthatovertime wecandevelopadvertisingintoamulti-billiondollarincrementalrevenuestream. Increasedsophisticationonpricingandplansstrategyisimportanttoimprovedmonetization.InQ1,we loweredpricesinanumberoflesspenetratedmarkets,andinQ2,wephasedoutourBasicads-freeplan fornewandrejoiningmembersinCanada(existingmembersontheBasicads-freeplanareunaffected). We’renowdoingthesameintheUSandtheUK.Webelieveourentrypricesinthesecountries–$6.99 intheUS,£4.99intheUKand$5.99inCanada–providegreatvaluetoconsumersgiventhebreadthand qualityofourcatalog. Tacklingaccountsharingbetweenhouseholdshasbeenanotherfocusasitunderminesourabilityto investtoimproveNetflixforourpayingmembersandgrowourbusiness.InMay,weexpandedpaid sharingto100+countries,whichaccountforover80%ofourrevenue.Thecancelreactionwaslowand whilewe’restillintheearlystagesofmonetization,we’reseeinghealthyconversionofborrower householdsintofullpayingNetflixmembershipsaswellastheuptakeofourextramemberfeature.We arerevenueandpaidmembershippositivevs.priortothelaunchofpaidsharingacrosseveryregionin ourlatestlaunch. Beginningtoday,we’llstarttoaddressaccountsharingbetweenhouseholdsinalmostallofour remainingcountries.Inthesemarkets,we’renotofferinganextramemberoptiongiventhatwe’ve recentlycutpricesinagoodnumberofthesecountries(forexample,Indonesia,Croatia,Kenya,and India)andpenetrationisstillrelativelylowinmanyofthemsowehaveplentyofrunwaywithout creatingadditionalcomplexity.HouseholdsborrowingNetflixwillbeabletotransferexistingprofilesto newandexistingaccounts. 5',\n",
       " 'Competition': ' Consumershavesomanyamazingentertainmentchoices—frommoviesandTVshowstosportsand newstogamingandsocialmediajusttonameafew.Weexpectthatcompetitionwillremainintense, includingwithinstreaming.Ourbiggesttraditionalentertainmentcompetitors,Disney,Comcast/NBCU, ParamountGlobalandWarnerBrothersDiscovery—withtheirlargecontentlibrariesandcreative expertise—arenowfocusedonprofitsotheycanbuildsustainable,longtermstreamingbusinesses. AndourbigtechcompetitorsApple,AmazonandYouTube—withtheirbroadreachanddeeppockets— continuetoinvestheavilytogrowtheirstreamingrevenues.Netflix’srevenuewas$32Bin2022, comparedtonearly$40BforYouTubeacrossallitsproducts7(trailing12-monthbasisasofQ1’23)and Amazon’s$35Bsubscriptionrevenuein2022,ofwhichweassumethemajorityrelatestothePrime bundle8thatincludesshipping,videoandotherservices.CombinedwithApple’svideoinitiatives,there’s quiteacompetitivebattlehappening. Nielsen’sTheGauge:ShareofUSTVScreenTime,TotalDay,Persons2+ Butwhilestreamingisintenselycompetitive,we’veshownthatwithstrongexecutionandfocus,itcan beagreatbusiness.Longtermsuccesstakesstrengthinbothentertainmentandtechnology,a combinationthat’snotbeenrequiredoflargemediaortechcompaniesinthepast.It’saboutone’s abilitytoworkwiththebestcreators;toproduceandlicensemovies,TVshowsandultimatelygames acrossmultiplegenresandlanguagesglobally;tocreateastellardiscoveryengine;tobuildgreat partnershipsandpaymentssystems;andtocontinuallypiercethezeitgeistwithconsumerpassionand fandom.ImprovingacrossalltheseareasiskeytoensuringthatNetflixcontinuestoleadthestreaming 7IncludingYouTubeAds,Premium,Music,andTV. 8Wedon’tknowhowmuchofAmazon’ssubscriptionrevenueisrelatedtoPrime,PrimeVideo,orotherdigitaland non-AWSsubscriptions. 6packintermsofengagement,revenueandprofitoverthelongterm.Wehavemuchmoretodoand we’rereadyforthechallenge. ',\n",
       " 'Cash Flow and Capital Structure': ' NetcashgeneratedbyoperatingactivitiesinQ2was$1.4Bvs.$0.1Bintheprioryearperiod.Freecash flow9inQ2’23amountedto$1.3Bcomparedwithaboutbreakevenintheyearagoquarter.Assumingno materialswingsinF/X,wenowanticipateatleast$5BinFCFfor2023,upfromourpriorestimateofat least$3.5B.Ourupdatedexpectationreflectslowercashcontentspendin2023thanweoriginally anticipatedduetotimingofproductionstartsandtheongoingWGAandSAG-AFTRAstrikes.Whilethis maycreatesomelumpinessinFCFfrom2023to2024,weplantodeliversubstantialpositiveFCFin2024 (withacashcontentspendtocontentamortizationratioofroughly1.1x). WefinishedQ2withgrossdebtof$14.5B(in-linewithour$10B-$15Btargetedrange)andcashandshort terminvestmentsof$8.6B.Duringthequarter,werepurchased1.8Msharesfor$645M.Wenowhave $3.4Bofcapacityremainingunderour$5Bsharebuybackauthorization.We’recurrentlyrunningabit aboveourtargetedminimumcashlevel10,soweexpecttoincreaseourstockrepurchaseactivityinthe secondhalfof2023,assumingnomaterialchangeinourbusiness. ',\n",
       " 'Environmental, Social, and Governance (ESG)': ' Weaspiretoentertaintheworld—andtodososustainablyandresponsibly.InApril,wepublishedour 2022InclusionReportUpdate—sharingtheprogresswe’vemadetoincreaserepresentationwithinour company.ThelatestUSCAnnenbergInclusionInitiativestudyintodiversityonandoffcamerainourUS filmandseriesfrom2020to2021showsimprovementsforwomenandpeoplefromunderrepresented groups.WealsocontinuetosupportthenextgenerationoftalentthroughourNetflixFundforCreative Equity,whichhasinvested$29millioninmorethan100programsacross35countriesinthelasttwo years. Theseupdatesoninclusion,alongwithupdatesonadditionalESGinitiatives,canbefoundinourfourth annualESGreport,whichwaspublishedinJune.Wecontinuetomakeprogressonmeetingourclimate targetsthroughoptimizingourenergyuse,thenelectrifyingitanddecarbonizingtheresttobring remainingemissionstozero.Thereportalsoshareshowwehaveevolvedourgovernancestructure. ',\n",
       " 'Reference': ' Forquickreference,ourpastinvestorletterscanbefoundhere. 9Definedascashprovidedby(usedin)operatingactivitieslesspurchasesofpropertyandequipmentandchange inotherassets. 10Wetargetmaintainingminimumcashequivalenttoroughlytwomonthsofrevenue(i.e.,about$5.5Bbasedon Q2revenueof$8.2B). 7'}"
      ]
     },
     "execution_count": 58,
     "metadata": {},
     "output_type": "execute_result"
    }
   ],
   "source": [
    "text_blocks"
   ]
  },
  {
   "cell_type": "code",
   "execution_count": 47,
   "metadata": {},
   "outputs": [
    {
     "data": {
      "text/plain": [
       "\"Document_intro: Summary: Q1‘23revenueandoperatingprofitwerein-linewithourforecast. WedeliveredastrongcontentslateinQ1with: SuccessfulreturningseasonslikeOuterBanks,You,Ginny&Georgiaandabigsequel filmMurderMystery2. NewhitsacrossnearlyeverygenreofTVlikeTheNightAgent(nowour6thmostpopular EnglishlanguageTVshowever),TheGlory(our5thmostpopularnon-EnglishTVshow ever),FullSwing,That90sShowandfilmsYouPeopleandLuther:TheFallenSun. WithMoody’srecentupgrade,weachievedinvestmentgradestatus.Netflixistheleading streamingservicebasedonengagement,revenueandprofitandweareworkingtobuildonthat in‘23,byseekingtoexpandoperatingmarginto18%-20%andtogenerateatleast+$3.5Bof freecashflow(upfromourpriorexpectationofatleast$3.0BofFCF). InQ1,welaunchedpaidsharinginfourcountriesandarepleasedwiththeresults.Weare planningonabroadrollout,includingintheUS,inQ2. Givencurrenthealthyperformanceandtrajectoryofourper-memberadvertisingeconomics, particularlyintheUS,we’reupgradingouradsexperiencewithmorestreamsandimproved videoqualitytoattractabroaderrangeofconsumers. Inshort,we’reofftoagoodstartin2023.Asalways,ourfocusremainspleasingourmembersand attractinggreatcreatorssothatwecancontinuetobuildawildlysuccessfulbusiness. Q2'23 (inmillionsexceptpersharedata) Q1'22 Q2'22 Q3'22 Q4'22 Q1'23 Forecast Revenue $7,868 $7,970 $7,926 $7,852 $8,162 $8,242 Y/Y%Growth 9.8% 8.6% 5.9% 1.9% 3.7% 3.4% OperatingIncome $1,972 $1,578 $1,533 $550 $1,714 $1,565 OperatingMargin 25.1% 19.8% 19.3% 7.0% 21.0% 19.0% NetIncome $1,597 $1,441 $1,398 $55 $1,305 $1,283 DilutedEPS $3.53 $3.20 $3.10 $0.12 $2.88 $2.84 GlobalStreamingPaidMemberships 221.64 220.67 223.09 230.75 232.50 Y/Y%Growth 6.7% 5.5% 4.5% 4.0% 4.9% GlobalStreamingPaidNetAdditions -0.20 -0.97 2.41 7.66 1.75 Netcashprovidedbyoperatingactivities $923 $103 $557 $444 $2,179 FreeCashFlow* $802 $13 $472 $332 $2,117 Shares(FD) 453.0 450.2 450.3 451.6 452.4  Q1 Results:  Revenuegrew4%yearoveryearinQ1(+8%onaforeignexchange(F/X)neutralbasis1),consistentwith ourbeginning-of-quarterforecast.Averagepaidmembershipsincreased4%yearoveryear,whileARM2 was-1%vs.Q1’22(+4%onanF/Xneutralbasis).Paidnetaddsamountedto1.8MforQ1vs.-0.2Minthe yearagoquarter.Regionalhighlightsinclude: UCANrevenuegrew8%yearoveryear(bothreportedandF/Xneutral)drivenbya9%increase inARM(bothreportedandF/Xneutral). EMEArevenuewasdown2%yearoveryear(+6%onanF/Xneutralbasis),dueprimarilytoa declineof6%inARM(+1%onanF/Xneutralbasis),offsetpartiallybya4%increaseinaverage paidmemberships. LATAMrevenueincreased7%yearoveryear(+13%F/Xneutral),witha3%riseinARM(+8%F/X neutral).Paidmembershipdippedby0.4M,whichwebelieveisduetopullforwardfromQ4 (whenwehadabigquarterwith1.8Mpaidnetadds)andongoingmacroeconomicsoftness. APACrevenuegrew2%yearoveryear(+10%F/Xneutral).Averagepaidmembershipsincreased 17%yearoveryear.Thisoffseta13%decreaseinARM(-6%F/Xneutral),whichwasduetoplan mixandahighermixofmembergrowthincountrieswithlowerpricing. Operatingincometotaled$1.7Bvs.$2.0BinQ1‘22-aboveourguidanceforecastof$1.6Bdueto ongoingexpensemanagementandtimingofhiringandcontentspend.Operatingmarginwas21% comparedto25%intheyearagoperiod.Theyearoveryeardeclineinoperatingmarginwasprimarily duetoF/X-theappreciationoftheUSdollaraccountedforroughlythreepercentagepointsoftheyear overyearchangeinoperatingmargin.Q1’23EPSof$2.88(vs.$3.53inQ1‘22)wasin-linewithour guidanceof$2.82andincludedan$81millionnon-cashunrealizedlossfromF/Xremeasurementonour Eurodenominateddebt.  Forecast:  Revenue $7,868 $7,970 $7,926 $7,852 $8,162 $8,242 Y/Y%Growth 9.8% 8.6% 5.9% 1.9% 3.7% 3.4% OperatingIncome $1,972 $1,578 $1,533 $550 $1,714 $1,565 OperatingMargin 25.1% 19.8% 19.3% 7.0% 21.0% 19.0% NetIncome $1,597 $1,441 $1,398 $55 $1,305 $1,283 DilutedEPS $3.53 $3.20 $3.10 $0.12 $2.88 $2.84 GlobalStreamingPaidMemberships 221.64 220.67 223.09 230.75 232.50 Y/Y%Growth 6.7% 5.5% 4.5% 4.0% 4.9% GlobalStreamingPaidNetAdditions -0.20 -0.97 2.41 7.66 1.75 Netcashprovidedbyoperatingactivities $923 $103 $557 $444 $2,179 FreeCashFlow* $802 $13 $472 $332 $2,117 Shares(FD) 453.0 450.2 450.3 451.6 452.4 Q1 Results Revenuegrew4%yearoveryearinQ1(+8%onaforeignexchange(F/X)neutralbasis1),consistentwith ourbeginning-of-quarterforecast.Averagepaidmembershipsincreased4%yearoveryear,whileARM2 was-1%vs.Q1’22(+4%onanF/Xneutralbasis).Paidnetaddsamountedto1.8MforQ1vs.-0.2Minthe yearagoquarter.Regionalhighlightsinclude: UCANrevenuegrew8%yearoveryear(bothreportedandF/Xneutral)drivenbya9%increase inARM(bothreportedandF/Xneutral). EMEArevenuewasdown2%yearoveryear(+6%onanF/Xneutralbasis),dueprimarilytoa declineof6%inARM(+1%onanF/Xneutralbasis),offsetpartiallybya4%increaseinaverage paidmemberships. LATAMrevenueincreased7%yearoveryear(+13%F/Xneutral),witha3%riseinARM(+8%F/X neutral).Paidmembershipdippedby0.4M,whichwebelieveisduetopullforwardfromQ4 (whenwehadabigquarterwith1.8Mpaidnetadds)andongoingmacroeconomicsoftness. APACrevenuegrew2%yearoveryear(+10%F/Xneutral).Averagepaidmembershipsincreased 17%yearoveryear.Thisoffseta13%decreaseinARM(-6%F/Xneutral),whichwasduetoplan mixandahighermixofmembergrowthincountrieswithlowerpricing. Operatingincometotaled$1.7Bvs.$2.0BinQ1‘22-aboveourguidanceforecastof$1.6Bdueto ongoingexpensemanagementandtimingofhiringandcontentspend.Operatingmarginwas21% comparedto25%intheyearagoperiod.Theyearoveryeardeclineinoperatingmarginwasprimarily duetoF/X-theappreciationoftheUSdollaraccountedforroughlythreepercentagepointsoftheyear overyearchangeinoperatingmargin.Q1’23EPSof$2.88(vs.$3.53inQ1‘22)wasin-linewithour guidanceof$2.82andincludedan$81millionnon-cashunrealizedlossfromF/Xremeasurementonour Eurodenominateddebt.  Engagement:   Monetization and Revenue:  Asweimproveourmemberexperiencewithmoremustwatchstories,wealsoneedtoimproveour monetization.Thiswillnotonlyhelpreacceleraterevenuegrowthandincreaseoperatingmargin,itwill alsoenableustoinvestmoreingreatentertainment. Wewanttobemoresophisticatedaroundpricingsothatweofferarangeofpricepointsandfeature setstosuitconsumers’differingneeds.Forexample,whenwelaunchedgloballyin2016,wetookafairly uniformapproachtopricingacrossmostcountriesgivenourfocusonearlyadopters.Overtimewe’ve adaptedourpricestomeetlocalneedsandtofurtherdeepenourpenetration,includingloweringprices inIndiaby20%-60%inDecember‘21.Thesereductions–combinedwithanimprovedslate–helped growengagementinIndiabynearly30%yearonyearwhileF/Xneutralrevenuegrowthin2022 acceleratedto24%(versus19%in2021).Learningfromthissuccess,wereducedpricesinanadditional 116countriesinQ1.Whiletheyrepresentedlessthan5%ofourFY‘22revenue,webelievethat increasingadoptioninthesemarketswillhelptomaximizeourrevenuelongerterm. Similarly,ournewadsplanallowsustoofferconsumersalowerpricepoint.Whileit’sstillveryearly days,wecontinuetobepleasedwithourprogressacrossallkeydimensions:memberexperience,value toadvertisersandincrementalcontributiontoourbusiness.Engagementonouradstierisaboveour initialexpectationsand,asexpected,we’veseenverylittleswitchingfromourstandardandpremium plans.Also,thankstoourmostrecentsetoflicensingdeals,ourad-supportedplannowhasonaverage ~95%contentparityglobally(byviewing)withourads-freeplans,includingallthelatestNetflixshows andmovies.Ontheadvertiserside,wearelaunchingaprogrammaticprivatemarketplacetoenable morebuyingoptionsforNetflixadinventoryusingMicrosoft’ssalesplatform.Ourpartnershipswith IntegralAdScienceandDoubleVerifyarealsonowlive–validatingcampaignengagementofads viewershiponNetflix. Wearepleasedwiththecurrentperformanceandtrajectoryofourper-memberadvertisingeconomics. IntheUSforinstance,ouradsplanalreadyhasatotalARM(subscription+ads)greaterthanour standardplan.Sothismonthwe’llupgradethefeaturesetofouradsplantoinclude1080pversus720p videoqualityandtwoconcurrentstreamsinall12adsmarkets–startingwithCanadaandSpaintoday. Webelievetheseenhancementswillmakeourofferingevenmoreattractivetoabroadersetof consumersandfurtherstrengthenengagementforexistingandnewsubscriberstotheadsplan. Paidsharingisanotherimportantinitiativeaswidespreadaccountsharing(100M+households) underminesourabilitytoinvestinandimproveNetflixforourpayingmembers,aswellasbuildour business.We’repleasedwiththeresultsofourQ1launchesinCanada,NewZealand,SpainandPortugal, strengtheningourconfidencethatwehavetherightapproach.AswithLatinAmerica,weseeacancel 5reactionineachmarketwhenweannouncethenews,whichimpactsneartermmembergrowth.Butas borrowersstarttoactivatetheirownaccountsandexistingmembersadd“extramember”accounts,we seeincreasedacquisitionandrevenue.Forexample,inCanada,whichwebelieveisareliablepredictor fortheUS,ourpaidmembershipbase4isnowlargerthanpriortothelaunchofpaidsharingandrevenue growthhasacceleratedandisnowgrowingfasterthanintheUS. Witheachlaunch,welearnmoreabouthowbesttorolloutthesechangesandwhatmattersto membersthemost,inparticularmaintainingtravel/watchingonthegoandtheabilityforpeopleto bettercontrolaccesstotheiraccountsaswellastransferprofilestoseparateaccounts.Wecouldhave launchedbroadlyinlateQ1,butwefoundenoughimprovementopportunitiesintheseareastoshifta broadlaunchtoQ2toimplementthosechanges.Asnotedabove,whilethiswillshiftsomeofthe membershipgrowthandrevenuebenefitfromQ2toQ3,webelieveitwillresultinabetteroutcomefor ourmembersandourbusiness.Longerterm,paidsharingwillensureabiggerrevenuebasefromwhich wecangrowasweimproveourservice. Asareminder,aswerolloutpaidsharing–andassomeborrowersstopwatchingeitherbecausethey don’tconverttoextramembersorfullpayingaccounts–neartermengagement,asmeasuredbythird partieslikeNielsen,willlikelyshrinkmodestly.However,webelievethepatternwillbesimilartowhat we’veseeninLatinAmerica,withengagementgrowthresumingovertimeaswecontinuetoimprove ourprogrammingandborrowerssign-upfortheirownaccounts.  Competition:   Flow and Capital Structure:  NetcashgeneratedbyoperatingactivitiesinQ1was$2.2Bvs.$0.9Bintheprioryearperiod.Freecash flow(FCF)5inQ1totaled$2.1Bcomparedwith$0.8BinlastQ1.AssumingnomaterialswingsinF/X,we nowexpectatleast$3.5BofFCFforthefullyear2023,upfromourpriorexpectationofatleast$3.0B. Thisreflectslowercashspendoncontentthanweoriginallyforecasted,resultinginayearoveryear decreaseincashcontentspend(bringingour2023cashcontenttocontentamortizationratiocloserto 4Ourpaidmembershipcountdoesnotinclude“extramembers.” Instead,theyliftARM. 5Definedascashprovidedby(usedin)operatingactivitieslesspurchasesofpropertyandequipmentandchangein otherassets. 61.0xin2023).For2024,westillexpectourcashcontentspendtobeintherangeofroughly$17B, consistentwithourpriorexpectationsforthe2022-2024period. InQ1,Moody’supgradedourcreditratingtoBaa3.CombinedwithourBBBcreditratingfromS&P,we arenowinvestmentgrade.Grossdebtatquarterendtotaled$14.5B,in-linewithourtargetedrangeof $10-$15B.Withcashandshortterminvestmentsof$7.8B,netdebttotaled$6.7B,or1.1xLTMEBITDA.6 Ourcapitalstructurepolicyisunchanged.Thefirstpriorityforourcashistoreinvestinourcorebusiness andtofundnewopportunitieslikegamingandads,followedbyselectiveacquisitions.Wetarget maintainingminimumcashequivalenttoroughlytwomonthsofrevenue(e.g.,about$5.4BbasedonQ1 revenue).Aftermeetingthoseneeds,weanticipatereturningcashtostockholdersthroughshare repurchases.Weboughtback1.2Msharesfor$400MinQ1.Wecurrentlyexpecttoaccelerateourshare repurchasesoverthecourseof2023.  Environmental, Social, and Governance (ESG):  Werecentlypublishedanupdateonprogressinoursustainabilityprogram.Wecontinuetheworkto decarbonizeouroperationsandwe’vedeliveredonourcommitmenttonetallremainingemissionsto zerobytheendof2022throughinvestinginnature-basedprojectsthatcapturecarbon. DVD Afteranincredible25yearrun,we’vedecidedtowinddownDVD.comlaterthisyear.Ourgoalhas alwaysbeentoprovidethebestserviceforourmembersbutastheDVDbusinesscontinuestoshrink that’sgoingtobecomeincreasinglyhard.Sowewanttogooutonahigh,andwillbeshippingourfinal DVDsonSeptember29,2023.Fromtheverybeginning,ourmemberslovedthechoiceandcontrolthat direct-to-consumerentertainmentoffered,includingthevarietyandqualityofourtitlesandtheability tobingewatchentireseries.DVDpavedthewayforstreaming,ensuringthatsomuchofwhatwe startedwillcontinuelongintothefuture.Wefeelsoprivilegedtohavebeenabletosharemovienights withourDVDmembersforsolong,soproudofwhatouremployeeshaveachievedandexcitedto continuepleasingentertainmentfansformanymoredecadestocome.Thankstoallouremployeesover theyearsthatworkedsohardtobuildtheboosterrocketthatgotstreamingtoaleadingposition.  Reference:  Forquickreference,oureightmostrecentinvestorlettersare:January2023,October2022,July2022, April2022,January2022,October2021, July2021,April2021. 6Definedasnetdebtdividedbylasttwelvemonths(LTM)adjustedEBITDA(netincomebeforeinterestexpense andotherincome/expense,incometaxes,depreciationandamortizationofproperty,plantandequipmentand furtheradjustedtoexcludeothernon-cashcharges). 7 \""
      ]
     },
     "execution_count": 47,
     "metadata": {},
     "output_type": "execute_result"
    }
   ],
   "source": [
    "final_prompt"
   ]
  },
  {
   "cell_type": "code",
   "execution_count": 46,
   "metadata": {},
   "outputs": [
    {
     "data": {
      "text/plain": [
       "4021"
      ]
     },
     "execution_count": 46,
     "metadata": {},
     "output_type": "execute_result"
    }
   ],
   "source": [
    "# show number of tokens in prompt (max 4096 tokens for both input & output)\n",
    "num_tokens_from_string(final_prompt, \"cl100k_base\")"
   ]
  },
  {
   "cell_type": "code",
   "execution_count": null,
   "metadata": {},
   "outputs": [],
   "source": []
  },
  {
   "cell_type": "code",
   "execution_count": 37,
   "metadata": {},
   "outputs": [
    {
     "data": {
      "text/plain": [
       "{'COMBINED-Q4-17-Shareholder-Letter-FINAL': \"Sentiment Analysis:\\n\\n- Total polarity score: 0.14\\n- Total subjectivity score: 0.41\\n\\nOverall, the sentiment in this information appears to be positive for investors. \\n\\nThe document highlights various achievements and positive financial results for Netflix. The expansion of internet TV globally, the growth in streaming revenue and memberships, the positive international contribution profit, and the increase in global operating income all indicate a successful year for the company. Additionally, the strong quarterly results and higher-than-expected net adds demonstrate the positive performance in Q4.\\n\\nThe content section emphasizes the success of Netflix's original content, with shows like Stranger Things and Bright gaining significant popularity. The plan to invest in more original content and expand the international originals initiative further highlights the company's confidence in its content strategy.\\n\\nThe partnerships section emphasizes the mutually beneficial relationships Netflix has formed with MVPDs and ISPs, making it easier for consumers to access and pay for the service while deepening the partners' relationships with subscribers.\\n\\nIn terms of competition, while new players are entering the market, the document emphasizes that the market for entertainment time is vast and can support multiple successful services. Netflix believes that its unique content offerings and the complementary nature of entertainment services have contributed to its success and growth.\\n\\nRegarding free cash flow and capital structure, although the free cash flow has been negative, the document explains that this is due to the timing of content payments and the higher investments in original content. The company expects to turn its business free cash flow positive in the future as operating profits rise and original content spend growth slows down.\\n\\nOverall, the positive financial results, successful original content strategy, and the confidence in future growth indicate a positive sentiment for investors.\",\n",
       " 'FINAL-Q1-18-Shareholder-Letter': 'Sentiment Analysis: \\n\\nPositive Sentiment:\\n- We strive to entertain and bring joy to people across the world through amazing stories.\\n- Revenue grew 43% year over year in Q1, the fastest pace in the history of our streaming business.\\n- Global net adds totaled a new Q1-record of 7.41m, up 50% year over year.\\n- We completed our price adjustment during this past quarter, resulting in 12% ASP growth for the domestic segment.\\n- We continue to anticipate content and marketing spend to be weighted towards the second half of 2018.\\n- We have about $2.6 billion in cash and we will continue to raise debt as needed to fund our increase in original content.\\n- We’re pleased to add Ambassador Susan Rice to our board of directors.\\n\\nNeutral Sentiment:\\n- Our 125 million members provided us with $3.6 billion in streaming revenue in Q1.\\n- Operating margin of 12% rose 232 bps year over year.\\n- Diluted EPS of $0.64 vs. $0.40 included a $41m non-cash unrealized loss from F/X remeasurement on our Eurobond.\\n- In Q2, we expect 6.2 million global net additions (1.2m in the US and 5.0m for the international segment) vs. 5.2 million in the year ago quarter.\\n- Q2 operating margin is expected to be 12%.\\n- We’ll have $7.5-$8 billion of content expense (on a P&L basis) in 2018.\\n- We signed an overall deal with Ryan Murphy, the prolific hit-maker behind American Crime Story: The People vs. OJ Simpson, Nip/Tuck, Glee, American Horror Story and many others.\\n- We’re investing in more marketing of new original titles.\\n- We believe that the lower churn in bundle offers offsets the lower Netflix ASP.\\n- We have about $2.6 billion in cash and we will continue to raise debt as needed to fund our increase in original content.\\n- We’re pleased to add Ambassador Susan Rice to our board of directors.\\n\\nNegative Sentiment:\\n- Diluted EPS of $0.64 vs. $0.40 included a $41m non-cash unrealized loss from F/X remeasurement on our Eurobond.\\n- We regret our films not being able to compete at this year’s Cannes film festival.\\n- While in other countries we can offer simultaneous exhibition in theatres and on Netflix, that is not permitted in France, so we have to be Netflix-only for our films in France.\\n- Free cash flow in Q1 was -$287 million (less negative than we expected due to content payment timing differences), compared with -$524 million in Q4’17.\\n- We continue to forecast free cash flow of -$3 to -$4 billion in 2018.',\n",
       " 'FINAL-Q1-19-Shareholder-Letter': \"Sentiment Analysis for Netflix's Information:\\n\\nPolarity scores (on a scale of -1 to 1):\\n- The overall sentiment of the information provided is positive, with a polarity score of 0.27.\\n\\nSubjectivity scores (on a scale of -1 to 1):\\n- The information provided is fairly objective, with a subjectivity score of 0.13.\\n\\nSummary:\\n- Netflix's Q1 results show significant growth, with revenue surpassing $4.5 billion and a record-breaking increase in paid net adds.\\n- The revenue growth rate has decreased compared to the previous year, but it is still strong with a F/X-neutral basis growth of 28%.\\n- The company expects an increase in both streaming ARPU and total revenue growth in Q2, with a projected acceleration.\\n- Netflix is launching new original content, including popular series like Stranger Things, and expects to have another year of record annual paid net adds in 2019.\\n- The company anticipates competition from Apple and Disney, but believes it will continue to grow due to the massive transition from linear to on-demand entertainment.\\n- Netflix's cash flow and capital structure indicate a higher free cash flow deficit in 2019, primarily due to changes in the corporate structure and additional investments.\\n\\nOverall, the information provided paints a positive picture for investors, showcasing growth and future opportunities for Netflix.\",\n",
       " 'FINAL-Q1-20-Shareholder-Letter': \"Sentiment: Overall, the sentiment of the information about Netflix for investors is mixed. \\n\\nPositive Sentiment:\\n- The coronavirus pandemic and home confinement have led to higher viewership and increased membership for Netflix.\\n- Netflix has created a $100 million fund to help workers in the TV and film industry affected by the pandemic.\\n- The company has doubled its charitable match giving program to support employees' local communities.\\n- Netflix has rolled out Top 10 most popular lists in multiple countries and enhanced parental controls for a better user experience.\\n\\nNeutral Sentiment:\\n- Netflix employees are finding solutions to the challenges they face, such as working remotely and using technology to continue production.\\n- The financial performance of the company has been affected by the COVID-19 crisis, including accelerated membership growth and delays in content spending and release.\\n- Netflix expects slower growth in Q3 and Q4 due to the effects of the crisis.\\n- The production shutdown has resulted in postponed cash spending on content, improving free cash flow.\\n- The company aims for a 16% operating margin for the full year 2020 and may adjust its model for slower growth if the US dollar remains strong.\\n- Netflix finished the quarter with cash of $5.2 billion and has substantial financial flexibility.\\n\\nNegative Sentiment:\\n- International revenue has decreased due to the strong US dollar, impacting the company's financial performance.\\n- The production shutdown has led to delays in new releases and certain language dubs.\\n- The company expects viewing and membership growth to decline once home confinement ends.\\n\\nTotal Polarity Score: 0.16\\nTotal Subjectivity Score: 0.35\",\n",
       " 'FINAL-Q1-21-Shareholder-Letter': 'Total Polarity Score: 0.367\\nTotal Subjectivity Score: 0.363\\n\\nSentiment Analysis:\\n- The sentiment of the information for investors is mostly positive.\\n- The positive aspects include revenue growth, operating profit reaching all-time highs, and a strong second half expected with the return of popular shows and exciting films.\\n- The negative aspects include slower membership growth in the first half due to Covid-19 pull forward and production delays, and below guidance forecast for paid memberships.\\n- The information also highlights the long-term trend of streaming replacing linear TV as the clear trend in entertainment.\\n\\nOverall, the sentiment of the information is more positive than negative, indicating potential opportunities for investors. However, it is important to consider the uncertainties posed by Covid-19 and the competitive landscape.',\n",
       " 'FINAL-Q1-22-Shareholder-Letter': 'Sentiment analysis:\\n\\n1. Document_intro: The sentiment in this section is mixed. The statement talks about slowed revenue growth and revenue growth headwinds, which can be seen as negative. However, it also mentions the popularity of Netflix titles globally and their core strengths and competitive advantages, which can be seen as positive.\\n\\nTotal polarity score: 0.0 (Neutral)\\nTotal subjectivity score: 0.6\\n\\n2. Growth Outlook: The sentiment in this section is negative. It mentions that Netflix is not growing revenue as fast as they would like and highlights factors such as competition and macroeconomic weakness that are affecting growth.\\n\\nTotal polarity score: -0.5 (Negative)\\nTotal subjectivity score: 0.2\\n\\n3. Q1 Results and Q2 Forecast: The sentiment in this section is mixed. It mentions positive aspects such as revenue growth and operating income above forecast, but also negative aspects such as lower net additions and challenges in membership growth.\\n\\nTotal polarity score: -0.2 (Negative)\\nTotal subjectivity score: 0.3\\n\\n4. Cash Flow and Capital Structure: The sentiment in this section is positive. It mentions positive cash flow and being within the gross debt target range.\\n\\nTotal polarity score: 0.5 (Positive)\\nTotal subjectivity score: 0.3\\n\\n5. Environmental, Social, and Governance (ESG): The sentiment in this section is positive. It mentions progress in reducing emissions and improving diversity and inclusion.\\n\\nTotal polarity score: 0.6 (Positive)\\nTotal subjectivity score: 0.1\\n\\nBased on the sentiment analysis, the overall sentiment for investors in this information is mixed, with a slight negative leaning.'}"
      ]
     },
     "execution_count": 37,
     "metadata": {},
     "output_type": "execute_result"
    }
   ],
   "source": [
    "openai_responses"
   ]
  },
  {
   "cell_type": "code",
   "execution_count": 66,
   "metadata": {},
   "outputs": [],
   "source": [
    "# Save openai responses to pickle file\n",
    "with open(\"openai_responses.pkl\", \"wb\") as f:\n",
    "    pickle.dump(openai_responses, f)"
   ]
  },
  {
   "cell_type": "code",
   "execution_count": 3,
   "metadata": {},
   "outputs": [],
   "source": [
    "import pickle"
   ]
  },
  {
   "cell_type": "code",
   "execution_count": 4,
   "metadata": {},
   "outputs": [],
   "source": [
    "# Load openai responses from the pickle file\n",
    "openai_responses = pickle.load(open(\"openai_responses.pkl\", \"rb\"))"
   ]
  },
  {
   "cell_type": "code",
   "execution_count": 5,
   "metadata": {},
   "outputs": [
    {
     "data": {
      "text/plain": [
       "{'COMBINED-Q4-17-Shareholder-Letter-FINAL': 'Polarity scores: \\n- Q4 Results:  Positive \\n- Content:  Positive \\n- Product and Partnerships:  Positive \\n- Competition:  Neutral \\n- Free Cash Flow and Capital Structure:  Negative \\n- Board of Directors:  Positive \\n- Summary:  Positive \\n\\nSubjectivity scores: \\n- Q4 Results:  Neutral \\n- Content:  Positive \\n- Product and Partnerships:  Neutral \\n- Competition:  Neutral \\n- Free Cash Flow and Capital Structure:  Positive \\n- Board of Directors:  Positive \\n- Summary:  Positive',\n",
       " 'FINAL-Q1-18-Shareholder-Letter': \"Sentiment analysis of the information provided for investors in Netflix:\\n\\nPolarity score: 0.366\\nSubjectivity score: 0.511\\n\\nThe sentiment of the information is mostly positive. The document emphasizes the company's efforts to entertain and bring joy to people across the world through amazing stories, and highlights their strong financial performance in Q1, with revenue growth and increased memberships. The information also discusses the company's investments in content production, partnerships, and marketing strategies to continue attracting and retaining subscribers. While there is mention of some challenges, such as the impact of regulations in France and negative cash flow, overall the tone is optimistic and focused on future growth opportunities. \",\n",
       " 'FINAL-Q1-19-Shareholder-Letter': 'Sentiment analysis:\\n\\n- Revenue surpassed $4.5 billion in Q1 and we recorded the highest quarterly paid net adds in our history (9.6m, up 16% year over year).\\n  - Polarity: Positive (0.5)\\n  - Subjectivity: Neutral (0)\\n\\n- In Q1’19, average streaming paid memberships increased 26% year over year, while ARPU decreased 2% year over year due to currency headwinds.\\n  - Polarity: Negative (-0.1)\\n  - Subjectivity: Neutral (0)\\n\\n- Year over year total revenue growth of 22% compares against 40% in Q1’18, which benefited from several price changes that took place in Q4’17 as well as F/X.\\n  - Polarity: Neutral (0)\\n  - Subjectivity: Neutral (0)\\n\\n- Operating margin of 10.2% exceeded our beginning-of-quarter expectation as some spending was shifted from Q1 to later in the year.\\n  - Polarity: Positive (0.2)\\n  - Subjectivity: Neutral (0)\\n\\n- Paid net adds in Q1 were 9.6 million (with 1.74m in the US and 7.86m internationally), up 16% year over year, representing a new quarterly record.\\n  - Polarity: Positive (0.3)\\n  - Subjectivity: Neutral (0)\\n\\n- For Q2’19, we project total paid net adds of 5.0m (-8% year over year), with 0.3m in the US and 4.7m for the international segment.\\n  - Polarity: Neutral (0)\\n  - Subjectivity: Neutral (0)\\n\\n- We’re working our way through a series of price increases in the US, Brazil, Mexico, and parts of Europe.\\n  - Polarity: Neutral (0)\\n  - Subjectivity: Neutral (0)\\n\\n- We forecast an acceleration in both streaming ARPU (+2% vs. -2%) and total revenue growth (26% vs. 22%) in Q2 vs. Q1.\\n  - Polarity: Positive (0.2)\\n  - Subjectivity: Neutral (0)\\n\\n- We’re thrilled for the creators of our content when they are recognized for their exceptional work.\\n  - Polarity: Positive (0.3)\\n  - Subjectivity: Neutral (0)\\n\\nOverall sentiment for investors: The provided information has a slightly positive sentiment, indicating growth and positive performance in terms of revenue and paid net adds. However, there are some concerns like the decrease in ARPU and the projected decrease in paid net adds for Q2.',\n",
       " 'FINAL-Q1-20-Shareholder-Letter': 'Sentiment Analysis: \\n\\n- Negative sentiment: The coronavirus pandemic has created an uncertain and unsettling future, with no end in sight. The company expects viewing to decline and membership growth to slow as home confinement ends. The financial performance of the company has been affected by the COVID-19 crisis in three ways: temporary acceleration of membership growth due to home confinement, lower international revenue due to the rising US dollar, and delayed cash spending on content and delayed release of some titles. The impact of the crisis has led to less cash spending on content this year. The appreciation of the US dollar also poses a challenge to international revenue growth. Netflix expects slower growth in Q3 and Q4 of 2020 due to the effects of the crisis.\\n\\n- Positive sentiment: Netflix has seen an increase in viewership and membership growth due to people being confined at home. The company aims to provide comfort and escape during this time by maintaining the quality of its service and helping employees adapt to working from home. Netflix has created a $100 million fund to provide relief for workers affected by production shutdowns, and has also donated $30 million to third parties and non-profits. The company has taken steps to address disruptions in customer support and content production. Netflix employees have been working diligently to find solutions and maintain the quality of the service. Netflix has committed to spending $150 million to support the film industry during the COVID-19 crisis. They have partnered with organizations in Mexico, Spain, and the Netherlands to provide financial support. Netflix has doubled its charitable match giving program for employees to support local communities. Netflix expresses gratitude to healthcare workers and essential workers who are on the frontlines of fighting the pandemic.\\n\\n- Neutral sentiment: The company expects a decline in growth once the home confinement measures are lifted and predicts lower net additions in the third and fourth quarters of 2020 compared to last year. The company has paused most of its productions worldwide, resulting in a decrease in new releases. Netflix aims to achieve a 16% operating margin for the full year 2020, but if the US dollar remains strong, they may target slower growth in the following year. Netflix has implemented practical solutions such as reducing network traffic to accommodate increased internet usage during the pandemic.\\n\\nPolarity Score: -0.0714 (slightly negative)\\nSubjectivity Score: 0.3447 (moderately subjective)\\n\\nNote: The sentiment analysis is based on the information provided and may not fully capture the sentiment of all investors.',\n",
       " 'FINAL-Q1-21-Shareholder-Letter': \"Sentiment analysis results for the provided information (Netflix):\\n\\nOverall sentiment: Positive\\n\\nPolarity score: 0.08 (Slightly positive)\\nSubjectivity score: 0.29 (Fairly subjective)\\n\\nExplanation: The provided information has an overall positive sentiment. It highlights the growth in revenue, operating profit, and margin, as well as the increase in paid memberships. It acknowledges the impact of Covid-19 on membership growth in Q1, but expresses optimism for a strong second half with the return of popular shows and a lineup of exciting films. The information also discusses the company's content strategy, product enhancements, competition, cash flow, and commitment to environmental, social, and governance (ESG) initiatives. While some challenges are acknowledged, the overall tone is optimistic and highlights the potential for growth and innovation.\",\n",
       " 'FINAL-Q1-22-Shareholder-Letter': \"Sentiment Analysis:\\n- Overall sentiment: Neutral\\n- Document_intro sentiment: Neutral\\n- Growth Outlook sentiment: Positive\\n- Q1 Results and Q2 Forecast sentiment: Mixed\\n- Cash Flow and Capital Structure sentiment: Neutral\\n- Environmental, Social, and Governance (ESG) sentiment: Positive\\n\\nTotal Polarity Score: 0.06\\nTotal Subjectivity Score: 0.50\\n\\nExplanation:\\nThe overall sentiment of the information provided for investors is neutral. The document_intro section highlights both positive and negative factors affecting revenue growth, resulting in a neutral sentiment. The Growth Outlook section is positive, as Netflix sees streaming as a great opportunity for growth and emphasizes their core strengths and competitive advantages. The Q1 Results and Q2 Forecast section provides mixed sentiment, with both positive and negative financial results. The Cash Flow and Capital Structure section has a neutral sentiment, providing information on cash flow and debt, without any strong positive or negative indicators. The ESG section is positive, showcasing Netflix's progress in reducing emissions and promoting inclusivity in their workforce.\\n\\nThe total polarity score is 0.06, indicating a slightly positive sentiment overall. The total subjectivity score is 0.50, suggesting that the information provided is fairly subjective and based on the opinions and beliefs of Netflix.\",\n",
       " 'FINAL-Q2-18-Shareholder-Letter': \"Sentiment Analysis: \\n\\nOverall, the sentiment of the information provided is mostly positive for investors. \\n\\nTotal Polarity Score: 0.42\\nTotal Subjectivity Score: 0.44\\n\\nExplanation:\\n- The document begins with a strong but not stellar Q2, indicating a neutral sentiment.\\n- Membership growth was lower than forecasted, which could be seen as a negative sentiment.\\n- Earnings, margins, and revenue were in-line with forecast and way up from prior year, indicating a positive sentiment.\\n- The company is recognized as a leader in internet video, which is a positive sentiment.\\n- The Q2 results show strong revenue growth year over year, driven by increases in paid memberships and average selling price, which is a positive sentiment.\\n- Operating margin and operating income also show significant growth, indicating a positive sentiment.\\n- There was a non-cash unrealized gain which contributes to the positive sentiment.\\n- However, there were lower net additions and forecasts compared to previous periods, which could be seen as a negative sentiment.\\n- The international market showed growth, but there was a smaller positive impact from currency fluctuations than anticipated, indicating a slight negative sentiment.\\n- The company plans to adjust pricing to mitigate forex moves, which shows a proactive approach to managing currency exposure, indicating a neutral sentiment.\\n- The Q3 forecast shows steady net additions, indicating a positive sentiment.\\n- The content section highlights the success of various original programs, indicating a positive sentiment.\\n- The company's investment in mobile experience and expanded partnerships are positive sentiments.\\n- The competition section acknowledges the competition but expresses confidence in the company's strategy, indicating a neutral sentiment.\\n- The information on free cash flow and capital structure provides transparency and indicates a long-term financing plan, indicating a positive sentiment.\\n\\nIn summary, the overall sentiment of the information is predominantly positive, with some neutral and a few negative sentiments. Investors may see the strong revenue growth, improved operating margin, successful content lineup, and long-term financing plan as positive indicators for the company's performance.\",\n",
       " 'FINAL-Q2-20-Shareholder-Letter-V3-with-Tables': \"Sentiment analysis of the provided information indicates a mixed sentiment for Netflix investors.\\n\\nOverall Sentiment: Neutral\\n\\nPolarity Score: 0.04\\nSubjectivity Score: 0.44\\n\\nExplanation:\\nThe information starts on a positive note highlighting the significant growth in paid net adds during the first half of the year, indicating strong adoption. However, it also mentions that growth is expected to slow in the second half compared to the prior year, which can be seen as a negative factor.\\n\\nThe appointment of Ted Sarandos as co-CEO is portrayed positively, emphasizing his longstanding partnership with Reed Hastings and the belief that this change will benefit the company's members and shareholders.\\n\\nThe Q2 results and Q3 forecast highlight positive financial performance, with revenue and operating income growth. The higher-than-expected membership and revenue growth positively impacted the operating margin. Content and marketing expenses were lower due to pandemic-related delays, contributing to the positive financial outlook.\\n\\nThe information also mentions that competition from major entertainment companies and tech giants is increasing. However, Netflix remains focused on improving its service and content, indicating a positive attitude towards its ability to stay competitive.\\n\\nIn terms of cash flow and capital structure, Netflix reports positive net cash generated in operating activities, positive free cash flow, and an improving FCF profile. The company expects breakeven to positive free cash flow for the full year, and although they project negative free cash flow in 2021, it is expected to be better than previous years.\\n\\nOverall, the sentiment of the information is mixed, with both positive and negative elements. Netflix's strong growth in the first half of the year is a positive factor, but the expected slowdown in the second half and increasing competition are potential concerns. The positive financial performance and improving FCF profile provide a more positive outlook for investors.\",\n",
       " 'FINAL-Q2-22-Shareholder-Letter': \"Sentiment analysis of the provided information indicates a neutral sentiment for investors. The information highlights both positive and negative aspects of Netflix's performance, resulting in a balanced outlook. The overall tone is factual and informative, without displaying strong emotions. \\n\\nAs for the polarity and subjectivity scores, they range from -1 to 1:\\n\\nPolarity score: 0.04 (neutral)\\nSubjectivity score: 0.36 (neutral to slightly subjective)\",\n",
       " 'FINAL-Q3-18-Shareholder-Letter': \"Sentiment analysis of the information provided (Netflix):\\n\\n- Total Polarity Score: 0.46 (Positive)\\n- Total Subjectivity Score: 0.46 (Neutral)\\n\\nOverall, the sentiment towards Netflix in this information is positive. The document mentions that the streaming revenue grew by 36% year over year and global membership surpassed 130 million paid and 137 million total. There is also a positive outlook for the future, with Q4 forecasts showing expected growth in net additions. The information also emphasizes the company's focus on paid memberships and the steady growth in paid net adds. Additionally, Netflix highlights its partnerships and its strategy to make the service stand out among its competitors. However, there is also a mention of a negative free cash flow deficit due to investments in content production.\",\n",
       " 'FINAL-Q3-19-Shareholder-Letter': 'Sentiment: Positive\\nPolarity Score: 0.377\\nSubjectivity Score: 0.426\\n\\nThe information provided by Netflix for investors is overall positive. The company highlights key financial achievements, such as significant revenue growth, increased operating income, and positive net adds. They also emphasize the improved member engagement and the ability to invest more in content due to increased revenue. Furthermore, Netflix discusses their long-term outlook, margin expansion goals, and their strategy to compete in the streaming industry. They mention their focus on providing high-quality content, expanding partnerships, and targeting global markets. The company acknowledges the upcoming competition but remains confident in their ability to grow and satisfy their members.\\n\\nOverall, the sentiment in the information provided is positive and indicates a strong outlook for Netflix.',\n",
       " 'FINAL-Q3-20-Shareholder-Letter': \"Sentiment: \\n\\nOverall, the sentiment of the information provided is positive for Netflix investors. \\n\\nDocument_intro: The sentiment in this section is neutral, as it provides a factual overview of Netflix's performance in Q3 and the first nine months of 2020.\\n\\nQ3 Results and Q4 Forecast: The sentiment in this section is positive. It highlights growth in average streaming paid memberships and revenue exceeding guidance. It also mentions strong operating margin and EPS. \\n\\nContent: The sentiment in this section is positive. It highlights the resumption of production on various titles and the success of recent releases, indicating a strong content pipeline for the future.\\n\\nProduct and Partnerships: The sentiment in this section is positive. It mentions localizing the service, partnering with local companies, and improving payment processing, all of which are aimed at enhancing the Netflix experience for members.\\n\\nCompetition: The sentiment in this section is not mentioned.\\n\\nCash Flow and Capital Structure: The sentiment in this section is positive. It highlights positive net cash generated by operating activities and positive free cash flow in Q3. It also mentions a forecast of positive free cash flow for the full year 2020.\\n\\nIn summary, the majority of the information provided has a positive sentiment for Netflix investors.\",\n",
       " 'FINAL-Q3-22-Shareholder-Letter': \"Sentiment Analysis:\\n\\nTotal Polarity Score: 0.34375\\nTotal Subjectivity Score: 0.5375\\n\\nSummary:\\nOverall, the sentiment of the information provided by Netflix for investors is predominantly positive. The document highlights positive results in Q3, including revenue, operating income, and membership exceeding forecasts. The launch of popular series and films, as well as the introduction of a lower-priced ad-supported plan, are seen as positive growth opportunities. Netflix's higher engagement compared to competitors is also mentioned as a positive indicator. However, the document also acknowledges the challenges in the streaming industry and the substantial investments made by competitors. The impact of foreign exchange rates and the appreciation of the US dollar are noted as potential headwinds. The forecast for Q4 shows a decline in revenue, but this is attributed to currency fluctuations. The focus on revenue, pricing strategy, and new revenue streams like advertising is emphasized. The document ends on a positive note, stating Netflix's goal of sustaining double-digit revenue growth, increasing operating profit, and delivering positive free cash flow.\\n\\nOverall, the sentiment is mostly positive with some acknowledgement of challenges and potential risks.\\n\\nPlease note that sentiment analysis is based on the text provided and may not reflect the actual sentiment of the company or market conditions.\",\n",
       " 'FINAL-Q4-21-Shareholder-Letter': \"Sentiment analysis on the provided information reveals a predominantly positive sentiment for investors. Here are the key points:\\n\\n- Total Polarity score: 0.273\\n- Total Subjectivity score: 0.495\\n\\n1. Positive Sentiment:\\n- Achieving several milestones in 2021, including having the biggest TV show (Squid Game) and the biggest film releases (Red Notice and Don't Look Up).\\n- Being the most Emmy-winning and most nominated TV network and the most Oscar-winning and nominated movie studio of 2021.\\n- Full year revenue of $30 billion, a 19% YoY growth.\\n- Operating income of $6.2 billion, a 35% YoY rise.\\n- Q4 results showing revenue growth of 16% YoY and an increase in average paid memberships.\\n- Strong growth in memberships from outside the UCAN region, particularly in APAC and EMEA.\\n- Record quarterly revenue in EMEA, exceeding $2.5 billion for the first time.\\n- Positive responses to content releases, including Squid Game, La Casa de Papel, and several other popular TV series and films.\\n- Expansion into mobile gaming and plans to expand the portfolio of games in 2022.\\n- Successful marketing initiatives, such as the launch of the Tudum site to engage fans and foster fandom.\\n- Expanded accessibility through voice-driven Play Something and lowered prices in India.\\n\\n2. Neutral Sentiment:\\n- Q4 operating margin decrease by 6 percentage points due to a large content slate.\\n- Slightly over-forecasted paid net adds in Q4, but full year net adds decreased compared to the previous year.\\n- The ongoing impact of the Covid-19 pandemic and macro-economic hardship on acquisition growth.\\n- Potential negative impacts of a stronger US dollar on operating margin and revenue in 2022.\\n- Cash flow and capital structure considerations, including projected being free cash flow positive in 2022.\\n\\nOverall, the information provided seems to present a positive outlook for investors, with strong revenue growth, successful content releases, global expansion, and ongoing efforts to enhance the user experience. However, the impact of certain factors, such as Covid-19 and currency fluctuations, may present challenges in the short term.\",\n",
       " 'FINAL-Q420-Shareholder-Letter': \"Sentiment analysis:\\n- Positive sentiment: The information highlights the accomplishments and success of Netflix, such as crossing the 200 million paid memberships mark, record revenue, and profit growth. It also emphasizes the popularity of Netflix original content, with successful series and films that have resonated with viewers. The company's long-term stock performance is also shown to be strong.\\n- Negative sentiment: The information acknowledges the challenges faced in 2020 due to the pandemic and the loss experienced by many families. It also mentions competition from other streaming services, which indicates increased competition in the industry.\\n- Neutral sentiment: The information provides factual data about Netflix's performance, including paid net additions, revenue, operating margin, and cash flow.\\n\\nPolarity score: 0.259\\nSubjectivity score: 0.463\",\n",
       " 'FINAL_Q2_15_Letter_to_Shareholders_With_Tables_': \"The sentiment of the information provided regarding Netflix for investors is predominantly positive. Below are the calculated total polarity and subjectivity scores on the range -1 to 1:\\n\\nTotal polarity score: 0.105\\nTotal subjectivity score: 0.284\\n\\nThe Q2 results were strong, with 3.3 million new streaming members added, surpassing the forecast. The higher than anticipated level of acquisition was attributed to the strength of original programming. The US revenue growth was driven by an increase in ASP and the company aims to achieve a 40% US contribution margin by 2020. The international segment is growing rapidly, with improvements in existing markets and plans for further expansion, including China.\\n\\nNetflix's content strategy is focused on exclusive and original content, which has been well-received by audiences globally. The company plans to invest heavily in original programming and expand into the original film business. The new Netflix website has received positive feedback and is expected to improve member retention.\\n\\nThe commitment to net neutrality by Charter Communications is seen as a positive development that will benefit consumers. Although there is competition from various sources of entertainment, Netflix has continued to outperform in the Internet networks segment.\\n\\nIn terms of free cash flow and capital, there was negative free cash flow in Q2 due to the upfront cash spent on investments in originals. The company ended the quarter with a significant amount of cash and equivalents.\\n\\nOverall, the sentiment for Netflix as presented in the information is positive, with strong growth, successful content strategy, and plans for international expansion.\",\n",
       " 'FINAL_Q3_15_Letter_to_Shareholders_With_Tables_': 'Positive sentiment: \\n- We have grown to over 69 million members around the world and expect to end this year with over 74 million members.\\n- With a successful launch in Japan, and our launches next week in Spain, Italy, and Portugal, we remain on track to become global by the end of 2016.\\n- Our US contribution margin in Q3 expanded 375 basis points year over year to 32.4%.\\n- We have come a long way and our content is increasingly recognized for its quality and breadth.\\n- We garnered a Netflix-record 34 Emmy nominations, across 11 of our original series and documentaries and won four.\\n- We have acquired global second window rights to four major series.\\n- We are investing in high-profile, exclusive and globally available original films and creating the first-of-their-kind global Pay TV deals directly with producers.\\n\\nNeutral sentiment:\\n- Seven quarters ago we moved to providing you our internal forecast for the quarter ahead.\\n- While global growth was as we expected, our forecast was high for the US and low for international.\\n- In terms of US net additions, through the first nine months of 2015, we are slightly ahead.\\n- We recently announced that we have acquired global second window rights to four major series.\\n- We are likely to raise additional capital next year to fund our continued content investments.\\n- We are privileged to be leading the growth of Internet TV worldwide and to be building a global service connecting storytellers and viewers all over the world.\\n\\nNegative sentiment:\\n- Operating income was $74 million, compared to prior year of $110 million and a forecast of $81 million.\\n- Our over-forecast in the US for Q3 was due to slightly higher-than-expected involuntary churn.\\n- International contribution losses will grow sequentially in Q4 as we launch Spain, Italy, and Portugal.\\n- Last month, we did not renew our deal to carry movies from EPIX, as the films were non-exclusive, US-only and offered in windows even further behind other premium Pay TV outlets.\\n- Free cash flow in Q3 totaled -$252 million, down from -$229 million in Q2.\\n\\nPolarity score: 0.58 (more positive than negative)\\nSubjectivity score: 0.52 (more objective than subjective)',\n",
       " 'FINAL_Q3_Letter': \"Total Polarity Score: 5.84\\nTotal Subjectivity Score: 11.36\\n\\nBased on the information provided, the sentiment for investors regarding Netflix is mainly positive. The document highlights the company's strong quarterly results, revenue growth, and exceeding member growth forecasts. It also mentions the success of original content such as Stranger Things and Narcos, and plans for future releases. Additionally, partnerships with major media companies and international expansion efforts are emphasized. However, there is also mention of competition and the increase in free cash flow deficit due to investing in original content. Overall, the sentiment is optimistic about the company's future prospects.\",\n",
       " 'Investor-Letter-Q1-2012': 'The sentiment analysis for the information about Netflix for investors is as follows:\\n\\nOverall Sentiment: Neutral\\n\\nTotal Polarity Score: 0\\n\\nTotal Subjectivity Score: 0\\n\\nBased on the information provided, there is no significant positive or negative sentiment expressed towards Netflix. The information is considered neutral, indicating a lack of strong sentiment in either direction. The polarity score of 0 indicates a neutral sentiment, while the subjectivity score of 0 suggests no subjective opinions are expressed in the information.',\n",
       " 'Investor-Letter-Q2-2012-07': \"Polarity score: 0.15\\nSubjectivity score: 0.57\\n\\nBased on the provided information, the sentiment towards Netflix for investors is slightly positive. The polarity score of 0.15 indicates a slightly positive sentiment, while the subjectivity score of 0.57 suggests that the information contains a moderate level of subjectivity.\\n\\nIt's important to note that sentiment analysis is subjective and can vary depending on the interpretation of the text and context.\",\n",
       " 'Investor-Letter-Q3-2011': 'Sentiment analysis for Netflix for investors:\\n\\nTotal Polarity Score: 0.65\\nTotal Subjectivity Score: 0.45\\n\\nBased on the provided information, the sentiment for investors regarding Netflix is generally positive. The polarity score of 0.65 indicates a predominantly positive sentiment, while the subjectivity score of 0.45 suggests that the information is relatively objective.\\n\\nIt is important to note that sentiment analysis is based on the content and tone of the information provided, and it can vary depending on the specific details and context.',\n",
       " 'Investor-Letter-Q3-2012-10': 'The sentiment scores for the information on Netflix are as follows:\\n\\nPolarity Score: 0.4\\nSubjectivity Score: 0.6\\n\\nBased on these scores, the sentiment of the information for investors can be considered slightly positive. The subjectivity score indicates that there is a moderate level of subjective opinion present in the information. It is important to note that these sentiment scores are based on an evaluation of the language and do not take into account any specific financial data or market conditions.',\n",
       " 'Investor-Letter-Q4-2011': 'To evaluate the sentiment of the information regarding Netflix for investors, I will provide polarity and subjectivity scores.\\n\\nPolarity score: 0.15\\nSubjectivity score: 0.35\\n\\nBased on these scores, the overall sentiment of the information is slightly positive, indicating a generally favorable outlook for investors. The subjectivity score of 0.35 suggests that there may be some subjective opinions or interpretations present in the information.\\n\\nPlease note that these scores are calculated based on the given information and may not reflect the entire sentiment landscape of Netflix as an investment.',\n",
       " 'Investor-Letter-Q42012-01': \"I apologize, but I am not able to evaluate sentiment scores for information on specific companies such as Netflix. I can provide general guidance or answer specific questions about financial statements or investment-related topics. Please let me know if there's anything specific you would like assistance with.\",\n",
       " 'Investor_Letter_Q12013': 'The sentiment analysis for the information on Netflix is as follows:\\n\\nTotal polarity score: 0.45\\nTotal subjectivity score: 0.55\\n\\nBased on these scores, the sentiment for investors regarding Netflix is slightly positive and moderately subjective. Investors should interpret this information with a cautious perspective.',\n",
       " 'July-Investor-Letter-1130am': 'The sentiment analysis and polarity scores for the information about Netflix indicate the following:\\n\\nPolarity score: 0.2 (neutral)\\nSubjectivity score: 0.4 (neutral)\\n\\nBased on these scores, the information provided about Netflix does not lean towards a particularly positive or negative sentiment. It is a relatively neutral statement that does not express a strong opinion or bias.',\n",
       " 'July2014EarningsLetter_7': 'Sentiment Analysis:\\nThe sentiment of the information provided is mostly positive for investors. The company highlights its strong financial performance, with increasing revenue and profits. They also mention positive growth in their member base, both domestically and internationally. The company is investing in content and expanding its global availability, which demonstrates a positive outlook for future growth. Additionally, they mention success in their marketing campaigns, the introduction of physical gift cards, and improvements in their streaming technology. However, there are challenges mentioned, such as the need to maintain strong net neutrality and competition in the market. Overall, the sentiment is positive, with a focus on the potential for future success. \\n\\nPolarity Score: 0.53\\nSubjectivity Score: 0.47',\n",
       " 'Q114-Earnings-Letter-4': \"Sentiment analysis for the given information (Netflix) shows the following results:\\n\\nTotal polarity score: 0.27\\nTotal subjectivity score: 0.34\\n\\nThe information provided has a slightly positive sentiment with a low level of subjectivity. It indicates that Netflix has had a successful Q1 with over 48 million global members and $1 billion in quarterly streaming revenue. They have seen growth in domestic and international net additions, especially with the success of House of Cards Season 2. The forecast for Q2 looks promising as well.\\n\\nIn terms of financial performance, Netflix has shown steady growth in revenue and contribution profit. The contribution margin has also increased over time. However, their international segment is still facing losses, although they are on track to achieve profitability this year. They expect their near-term profits to be modest as they continue to invest in international expansion.\\n\\nNetflix's marketing strategy is focused on promoting their original series and investing in high-quality exclusive content. They plan to spend less on direct response advertising and more on building brand awareness. They are also working on improving the user experience by promoting relevant content and integrating with MVPD set-top boxes.\\n\\nIn terms of product development, Netflix is exploring the 4K TV market and increasing their 4K content offerings. They are also testing different ways to promote their original series and improving the user interface on various devices. They plan to increase their prices for new members later this quarter to acquire more content and provide a better streaming experience.\\n\\nNetflix has raised concerns about ISP performance and net neutrality. They have highlighted the need for better connectivity and free interconnect with ISPs to ensure a good quality Netflix experience for their customers. They have also expressed opposition to the merger between Comcast and Time Warner Cable, as it could lead to anti-competitive practices and higher costs for consumers.\\n\\nIn terms of competition, Netflix considers MVPDs improving through TV Everywhere as their biggest long-term competitor. They continue to expand their DVD-by-mail business, which has been successful with 6.7 million members.\\n\\nOverall, the sentiment towards Netflix in this information is mostly positive, highlighting their success and growth in the streaming industry. However, there are some challenges they are facing, especially in the international market and with ISP performance.\",\n",
       " 'Q116LettertoShareholders_W_TABLES_': 'Polarity: -0.12\\nSubjectivity: 0.54\\nSentiment: Neutral\\n\\nBased on the given information about Netflix, the sentiment towards the company is neutral. The polarity score indicates a slightly negative sentiment (-0.12), while the subjectivity score indicates a moderate level of subjectivity (0.54). Therefore, for investors, there is no clear positive or negative sentiment shown in this information.',\n",
       " 'Q117ShareholderLetterV2FINAL': \"Polarity scores:\\n- Q1 streaming revenue and added members: +1\\n- Opportunity provided by growth of the global internet: +1\\n- Keep investing to increase membership, revenue, and operating margins: +0.5\\n- No substantial variations in Q1 compared to forecast: +0.5\\n- Higher operating margins in Q1 than plan: +0.5\\n- Forecasted operating margin in Q2: +0.5\\n- Lower net adds in Q1 compared to prior year: -0.5\\n- Heavier net adds in Q2 compared to prior year: +0.5\\n- International net additions decreased: -0.5\\n- Revenue for international segment grew: +0.5\\n- Q1 was the first quarter of consolidated profit for international segment: +0.5\\n- High satisfaction and rapidly growing in Latin America, Europe, and North America: +0.5\\n- Making good strides in improving content offering in Asia, Middle East, and Africa: +0.5\\n- Price change benefiting streaming revenue growth: +0.5\\n- Migration to high-end plan: +0.5\\n- Established markets funding international expansion: +0.5\\n- Member and revenue growth as primary indicators of progress: +0.5\\n- Content pleasing diverse tastes: +1\\n- Key releases highlight range of programming: +1\\n- Investment in stand-up comedy: +1\\n- Addition of four films from Adam Sandler: +0.5\\n- Scott Stuber leading original films initiative: +0.5\\n- Focus on improving member satisfaction: +1\\n- Investment in marketing content: +0.5\\n- Virtual MVPDs likely not impacting Netflix significantly: +0.5\\n- Amazon's move into NFL football not seen as smart: +0.5\\n- Negative free cash flow due to growth in original content: -0.5\\n- Operating margins growing: +0.5\\n- Debt to total cap ratio conservative: +0.5\\n- Excitement about opportunity to build global internet TV business: +1\\n\\nSubjectivity score: The subjectivity score is 0. This is because the information provided in the document is factual and does not contain any opinionated statements.\\n\\nBased on the polarity and subjectivity scores, the sentiment of this information for investors is overall positive. The information highlights the growth in streaming revenue and added members, the opportunity in the global internet market, and the positive performance of the international segment. It also mentions investments in content, improvements in member satisfaction, and plans for future growth. However, there are some negative aspects mentioned, such as decreased international net additions and negative free cash flow.\",\n",
       " 'Q1_15_Earnings_Letter_final_tables': 'Sentiment: \\n\\nPositive: The information provided in the document highlights several positive milestones and achievements for Netflix in Q1. This includes surpassing 40 million members in the US, 20 million internationally, and 60 million in total. The original series, documentaries, and comedy specials are being enthusiastically received, and member engagement is at an all-time high. The strong growth in new members is attributed to the success of original content and improved retention. \\n\\nNeutral: The document also provides financial and operational data, including revenue, contribution profit, contribution margin, paid members, net additions, and market expansion plans. It discusses the impact of currency exchange rates and the negative effects of piracy and data caps on the business. It also mentions competition from other streaming services like HBO Now and Internet MVPD offerings. \\n\\nNegative: The information mentions losses in the international segment due to currency exchange rates and increased expenses for content and marketing. It also refers to piracy as a long-term threat to the business. \\n\\nTotal Polarity Score: 0.5 (Neutral)\\nTotal Subjectivity Score: 0.3 (Neutral)',\n",
       " 'Q2-19-Shareholder-Letter-FINAL': 'Polarity score: 0.456 (positive sentiment)\\nSubjectivity score: 0.45 (neutral sentiment)\\n\\nThe information provided has an overall positive sentiment, indicating favorable conditions for Netflix investors. The revenue growth and operating income increased significantly compared to the previous year. Despite a lower-than-expected growth in paid memberships, Netflix expects substantial growth in the next quarter. The company also highlights the worldwide shift from linear television to internet entertainment, which presents a significant opportunity for Netflix.\\n\\nIn terms of Q2 results, there was a year-over-year increase in streaming paid memberships and average revenue per user (ARPU). The operating margin also improved, exceeding the initial forecast. However, there was a non-cash unrealized loss from foreign exchange remeasurement on Euro-denominated debt.\\n\\nRegarding content, Netflix highlights the success of several original series and films, including \"Dead to Me,\" \"When They See Us,\" and \"Our Planet.\" These shows have garnered high viewership and critical acclaim, generating global conversation.\\n\\nNetflix\\'s marketing strategy focuses on launching key titles to build excitement among both existing and potential subscribers. The company has partnered with renowned brands, such as Coke, Nike, Burger King, and Baskin Robbins, to create deep connections with fans. The announcement of new partnerships and plans to launch a lower-priced mobile-screen plan in India demonstrates Netflix\\'s commitment to expansion and innovation.\\n\\nCompetition in the streaming industry is intensifying with the entry of new players like Disney, Apple, WarnerMedia, and NBCU. However, Netflix believes there is room for growth and emphasizes its commitment to remaining advertising-free to prioritize viewer satisfaction.\\n\\nIn terms of cash flow and capital structure, Netflix reported a net cash usage in operating activities for Q2\\'19. The company expects a negative free cash flow for the full year but anticipates improvement in 2020. Netflix plans to use high-yield debt to fund content investments and aims for positive free cash flow in the future.\\n\\nOverall, despite some challenges and increased competition, Netflix\\'s positive performance, content success, and strategic initiatives position it well for future growth and investor satisfaction.',\n",
       " 'Q213-Investor-Letter': \"Sentiment: The sentiment of the information provided for investors is generally positive. The information highlights steady growth in members, revenue, and contribution profit in the domestic streaming segment. The launch of Arrested Development and Netflix's Originals programming has generated positive results and recognition, including 14 Emmy Award nominations. The company plans to continue expanding and improving their content and streaming service. They also have positive expectations for net additions and margin expansion in the future. While there are factors such as competition and market saturation that could pose risks, overall the sentiment is positive.\\n\\nTotal Polarity Score: 10.5 / 23\\nTotal Subjectivity Score: 23 / 31\",\n",
       " 'Q216LettertoShareholders_FINAL_w_Tables': 'Total polarity score: -0.074\\nTotal subjectivity score: 0.296\\n\\nThe sentiment of this information for investors is primarily negative. The total polarity score indicates a negative sentiment overall. The statements highlight challenges in meeting membership forecasts and lower-than-expected earnings in Q2. However, there are also positive aspects mentioned, such as the opportunity for long-term growth, international revenue growth, and achievements in original programming. Overall, the sentiment is mixed, but the negative aspects outweigh the positive aspects. Investors may be concerned about the slower growth and lower-than-expected performance in certain areas.',\n",
       " 'Q2_17_Shareholder_Letter': 'Sentiment Analysis:\\n\\nThe overall sentiment in the information provided is mostly positive. The language used indicates that Netflix had a good quarter and that there was growth in streaming membership and revenue. The company achieved milestones and exceeded expectations in terms of net adds and international revenue. They also received recognition for their original content, with numerous Emmy nominations. However, there are some cautionary statements regarding forecasting and potential challenges in the future. The sentiment is largely positive, but with a hint of caution.\\n\\nPolarity Score: 0.400\\nSubjectivity Score: 0.281',\n",
       " 'Q313-Earnings-Letter-10': \"Sentiment: Positive\\n\\nTotal Polarity Score: 0.25\\nTotal Subjectivity Score: 0.19\\n\\nThe information provided in the statement is mostly positive for investors. The sentiment is positive, as indicated by the overall positive tone of the information. The statement highlights the success of Netflix in terms of member growth, revenue, and profitability. It also mentions the critical and popular success of their original series, as well as their expansion into new markets. Additionally, the statement emphasizes the company's focus on original content and their plans for future growth. Overall, the information is concise and lucid, providing investors with a positive outlook for the company.\",\n",
       " 'Q3_14_Letter_to_shareholders': \"Sentiment: Positive\\n\\nPolarity score: 0.335\\nSubjectivity score: 0.785\\n\\nThe information provided by Netflix for investors is positive overall. The company has added over 3 million new members in the last quarter, ending with a total of 53.1 million global members and $1.22 billion in revenue. They forecast adding another 4 million members in the next quarter, ending the year with over 57 million global members. Netflix emphasizes the joy of Internet TV and promises to continue thrilling its members with a variety of original series, films, and licensed content. \\n\\nThe financial results show growth in revenue and contribution profit for both domestic and international streaming. The US contribution margin increased to 28.6%, and the company aims to achieve a 40% contribution margin within five years. Netflix launched successfully in new markets, adding about 66 million broadband households, and the international revenue grew 89% year-on-year. Despite some challenges, such as higher prices impacting member growth in the US, Netflix remains confident in the long-term attractiveness and market size of Internet television. \\n\\nThe company's investments in content are highlighted, with plans for more original series, documentaries, and even its first original film in 2015. Netflix is also committed to strong net neutrality and preventing large ISPs from hindering performance. The DVD-by-mail service still contributes significantly to profits, attracting 6 million members. \\n\\nWhile the information provided is generally positive, it's important to note that there are some challenges and potential risks mentioned, such as higher VAT costs in Europe and the need to pay attention to competition. However, Netflix anticipates substantial expansion in 2015 and continues to focus on delivering an outstanding streaming experience to its customers.\",\n",
       " 'Q3_17_Shareholder_Letter_COMBINED': \"Total polarity score: 0.223\\nTotal subjectivity score: 0.463\\n\\nSentiment analysis:\\n- The document contains mostly positive sentiment, with statements highlighting Netflix's growth, revenue, and operating income.\\n- There are some neutral statements regarding specific financial figures and forecasts.\\n- Overall, the tone of the document suggests that Netflix is doing well financially and is confident about its future prospects.\\n\\nNote: Please keep in mind that sentiment analysis is based on the text provided and may not capture all nuances and context accurately.\",\n",
       " 'Q4-13-Letter-to-shareholders': 'Sentiment of the information for investors: Overall, the sentiment of the information provided by Netflix is positive for investors. The company highlights their strong performance in terms of member growth, revenue, and contribution profit. They also highlight the success of their original content and their plans for future expansion. However, there is also mention of challenges such as the lack of net neutrality regulations. \\n\\nTotal polarity and subjectivity scores: \\n\\nPolarity score: 0.134\\n\\nSubjectivity score: 0.282',\n",
       " 'Q416ShareholderLetter': \"Sentiment: Positive\\n\\nPolarity Score: 0.366\\nSubjectivity Score: 0.354\\n \\nThis information from Netflix for investors is mostly positive. The company has shown significant growth in global streaming revenue, with a 35% year-over-year increase in 2016. There was also a strong performance in Q4, with global streaming revenue growing by 41%. The company exceeded its guidance for net income and member additions in the quarter. Additionally, Netflix's original content has been well-received worldwide. The company is investing heavily in content and has plans for international expansion. The introduction of offline viewing and partnerships with Comcast's X1 set-top boxes reflect efforts to make Netflix more accessible to members. The company's stance on net neutrality is also positive. Although free cash flow has shown a significant loss, Netflix is confident in its ability to raise capital and continue investing in original content. Overall, the information provides optimism regarding Netflix's growth and future prospects.\",\n",
       " 'Q4_14_Letter_to_shareholders': 'Sentiment Analysis:\\n\\n- Overall sentiment: The overall sentiment of the information is positive for the investors.\\n\\nPolarity and Subjectivity Scores:\\n\\n- Polarity score: The polarity score is positive, indicating that the information contains more positive sentiment than negative sentiment.\\n- Subjectivity score: The subjectivity score is neutral, meaning that the information is presented in a factual manner without personal bias.\\n\\nExplanation:\\n\\nThe information provided in the document highlights positive growth and performance for Netflix. It reports on the addition of new members, revenue and profit growth, and plans for global expansion. The company is confident in its forecast and is focused on delivering high-quality content and improving its service. Despite competition and the piracy issue, Netflix remains optimistic about the growth potential in the industry. The financial results and future plans discussed in the document contribute to the positive sentiment overall.',\n",
       " 'Q4_15_Letter_to_Shareholders_-_COMBINED': 'Sentiment Analysis:\\n\\n- The overall sentiment of the information is positive for investors.\\n- The language used throughout the information is optimistic and highlights the growth and success of Netflix.\\n- The mention of record-breaking member additions, profitability, and positive subscriber price growth all contribute to a positive sentiment.\\n- The plans for expanding original programming and global availability also indicate a positive outlook for future growth.\\n- However, there are also some mentions of challenges and potential uncertainties, such as losses in international markets and competition from other streaming services.\\n\\nPolarity Scores:\\n- The overall polarity score is positive, indicating a positive sentiment towards Netflix and its performance in the market.\\n\\nSubjectivity Scores:\\n- The overall subjectivity score is relatively high, indicating that the information contains some subjective opinions and interpretations, rather than purely factual statements.'}"
      ]
     },
     "execution_count": 5,
     "metadata": {},
     "output_type": "execute_result"
    }
   ],
   "source": [
    "openai_responses"
   ]
  },
  {
   "cell_type": "code",
   "execution_count": 7,
   "metadata": {},
   "outputs": [],
   "source": [
    "import pandas as pd"
   ]
  },
  {
   "cell_type": "code",
   "execution_count": 8,
   "metadata": {},
   "outputs": [],
   "source": [
    "openai_responses_df = pd.DataFrame(list(openai_responses.items()), columns=['pdf_name', 'response'])"
   ]
  },
  {
   "cell_type": "code",
   "execution_count": null,
   "metadata": {},
   "outputs": [],
   "source": [
    "openai_responses_df.to_excel('openai_responses_df.xlsx')"
   ]
  },
  {
   "cell_type": "code",
   "execution_count": 72,
   "metadata": {},
   "outputs": [],
   "source": [
    "for key in openai_responses:\n",
    "        openai_responses[key] = re.sub('\\n', ' ', openai_responses[key])\n",
    "        openai_responses[key] = re.sub(' +', ' ', openai_responses[key])\n"
   ]
  },
  {
   "cell_type": "code",
   "execution_count": 98,
   "metadata": {},
   "outputs": [],
   "source": [
    "polarity_scores = {}\n",
    "subjectivity_scores = {}\n",
    "\n",
    "\n",
    "for document, text in openai_responses.items():\n",
    "\n",
    "    words = text.split(\" \")\n",
    "    for word in words:\n",
    "        if word.lower() == \"polarity\":\n",
    "            polarity_scores[document] = words[words.index(word):words.index(word) + 4]\n",
    "        elif word.lower() == \"subjectivity\":\n",
    "            subjectivity_scores[document] = words[words.index(word):words.index(word) + 4]"
   ]
  },
  {
   "cell_type": "code",
   "execution_count": 102,
   "metadata": {},
   "outputs": [],
   "source": [
    "for document, words in polarity_scores.items():\n",
    "\n",
    "    for word in words:\n",
    "        # if word is number using regex\n",
    "        if re.search(\"^[0-9]\", word):\n",
    "            word = word.replace(\",\", \"\")\n",
    "            polarity_scores[document] = float(word)"
   ]
  },
  {
   "cell_type": "code",
   "execution_count": 104,
   "metadata": {},
   "outputs": [],
   "source": [
    "for document, words in subjectivity_scores.items():\n",
    "\n",
    "    for word in words:\n",
    "        # if word is number using regex\n",
    "        if re.search(\"^[0-9]\", word):\n",
    "            word = word.replace(\",\", \"\")\n",
    "            subjectivity_scores[document] = float(word)"
   ]
  },
  {
   "cell_type": "code",
   "execution_count": 107,
   "metadata": {},
   "outputs": [],
   "source": [
    "# filter out keys values of which are lists\n",
    "polarity_scores = {k: v for k, v in polarity_scores.items() if type(v) != list}\n",
    "subjectivity_scores = {k: v for k, v in subjectivity_scores.items() if type(v) != list}"
   ]
  },
  {
   "cell_type": "code",
   "execution_count": 124,
   "metadata": {},
   "outputs": [],
   "source": [
    "df = pd.DataFrame(list(pdf_texts.items()), columns=['pdf_name', 'text'])\n",
    "polarity_df = pd.DataFrame(list(polarity_scores.items()), columns=['pdf_name', 'polarity'])\n",
    "subjectivity_df = pd.DataFrame(list(subjectivity_scores.items()), columns=['pdf_name', 'subjectivity'])\n",
    "\n",
    "# join df and polarity_df on pdf_name column\n",
    "df = df.join(polarity_df.set_index(\"pdf_name\"), on=\"pdf_name\")\n",
    "df = df.join(subjectivity_df.set_index(\"pdf_name\"), on=\"pdf_name\")"
   ]
  },
  {
   "cell_type": "code",
   "execution_count": 127,
   "metadata": {},
   "outputs": [],
   "source": [
    "# export df\n",
    "df.to_excel('OpenAI Automation.xlsx', index=False)"
   ]
  },
  {
   "cell_type": "code",
   "execution_count": 128,
   "metadata": {},
   "outputs": [
    {
     "name": "stdout",
     "output_type": "stream",
     "text": [
      "<class 'pandas.core.frame.DataFrame'>\n",
      "RangeIndex: 50 entries, 0 to 49\n",
      "Data columns (total 4 columns):\n",
      " #   Column        Non-Null Count  Dtype  \n",
      "---  ------        --------------  -----  \n",
      " 0   pdf_name      50 non-null     object \n",
      " 1   text          50 non-null     object \n",
      " 2   polarity      31 non-null     float64\n",
      " 3   subjectivity  32 non-null     float64\n",
      "dtypes: float64(2), object(2)\n",
      "memory usage: 1.7+ KB\n"
     ]
    }
   ],
   "source": [
    "df.info()"
   ]
  },
  {
   "cell_type": "code",
   "execution_count": 130,
   "metadata": {},
   "outputs": [],
   "source": [
    "import spacy"
   ]
  },
  {
   "cell_type": "code",
   "execution_count": 132,
   "metadata": {},
   "outputs": [],
   "source": [
    "# load model\n",
    "nlp = spacy.load('en_core_web_sm')"
   ]
  },
  {
   "cell_type": "code",
   "execution_count": 135,
   "metadata": {},
   "outputs": [
    {
     "data": {
      "application/vnd.jupyter.widget-view+json": {
       "model_id": "71aec21ae9de48f5994344ed737165ec",
       "version_major": 2,
       "version_minor": 0
      },
      "text/plain": [
       "  0%|          | 0/50 [00:00<?, ?it/s]"
      ]
     },
     "metadata": {},
     "output_type": "display_data"
    }
   ],
   "source": [
    "# Function to preprocess text\n",
    "def preprocess_text(text):\n",
    "    doc = nlp(text)\n",
    "    return \" \".join([token.lemma_ for token in doc if not token.is_stop and not token.is_punct])\n",
    "\n",
    "# Apply the preprocessing to each text in the 'text' column of the DataFrame\n",
    "tqdm.pandas()\n",
    "df['processed_text'] = df['text'].progress_apply(preprocess_text)"
   ]
  },
  {
   "cell_type": "code",
   "execution_count": 141,
   "metadata": {},
   "outputs": [
    {
     "data": {
      "text/html": [
       "<div>\n",
       "<style scoped>\n",
       "    .dataframe tbody tr th:only-of-type {\n",
       "        vertical-align: middle;\n",
       "    }\n",
       "\n",
       "    .dataframe tbody tr th {\n",
       "        vertical-align: top;\n",
       "    }\n",
       "\n",
       "    .dataframe thead th {\n",
       "        text-align: right;\n",
       "    }\n",
       "</style>\n",
       "<table border=\"1\" class=\"dataframe\">\n",
       "  <thead>\n",
       "    <tr style=\"text-align: right;\">\n",
       "      <th></th>\n",
       "      <th>pdf_name</th>\n",
       "      <th>text</th>\n",
       "      <th>polarity</th>\n",
       "      <th>subjectivity</th>\n",
       "      <th>processed_text</th>\n",
       "    </tr>\n",
       "  </thead>\n",
       "  <tbody>\n",
       "    <tr>\n",
       "      <th>0</th>\n",
       "      <td>COMBINED-Q4-17-Shareholder-Letter-FINAL</td>\n",
       "      <td>We had a beautiful Q4, completing a great year...</td>\n",
       "      <td>NaN</td>\n",
       "      <td>NaN</td>\n",
       "      <td>beautiful q4 complete great year internet tv e...</td>\n",
       "    </tr>\n",
       "    <tr>\n",
       "      <th>1</th>\n",
       "      <td>FINAL-Q1-18-Shareholder-Letter</td>\n",
       "      <td>We strive to entertain and to bring joy to peo...</td>\n",
       "      <td>0.366</td>\n",
       "      <td>0.5110</td>\n",
       "      <td>strive entertain bring joy people world amazin...</td>\n",
       "    </tr>\n",
       "    <tr>\n",
       "      <th>2</th>\n",
       "      <td>FINAL-Q1-19-Shareholder-Letter</td>\n",
       "      <td>Revenue surpassed $4.5 billion in Q1 and we re...</td>\n",
       "      <td>NaN</td>\n",
       "      <td>NaN</td>\n",
       "      <td>revenue surpass $ 4.5 billion Q1 record highes...</td>\n",
       "    </tr>\n",
       "    <tr>\n",
       "      <th>3</th>\n",
       "      <td>FINAL-Q1-20-Shareholder-Letter</td>\n",
       "      <td>In our 20+ year history, we have never seen a ...</td>\n",
       "      <td>NaN</td>\n",
       "      <td>0.3447</td>\n",
       "      <td>20 + year history see future uncertain unsettl...</td>\n",
       "    </tr>\n",
       "    <tr>\n",
       "      <th>4</th>\n",
       "      <td>FINAL-Q1-21-Shareholder-Letter</td>\n",
       "      <td>Revenue grew 24% year over year and was in lin...</td>\n",
       "      <td>0.080</td>\n",
       "      <td>0.2900</td>\n",
       "      <td>revenue grow 24 year year line withour beginni...</td>\n",
       "    </tr>\n",
       "  </tbody>\n",
       "</table>\n",
       "</div>"
      ],
      "text/plain": [
       "                                  pdf_name  \\\n",
       "0  COMBINED-Q4-17-Shareholder-Letter-FINAL   \n",
       "1           FINAL-Q1-18-Shareholder-Letter   \n",
       "2           FINAL-Q1-19-Shareholder-Letter   \n",
       "3           FINAL-Q1-20-Shareholder-Letter   \n",
       "4           FINAL-Q1-21-Shareholder-Letter   \n",
       "\n",
       "                                                text  polarity  subjectivity  \\\n",
       "0  We had a beautiful Q4, completing a great year...       NaN           NaN   \n",
       "1  We strive to entertain and to bring joy to peo...     0.366        0.5110   \n",
       "2  Revenue surpassed $4.5 billion in Q1 and we re...       NaN           NaN   \n",
       "3  In our 20+ year history, we have never seen a ...       NaN        0.3447   \n",
       "4  Revenue grew 24% year over year and was in lin...     0.080        0.2900   \n",
       "\n",
       "                                      processed_text  \n",
       "0  beautiful q4 complete great year internet tv e...  \n",
       "1  strive entertain bring joy people world amazin...  \n",
       "2  revenue surpass $ 4.5 billion Q1 record highes...  \n",
       "3  20 + year history see future uncertain unsettl...  \n",
       "4  revenue grow 24 year year line withour beginni...  "
      ]
     },
     "execution_count": 141,
     "metadata": {},
     "output_type": "execute_result"
    }
   ],
   "source": [
    "df.head()"
   ]
  },
  {
   "cell_type": "code",
   "execution_count": 173,
   "metadata": {},
   "outputs": [],
   "source": [
    "from sklearn.model_selection import train_test_split\n",
    "from sklearn.feature_extraction.text import CountVectorizer\n",
    "from sklearn.naive_bayes import MultinomialNB\n",
    "from sklearn.svm import SVC\n",
    "from sklearn.metrics import f1_score\n",
    "from sklearn.linear_model import LogisticRegression\n",
    "from sklearn.linear_model import LinearRegression\n",
    "from sklearn.tree import DecisionTreeClassifier\n",
    "from sklearn.ensemble import RandomForestRegressor\n",
    "\n",
    "# Drop NAs from polarity\n",
    "df_copy = df.dropna(subset=['polarity'])\n",
    "\n",
    "# Split the dataset into the label and text\n",
    "X = df_copy['processed_text']\n",
    "y =  df_copy['polarity']\n",
    "\n",
    "# Perform train-test split\n",
    "X_train, X_test, y_train, y_test = train_test_split(X, y, test_size=0.25, random_state=42)"
   ]
  },
  {
   "cell_type": "code",
   "execution_count": 174,
   "metadata": {},
   "outputs": [],
   "source": [
    "# Create a CountVectorizer object and fit it on the training data\n",
    "vectorizer = CountVectorizer()\n",
    "X_train_bow = vectorizer.fit_transform(X_train)\n",
    "\n",
    "# Transform the test data using the fitted vectorizer\n",
    "X_test_bow = vectorizer.transform(X_test)"
   ]
  },
  {
   "cell_type": "code",
   "execution_count": 175,
   "metadata": {},
   "outputs": [
    {
     "name": "stdout",
     "output_type": "stream",
     "text": [
      "R^2: -0.1241864594611024\n"
     ]
    }
   ],
   "source": [
    "# Train a machine learning model, such as Naive Bayes, on the bag-of-words features\n",
    "model = RandomForestRegressor().fit(X_train_bow, y_train)\n",
    "# model = LinearRegression().fit(X_train_bow, y_train)\n",
    "\n",
    "# Predict the labels of the test set: y_pred\n",
    "y_pred = model.predict(X_test_bow)\n",
    "\n",
    "# Compute and print metrics\n",
    "print(\"R^2: {}\".format(model.score(X_test_bow, y_test)))"
   ]
  },
  {
   "cell_type": "code",
   "execution_count": null,
   "metadata": {},
   "outputs": [],
   "source": []
  }
 ],
 "metadata": {
  "kernelspec": {
   "display_name": "Python 3",
   "language": "python",
   "name": "python3"
  },
  "language_info": {
   "codemirror_mode": {
    "name": "ipython",
    "version": 3
   },
   "file_extension": ".py",
   "mimetype": "text/x-python",
   "name": "python",
   "nbconvert_exporter": "python",
   "pygments_lexer": "ipython3",
   "version": "3.10.8"
  },
  "orig_nbformat": 4
 },
 "nbformat": 4,
 "nbformat_minor": 2
}
