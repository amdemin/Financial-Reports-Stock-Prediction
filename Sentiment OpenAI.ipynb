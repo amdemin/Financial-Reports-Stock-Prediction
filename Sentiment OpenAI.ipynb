{
 "cells": [
  {
   "cell_type": "code",
   "execution_count": 3,
   "metadata": {},
   "outputs": [],
   "source": [
    "# Import libraries\n",
    "import pandas as pd\n",
    "import numpy as np\n",
    "import matplotlib.pyplot as plt\n",
    "import seaborn as sns\n",
    "import requests\n",
    "import os\n",
    "import re\n",
    "import pickle\n",
    "from tqdm.notebook import tqdm\n",
    "from difflib import SequenceMatcher\n",
    "import openai\n",
    "\n",
    "# Load local modules\n",
    "from module_text_blocks import split_text_into_blocks, clean_text_blocks\n",
    "\n",
    "# load credentials for OpenAI API\n",
    "from credentials_openai import *\n",
    "openai.api_key = openai_api_key"
   ]
  },
  {
   "cell_type": "code",
   "execution_count": 4,
   "metadata": {},
   "outputs": [],
   "source": [
    "import tiktoken\n",
    "\n",
    "# define the number of tokens in the prompt\n",
    "def num_tokens_from_string(string: str, encoding_name: str) -> int:\n",
    "    \"\"\"Returns the number of tokens in a text string.\"\"\"\n",
    "    encoding = tiktoken.get_encoding(encoding_name)\n",
    "    num_tokens = len(encoding.encode(string))\n",
    "    return num_tokens"
   ]
  },
  {
   "cell_type": "code",
   "execution_count": 5,
   "metadata": {},
   "outputs": [],
   "source": [
    "def split_text_by_chars(text, num_chars):\n",
    "    \"\"\"Split the input text every num_chars characters.\"\"\"\n",
    "    return [text[i:i+num_chars] for i in range(0, len(text), num_chars)]"
   ]
  },
  {
   "cell_type": "code",
   "execution_count": 6,
   "metadata": {},
   "outputs": [],
   "source": [
    "def summarize_long_text_blocks(text_blocks):\n",
    "\n",
    "    for heading, text in text_blocks.items():\n",
    "        \n",
    "        text_length = len(text.split(' '))                           # number of words in the text block\n",
    "        tokens_number = num_tokens_from_string(text, \"cl100k_base\")  # number of tokens in the text block\n",
    "        chars_number = len(text)                                     # number of characters in the text block\n",
    "                        \n",
    "        summarization_blocks = [text]                                # list of text blocks to summarize\n",
    "        responses = []\n",
    "\n",
    "        # if the block contains over 750 words, summarize it\n",
    "        if text_length > 750:\n",
    "\n",
    "            # if the block is exceeding the token limit, split it into multiple blocks\n",
    "            if tokens_number > 3500:\n",
    "\n",
    "                text_split_threshold = int(chars_number / (tokens_number / 2500))\n",
    "                summarization_blocks = split_text_by_chars(text, text_split_threshold)\n",
    "                \n",
    "            for summarization_block in summarization_blocks:\n",
    "\n",
    "                completion = openai.ChatCompletion.create(\n",
    "                    model=\"gpt-3.5-turbo\",\n",
    "                    messages=[\n",
    "                    {\"role\": \"user\", \"content\": \"Please effectively summarize the following text: \" + summarization_block}\n",
    "                    ],\n",
    "                    temperature=0.3,\n",
    "                    max_tokens=500\n",
    "                )                \n",
    "                # top_p=1, frequency_penalty=0, presence_penalty=0, stop=[\"\\n\"]\n",
    "                # add the summarized text to the list of responses\n",
    "                responses.append(completion.choices[0].message.content)\n",
    "\n",
    "            # join the responses into a single text block\n",
    "            text_blocks[heading] = ' '.join(responses)\n",
    "    \n",
    "    return text_blocks"
   ]
  },
  {
   "cell_type": "code",
   "execution_count": 7,
   "metadata": {},
   "outputs": [],
   "source": [
    "def openai_sentiment_analysis(final_prompt):\n",
    "\n",
    "    # run the request for ChatGPT\n",
    "    fine_tune_messages = {\"role\": \"system\", \"content\":\n",
    "                    \"You are a helpful financial assistant who is expert in evaluating sentiment scores for financial statements \\\n",
    "                You give precise answers to questions \\\n",
    "                the quality of your answers is highly important, you never hallucinate answers - only \\\n",
    "                answering based on your knowledge. Where the answer requires creative thought you engage \\\n",
    "                in reflective internal dialogue to ascertain the best answer\"\n",
    "    }\n",
    "\n",
    "    user_content = \"Calculate the total polarity and subjectivity scores on the strict range -1 to 1 (-1 means perfectly negative; 1 means perfectly positive): \"\n",
    "\n",
    "\n",
    "    completion = openai.ChatCompletion.create(\n",
    "    model=\"gpt-3.5-turbo\",\n",
    "    messages=[\n",
    "        fine_tune_messages,\n",
    "        {\"role\": \"user\", \"content\": user_content + final_prompt}\n",
    "    ]\n",
    "    )\n",
    "\n",
    "    return completion.choices[0].message.content"
   ]
  },
  {
   "cell_type": "code",
   "execution_count": 8,
   "metadata": {},
   "outputs": [],
   "source": [
    "def openai_sentiment_analysis(final_prompt):\n",
    "\n",
    "    # run the request for ChatGPT\n",
    "    fine_tune_messages = {\"role\": \"system\", \"content\":\n",
    "                    \"You are a helpful financial assistant who is expert in evaluating sentiment scores for financial statements \\\n",
    "                You give precise answers to questions \\\n",
    "                the quality of your answers is highly important, you never hallucinate answers - only \\\n",
    "                answering based on your knowledge. Where the answer requires creative thought you engage \\\n",
    "                in reflective internal dialogue to ascertain the best answer\"\n",
    "    }\n",
    "\n",
    "    # user_content = \"Calculate the total polarity and subjectivity scores on the strict range -1 to 1 (-1 means perfectly negative; 1 means perfectly positive): \"\n",
    "    # user_content = \"The overall polarity and subjectivity scores on the strict range -1 to 1 (-1 means perfectly negative; 1 means perfectly positive) for the text: \"\n",
    "    user_content = \"The overall polarity and subjectivity scores on the strict range (very negative, moderately negative, slightly negative, neutral, slightly positive, moderately positive, very positive) for the text: \"\n",
    "\n",
    "    completion = openai.ChatCompletion.create(\n",
    "    model=\"gpt-3.5-turbo\",\n",
    "    messages=[\n",
    "        fine_tune_messages,\n",
    "        {\"role\": \"user\", \"content\": user_content + final_prompt}\n",
    "    ],\n",
    "    temperature=0.0,\n",
    "    max_tokens=50\n",
    "    )\n",
    "\n",
    "    return completion.choices[0].message.content"
   ]
  },
  {
   "cell_type": "code",
   "execution_count": 9,
   "metadata": {},
   "outputs": [],
   "source": [
    "# Load pdf text and headings from the pickle file\n",
    "pdf_texts = pickle.load(open(\"pdf_texts.pkl\", \"rb\"))\n",
    "pdf_headings = pickle.load(open(\"pdf_headings.pkl\", \"rb\"))"
   ]
  },
  {
   "cell_type": "code",
   "execution_count": null,
   "metadata": {},
   "outputs": [],
   "source": [
    "# store openai responses in a dictionary\n",
    "openai_responses = {}\n",
    "pdf_lists = [\"FINAL-Q1-19-Shareholder-Letter\",\n",
    "            \"FINAL-Q420-Shareholder-Letter\",\n",
    "            \"Q2-19-Shareholder-Letter-FINAL\"]\n",
    "\n",
    "for pdf_name in tqdm(pdf_texts):\n",
    "\n",
    "    try:\n",
    "\n",
    "        text = pdf_texts[pdf_name]\n",
    "        headings = pdf_headings[pdf_name]\n",
    "\n",
    "        # split the text into blocks based on the headings\n",
    "        text_blocks = split_text_into_blocks(text, headings)\n",
    "        \n",
    "        # clean the text blocks\n",
    "        text_blocks = clean_text_blocks(text_blocks)\n",
    "\n",
    "        # if there are headings, add headings to the text blocks and summarize if needed\n",
    "        if len(headings) > 0:\n",
    "            \n",
    "            # print the original length of the text blocks\n",
    "            print(\"Original length of blocks for \" + pdf_name + \":\")\n",
    "            for heading, text in text_blocks.items():\n",
    "                print(len(text.split(\" \")), end=\" \")\n",
    "            print(\" \")\n",
    "\n",
    "            # summarize the text blocks\n",
    "            text_blocks = summarize_long_text_blocks(text_blocks)\n",
    "\n",
    "            # print the length of the text blocks after summarization\n",
    "            print(\"Updated length of blocks for \" + pdf_name + \":\")\n",
    "            for heading, text in text_blocks.items():\n",
    "                print(len(text.split(\" \")), end=\" \")\n",
    "            print(\" \")\n",
    "\n",
    "            # Create a final prompt\n",
    "            final_prompt = ''\n",
    "            for heading, text in text_blocks.items():\n",
    "                if num_tokens_from_string(final_prompt + text, \"cl100k_base\") >= 3750:\n",
    "                    break\n",
    "                final_prompt += heading + ': ' + text + \" \"\n",
    "\n",
    "        # if there are no headings  \n",
    "        else:\n",
    "            \n",
    "            tokens_number = num_tokens_from_string(text, \"cl100k_base\")  # number of tokens in the text block\n",
    "            chars_number = len(text)                                     # number of characters in the text block\n",
    "            \n",
    "            # if the block is exceeding the token limit, cut it\n",
    "            if tokens_number > 3500:\n",
    "\n",
    "                text_split_threshold = int(chars_number / (tokens_number / 2500))\n",
    "                text = text[:text_split_threshold]\n",
    "\n",
    "            final_prompt = text\n",
    "            \n",
    "\n",
    "        # Perform openAI sentiment analysis\n",
    "        response = openai_sentiment_analysis(final_prompt)\n",
    "        openai_responses[pdf_name] = response\n",
    "\n",
    "        # response = openai_sentiment_analysis_finetune(final_prompt, response)\n",
    "        # fine_tuned_responses[pdf_name] = response\n",
    "\n",
    "        # break\n",
    "\n",
    "    except Exception as e:\n",
    "\n",
    "        print(f\"Exception occurred in file {pdf_name}\")\n",
    "        print(f\"Exception message: {str(e)}\")\n",
    "\n",
    "        continue\n",
    "\n",
    "        # break"
   ]
  },
  {
   "cell_type": "code",
   "execution_count": 15,
   "metadata": {},
   "outputs": [
    {
     "data": {
      "text/plain": [
       "{'COMBINED-Q4-17-Shareholder-Letter-FINAL': 'The overall polarity and subjectivity scores for the given text are as follows:\\n\\nPolarity:\\n- Very negative: 0\\n- Moderately negative: 0\\n- Slightly negative: 0\\n- Neutral: 0\\n- Slightly',\n",
       " 'FINAL-Q1-18-Shareholder-Letter': 'The overall polarity and subjectivity scores for the given text are as follows:\\n\\nPolarity: Moderately positive\\nSubjectivity: Objective',\n",
       " 'FINAL-Q1-19-Shareholder-Letter': 'The overall polarity and subjectivity scores for the given text are as follows:\\n\\nPolarity Score: Moderately Positive\\nSubjectivity Score: Neutral',\n",
       " 'FINAL-Q1-20-Shareholder-Letter': 'The overall polarity score for the text is slightly positive. The subjectivity score is moderate.\\n\\nThe text mentions that Netflix is acknowledging the uncertainty and impact of the coronavirus pandemic, recognizing the importance of their service during this time, and experiencing higher viewership and',\n",
       " 'FINAL-Q1-21-Shareholder-Letter': \"The overall polarity and subjectivity scores for the given text are as follows:\\n\\nPolarity Score: Moderately Positive\\nSubjectivity Score: Objective\\n\\nThe text primarily focuses on providing factual information about Netflix's financial performance, content strategy, product updates, competition\",\n",
       " 'FINAL-Q1-22-Shareholder-Letter': 'The overall polarity and subjectivity scores for the given text are as follows:\\n\\nPolarity: Slightly negative\\nSubjectivity: Moderately subjective',\n",
       " 'Final-Q1-23-Shareholder-Letter': \"The overall polarity and subjectivity scores for the given text are as follows:\\n\\nPolarity: Slightly positive\\nSubjectivity: Objective\\n\\nThe text primarily provides information about the company's Q1'23 performance, revenue growth, operating income, and other\",\n",
       " 'FINAL-Q2-18-Shareholder-Letter': 'The overall polarity and subjectivity scores for the given text are as follows:\\n\\nPolarity Score: Moderately Positive\\nSubjectivity Score: Objective',\n",
       " 'FINAL-Q2-20-Shareholder-Letter-V3-with-Tables': 'The overall polarity score for the text is slightly positive. The subjectivity score is moderate.',\n",
       " 'FINAL-Q2-21-Shareholder-Letter': 'The overall polarity and subjectivity scores for the given text are as follows:\\n\\nPolarity Score: Moderately Positive\\nSubjectivity Score: Objective',\n",
       " 'FINAL-Q2-22-Shareholder-Letter': 'The overall polarity and subjectivity scores for the given text are as follows:\\n\\nPolarity Score: Moderately Positive\\nSubjectivity Score: Objective',\n",
       " 'FINAL-Q2-23-Shareholder-Letter': \"The overall polarity and subjectivity scores for the given text are as follows:\\n\\nPolarity: Slightly positive\\nSubjectivity: Objective\\n\\nThe text primarily provides factual information about Netflix's performance, revenue, engagement, competition, cash flow, and ESG\",\n",
       " 'FINAL-Q3-18-Shareholder-Letter': 'The overall polarity of the text is slightly positive. The subjectivity score is moderate, indicating that the text contains a mix of objective and subjective statements.\\n\\nHere is the sentiment breakdown for the text:\\n\\n- Very negative: 0%\\n- Moderately negative',\n",
       " 'FINAL-Q3-19-Shareholder-Letter': 'The overall polarity and subjectivity scores for the text are as follows:\\n\\nPolarity: Slightly positive\\nSubjectivity: Objective',\n",
       " 'FINAL-Q3-20-Shareholder-Letter': \"The overall polarity and subjectivity scores for the given text are as follows:\\n\\nPolarity: Slightly positive\\nSubjectivity: Objective\\n\\nThe text primarily provides factual information about Netflix's financial performance, operational updates, and future forecasts. It does not contain\",\n",
       " 'FINAL-Q3-21-Shareholder-Letter': 'The overall polarity score for the text is slightly positive. The subjectivity score is moderately subjective.',\n",
       " 'FINAL-Q3-22-Shareholder-Letter': 'The overall polarity and subjectivity scores for the given text are as follows:\\n\\nPolarity score: Moderately positive\\nSubjectivity score: Objective',\n",
       " 'FINAL-Q4-18-Shareholder-Letter': 'The overall polarity and subjectivity scores for the given text are as follows:\\n\\nPolarity: Slightly positive\\nSubjectivity: Moderately subjective',\n",
       " 'FINAL-Q4-19-Shareholder-Letter': 'The overall polarity and subjectivity scores for the given text are as follows:\\n\\nPolarity: Slightly positive\\nSubjectivity: Objective',\n",
       " 'FINAL-Q4-21-Shareholder-Letter': \"The overall polarity and subjectivity scores for the given text are as follows:\\n\\nPolarity: Slightly positive\\nSubjectivity: Objective\\n\\nThe text primarily consists of factual information about Netflix's achievements, financial results, content releases, and future plans. It\",\n",
       " 'FINAL-Q4-22-Shareholder-Letter': 'The overall polarity score for the text is slightly positive. The statement highlights positive aspects such as exceeding revenue and profit forecasts, successful content slate, successful launch of a new ad-supported plan, and the clear path to reaccelerate revenue growth. However,',\n",
       " 'FINAL-Q420-Shareholder-Letter': 'The overall polarity and subjectivity scores for the given text are as follows:\\n\\nPolarity: Slightly negative\\nSubjectivity: Moderately subjective',\n",
       " 'FINAL_Q2_15_Letter_to_Shareholders_With_Tables_': 'The overall polarity score for the text is slightly positive. The subjectivity score is neutral.',\n",
       " 'FINAL_Q3_15_Letter_to_Shareholders_With_Tables_': 'The overall polarity score for the text is slightly positive. The subjectivity score for the text is moderately subjective.',\n",
       " 'FINAL_Q3_Letter': 'The overall polarity and subjectivity scores for the given text are as follows:\\n\\nPolarity score: Moderately positive\\nSubjectivity score: Slightly subjective',\n",
       " 'Investor-Letter-Q1-2012': 'The overall polarity score for the text is slightly positive. The subjectivity score is moderate.',\n",
       " 'Investor-Letter-Q2-2012-07': 'The overall polarity score for the text is slightly positive. The subjectivity score is moderate.',\n",
       " 'Investor-Letter-Q3-2011': 'The overall polarity and subjectivity scores for the given text are as follows:\\n\\nPolarity: Slightly negative\\nSubjectivity: Moderately subjective\\n\\nThe text contains both positive and negative statements. The positive statements include the opportunities for growth in the streaming video',\n",
       " 'Investor-Letter-Q3-2012-10': 'The overall polarity score for the text is slightly positive. The subjectivity score is neutral.',\n",
       " 'Investor-Letter-Q4-2011': 'The overall polarity score for the text is slightly positive. The subjectivity score is neutral.',\n",
       " 'Investor-Letter-Q42012-01': 'The overall polarity and subjectivity scores for the given text are as follows:\\n\\nPolarity: Moderately positive\\nSubjectivity: Objective',\n",
       " 'Investor_Letter_Q12013': 'The overall polarity and subjectivity scores for the text are as follows:\\n\\nPolarity:\\n- Very negative: 0\\n- Moderately negative: 0\\n- Slightly negative: 0\\n- Neutral: 0\\n- Slightly positive',\n",
       " 'July-Investor-Letter-1130am': 'The overall polarity score for the text is slightly positive. The subjectivity score is moderately subjective.',\n",
       " 'July2014EarningsLetter_7': 'The overall polarity score for the text is slightly positive. The subjectivity score for the text is moderately subjective.',\n",
       " 'Q1-11-Letter-to-shareholders': 'The overall polarity score for the text is slightly positive. The subjectivity score is neutral.',\n",
       " 'Q114-Earnings-Letter-4': 'The overall polarity and subjectivity scores for the given text are as follows:\\n\\nPolarity:\\n- Very negative: 0\\n- Moderately negative: 0\\n- Slightly negative: 0\\n- Neutral: 0\\n- Slightly',\n",
       " 'Q116LettertoShareholders_W_TABLES_': 'The overall polarity of the text is positive, as it discusses the positive performance and growth of Netflix in Q1 2016. The subjectivity score is high, as the text contains a lot of subjective statements and opinions.\\n\\nThe sentiment scores for the',\n",
       " 'Q117ShareholderLetterV2FINAL': 'The overall polarity score for the text is slightly positive. The subjectivity score for the text is moderately subjective.',\n",
       " 'Q1_15_Earnings_Letter_final_tables': 'The overall polarity and subjectivity scores for the text are as follows:\\n\\nPolarity:\\n- Very negative: 0\\n- Moderately negative: 0\\n- Slightly negative: 0\\n- Neutral: 0\\n- Slightly positive',\n",
       " 'Q2-19-Shareholder-Letter-FINAL': \"The overall polarity and subjectivity scores for the given text are as follows:\\n\\nPolarity: Moderately positive\\nSubjectivity: Objective\\n\\nThe text primarily provides factual information about Netflix's revenue growth, operating income, paid membership, content slate, marketing efforts\",\n",
       " 'Q213-Investor-Letter': 'The overall polarity and subjectivity scores for the given text are as follows:\\n\\nPolarity Score: Moderately Positive\\nSubjectivity Score: Objective',\n",
       " 'Q216LettertoShareholders_FINAL_w_Tables': 'The overall polarity score for the text is slightly negative. The subjectivity score for the text is moderately positive.',\n",
       " 'Q2_17_Shareholder_Letter': 'The overall polarity and subjectivity scores for the given text are as follows:\\n\\nPolarity score: Moderately positive\\nSubjectivity score: Neutral',\n",
       " 'Q313-Earnings-Letter-10': 'The overall polarity and subjectivity scores for the given text are as follows:\\n\\nPolarity: Moderately positive\\nSubjectivity: Objective',\n",
       " 'Q3_14_Letter_to_shareholders': 'The overall polarity and subjectivity scores for the text are as follows:\\n\\nPolarity: Slightly positive\\nSubjectivity: Objective',\n",
       " 'Q3_17_Shareholder_Letter_COMBINED': 'The overall polarity score for the text is slightly positive. The subjectivity score for the text is neutral.',\n",
       " 'Q4-13-Letter-to-shareholders': 'The overall polarity and subjectivity scores for the text are as follows:\\n\\nPolarity:\\n- Very negative: 0\\n- Moderately negative: 0\\n- Slightly negative: 0\\n- Neutral: 0\\n- Slightly positive',\n",
       " 'Q416ShareholderLetter': 'The overall polarity score for the text is slightly positive. The subjectivity score for the text is moderately subjective.',\n",
       " 'Q4_14_Letter_to_shareholders': 'The overall polarity score for the text is slightly positive. The subjectivity score for the text is moderately subjective.',\n",
       " 'Q4_15_Letter_to_Shareholders_-_COMBINED': 'The overall polarity score for the text is slightly positive. The subjectivity score is moderate.'}"
      ]
     },
     "execution_count": 15,
     "metadata": {},
     "output_type": "execute_result"
    }
   ],
   "source": [
    "openai_responses"
   ]
  },
  {
   "cell_type": "code",
   "execution_count": null,
   "metadata": {},
   "outputs": [],
   "source": []
  },
  {
   "cell_type": "code",
   "execution_count": 16,
   "metadata": {},
   "outputs": [],
   "source": [
    "# Save openai responses to pickle file\n",
    "with open(\"Src/openai_responses_test.pkl\", \"wb\") as f:\n",
    "    pickle.dump(openai_responses, f)"
   ]
  },
  {
   "cell_type": "code",
   "execution_count": 17,
   "metadata": {},
   "outputs": [],
   "source": [
    "# Load openai responses from the pickle file\n",
    "openai_responses = pickle.load(open(\"Src/openai_responses_test.pkl\", \"rb\"))"
   ]
  },
  {
   "cell_type": "code",
   "execution_count": 17,
   "metadata": {},
   "outputs": [],
   "source": [
    "openai_responses_test = pd.DataFrame(list(openai_responses.items()), columns=['pdf_name', 'response'])"
   ]
  },
  {
   "cell_type": "code",
   "execution_count": 18,
   "metadata": {},
   "outputs": [],
   "source": [
    "# export OpenAI responses to excel\n",
    "openai_responses_test.to_excel('Src/openai_responses_test.xlsx')"
   ]
  },
  {
   "cell_type": "code",
   "execution_count": 72,
   "metadata": {},
   "outputs": [],
   "source": [
    "# clean the text of the responses\n",
    "for key in openai_responses:\n",
    "        openai_responses[key] = re.sub('\\n', ' ', openai_responses[key])\n",
    "        openai_responses[key] = re.sub(' +', ' ', openai_responses[key])"
   ]
  },
  {
   "cell_type": "code",
   "execution_count": 98,
   "metadata": {},
   "outputs": [],
   "source": [
    "# Extract polarity and subjectivity scores from OpenAI responses\n",
    "polarity_scores = {}\n",
    "subjectivity_scores = {}\n",
    "\n",
    "\n",
    "for document, text in openai_responses.items():\n",
    "\n",
    "    words = text.split(\" \")\n",
    "    for word in words:\n",
    "        if word.lower() == \"polarity\":\n",
    "            polarity_scores[document] = words[words.index(word):words.index(word) + 4]\n",
    "        elif word.lower() == \"subjectivity\":\n",
    "            subjectivity_scores[document] = words[words.index(word):words.index(word) + 4]"
   ]
  },
  {
   "cell_type": "code",
   "execution_count": 102,
   "metadata": {},
   "outputs": [],
   "source": [
    "# Extract digits from polarity_scores dictionary\n",
    "for document, words in polarity_scores.items():\n",
    "\n",
    "    for word in words:\n",
    "        # if word is number using regex\n",
    "        if re.search(\"^[0-9]\", word):\n",
    "            word = word.replace(\",\", \"\")\n",
    "            polarity_scores[document] = float(word)"
   ]
  },
  {
   "cell_type": "code",
   "execution_count": 104,
   "metadata": {},
   "outputs": [],
   "source": [
    "# Extract digits from subjectivity scores dictionary\n",
    "for document, words in subjectivity_scores.items():\n",
    "\n",
    "    for word in words:\n",
    "        # if word is number using regex\n",
    "        if re.search(\"^[0-9]\", word):\n",
    "            word = word.replace(\",\", \"\")\n",
    "            subjectivity_scores[document] = float(word)"
   ]
  },
  {
   "cell_type": "code",
   "execution_count": 107,
   "metadata": {},
   "outputs": [],
   "source": [
    "# filter out keys values of which are lists\n",
    "polarity_scores = {k: v for k, v in polarity_scores.items() if type(v) != list}\n",
    "subjectivity_scores = {k: v for k, v in subjectivity_scores.items() if type(v) != list}"
   ]
  },
  {
   "cell_type": "code",
   "execution_count": 124,
   "metadata": {},
   "outputs": [],
   "source": [
    "df = pd.DataFrame(list(pdf_texts.items()), columns=['pdf_name', 'text'])\n",
    "polarity_df = pd.DataFrame(list(polarity_scores.items()), columns=['pdf_name', 'polarity'])\n",
    "subjectivity_df = pd.DataFrame(list(subjectivity_scores.items()), columns=['pdf_name', 'subjectivity'])\n",
    "\n",
    "# join df and polarity_df on pdf_name column\n",
    "df = df.join(polarity_df.set_index(\"pdf_name\"), on=\"pdf_name\")\n",
    "df = df.join(subjectivity_df.set_index(\"pdf_name\"), on=\"pdf_name\")"
   ]
  },
  {
   "cell_type": "code",
   "execution_count": 127,
   "metadata": {},
   "outputs": [],
   "source": [
    "# export df\n",
    "df.to_excel('Score/OpenAI_scores.xlsx', index=False)"
   ]
  }
 ],
 "metadata": {
  "kernelspec": {
   "display_name": "Python 3",
   "language": "python",
   "name": "python3"
  },
  "language_info": {
   "codemirror_mode": {
    "name": "ipython",
    "version": 3
   },
   "file_extension": ".py",
   "mimetype": "text/x-python",
   "name": "python",
   "nbconvert_exporter": "python",
   "pygments_lexer": "ipython3",
   "version": "3.10.8"
  },
  "orig_nbformat": 4
 },
 "nbformat": 4,
 "nbformat_minor": 2
}
