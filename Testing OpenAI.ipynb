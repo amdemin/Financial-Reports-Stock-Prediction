{
 "cells": [
  {
   "cell_type": "code",
   "execution_count": 1,
   "metadata": {},
   "outputs": [],
   "source": [
    "# Import libraries\n",
    "import pandas as pd\n",
    "import numpy as np\n",
    "import matplotlib.pyplot as plt\n",
    "import seaborn as sns\n",
    "import requests\n",
    "import os\n",
    "import re\n",
    "import pickle\n",
    "from tqdm.notebook import tqdm\n",
    "from difflib import SequenceMatcher\n",
    "import openai\n",
    "\n",
    "# Load local modules\n",
    "from module_text_blocks import split_text_into_blocks, clean_text_blocks\n",
    "\n",
    "# load credentials for OpenAI API\n",
    "from credentials_openai import *\n",
    "openai.api_key = openai_api_key"
   ]
  },
  {
   "cell_type": "code",
   "execution_count": 22,
   "metadata": {},
   "outputs": [],
   "source": [
    "import tiktoken\n",
    "\n",
    "# define the number of tokens in the prompt\n",
    "def num_tokens_from_string(string: str, encoding_name: str) -> int:\n",
    "    \"\"\"Returns the number of tokens in a text string.\"\"\"\n",
    "    encoding = tiktoken.get_encoding(encoding_name)\n",
    "    num_tokens = len(encoding.encode(string))\n",
    "    return num_tokens"
   ]
  },
  {
   "cell_type": "code",
   "execution_count": 23,
   "metadata": {},
   "outputs": [],
   "source": [
    "def split_text_by_chars(text, num_chars):\n",
    "    \"\"\"Split the input text every num_chars characters.\"\"\"\n",
    "    return [text[i:i+num_chars] for i in range(0, len(text), num_chars)]"
   ]
  },
  {
   "cell_type": "code",
   "execution_count": 53,
   "metadata": {},
   "outputs": [],
   "source": [
    "def summarize_long_text_blocks(text_blocks):\n",
    "\n",
    "    for heading, text in text_blocks.items():\n",
    "        \n",
    "        text_length = len(text.split(' '))                           # number of words in the text block\n",
    "        tokens_number = num_tokens_from_string(text, \"cl100k_base\")  # number of tokens in the text block\n",
    "        chars_number = len(text)                                     # number of characters in the text block\n",
    "                        \n",
    "        summarization_blocks = [text]                                # list of text blocks to summarize\n",
    "        responses = []\n",
    "\n",
    "        # if the block contains over 750 words, summarize it\n",
    "        if text_length > 750:\n",
    "\n",
    "            # if the block is exceeding the token limit, split it into multiple blocks\n",
    "            if tokens_number > 3500:\n",
    "\n",
    "                text_split_threshold = int(chars_number / (tokens_number / 2500))\n",
    "                summarization_blocks = split_text_by_chars(text, text_split_threshold)\n",
    "                \n",
    "            for summarization_block in summarization_blocks:\n",
    "\n",
    "                completion = openai.ChatCompletion.create(\n",
    "                    model=\"gpt-3.5-turbo\",\n",
    "                    messages=[\n",
    "                    {\"role\": \"user\", \"content\": \"Please effectively summarize the following text: \" + summarization_block}\n",
    "                    ],\n",
    "                    temperature=0.3,\n",
    "                    max_tokens=500\n",
    "                )                \n",
    "                # top_p=1, frequency_penalty=0, presence_penalty=0, stop=[\"\\n\"]\n",
    "                # add the summarized text to the list of responses\n",
    "                responses.append(completion.choices[0].message.content)\n",
    "\n",
    "            # join the responses into a single text block\n",
    "            text_blocks[heading] = ' '.join(responses)\n",
    "    \n",
    "    return text_blocks"
   ]
  },
  {
   "cell_type": "code",
   "execution_count": 54,
   "metadata": {},
   "outputs": [],
   "source": [
    "def openai_sentiment_analysis(final_prompt):\n",
    "\n",
    "    # run the request for ChatGPT\n",
    "    fine_tune_messages = {\"role\": \"system\", \"content\":\n",
    "                    \"You are a helpful financial assistant who is expert in evaluating sentiment scores for financial statements \\\n",
    "                You give precise answers to questions \\\n",
    "                the quality of your answers is highly important, you never hallucinate answers - only \\\n",
    "                answering based on your knowledge. Where the answer requires creative thought you engage \\\n",
    "                in reflective internal dialogue to ascertain the best answer\"\n",
    "    }\n",
    "\n",
    "    # user_content = \"Calculate the total polarity and subjectivity scores on the strict range -1 to 1 (-1 means perfectly negative; 1 means perfectly positive): \"\n",
    "    user_content = \"The overall polarity and subjectivity scores on the strict range -1 to 1 (-1 means perfectly negative; 1 means perfectly positive) for the text: \"\n",
    "\n",
    "    completion = openai.ChatCompletion.create(\n",
    "    model=\"gpt-3.5-turbo\",\n",
    "    messages=[\n",
    "        fine_tune_messages,\n",
    "        {\"role\": \"user\", \"content\": user_content + final_prompt}\n",
    "    ],\n",
    "    temperature=0.0,\n",
    "    max_tokens=50\n",
    "    )\n",
    "\n",
    "    return completion.choices[0].message.content"
   ]
  },
  {
   "cell_type": "code",
   "execution_count": 55,
   "metadata": {},
   "outputs": [],
   "source": [
    "# Load pdf text and headings from the pickle file\n",
    "pdf_texts = pickle.load(open(\"pdf_texts.pkl\", \"rb\"))\n",
    "pdf_headings = pickle.load(open(\"pdf_headings.pkl\", \"rb\"))"
   ]
  },
  {
   "cell_type": "code",
   "execution_count": 57,
   "metadata": {},
   "outputs": [
    {
     "data": {
      "application/vnd.jupyter.widget-view+json": {
       "model_id": "6d1a3a97f4fd42b49e5cc13683d899b5",
       "version_major": 2,
       "version_minor": 0
      },
      "text/plain": [
       "  0%|          | 0/4 [00:00<?, ?it/s]"
      ]
     },
     "metadata": {},
     "output_type": "display_data"
    },
    {
     "name": "stdout",
     "output_type": "stream",
     "text": [
      "Original length of blocks for FINAL-Q3-22-Shareholder-Letter:\n",
      "240 302 612 1284 311 354 265 29 102 559  \n",
      "Updated length of blocks for FINAL-Q3-22-Shareholder-Letter:\n",
      "240 302 612 231 311 354 265 29 102 559  \n",
      "Original length of blocks for FINAL-Q4-22-Shareholder-Letter:\n",
      "260 319 457 440 712 964 368 304 152 205 29 565  \n",
      "Updated length of blocks for FINAL-Q4-22-Shareholder-Letter:\n",
      "260 319 457 440 712 158 368 304 152 205 29 565  \n",
      "Original length of blocks for Investor-Letter-Q4-2011:\n",
      "99 640 706 1181 217 175 194 190 139 200 34 93 110 171  \n",
      "Updated length of blocks for Investor-Letter-Q4-2011:\n",
      "99 640 706 222 217 175 194 190 139 200 34 93 110 171  \n",
      "Original length of blocks for July-Investor-Letter-1130am:\n",
      "70 328 6 488 306 709 100 241 144 11 123 121 80 324 442 1 311  \n",
      "Updated length of blocks for July-Investor-Letter-1130am:\n",
      "70 328 6 488 306 709 100 241 144 11 123 121 80 324 442 1 311  \n"
     ]
    }
   ],
   "source": [
    "# store openai responses in a dictionary\n",
    "openai_responses = {}\n",
    "# fine_tuned_responses = {}\n",
    "# pdf_lists = [\"FINAL-Q2-20-Shareholder-Letter-V3-with-Tables\"]\n",
    "# pdf_lists = [\"FINAL-Q1-19-Shareholder-Letter\",\n",
    "#             \"FINAL-Q420-Shareholder-Letter\",\n",
    "#             \"Q2-19-Shareholder-Letter-FINAL\"\n",
    "#             ]\n",
    "\n",
    "# pdf_lists = [\n",
    "#     \"FINAL-Q2-22-Shareholder-Letter\",\n",
    "#     \"FINAL-Q2-23-Shareholder-Letter\",\n",
    "#     \"FINAL-Q3-22-Shareholder-Letter\",\n",
    "#     \"FINAL-Q4-18-Shareholder-Letter\",\n",
    "#     \"FINAL-Q4-19-Shareholder-Letter\",\n",
    "#     \"FINAL-Q4-22-Shareholder-Letter\",\n",
    "#     \"Investor_Letter_Q12013\",\n",
    "#     \"Investor-Letter-Q1-2012\",\n",
    "#     \"Investor-Letter-Q2-2012-07\",\n",
    "#     \"Investor-Letter-Q4-2011\",\n",
    "#     \"Investor-Letter-Q42012-01\",\n",
    "#     \"July-Investor-Letter-1130am\",\n",
    "#     \"Q1-11-Letter-to-shareholders\",\n",
    "#     \"Q3_17_Shareholder_Letter_COMBINED\",\n",
    "# ]\n",
    "\n",
    "pdf_lists = [\"FINAL-Q3-22-Shareholder-Letter\", \"FINAL-Q4-22-Shareholder-Letter\",\n",
    "            \"Investor-Letter-Q4-2011\", \"July-Investor-Letter-1130am\"]\n",
    "\n",
    "for pdf_name in tqdm(pdf_lists):\n",
    "\n",
    "    try:\n",
    "        \n",
    "        if pdf_name in pdf_lists:\n",
    "\n",
    "            text = pdf_texts[pdf_name]\n",
    "            headings = pdf_headings[pdf_name]\n",
    "\n",
    "            # split the text into blocks based on the headings\n",
    "            text_blocks = split_text_into_blocks(text, headings)\n",
    "            \n",
    "            # clean the text blocks\n",
    "            text_blocks = clean_text_blocks(text_blocks)\n",
    "\n",
    "            if len(headings) > 0:\n",
    "                \n",
    "                # print the original length of the text blocks\n",
    "                print(\"Original length of blocks for \" + pdf_name + \":\")\n",
    "                for heading, text in text_blocks.items():\n",
    "                    print(len(text.split(\" \")), end=\" \")\n",
    "                print(\" \")\n",
    "\n",
    "                # summarize the text blocks\n",
    "                text_blocks = summarize_long_text_blocks(text_blocks)\n",
    "\n",
    "                # print the length of the text blocks after summarization\n",
    "                print(\"Updated length of blocks for \" + pdf_name + \":\")\n",
    "                for heading, text in text_blocks.items():\n",
    "                    print(len(text.split(\" \")), end=\" \")\n",
    "                print(\" \")\n",
    "\n",
    "                # Create a final prompt\n",
    "                final_prompt = ''\n",
    "                for heading, text in text_blocks.items():\n",
    "                    if num_tokens_from_string(final_prompt + text, \"cl100k_base\") >= 3750:\n",
    "                        break\n",
    "                    final_prompt += heading + ': ' + text + \" \"\n",
    "                    \n",
    "            else:\n",
    "                \n",
    "                tokens_number = num_tokens_from_string(text, \"cl100k_base\")  # number of tokens in the text block\n",
    "                chars_number = len(text)                                     # number of characters in the text block\n",
    "                \n",
    "                # if the block is exceeding the token limit, cut it\n",
    "                if tokens_number > 3500:\n",
    "\n",
    "                    text_split_threshold = int(chars_number / (tokens_number / 2500))\n",
    "                    text = text[:text_split_threshold]\n",
    "\n",
    "                final_prompt = text\n",
    "                \n",
    "\n",
    "            # Perform openAI sentiment analysis\n",
    "            response = openai_sentiment_analysis(final_prompt)\n",
    "            openai_responses[pdf_name] = response\n",
    "\n",
    "            # response = openai_sentiment_analysis_finetune(final_prompt, response)\n",
    "            # fine_tuned_responses[pdf_name] = response\n",
    "\n",
    "            # break\n",
    "\n",
    "    except Exception as e:\n",
    "\n",
    "        print(f\"Exception occurred in file {pdf_name}\")\n",
    "        print(f\"Exception message: {str(e)}\")\n",
    "\n",
    "        continue\n",
    "\n",
    "        # break"
   ]
  },
  {
   "cell_type": "code",
   "execution_count": 58,
   "metadata": {},
   "outputs": [
    {
     "data": {
      "text/plain": [
       "{'FINAL-Q3-22-Shareholder-Letter': 'The overall polarity score for the given text is 0.25, which indicates a slightly positive sentiment. The subjectivity score is 0.35, suggesting that the text contains a moderate amount of subjective information.\\n\\nThe text highlights positive aspects such as',\n",
       " 'FINAL-Q4-22-Shareholder-Letter': 'The overall polarity score for the given text is 0.25, which indicates a slightly positive sentiment. The subjectivity score is 0.42, suggesting that the text contains a moderate amount of subjective information.\\n\\nThe text primarily discusses the financial performance',\n",
       " 'Investor-Letter-Q4-2011': 'The overall polarity score for the text is 0.14, which indicates a slightly positive sentiment. The subjectivity score is 0.34, suggesting that the text is moderately subjective.',\n",
       " 'July-Investor-Letter-1130am': 'The overall polarity score for the text is 0.25, which indicates a slightly positive sentiment. The subjectivity score is 0.42, indicating that the text is moderately subjective.'}"
      ]
     },
     "execution_count": 58,
     "metadata": {},
     "output_type": "execute_result"
    }
   ],
   "source": [
    "openai_responses"
   ]
  },
  {
   "cell_type": "code",
   "execution_count": null,
   "metadata": {},
   "outputs": [],
   "source": []
  }
 ],
 "metadata": {
  "kernelspec": {
   "display_name": "Python 3",
   "language": "python",
   "name": "python3"
  },
  "language_info": {
   "codemirror_mode": {
    "name": "ipython",
    "version": 3
   },
   "file_extension": ".py",
   "mimetype": "text/x-python",
   "name": "python",
   "nbconvert_exporter": "python",
   "pygments_lexer": "ipython3",
   "version": "3.10.8"
  },
  "orig_nbformat": 4
 },
 "nbformat": 4,
 "nbformat_minor": 2
}
