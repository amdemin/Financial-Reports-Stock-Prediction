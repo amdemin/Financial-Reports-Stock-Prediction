{
 "cells": [
  {
   "cell_type": "code",
   "execution_count": 1,
   "metadata": {},
   "outputs": [],
   "source": [
    "# Import libraries\n",
    "import pandas as pd\n",
    "import numpy as np\n",
    "import matplotlib.pyplot as plt\n",
    "import seaborn as sns\n",
    "import requests\n",
    "import os\n",
    "import re\n",
    "import pickle\n",
    "from tqdm.notebook import tqdm\n",
    "from textblob import TextBlob\n",
    "\n",
    "# Load local modules\n",
    "from module_text_blocks import split_text_into_blocks, clean_text_blocks"
   ]
  },
  {
   "cell_type": "code",
   "execution_count": 3,
   "metadata": {},
   "outputs": [],
   "source": [
    "# Load pdf text and headings from the pickle file\n",
    "pdf_texts = pickle.load(open(\"pdf_texts.pkl\", \"rb\"))\n",
    "pdf_headings = pickle.load(open(\"pdf_headings.pkl\", \"rb\"))"
   ]
  },
  {
   "cell_type": "code",
   "execution_count": 4,
   "metadata": {},
   "outputs": [
    {
     "data": {
      "application/vnd.jupyter.widget-view+json": {
       "model_id": "ca9627625e904e239273267aa4233974",
       "version_major": 2,
       "version_minor": 0
      },
      "text/plain": [
       "  0%|          | 0/50 [00:00<?, ?it/s]"
      ]
     },
     "metadata": {},
     "output_type": "display_data"
    }
   ],
   "source": [
    "polarity_scores = {}\n",
    "subjectivity_scores = {}\n",
    "\n",
    "for pdf_name in tqdm(pdf_texts):\n",
    "\n",
    "    try:\n",
    "\n",
    "        if pdf_name == \"FINAL-Q2-23-Shareholder-Letter\" or pdf_name == \"Final-Q1-23-Shareholder-Letter\":\n",
    "            continue\n",
    "\n",
    "        else:\n",
    "\n",
    "            text = pdf_texts[pdf_name]\n",
    "            headings = pdf_headings[pdf_name]\n",
    "\n",
    "            # split the text into blocks based on the headings\n",
    "            text_blocks = split_text_into_blocks(text, headings)\n",
    "            # clean the text blocks\n",
    "            text_blocks = clean_text_blocks(text_blocks)\n",
    "\n",
    "            final_prompt = ''\n",
    "            for heading, text in text_blocks.items():\n",
    "                final_prompt += heading + ': ' + text + \" \"\n",
    "\n",
    "            polarity_score = TextBlob(final_prompt).sentiment.polarity\n",
    "            subjectivity_score = TextBlob(final_prompt).sentiment.subjectivity\n",
    "\n",
    "            polarity_scores[pdf_name] = polarity_score\n",
    "            subjectivity_scores[pdf_name] = subjectivity_score\n",
    "\n",
    "    except Exception as e:\n",
    "        print(f\"Exception occurred in file {pdf_name}\")\n",
    "        print(f\"Exception message: {str(e)}\")"
   ]
  },
  {
   "cell_type": "code",
   "execution_count": 5,
   "metadata": {},
   "outputs": [],
   "source": [
    "polarity_textblob = pd.DataFrame(list(polarity_scores.items()), columns=['pdf_name', 'polarity'])\n",
    "subjectivity_textblob = pd.DataFrame(list(subjectivity_scores.items()), columns=['pdf_name', 'subjectivity'])"
   ]
  },
  {
   "cell_type": "code",
   "execution_count": 6,
   "metadata": {},
   "outputs": [
    {
     "data": {
      "text/html": [
       "<div>\n",
       "<style scoped>\n",
       "    .dataframe tbody tr th:only-of-type {\n",
       "        vertical-align: middle;\n",
       "    }\n",
       "\n",
       "    .dataframe tbody tr th {\n",
       "        vertical-align: top;\n",
       "    }\n",
       "\n",
       "    .dataframe thead th {\n",
       "        text-align: right;\n",
       "    }\n",
       "</style>\n",
       "<table border=\"1\" class=\"dataframe\">\n",
       "  <thead>\n",
       "    <tr style=\"text-align: right;\">\n",
       "      <th></th>\n",
       "      <th>pdf_name</th>\n",
       "      <th>polarity</th>\n",
       "    </tr>\n",
       "  </thead>\n",
       "  <tbody>\n",
       "    <tr>\n",
       "      <th>0</th>\n",
       "      <td>COMBINED-Q4-17-Shareholder-Letter-FINAL</td>\n",
       "      <td>0.142613</td>\n",
       "    </tr>\n",
       "    <tr>\n",
       "      <th>1</th>\n",
       "      <td>FINAL-Q1-18-Shareholder-Letter</td>\n",
       "      <td>0.160147</td>\n",
       "    </tr>\n",
       "    <tr>\n",
       "      <th>2</th>\n",
       "      <td>FINAL-Q1-19-Shareholder-Letter</td>\n",
       "      <td>0.183131</td>\n",
       "    </tr>\n",
       "    <tr>\n",
       "      <th>3</th>\n",
       "      <td>FINAL-Q1-20-Shareholder-Letter</td>\n",
       "      <td>0.122139</td>\n",
       "    </tr>\n",
       "    <tr>\n",
       "      <th>4</th>\n",
       "      <td>FINAL-Q1-21-Shareholder-Letter</td>\n",
       "      <td>0.146732</td>\n",
       "    </tr>\n",
       "  </tbody>\n",
       "</table>\n",
       "</div>"
      ],
      "text/plain": [
       "                                  pdf_name  polarity\n",
       "0  COMBINED-Q4-17-Shareholder-Letter-FINAL  0.142613\n",
       "1           FINAL-Q1-18-Shareholder-Letter  0.160147\n",
       "2           FINAL-Q1-19-Shareholder-Letter  0.183131\n",
       "3           FINAL-Q1-20-Shareholder-Letter  0.122139\n",
       "4           FINAL-Q1-21-Shareholder-Letter  0.146732"
      ]
     },
     "execution_count": 6,
     "metadata": {},
     "output_type": "execute_result"
    }
   ],
   "source": [
    "polarity_textblob.head()"
   ]
  },
  {
   "cell_type": "code",
   "execution_count": 7,
   "metadata": {},
   "outputs": [
    {
     "data": {
      "text/html": [
       "<div>\n",
       "<style scoped>\n",
       "    .dataframe tbody tr th:only-of-type {\n",
       "        vertical-align: middle;\n",
       "    }\n",
       "\n",
       "    .dataframe tbody tr th {\n",
       "        vertical-align: top;\n",
       "    }\n",
       "\n",
       "    .dataframe thead th {\n",
       "        text-align: right;\n",
       "    }\n",
       "</style>\n",
       "<table border=\"1\" class=\"dataframe\">\n",
       "  <thead>\n",
       "    <tr style=\"text-align: right;\">\n",
       "      <th></th>\n",
       "      <th>pdf_name</th>\n",
       "      <th>subjectivity</th>\n",
       "    </tr>\n",
       "  </thead>\n",
       "  <tbody>\n",
       "    <tr>\n",
       "      <th>0</th>\n",
       "      <td>COMBINED-Q4-17-Shareholder-Letter-FINAL</td>\n",
       "      <td>0.399306</td>\n",
       "    </tr>\n",
       "    <tr>\n",
       "      <th>1</th>\n",
       "      <td>FINAL-Q1-18-Shareholder-Letter</td>\n",
       "      <td>0.383214</td>\n",
       "    </tr>\n",
       "    <tr>\n",
       "      <th>2</th>\n",
       "      <td>FINAL-Q1-19-Shareholder-Letter</td>\n",
       "      <td>0.425397</td>\n",
       "    </tr>\n",
       "    <tr>\n",
       "      <th>3</th>\n",
       "      <td>FINAL-Q1-20-Shareholder-Letter</td>\n",
       "      <td>0.367240</td>\n",
       "    </tr>\n",
       "    <tr>\n",
       "      <th>4</th>\n",
       "      <td>FINAL-Q1-21-Shareholder-Letter</td>\n",
       "      <td>0.394787</td>\n",
       "    </tr>\n",
       "  </tbody>\n",
       "</table>\n",
       "</div>"
      ],
      "text/plain": [
       "                                  pdf_name  subjectivity\n",
       "0  COMBINED-Q4-17-Shareholder-Letter-FINAL      0.399306\n",
       "1           FINAL-Q1-18-Shareholder-Letter      0.383214\n",
       "2           FINAL-Q1-19-Shareholder-Letter      0.425397\n",
       "3           FINAL-Q1-20-Shareholder-Letter      0.367240\n",
       "4           FINAL-Q1-21-Shareholder-Letter      0.394787"
      ]
     },
     "execution_count": 7,
     "metadata": {},
     "output_type": "execute_result"
    }
   ],
   "source": [
    "subjectivity_textblob.head()"
   ]
  },
  {
   "cell_type": "code",
   "execution_count": 8,
   "metadata": {},
   "outputs": [],
   "source": [
    "# export polarity and subjectivity scores\n",
    "polarity_textblob.to_csv('Scores/polarity_textblob.csv')\n",
    "subjectivity_textblob.to_csv('Scores/subjectivity_textblob.csv')"
   ]
  }
 ],
 "metadata": {
  "kernelspec": {
   "display_name": "Python 3",
   "language": "python",
   "name": "python3"
  },
  "language_info": {
   "codemirror_mode": {
    "name": "ipython",
    "version": 3
   },
   "file_extension": ".py",
   "mimetype": "text/x-python",
   "name": "python",
   "nbconvert_exporter": "python",
   "pygments_lexer": "ipython3",
   "version": "3.10.8"
  },
  "orig_nbformat": 4
 },
 "nbformat": 4,
 "nbformat_minor": 2
}
