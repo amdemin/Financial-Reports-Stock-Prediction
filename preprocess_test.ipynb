{
 "cells": [
  {
   "cell_type": "code",
   "execution_count": 1,
   "metadata": {},
   "outputs": [],
   "source": [
    "import pdfplumber\n",
    "import os\n",
    "import re\n",
    "import sys\n",
    "import traceback\n",
    "import pickle\n",
    "from tqdm import tqdm\n",
    "import fitz"
   ]
  },
  {
   "cell_type": "code",
   "execution_count": 3,
   "metadata": {},
   "outputs": [],
   "source": [
    "file_path = \"ShareholderLetters/FINAL-Q2-23-Shareholder-Letter.pdf\""
   ]
  },
  {
   "cell_type": "code",
   "execution_count": 5,
   "metadata": {},
   "outputs": [],
   "source": [
    "document = fitz.open(file_path)"
   ]
  },
  {
   "cell_type": "code",
   "execution_count": 73,
   "metadata": {},
   "outputs": [],
   "source": [
    "# Define headings in the document using word size function\n",
    "def word_ratio_func(word):\n",
    "    try:\n",
    "        # calculate word size parameters\n",
    "        word_length = len(word[4])\n",
    "        word_bottom = float(word[1])\n",
    "        word_top = float(word[3])\n",
    "        return abs(word_bottom - word_top), word_length, word[4]\n",
    "        \n",
    "    except:\n",
    "        # in case of error, return zeros\n",
    "        return 0, 0, 0"
   ]
  },
  {
   "cell_type": "code",
   "execution_count": 83,
   "metadata": {},
   "outputs": [],
   "source": [
    "# Preprocess the text\n",
    "def preprocess_text(texts):\n",
    "\n",
    "    # join the text and perform cleansing operations\n",
    "    text = \"\".join(texts.values()).strip(\"●\").strip(\"*\")\n",
    "    text = text.split(\"\\n\")\n",
    "    text = [x for x in text if x != '' and x.startswith(\"Source\") == False]\n",
    "    text = [x[0].replace(\"●\", \"\") + x[1:] if x[0] == \"●\" else x for x in text]\n",
    "    text = [x[0].replace(\"1\", \"\") + x[1:] if x[1:3] in [\"Q1\", \"Q2\", \"Q3\", \"Q4\"] else x for x in text]\n",
    "    text = text[2:]\n",
    "\n",
    "    return text"
   ]
  },
  {
   "cell_type": "code",
   "execution_count": 84,
   "metadata": {},
   "outputs": [],
   "source": [
    "# open the pdf file using pdfplumber library\n",
    "reader = fitz.open(file_path)\n",
    "\n",
    "# store the text and headings within one pdf file\n",
    "texts = {}\n",
    "headings = []\n",
    "headings_count = 0\n",
    "\n",
    "for page_number in range(len(reader)):\n",
    "\n",
    "    # get the specific page from the pdf file\n",
    "    page = reader.load_page(page_number)\n",
    "    # get text from page\n",
    "    text = page.get_text()\n",
    "    # add text to dictionary\n",
    "    texts[page_number] = text\n",
    "\n",
    "    # get headings from page\n",
    "    words = page.get_text(\"words\")\n",
    "    word_count = 0\n",
    "    while word_count < len(words):\n",
    "        # find if the words are large enough to be headings\n",
    "        word_size, word_length, word_text = word_ratio_func(words[word_count])\n",
    "        heading = []\n",
    "\n",
    "        if word_size > 18 and word_length > 1:\n",
    "            while True:\n",
    "                heading.append(word_text)\n",
    "                word_count += 1\n",
    "                if word_count >= len(words):\n",
    "                    break\n",
    "                word_size, word_length, word_text = word_ratio_func(words[word_count])\n",
    "                if not word_size > 18 and word_length > 1:\n",
    "                    headings.append(\" \".join(heading))\n",
    "                    word_count += 10\n",
    "                    break\n",
    "        headings_count += 1\n",
    "        word_count += 1\n",
    "    \n",
    "    # break if the page covers the reference section\n",
    "    if re.search(\"\\nReference\\n\", text):\n",
    "        break\n",
    "        \n",
    "    \n",
    "# preprocess the text\n",
    "text = preprocess_text(texts)\n",
    "final_text = \" \".join(text).strip()"
   ]
  },
  {
   "cell_type": "code",
   "execution_count": 145,
   "metadata": {},
   "outputs": [],
   "source": [
    "import pickle\n",
    "\n",
    "# load the dictionary with the pdf paths\n",
    "with open(\"pdf_texts.pkl\", \"rb\") as f:\n",
    "    pdf_texts = pickle.load(f)\n",
    "\n",
    "# load the dictionary with the pdf texts\n",
    "with open(\"pdf_headings.pkl\", \"rb\") as f:\n",
    "    pdf_headings = pickle.load(f)"
   ]
  },
  {
   "cell_type": "code",
   "execution_count": null,
   "metadata": {},
   "outputs": [],
   "source": [
    "pdf_texts"
   ]
  },
  {
   "cell_type": "code",
   "execution_count": 112,
   "metadata": {},
   "outputs": [],
   "source": [
    "for index, value in pdf_headings.items():\n",
    "    value_2 = value\n",
    "    break"
   ]
  },
  {
   "cell_type": "code",
   "execution_count": 138,
   "metadata": {},
   "outputs": [
    {
     "data": {
      "text/plain": [
       "['Q4 Results',\n",
       " 'Forecast',\n",
       " 'Content',\n",
       " 'Product and Partnerships',\n",
       " 'Competition',\n",
       " 'Free Cash Flow and Capital Structure',\n",
       " 'Board of Directors',\n",
       " 'Summary',\n",
       " '22, 2018 Earnings Interview, 3pm PST']"
      ]
     },
     "execution_count": 138,
     "metadata": {},
     "output_type": "execute_result"
    }
   ],
   "source": [
    "# remove item that contain \"\\u\" from the list\n",
    "# [x for x in value_2 if not re.search(\"200b\", x)]\n",
    "a = [x.replace(\"\\u200b\", \"remove\") for x in value_2]\n",
    "[x for x in a if not re.search(\"remove\", x)]"
   ]
  },
  {
   "cell_type": "code",
   "execution_count": 25,
   "metadata": {},
   "outputs": [
    {
     "data": {
      "text/plain": [
       "{0: \"July 19, 2023\\nSummary:\\n●\\nIn May, we successfully launched paid sharing in 100+ countries, representing more than 80% of\\nour revenue base.\\n○\\nRevenue in each region is now higher than pre-launch, with sign-ups already exceeding\\ncancellations.\\n○\\nPaid net additions were 5.9M in Q2, and today we’re rolling out paid sharing to almost\\nall of the remaining countries.\\n●\\nQ2‘23 revenue of $8.2B and operating profit of $1.8B were generally in-line with our\\nforecast—and we expect revenue growth to accelerate in the second half of ‘23 as we start to\\nsee the full benefits of paid sharing plus continued steady growth in our ad-supported plan.\\nWe’re still targeting a full year 2023 operating margin of 18% to 20%.\\n●\\nWe’re a leader in terms of streaming engagement and, per Nielsen, we had the top original\\nstreaming series in the US for 24 of the first 25 weeks of 2023, and the top movie for 21 weeks.\\nWhile we’ve made steady progress this year, we have more work to do to reaccelerate our growth. We\\nremain focused on: creating a steady drumbeat of must watch shows and movies; improving\\nmonetization; growing the enjoyment of our games; and investing to improve our service for members.\\n(in millions except per share data)\\nQ2'22\\nQ3'22\\nQ4'22\\nQ1'23\\nQ2'23\\nQ3'23\\nForecast\\nRevenue\\n$7,970\\n$7,926\\n$7,852\\n$8,162\\n$8,187\\n$8,520\\nY/Y % Growth\\n8.6%\\n5.9%\\n1.9%\\n3.7%\\n2.7%\\n7.5%\\nOperating Income\\n$1,578\\n$1,533\\n$550\\n$1,714\\n$1,827\\n$1,890\\nOperating Margin\\n19.8%\\n19.3%\\n7.0%\\n21.0%\\n22.3%\\n22.2%\\nNet Income\\n$1,441\\n$1,398\\n$55\\n$1,305\\n$1,488\\n$1,580\\nDiluted EPS\\n$3.20\\n$3.10\\n$0.12\\n$2.88\\n$3.29\\n$3.52\\nGlobal Streaming Paid Memberships\\n220.67\\n223.09\\n230.75\\n232.50\\n238.39\\nY/Y % Growth\\n5.5%\\n4.5%\\n4.0%\\n4.9%\\n8.0%\\nGlobal Streaming Paid Net Additions\\n-0.97\\n2.41\\n7.66\\n1.75\\n5.89\\nNet cash provided by operating activities\\n$103\\n$557\\n$444\\n$2,179\\n$1,440\\nFree Cash Flow\\n$13\\n$472\\n$332\\n$2,117\\n$1,339\\nShares (FD)\\n450.2\\n450.3\\n451.6\\n452.4\\n451.6\\n1\\n\",\n",
       " 1: 'Q2 Results\\nRevenue in Q2 grew 3% year over year (+6% on a foreign exchange (F/X) neutral basis ). Revenue growth\\n1\\nwas driven by a 6% increase in average paid membership, while ARM declined 3% year over year (-1%\\n2\\nF/X neutral). The year-over-year ARM decline was driven by a combination of limited price increases over\\nthe past 12 months (leading up to the launch of paid sharing), timing of paid net additions (primarily late\\nin the quarter due to the May 23 rollout of paid sharing in Q2), and a higher mix of membership growth\\nfrom lower ARM countries.\\nWe had paid net additions of 5.9M for Q2’23 (with over 1M paid net adds in each region) vs. -1.0M in\\nQ2’22 as we successfully rolled out paid sharing to more than 100 countries (representing over 80% of\\nour revenue). Q2 operating income totaled $1.8B, up 16% vs. $1.6B in the year ago quarter. Operating\\nmargin was 22%, compared with 20% in Q2’22. Both were slightly ahead of our beginning-of-quarter\\nforecast due to ongoing expense management, slower-than-projected headcount growth and timing of\\ncontent spend. EPS in Q2 amounted to $3.29 vs. $3.20 in Q2’22 and included a $29 million non-cash\\nunrealized loss from F/X remeasurement on our Euro denominated debt, which is recognized below\\noperating income in “interest and other income/expense.”\\nForecast\\nOur primary financial metrics are revenue for growth, and operating margin for profitability. Our goal is\\nto accelerate revenue growth, expand our operating margin and deliver growing positive free cash flow.\\nAs a reminder, the quarterly guidance we provide is our actual internal forecast at the time we report.\\nNow that we’ve launched paid sharing broadly, we have increased confidence in our financial outlook.\\nWe expect revenue growth will accelerate in the second half of 2023 as monetization grows from our\\nmost recent paid sharing launch and we expand our initiative across nearly all remaining countries plus\\nthe continued steady growth in our ad-supported plan (more details in the Monetization and Revenue\\nsection).\\nFor Q3, we forecast revenue of $8.5B, up 7% year over year on both a reported and F/X neutral basis, a\\nslight acceleration from our Q2’23 F/X neutral revenue growth rate of 6%. Our revenue growth in Q3 will\\ncome from growth in average paid memberships. We expect F/X neutral ARM to be flat to slightly down\\nyear over year, as we are lapping price increases in 2022 and we generally haven’t had price increases in\\nour largest revenue markets since the first half of last year (limited during paid sharing rollout). Revenue\\nfrom advertising and our extra member feature are not yet material enough to offset these factors. We\\n3\\nanticipate Q3’23 paid net adds will be similar to Q2’23 paid net additions. We expect that our revenue\\n3 As a reminder, extra member accounts are not included in our paid membership count but add revenue that is\\nincluded in ARM.\\n2 ARM (Average Revenue per Membership) is defined as streaming revenue divided by the average number of\\nstreaming paid memberships divided by the number of months in the period. These figures do not include sales\\ntaxes or VAT.\\n1 Excluding the year over year effect of foreign exchange rate movements. Assumes foreign exchange rates\\nremained constant with foreign exchange rates from each of the corresponding months of the prior-year period.\\n2\\n',\n",
       " 2: \"growth will accelerate more substantially in Q4’23 as we further monetize account sharing between\\nhouseholds and steadily grow our advertising revenue.\\nWe expect Q3 operating income of $1.9B vs. $1.5B in Q3’22 and operating margin of 22% compared with\\n19% in the year ago period. We’re still targeting a full year 2023 operating margin of 18%-20%, based on\\nF/X rates as of January 1, 2023, up from 17.8% in FY22.\\nEngagement\\nWe focus on engagement because it's the best proxy we have for satisfaction. It’s also closely linked to\\nretention, an important driver of our business. Key for Netflix members is the variety and quality of our\\ncontent, with the understanding that quality is in the eye of the beholder. We’re often asked “what is a\\nNetflix show?” The answer is one that super serves the audience, leaving them highly satisfied and\\nexcited for more. It’s the satirical dramedy Beef (starring Ali Wong and Steven Yeun) and the dating show\\nLove is Blind S4 (both of which were in the Netflix Top 10 throughout April), the romance of Queen\\nCharlotte: A Bridgerton Story and the action of The Night Agent (both of which were in our top 10\\nthroughout May)—stories that could not be more different and yet thrilled millions. The combination of\\ncontent variety and personalization means that each person easily finds titles they will love.\\nWe learned the importance of variety back in the DVD days, and it’s become even more important with\\nstreaming. Because if you aspire to serve hundreds of millions of people all around the world, you can’t\\nprogram for one set of tastes or sensibilities. You need to invest across genres, cultures and languages.\\nQ2 was a good example of the range to which we aspire. Members could choose dramas like The\\nDiplomat and Sanctuary (Japan), adrenaline-filled action with Arnold Schwarzenegger in FUBAR\\n(followed by Arnold, a documentary about his life) and Fake Profile (Colombia), satire with Black Mirror,\\nsports with the Tour de France: Unchained, romantic young adult comedy with XO Kitty (a TV spinoff\\nfrom the To All Boys I’ve Loved Before film trilogy) or rap competition with Rhythm & Flow France S2.\\nAll these titles not only hit Netflix’s Top 10 list in their own country but also across multiple countries and\\nour Global Top 10—showing that, with good subtitles and dubbing, plus easy discovery, great stories can\\ntruly come from anywhere and excite audiences everywhere. Even in the US, which has historically had\\nincredibly local viewing habits, we’ve seen non-English language titles gain increasing popularity. Shows\\nlike Physical 100 (Korea), The Glory (Korea), Alice in Borderland (Japan), Marked Heart (Colombia), The\\nSnow Girl (Spain) and Que Viva Mexico! (Mexico) and films such as Hunger (Thailand) and AKA (France)\\nhave all hit Nielsen’s weekly original streaming TV or film top 10 lists in the US for at least one week this\\nyear.\\nAs always, we strive for constant improvement and to increase the impact of our slate investments over\\ntime. Film is a good example of our steady progress, as our Q2 film slate demonstrated a consistent\\nstring of hits. We kicked off the quarter with Murder Mystery 2, featuring Adam Sandler and Jennifer\\nAniston (114.3M views in its first three months). This was followed by the thriller The Mother* (starring\\n4\\n4 Views are based on the first 91 days of release. For titles released less than 91 days (denoted with an asterisk),\\ndata is from launch date through July 16, 2023. We publish weekly our top titles based on engagement at Netflix\\nTop 10.\\n3\\n\",\n",
       " 3: 'Jennifer Lopez) in May, which spent six weeks atop our Top 10 weekly films list and has now become one\\nof our most popular films of all time with 131.6 million views. We closed the quarter with the Chris\\nHemsworth-led action blockbuster Extraction 2*, which garnered 116.7M views in only 31 days.\\nMurder Mystery 2 and Extraction 2 also sparked renewed interest in the original films, with both surging\\nback into the Global Top 10 in Q2, several years after they first premiered on Netflix, highlighting the\\ndurability of these titles and talent. We see similar fandom on the TV side too. Bridgerton S1 reappeared\\nin Netflix’s Top 10 in May when Queen Charlotte*—our latest story in the Bridgerton\\nfranchise—launched (79.6M views), Never Have I Ever S1 re-emerged in June when we premiered the\\nfourth and final season of this beloved coming of age story and The Witcher S1 and S2 returned to our\\nTop 10 in July as fans re-immerse themselves in the third season of this fantasy drama. This success\\ndemonstrates the progress we’ve made building lasting intellectual property (IP) from a standing start\\njust a decade ago. This year we’ll have more returning seasons than any other streamer with The Crown,\\nTop Boy, The Upshaws, Sweet Magnolias, Heartstopper, Virgin River, Too Hot To Handle and more still to\\ncome.\\nIn June, we evolved our Netflix Top 10, which provides weekly engagement data for our top shows and\\nmovies, across 93 countries. We continue to provide total hours viewed, but now rank titles by the\\nnumber of views (i.e. total hours viewed divided by the runtime ). We think this new approach is more\\n5\\nintuitive and it also adjusts for runtime (i.e. longer films or series don’t get an inherent advantage).\\nWe’ve also extended our Most Popular lists of all time from 28 days to 91 days so people can see how\\ngreat stories grow over time. We believe sharing this engagement data on a regular basis helps talent\\nand the broader industry understand what success looks like on Netflix—and we hope that other\\nstreamers become more transparent about engagement on their services over time. Below is a\\nconsolidated list of our global Top 10 all-time most popular TV shows and movies based on views.6\\nWe build on the success of our titles with marketing to fuel conversation, fandom and discovery (the\\nthrill of the find). In June, we hosted our third annual fan event Tudum in person for the first time. Over\\n10,000 fans attended live in Brazil and the show generated 78M views across our social platforms, an\\n6 As of July 16 2023.\\n5 We’ll publish all three data sets - views, total hours viewed and runtime - each week.\\n4\\n',\n",
       " 4: '86% year-over-year increase and up over 200% from 2021’s 25.7M. It’s inspiring to witness the passion\\nthat exists for our shows and films, something we believe truly sets Netflix apart.\\nMonetization and Revenue\\nIn addition to delivering an ever-improving slate and product experience, we’ve been working to improve\\nour monetization through initiatives like paid sharing and advertising. This will allow us to generate more\\nrevenue off a bigger base, which we can reinvest to make Netflix even better for our members.\\nAdvertising enables us to offer consumers a lower price point and, eight months post launch, we’re\\nworking hard to scale the business. Our key focus is improving the ads experience for both members and\\nadvertisers. In addition to now offering 95% content parity globally (by viewing), more streams plus\\nimproved video quality on our ads plan, we’re partnering with Nielsen and EDO to improve\\nmeasurement and innovating for advertisers. Brands can also now target media buys on our Top 10,\\nwhich is updated daily and enables them to connect with audiences during our biggest viewing\\nmoments. While we continue to grow our reach—ads plan membership has nearly doubled since Q1—\\nit’s still off a small membership base, so current ad revenue isn’t material for Netflix. Building an ads\\nbusiness from scratch isn’t easy and we have lots of hard work ahead, but we’re confident that over time\\nwe can develop advertising into a multi-billion dollar incremental revenue stream.\\nIncreased sophistication on pricing and plans strategy is important to improved monetization. In Q1, we\\nlowered prices in a number of less penetrated markets, and in Q2, we phased out our Basic ads-free plan\\nfor new and rejoining members in Canada (existing members on the Basic ads-free plan are unaffected).\\nWe’re now doing the same in the US and the UK. We believe our entry prices in these countries – $6.99\\nin the US, £4.99 in the UK and $5.99 in Canada – provide great value to consumers given the breadth and\\nquality of our catalog.\\nTackling account sharing between households has been another focus as it undermines our ability to\\ninvest to improve Netflix for our paying members and grow our business. In May, we expanded paid\\nsharing to 100+ countries, which account for over 80% of our revenue. The cancel reaction was low and\\nwhile we’re still in the early stages of monetization, we’re seeing healthy conversion of borrower\\nhouseholds into full paying Netflix memberships as well as the uptake of our extra member feature. We\\nare revenue and paid membership positive vs. prior to the launch of paid sharing across every region in\\nour latest launch.\\nBeginning today, we’ll start to address account sharing between households in almost all of our\\nremaining countries. In these markets, we’re not offering an extra member option given that we’ve\\nrecently cut prices in a good number of these countries (for example, Indonesia, Croatia, Kenya, and\\nIndia) and penetration is still relatively low in many of them so we have plenty of runway without\\ncreating additional complexity. Households borrowing Netflix will be able to transfer existing profiles to\\nnew and existing accounts.\\n5\\n',\n",
       " 5: 'Competition\\nConsumers have so many amazing entertainment choices — from movies and TV shows to sports and\\nnews to gaming and social media just to name a few. We expect that competition will remain intense,\\nincluding within streaming. Our biggest traditional entertainment competitors, Disney, Comcast/NBCU,\\nParamount Global and Warner Brothers Discovery — with their large content libraries and creative\\nexpertise — are now focused on profit so they can build sustainable, long term streaming businesses.\\nAnd our big tech competitors Apple, Amazon and YouTube — with their broad reach and deep pockets —\\ncontinue to invest heavily to grow their streaming revenues. Netflix’s revenue was $32B in 2022,\\ncompared to nearly $40B for YouTube across all its products (trailing 12-month basis as of Q1’23) and\\n7\\nAmazon’s $35B subscription revenue in 2022, of which we assume the majority relates to the Prime\\nbundle that includes shipping, video and other services. Combined with Apple’s video initiatives, there’s\\n8\\nquite a competitive battle happening.\\nNielsen’s The Gauge: Share of US TV Screen Time, Total Day, Persons 2+\\nBut while streaming is intensely competitive, we’ve shown that with strong execution and focus, it can\\nbe a great business. Long term success takes strength in both entertainment and technology, a\\ncombination that’s not been required of large media or tech companies in the past. It’s about one’s\\nability to work with the best creators; to produce and license movies, TV shows and ultimately games\\nacross multiple genres and languages globally; to create a stellar discovery engine; to build great\\npartnerships and payments systems; and to continually pierce the zeitgeist with consumer passion and\\nfandom. Improving across all these areas is key to ensuring that Netflix continues to lead the streaming\\n8 We don’t know how much of Amazon’s subscription revenue is related to Prime, Prime Video, or other digital and\\nnon-AWS subscriptions.\\n7 Including YouTube Ads, Premium, Music, and TV.\\n6\\n',\n",
       " 6: 'pack in terms of engagement, revenue and profit over the long term. We have much more to do and\\nwe’re ready for the challenge.\\nCash Flow and Capital Structure\\nNet cash generated by operating activities in Q2 was $1.4B vs. $0.1B in the prior year period. Free cash\\nflow in Q2’23 amounted to $1.3B compared with about breakeven in the year ago quarter. Assuming no\\n9\\nmaterial swings in F/X, we now anticipate at least $5B in FCF for 2023, up from our prior estimate of at\\nleast $3.5B. Our updated expectation reflects lower cash content spend in 2023 than we originally\\nanticipated due to timing of production starts and the ongoing WGA and SAG-AFTRA strikes. While this\\nmay create some lumpiness in FCF from 2023 to 2024, we plan to deliver substantial positive FCF in 2024\\n(with a cash content spend to content amortization ratio of roughly 1.1x).\\nWe finished Q2 with gross debt of $14.5B (in-line with our $10B-$15B targeted range) and cash and short\\nterm investments of $8.6B. During the quarter, we repurchased 1.8M shares for $645M. We now have\\n$3.4B of capacity remaining under our $5B share buyback authorization. We’re currently running a bit\\nabove our targeted minimum cash level , so we expect to increase our stock repurchase activity in the\\n10\\nsecond half of 2023, assuming no material change in our business.\\nEnvironmental, Social, and Governance (ESG)\\nWe aspire to entertain the world—and to do so sustainably and responsibly. In April, we published our\\n2022 Inclusion Report Update—sharing the progress we’ve made to increase representation within our\\ncompany. The latest USC Annenberg Inclusion Initiative study into diversity on and off camera in our US\\nfilm and series from 2020 to 2021 shows improvements for women and people from underrepresented\\ngroups. We also continue to support the next generation of talent through our Netflix Fund for Creative\\nEquity, which has invested $29 million in more than 100 programs across 35 countries in the last two\\nyears.\\nThese updates on inclusion, along with updates on additional ESG initiatives, can be found in our fourth\\nannual ESG report, which was published in June. We continue to make progress on meeting our climate\\ntargets through optimizing our energy use, then electrifying it and decarbonizing the rest to bring\\nremaining emissions to zero. The report also shares how we have evolved our governance structure.\\nReference\\nFor quick reference, our past investor letters can be found here.\\n10 We target maintaining minimum cash equivalent to roughly two months of revenue (i.e., about $5.5B based on\\nQ2 revenue of $8.2B).\\n9 Defined as cash provided by (used in) operating activities less purchases of property and equipment and change\\nin other assets.\\n7\\n',\n",
       " 7: \"Regional Breakdown\\n(in millions)\\nQ2'22\\nQ3'22\\nQ4'22\\nQ1'23\\nQ2'23\\nUCAN Streaming:\\nRevenue\\n$3,538\\n$3,602\\n$3,595\\n$3,609\\n$3,599\\nPaid Memberships\\n73.28\\n73.39\\n74.30\\n74.40\\n75.57\\nPaid Net Additions\\n(1.30)\\n0.10\\n0.91\\n0.10\\n1.17\\nAverage Revenue per Membership\\n$15.95\\n$16.37\\n$16.23\\n$16.18\\n$16.00\\nY/Y % Growth\\n10%\\n12%\\n10%\\n9%\\n0%\\nF/X Neutral Y/Y % Growth\\n10%\\n12%\\n10%\\n9%\\n1%\\nEMEA:\\nRevenue\\n$2,457\\n$2,376\\n$2,350\\n$2,518\\n$2,562\\nPaid Memberships\\n72.97\\n73.53\\n76.73\\n77.37\\n79.81\\nPaid Net Additions\\n(0.77)\\n0.57\\n3.20\\n0.64\\n2.43\\nAverage Revenue per Membership\\n$11.17\\n$10.81\\n$10.43\\n$10.89\\n$10.87\\nY/Y % Growth\\n-4%\\n-7%\\n-10%\\n-6%\\n-3%\\nF/X Neutral Y/Y % Growth\\n6%\\n7%\\n5%\\n1%\\n-1%\\nLATAM:\\nRevenue\\n$1,030\\n$1,024\\n$1,017\\n$1,070\\n$1,077\\nPaid Memberships\\n39.62\\n39.94\\n41.70\\n41.25\\n42.47\\nPaid Net Additions\\n0.01\\n0.31\\n1.76\\n(0.45)\\n1.22\\nAverage Revenue per Membership\\n$8.67\\n$8.58\\n$8.30\\n$8.60\\n$8.58\\nY/Y % Growth\\n16%\\n9%\\n2%\\n3%\\n-1%\\nF/X Neutral Y/Y % Growth\\n15%\\n16%\\n7%\\n8%\\n8%\\nAPAC:\\nRevenue\\n$908\\n$889\\n$857\\n$934\\n$919\\nPaid Memberships\\n34.80\\n36.23\\n38.02\\n39.48\\n40.55\\nPaid Net Additions\\n1.08\\n1.43\\n1.80\\n1.46\\n1.07\\nAverage Revenue per Membership\\n$8.83\\n$8.34\\n$7.69\\n$8.03\\n$7.66\\nY/Y % Growth\\n-9%\\n-13%\\n-17%\\n-13%\\n-13%\\nF/X Neutral Y/Y % Growth\\n-2%\\n-3%\\n-4%\\n-6%\\n-7%\\nF/X Neutral ARM growth excludes the year over year effect of foreign exchange rate movements. Assumes foreign exchange\\nrates remained constant with foreign exchange rates from each of the corresponding months of the prior-year period.\\n8\\n\",\n",
       " 8: \"F/X Neutral Operating Margin Disclosure\\nTo provide additional transparency around our operating margin, we disclose each quarter our\\nyear-to-date (YTD) operating margin based on F/X rates at the beginning of each year. This will allow\\ninvestors to see how our operating margin is tracking against our target (which was set in January of\\n2023 based on F/X rates at that time), absent intra-year fluctuations in F/X.\\n$'s in Millions\\nFull Year 2020\\nFull Year 2021\\nFull Year 2022\\nYTD 2023\\nAs Reported\\nRevenue\\n$24,996\\n$29,698\\n$31,616\\n$16,349\\nOperating Expenses\\n$20,411\\n$23,503\\n$25,983\\n$12,807\\nOperating Profit\\n$4,585\\n$6,195\\n$5,633\\n$3,542\\nOperating Margin\\n18.3%\\n20.9%\\n17.8%\\n21.7%\\nFX Impact\\nRevenue\\n$(560)\\n$(404)\\n$(962)\\n$36\\nOperating Expenses\\n$(71)\\n$(82)\\n$(214)\\n$12\\nOperating Profit\\n$(489)\\n$(322)\\n$(748)\\n$24\\nAdjusted*\\nRevenue\\n$25,556\\n$30,102\\n$32,578\\n$16,313\\nOperating Expenses\\n$20,482\\n$23,585\\n$26,196\\n$12,796\\nOperating Profit\\n$5,074\\n$6,517\\n$6,381\\n$3,517\\nRestructuring Charges\\n$150\\nOperating Profit x-Restructuring\\n$5,074\\n$6,517\\n$6,531\\n$3,517\\nOperating Margin\\n19.9%\\n21.6%\\n20.0%\\n21.6%\\n* Based on F/X rates at the beginning of each year. Note: Excludes F/X impact on content amortization, as titles are amortized at\\na historical blended rate based on timing of spend. YTD 2023 through June 30, 2023.\\nJuly 19, 2023 Earnings Interview, 3pm PT\\nOur video interview with Jessica Reif Ehrlich, BofA Securities will be on youtube/netflixir at 3pm PT\\ntoday. Questions that investors would like to see asked should be sent to jessica.reif@bofa.com.\\nCo-CEOs Ted Sarandos and Greg Peters, CFO Spence Neumann and VP of Finance/IR/Corporate\\nDevelopment Spencer Wang, will all be on the video to answer Jessica’s questions.\\n9\\n\",\n",
       " 9: 'IR Contact:\\nSpencer Wang\\nVP, Finance/IR & Corporate Development\\n408 809-5360\\nPR Contact:\\nEmily Feingold\\nVP, Corporate Communications\\n323 287-0756\\nUse of Non-GAAP Measure\\nThis shareholder letter and its attachments include reference to the non-GAAP financial measures of F/X\\nneutral revenue and operating margin, and free cash flow. Management believes that free cash flow is\\nan important liquidity metric because it measures, during a given period, the amount of cash generated\\nthat is available to repay debt obligations, make strategic acquisitions and investments and for certain\\nother activities like stock repurchases. Management believes that F/X neutral revenue and operating\\nmargin allow investors to compare our projected results to our actual results absent intra-year currency\\nfluctuations. However, these non-GAAP financial measures should be considered in addition to, not as a\\nsubstitute for or superior to, net income, operating income, operating margin, diluted earnings per share\\nand net cash provided by (used in) operating activities, or other financial measures prepared in\\naccordance with GAAP. Reconciliation to the GAAP equivalent of these non-GAAP measures are\\ncontained in tabular form on the attached unaudited financial statements. We are not able to reconcile\\nforward-looking non-GAAP financial measures because we are unable to predict without unreasonable\\neffort the exact amount or timing of the reconciling items, including property and equipment and change\\nin other assets, and the impact of changes in currency exchange rates. The variability of these items\\ncould have a significant impact on our future GAAP financial results.\\nForward-Looking Statements\\nThis shareholder letter contains certain forward-looking statements within the meaning of the federal\\nsecurities laws, including statements regarding our expected results for the fiscal quarter ending\\nSeptember 30, 2023 and fiscal year ending December 31, 2023; adoption and growth of streaming\\nentertainment; growth outlook and market opportunity; competitive position; core strategy and\\nbusiness model; content offerings; our games strategy; monetization through pricing and tiering\\nstructures, including paid sharing; ad-supported tier and its prospects; product features; our\\ncompetitors’ performance; impact of foreign exchange rates; cash balance and spend; stock repurchases;\\npaid net additions, membership growth and retention; engagement; consolidated revenue, revenue\\ngrowth and ARM, operating income, operating margin, net income, content amortization, and earnings\\nper share; climate targets; advertising; and free cash flow. The forward-looking statements in this letter\\nare subject to risks and uncertainties that could cause actual results and events to differ, including,\\nwithout limitation: our ability to attract new members and retain existing members; our ability to\\ncompete effectively, including for consumer engagement with different modes of entertainment; timing\\nand adoption of the ads plan and paid sharing; the impact of work stoppages; maintenance and\\nexpansion of device platforms for streaming; fluctuations in consumer usage of our service; service\\ndisruptions; production risks; macroeconomic conditions and timing of content releases. A detailed\\ndiscussion of these and other risks and uncertainties that could cause actual results and events to differ\\nmaterially from such forward-looking statements is included in our filings with the Securities and\\nExchange Commission, including our Annual Report on Form 10-K, filed with the Securities and Exchange\\nCommission (“SEC”) on January 26, 2023. The Company provides internal forecast numbers. Investors\\n10\\n',\n",
       " 10: 'should anticipate that actual performance will vary from these forecast numbers based on risks and\\nuncertainties discussed above and in our Annual Report on Form 10-K. We undertake no obligation to\\nupdate forward-looking statements to reflect events or circumstances occurring after the date of this\\nshareholder letter.\\n11\\n',\n",
       " 11: 'Netflix,�Inc.�\\nConsolidated�Statements�of�Operations�\\n(unaudited)�\\n(in�thousands,�except�per�share�data)�\\nThree�Months�Ended\\nSix�Months�Ended\\nJune�30,\\n2023\\nMarch�31,\\n2023\\nJune�30,\\n2022\\nJune�30,\\n2023\\nJune�30,\\n2022\\nRevenues\\n$�\\n8,187,301�\\n$�\\n8,161,503�\\n$�\\n7,970,141�\\n$�\\n16,348,804�\\n$�\\n15,837,908�\\nCost�of�revenues\\n4,673,470�\\n4,803,625�\\n4,690,755�\\n9,477,095�\\n8,975,460�\\nMarketing\\n627,168�\\n555,362�\\n574,960�\\n1,182,530�\\n1,130,938�\\nTechnology�and�development\\n657,983�\\n687,275�\\n716,846�\\n1,345,258�\\n1,374,376�\\nGeneral�and�administrative\\n401,497�\\n400,924�\\n409,297�\\n802,421�\\n807,225�\\nOperating�income\\n1,827,183�\\n1,714,317�\\n1,578,283�\\n3,541,500�\\n3,549,909�\\nOther�income�(expense):\\nInterest�expense\\n(174,812)�\\n(174,239)�\\n(175,455)�\\n(349,051)�\\n(363,034)�\\nInterest�and�other�income�(expense)\\n26,961�\\n(71,204)�\\n220,226�\\n(44,243)�\\n415,871�\\nIncome�before�income�taxes\\n1,679,332�\\n1,468,874�\\n1,623,054�\\n3,148,206�\\n3,602,746�\\nProvision�for�income�taxes\\n(191,722)�\\n(163,754)�\\n(182,103)�\\n(355,476)�\\n(564,348)�\\nNet�income\\n$�\\n1,487,610�\\n$�\\n1,305,120�\\n$�\\n1,440,951�\\n$�\\n2,792,730�\\n$�\\n3,038,398�\\nEarnings�per�share:\\nBasic\\n$�\\n3.35�\\n$�\\n2.93�\\n$�\\n3.24�\\n$�\\n6.28�\\n$�\\n6.84�\\nDiluted\\n$�\\n3.29�\\n$�\\n2.88�\\n$�\\n3.20�\\n$�\\n6.18�\\n$�\\n6.73�\\nWeighted-average�shares�of�common�stock�outstanding:\\nBasic\\n443,881�\\n445,244�\\n444,557�\\n444,559�\\n444,352�\\nDiluted\\n451,572�\\n452,417�\\n450,169�\\n451,990�\\n451,578�\\n12\\n',\n",
       " 12: 'Netflix,�Inc.�\\nConsolidated�Balance�Sheets�\\n(in�thousands)�\\nAs�of\\nJune�30,\\n2023\\nDecember�31,\\n2022\\n(unaudited)\\nAssets\\nCurrent�assets:\\nCash�and�cash�equivalents\\n$�\\n7,662,788�\\n$�\\n5,147,176�\\nShort-term�investments\\n914,201�\\n911,276�\\nOther�current�assets\\n2,929,347�\\n3,208,021�\\nTotal�current�assets\\n11,506,336�\\n9,266,473�\\nContent�assets,�net\\n32,520,774�\\n32,736,713�\\nProperty�and�equipment,�net\\n1,471,968�\\n1,398,257�\\nOther�non-current�assets\\n5,318,395�\\n5,193,325�\\nTotal�assets\\n$�\\n50,817,473�\\n$�\\n48,594,768�\\nLiabilities�and�Stockholders\\'�Equity\\nCurrent�liabilities:\\nCurrent�content�liabilities\\n$�\\n4,440,412�\\n$�\\n4,480,150�\\nAccounts�payable\\n615,374�\\n671,513�\\nAccrued�expenses�and�other�liabilities\\n1,908,714�\\n1,514,650�\\nDeferred�revenue\\n1,311,918�\\n1,264,661�\\nShort-term�debt\\n399,387�\\n—�\\nTotal�current�liabilities\\n8,675,805�\\n7,930,974�\\nNon-current�content�liabilities\\n2,849,387�\\n3,081,277�\\nLong-term�debt\\n14,070,151�\\n14,353,076�\\nOther�non-current�liabilities\\n2,389,915�\\n2,452,040�\\nTotal�liabilities\\n27,985,258�\\n27,817,367�\\nStockholders\\'�equity:\\nCommon�stock\\n4,874,208�\\n4,637,601�\\nTreasury�stock�at�cost\\n(1,876,753)�\\n(824,190)�\\nAccumulated�other�comprehensive�loss\\n(139,266)�\\n(217,306)�\\nRetained�earnings\\n19,974,026�\\n17,181,296�\\nTotal�stockholders\\'�equity\\n22,832,215�\\n20,777,401�\\nTotal�liabilities�and�stockholders\\'�equity\\n$�\\n50,817,473�\\n$�\\n48,594,768�\\nSupplemental�Information\\nTotal�streaming�content�obligations*\\n$�\\n20,900,288�\\n$�\\n21,831,947�\\n* Total�streaming�content�obligations�are�comprised�of�content�liabilities�included�in�\"Current�content�liabilities\"�and�\"Non-\\ncurrent�content�liabilities\"�on�the�Consolidated�Balance�Sheets�and�obligations�that�are�not�reflected�on�the�Consolidated\\nBalance�Sheets�as�they�did�not�yet�meet�the�criteria�for�recognition.\\n13\\n',\n",
       " 13: 'Netflix,�Inc.�\\nConsolidated�Statements�of�Cash�Flows�\\n(unaudited)�\\n(in�thousands)\\nThree�Months�Ended\\nSix�Months�Ended\\nJune�30,\\n2023\\nMarch�31,\\n2023\\nJune�30,\\n2022\\nJune�30,\\n2023\\nJune�30,\\n2022\\nCash�flows�from�operating�activities:\\nNet�income\\n$�\\n1,487,610�\\n$�\\n1,305,120�\\n$�\\n1,440,951�\\n$�\\n2,792,730�\\n$�\\n3,038,398�\\nAdjustments�to�reconcile�net�income�to�net�cash�provided�by�\\noperating�activities:\\nAdditions�to�content�assets\\n(3,683,007)�\\n(2,458,666)�\\n(4,687,011)�\\n(6,141,673)�\\n(8,271,175)�\\nChange�in�content�liabilities\\n46,119�\\n(354,791)�\\n191,228�\\n(308,672)�\\n(155,921)�\\nAmortization�of�content�assets\\n3,410,021�\\n3,459,984�\\n3,261,348�\\n6,870,005�\\n6,427,713�\\nDepreciation�and�amortization�of�property,�equipment�and�\\nintangibles\\n89,385�\\n90,335�\\n83,505�\\n179,720�\\n158,107�\\nStock-based�compensation�expense\\n78,030�\\n99,099�\\n150,392�\\n177,129�\\n269,601�\\nForeign�currency�remeasurement�loss�(gain)�on�debt\\n28,952�\\n80,651�\\n(304,513)�\\n109,603�\\n(466,334)�\\nOther�non-cash�items\\n121,483�\\n120,008�\\n205,374�\\n241,491�\\n307,342�\\nDeferred�income�taxes\\n(103,172)�\\n(98,782)�\\n(115,820)�\\n(201,954)�\\n(184,726)�\\nChanges�in�operating�assets�and�liabilities:\\nOther�current�assets\\n(183,049)�\\n(88,522)�\\n123,399�\\n(271,571)�\\n164,556�\\nAccounts�payable\\n38,332�\\n(89,668)�\\n(122,048)�\\n(51,336)�\\n(337,492)�\\nAccrued�expenses�and�other�liabilities\\n177,831�\\n185,299�\\n(238,719)�\\n363,130�\\n112,044�\\nDeferred�revenue\\n49,647�\\n(2,390)�\\n(10,376)�\\n47,257�\\n6,367�\\nOther�non-current�assets�and�liabilities\\n(117,950)�\\n(68,937)�\\n125,040�\\n(186,887)�\\n(42,891)�\\nNet�cash�provided�by�operating�activities\\n1,440,232�\\n2,178,740�\\n102,750�\\n3,618,972�\\n1,025,589�\\nCash�flows�from�investing�activities:\\nPurchases�of�property�and�equipment\\n(100,972)�\\n(62,019)�\\n(90,018)�\\n(162,991)�\\n(211,176)�\\nAcquisitions\\n—�\\n—�\\n(68,876)�\\n—�\\n(193,397)�\\nPurchases�of�short-term�investments\\n(303,228)�\\n(201,634)�\\n—�\\n(504,862)�\\n—�\\nProceeds�from�maturities�of�short-term�investments\\n501,937�\\n—�\\n—�\\n501,937�\\n—�\\nNet�cash�provided�by�(used�in)�investing�activities\\n97,737�\\n(263,653)�\\n(158,894)�\\n(165,916)�\\n(404,573)�\\nCash�flows�from�financing�activities:\\nRepayments�of�debt\\n—�\\n—�\\n—�\\n—�\\n(700,000)�\\nProceeds�from�issuance�of�common�stock\\n34,717�\\n26,028�\\n11,250�\\n60,745�\\n24,928�\\nRepurchases�of�common�stock\\n(645,146)�\\n(400,101)�\\n—�\\n(1,045,247)�\\n—�\\nOther�financing�activities\\n(38,920)�\\n—�\\n—�\\n(38,920)�\\n—�\\nNet�cash�provided�by�(used�in)�financing�activities\\n(649,349)�\\n(374,073)�\\n11,250�\\n(1,023,422)�\\n(675,072)�\\nEffect�of�exchange�rate�changes�on�cash,�cash�equivalents,�and�\\nrestricted�cash�\\n39,626�\\n26,423�\\n(145,198)�\\n66,049�\\n(156,646)�\\nNet�increase�(decrease)�in�cash,�cash�equivalents,�and�restricted�\\ncash\\n928,246�\\n1,567,437�\\n(190,092)�\\n2,495,683�\\n(210,702)�\\nCash,�cash�equivalents�and�restricted�cash�at�beginning�of�\\nperiod�\\n6,738,019�\\n5,170,582�\\n6,034,501�\\n5,170,582�\\n6,055,111�\\nCash,�cash�equivalents�and�restricted�cash�at�end�of�period�\\n$�\\n7,666,265�\\n$�\\n6,738,019�\\n$�\\n5,844,409�\\n$�\\n7,666,265�\\n$�\\n5,844,409�\\nThree�Months�Ended\\nSix�Months�Ended\\nJune�30,\\n2023\\nMarch�31,\\n2023\\nJune�30,\\n2022\\nJune�30,\\n2023\\nJune�30,\\n2022\\nNon-GAAP�free�cash�flow�reconciliation:\\nNet�cash�provided�by�operating�activities\\n$�\\n1,440,232�\\n$�\\n2,178,740�\\n$�\\n102,750�\\n$�\\n3,618,972�\\n$�\\n1,025,589�\\nPurchases�of�property�and�equipment\\n(100,972)�\\n(62,019)�\\n(90,018)�\\n(162,991)�\\n(211,176)�\\nNon-GAAP�free�cash�flow\\n$�\\n1,339,260�\\n$�\\n2,116,721�\\n$�\\n12,732�\\n$�\\n3,455,981�\\n$�\\n814,413�\\n14\\n',\n",
       " 14: 'Netflix,�Inc.�\\nNon-GAAP�Information\\n(unaudited)�\\n(in�thousands,�except�percentages)\\nAs�Reported\\nCurrency�\\nTranslation�\\nAdjustment\\nAdjusted�\\nRevenue�at�2022�\\nRates\\nReported�\\nChange\\nConstant�\\nCurrency�\\nChange\\nNon-GAAP�reconciliation�of�reported�and�constant�currency�revenue�growth�for�the�quarter�ended�June�30,�2023:\\nTotal�revenues\\n$�\\n8,187,301�\\n$�\\n231,144�\\n$�\\n8,418,445�\\n�3�%\\n�6�%\\n15\\n'}"
      ]
     },
     "execution_count": 25,
     "metadata": {},
     "output_type": "execute_result"
    }
   ],
   "source": [
    "texts"
   ]
  },
  {
   "cell_type": "code",
   "execution_count": 26,
   "metadata": {},
   "outputs": [],
   "source": [
    "text = preprocess_text(texts)\n",
    "final_text = \" \".join(text)"
   ]
  },
  {
   "cell_type": "code",
   "execution_count": 28,
   "metadata": {},
   "outputs": [
    {
     "data": {
      "text/plain": [
       "' In May, we successfully launched paid sharing in 100+ countries, representing more than 80% of our revenue base. ○ Revenue in each region is now higher than pre-launch, with sign-ups already exceeding cancellations. ○ Paid net additions were 5.9M in Q2, and today we’re rolling out paid sharing to almost all of the remaining countries.  Q2‘23 revenue of $8.2B and operating profit of $1.8B were generally in-line with our forecast—and we expect revenue growth to accelerate in the second half of ‘23 as we start to see the full benefits of paid sharing plus continued steady growth in our ad-supported plan. We’re still targeting a full year 2023 operating margin of 18% to 20%.  We’re a leader in terms of streaming engagement and, per Nielsen, we had the top original streaming series in the US for 24 of the first 25 weeks of 2023, and the top movie for 21 weeks. While we’ve made steady progress this year, we have more work to do to reaccelerate our growth. We remain focused on: creating a steady drumbeat of must watch shows and movies; improving monetization; growing the enjoyment of our games; and investing to improve our service for members. (in millions except per share data) Q2\\'22 Q3\\'22 Q4\\'22 Q1\\'23 Q2\\'23 Q3\\'23 Forecast Revenue $7,970 $7,926 $7,852 $8,162 $8,187 $8,520 Y/Y % Growth 8.6% 5.9% 1.9% 3.7% 2.7% 7.5% Operating Income $1,578 $1,533 $550 $1,714 $1,827 $1,890 Operating Margin 19.8% 19.3% 7.0% 21.0% 22.3% 22.2% Net Income $1,441 $1,398 $55 $1,305 $1,488 $1,580 Diluted EPS $3.20 $3.10 $0.12 $2.88 $3.29 $3.52 Global Streaming Paid Memberships 220.67 223.09 230.75 232.50 238.39 Y/Y % Growth 5.5% 4.5% 4.0% 4.9% 8.0% Global Streaming Paid Net Additions -0.97 2.41 7.66 1.75 5.89 Net cash provided by operating activities $103 $557 $444 $2,179 $1,440 Free Cash Flow $13 $472 $332 $2,117 $1,339 Shares (FD) 450.2 450.3 451.6 452.4 451.6 1 Q2 Results Revenue in Q2 grew 3% year over year (+6% on a foreign exchange (F/X) neutral basis ). Revenue growth 1 was driven by a 6% increase in average paid membership, while ARM declined 3% year over year (-1% 2 F/X neutral). The year-over-year ARM decline was driven by a combination of limited price increases over the past 12 months (leading up to the launch of paid sharing), timing of paid net additions (primarily late in the quarter due to the May 23 rollout of paid sharing in Q2), and a higher mix of membership growth from lower ARM countries. We had paid net additions of 5.9M for Q2’23 (with over 1M paid net adds in each region) vs. -1.0M in Q2’22 as we successfully rolled out paid sharing to more than 100 countries (representing over 80% of our revenue). Q2 operating income totaled $1.8B, up 16% vs. $1.6B in the year ago quarter. Operating margin was 22%, compared with 20% in Q2’22. Both were slightly ahead of our beginning-of-quarter forecast due to ongoing expense management, slower-than-projected headcount growth and timing of content spend. EPS in Q2 amounted to $3.29 vs. $3.20 in Q2’22 and included a $29 million non-cash unrealized loss from F/X remeasurement on our Euro denominated debt, which is recognized below operating income in “interest and other income/expense.” Forecast Our primary financial metrics are revenue for growth, and operating margin for profitability. Our goal is to accelerate revenue growth, expand our operating margin and deliver growing positive free cash flow. As a reminder, the quarterly guidance we provide is our actual internal forecast at the time we report. Now that we’ve launched paid sharing broadly, we have increased confidence in our financial outlook. We expect revenue growth will accelerate in the second half of 2023 as monetization grows from our most recent paid sharing launch and we expand our initiative across nearly all remaining countries plus the continued steady growth in our ad-supported plan (more details in the Monetization and Revenue section). For Q3, we forecast revenue of $8.5B, up 7% year over year on both a reported and F/X neutral basis, a slight acceleration from our Q2’23 F/X neutral revenue growth rate of 6%. Our revenue growth in Q3 will come from growth in average paid memberships. We expect F/X neutral ARM to be flat to slightly down year over year, as we are lapping price increases in 2022 and we generally haven’t had price increases in our largest revenue markets since the first half of last year (limited during paid sharing rollout). Revenue from advertising and our extra member feature are not yet material enough to offset these factors. We 3 anticipate Q3’23 paid net adds will be similar to Q2’23 paid net additions. We expect that our revenue 3 As a reminder, extra member accounts are not included in our paid membership count but add revenue that is included in ARM. 2 ARM (Average Revenue per Membership) is defined as streaming revenue divided by the average number of streaming paid memberships divided by the number of months in the period. These figures do not include sales taxes or VAT. 1 Excluding the year over year effect of foreign exchange rate movements. Assumes foreign exchange rates remained constant with foreign exchange rates from each of the corresponding months of the prior-year period. 2 growth will accelerate more substantially in Q4’23 as we further monetize account sharing between households and steadily grow our advertising revenue. We expect Q3 operating income of $1.9B vs. $1.5B in Q3’22 and operating margin of 22% compared with 19% in the year ago period. We’re still targeting a full year 2023 operating margin of 18%-20%, based on F/X rates as of January 1, 2023, up from 17.8% in FY22. Engagement We focus on engagement because it\\'s the best proxy we have for satisfaction. It’s also closely linked to retention, an important driver of our business. Key for Netflix members is the variety and quality of our content, with the understanding that quality is in the eye of the beholder. We’re often asked “what is a Netflix show?” The answer is one that super serves the audience, leaving them highly satisfied and excited for more. It’s the satirical dramedy Beef (starring Ali Wong and Steven Yeun) and the dating show Love is Blind S4 (both of which were in the Netflix Top 10 throughout April), the romance of Queen Charlotte: A Bridgerton Story and the action of The Night Agent (both of which were in our top 10 throughout May)—stories that could not be more different and yet thrilled millions. The combination of content variety and personalization means that each person easily finds titles they will love. We learned the importance of variety back in the DVD days, and it’s become even more important with streaming. Because if you aspire to serve hundreds of millions of people all around the world, you can’t program for one set of tastes or sensibilities. You need to invest across genres, cultures and languages. Q2 was a good example of the range to which we aspire. Members could choose dramas like The Diplomat and Sanctuary (Japan), adrenaline-filled action with Arnold Schwarzenegger in FUBAR (followed by Arnold, a documentary about his life) and Fake Profile (Colombia), satire with Black Mirror, sports with the Tour de France: Unchained, romantic young adult comedy with XO Kitty (a TV spinoff from the To All Boys I’ve Loved Before film trilogy) or rap competition with Rhythm & Flow France S2. All these titles not only hit Netflix’s Top 10 list in their own country but also across multiple countries and our Global Top 10—showing that, with good subtitles and dubbing, plus easy discovery, great stories can truly come from anywhere and excite audiences everywhere. Even in the US, which has historically had incredibly local viewing habits, we’ve seen non-English language titles gain increasing popularity. Shows like Physical 100 (Korea), The Glory (Korea), Alice in Borderland (Japan), Marked Heart (Colombia), The Snow Girl (Spain) and Que Viva Mexico! (Mexico) and films such as Hunger (Thailand) and AKA (France) have all hit Nielsen’s weekly original streaming TV or film top 10 lists in the US for at least one week this year. As always, we strive for constant improvement and to increase the impact of our slate investments over time. Film is a good example of our steady progress, as our Q2 film slate demonstrated a consistent string of hits. We kicked off the quarter with Murder Mystery 2, featuring Adam Sandler and Jennifer Aniston (114.3M views in its first three months). This was followed by the thriller The Mother* (starring 4 4 Views are based on the first 91 days of release. For titles released less than 91 days (denoted with an asterisk), data is from launch date through July 16, 2023. We publish weekly our top titles based on engagement at Netflix Top 10. 3 Jennifer Lopez) in May, which spent six weeks atop our Top 10 weekly films list and has now become one of our most popular films of all time with 131.6 million views. We closed the quarter with the Chris Hemsworth-led action blockbuster Extraction 2*, which garnered 116.7M views in only 31 days. Murder Mystery 2 and Extraction 2 also sparked renewed interest in the original films, with both surging back into the Global Top 10 in Q2, several years after they first premiered on Netflix, highlighting the durability of these titles and talent. We see similar fandom on the TV side too. Bridgerton S1 reappeared in Netflix’s Top 10 in May when Queen Charlotte*—our latest story in the Bridgerton franchise—launched (79.6M views), Never Have I Ever S1 re-emerged in June when we premiered the fourth and final season of this beloved coming of age story and The Witcher S1 and S2 returned to our Top 10 in July as fans re-immerse themselves in the third season of this fantasy drama. This success demonstrates the progress we’ve made building lasting intellectual property (IP) from a standing start just a decade ago. This year we’ll have more returning seasons than any other streamer with The Crown, Top Boy, The Upshaws, Sweet Magnolias, Heartstopper, Virgin River, Too Hot To Handle and more still to come. In June, we evolved our Netflix Top 10, which provides weekly engagement data for our top shows and movies, across 93 countries. We continue to provide total hours viewed, but now rank titles by the number of views (i.e. total hours viewed divided by the runtime ). We think this new approach is more 5 intuitive and it also adjusts for runtime (i.e. longer films or series don’t get an inherent advantage). We’ve also extended our Most Popular lists of all time from 28 days to 91 days so people can see how great stories grow over time. We believe sharing this engagement data on a regular basis helps talent and the broader industry understand what success looks like on Netflix—and we hope that other streamers become more transparent about engagement on their services over time. Below is a consolidated list of our global Top 10 all-time most popular TV shows and movies based on views.6 We build on the success of our titles with marketing to fuel conversation, fandom and discovery (the thrill of the find). In June, we hosted our third annual fan event Tudum in person for the first time. Over 10,000 fans attended live in Brazil and the show generated 78M views across our social platforms, an 6 As of July 16 2023. 5 We’ll publish all three data sets - views, total hours viewed and runtime - each week. 4 86% year-over-year increase and up over 200% from 2021’s 25.7M. It’s inspiring to witness the passion that exists for our shows and films, something we believe truly sets Netflix apart. Monetization and Revenue In addition to delivering an ever-improving slate and product experience, we’ve been working to improve our monetization through initiatives like paid sharing and advertising. This will allow us to generate more revenue off a bigger base, which we can reinvest to make Netflix even better for our members. Advertising enables us to offer consumers a lower price point and, eight months post launch, we’re working hard to scale the business. Our key focus is improving the ads experience for both members and advertisers. In addition to now offering 95% content parity globally (by viewing), more streams plus improved video quality on our ads plan, we’re partnering with Nielsen and EDO to improve measurement and innovating for advertisers. Brands can also now target media buys on our Top 10, which is updated daily and enables them to connect with audiences during our biggest viewing moments. While we continue to grow our reach—ads plan membership has nearly doubled since Q1— it’s still off a small membership base, so current ad revenue isn’t material for Netflix. Building an ads business from scratch isn’t easy and we have lots of hard work ahead, but we’re confident that over time we can develop advertising into a multi-billion dollar incremental revenue stream. Increased sophistication on pricing and plans strategy is important to improved monetization. In Q1, we lowered prices in a number of less penetrated markets, and in Q2, we phased out our Basic ads-free plan for new and rejoining members in Canada (existing members on the Basic ads-free plan are unaffected). We’re now doing the same in the US and the UK. We believe our entry prices in these countries – $6.99 in the US, £4.99 in the UK and $5.99 in Canada – provide great value to consumers given the breadth and quality of our catalog. Tackling account sharing between households has been another focus as it undermines our ability to invest to improve Netflix for our paying members and grow our business. In May, we expanded paid sharing to 100+ countries, which account for over 80% of our revenue. The cancel reaction was low and while we’re still in the early stages of monetization, we’re seeing healthy conversion of borrower households into full paying Netflix memberships as well as the uptake of our extra member feature. We are revenue and paid membership positive vs. prior to the launch of paid sharing across every region in our latest launch. Beginning today, we’ll start to address account sharing between households in almost all of our remaining countries. In these markets, we’re not offering an extra member option given that we’ve recently cut prices in a good number of these countries (for example, Indonesia, Croatia, Kenya, and India) and penetration is still relatively low in many of them so we have plenty of runway without creating additional complexity. Households borrowing Netflix will be able to transfer existing profiles to new and existing accounts. 5 Competition Consumers have so many amazing entertainment choices — from movies and TV shows to sports and news to gaming and social media just to name a few. We expect that competition will remain intense, including within streaming. Our biggest traditional entertainment competitors, Disney, Comcast/NBCU, Paramount Global and Warner Brothers Discovery — with their large content libraries and creative expertise — are now focused on profit so they can build sustainable, long term streaming businesses. And our big tech competitors Apple, Amazon and YouTube — with their broad reach and deep pockets — continue to invest heavily to grow their streaming revenues. Netflix’s revenue was $32B in 2022, compared to nearly $40B for YouTube across all its products (trailing 12-month basis as of Q1’23) and 7 Amazon’s $35B subscription revenue in 2022, of which we assume the majority relates to the Prime bundle that includes shipping, video and other services. Combined with Apple’s video initiatives, there’s 8 quite a competitive battle happening. Nielsen’s The Gauge: Share of US TV Screen Time, Total Day, Persons 2+ But while streaming is intensely competitive, we’ve shown that with strong execution and focus, it can be a great business. Long term success takes strength in both entertainment and technology, a combination that’s not been required of large media or tech companies in the past. It’s about one’s ability to work with the best creators; to produce and license movies, TV shows and ultimately games across multiple genres and languages globally; to create a stellar discovery engine; to build great partnerships and payments systems; and to continually pierce the zeitgeist with consumer passion and fandom. Improving across all these areas is key to ensuring that Netflix continues to lead the streaming 8 We don’t know how much of Amazon’s subscription revenue is related to Prime, Prime Video, or other digital and non-AWS subscriptions. 7 Including YouTube Ads, Premium, Music, and TV. 6 pack in terms of engagement, revenue and profit over the long term. We have much more to do and we’re ready for the challenge. Cash Flow and Capital Structure Net cash generated by operating activities in Q2 was $1.4B vs. $0.1B in the prior year period. Free cash flow in Q2’23 amounted to $1.3B compared with about breakeven in the year ago quarter. Assuming no 9 material swings in F/X, we now anticipate at least $5B in FCF for 2023, up from our prior estimate of at least $3.5B. Our updated expectation reflects lower cash content spend in 2023 than we originally anticipated due to timing of production starts and the ongoing WGA and SAG-AFTRA strikes. While this may create some lumpiness in FCF from 2023 to 2024, we plan to deliver substantial positive FCF in 2024 (with a cash content spend to content amortization ratio of roughly 1.1x). We finished Q2 with gross debt of $14.5B (in-line with our $10B-$15B targeted range) and cash and short term investments of $8.6B. During the quarter, we repurchased 1.8M shares for $645M. We now have $3.4B of capacity remaining under our $5B share buyback authorization. We’re currently running a bit above our targeted minimum cash level , so we expect to increase our stock repurchase activity in the 10 second half of 2023, assuming no material change in our business. Environmental, Social, and Governance (ESG) We aspire to entertain the world—and to do so sustainably and responsibly. In April, we published our 2022 Inclusion Report Update—sharing the progress we’ve made to increase representation within our company. The latest USC Annenberg Inclusion Initiative study into diversity on and off camera in our US film and series from 2020 to 2021 shows improvements for women and people from underrepresented groups. We also continue to support the next generation of talent through our Netflix Fund for Creative Equity, which has invested $29 million in more than 100 programs across 35 countries in the last two years. These updates on inclusion, along with updates on additional ESG initiatives, can be found in our fourth annual ESG report, which was published in June. We continue to make progress on meeting our climate targets through optimizing our energy use, then electrifying it and decarbonizing the rest to bring remaining emissions to zero. The report also shares how we have evolved our governance structure. Reference For quick reference, our past investor letters can be found here. 10 We target maintaining minimum cash equivalent to roughly two months of revenue (i.e., about $5.5B based on Q2 revenue of $8.2B). 9 Defined as cash provided by (used in) operating activities less purchases of property and equipment and change in other assets. 7 Regional Breakdown (in millions) Q2\\'22 Q3\\'22 Q4\\'22 Q1\\'23 Q2\\'23 UCAN Streaming: Revenue $3,538 $3,602 $3,595 $3,609 $3,599 Paid Memberships 73.28 73.39 74.30 74.40 75.57 Paid Net Additions (1.30) 0.10 0.91 0.10 1.17 Average Revenue per Membership $15.95 $16.37 $16.23 $16.18 $16.00 Y/Y % Growth 10% 12% 10% 9% 0% F/X Neutral Y/Y % Growth 10% 12% 10% 9% 1% EMEA: Revenue $2,457 $2,376 $2,350 $2,518 $2,562 Paid Memberships 72.97 73.53 76.73 77.37 79.81 Paid Net Additions (0.77) 0.57 3.20 0.64 2.43 Average Revenue per Membership $11.17 $10.81 $10.43 $10.89 $10.87 Y/Y % Growth -4% -7% -10% -6% -3% F/X Neutral Y/Y % Growth 6% 7% 5% 1% -1% LATAM: Revenue $1,030 $1,024 $1,017 $1,070 $1,077 Paid Memberships 39.62 39.94 41.70 41.25 42.47 Paid Net Additions 0.01 0.31 1.76 (0.45) 1.22 Average Revenue per Membership $8.67 $8.58 $8.30 $8.60 $8.58 Y/Y % Growth 16% 9% 2% 3% -1% F/X Neutral Y/Y % Growth 15% 16% 7% 8% 8% APAC: Revenue $908 $889 $857 $934 $919 Paid Memberships 34.80 36.23 38.02 39.48 40.55 Paid Net Additions 1.08 1.43 1.80 1.46 1.07 Average Revenue per Membership $8.83 $8.34 $7.69 $8.03 $7.66 Y/Y % Growth -9% -13% -17% -13% -13% F/X Neutral Y/Y % Growth -2% -3% -4% -6% -7% F/X Neutral ARM growth excludes the year over year effect of foreign exchange rate movements. Assumes foreign exchange rates remained constant with foreign exchange rates from each of the corresponding months of the prior-year period. 8 F/X Neutral Operating Margin Disclosure To provide additional transparency around our operating margin, we disclose each quarter our year-to-date (YTD) operating margin based on F/X rates at the beginning of each year. This will allow investors to see how our operating margin is tracking against our target (which was set in January of 2023 based on F/X rates at that time), absent intra-year fluctuations in F/X. $\\'s in Millions Full Year 2020 Full Year 2021 Full Year 2022 YTD 2023 As Reported Revenue $24,996 $29,698 $31,616 $16,349 Operating Expenses $20,411 $23,503 $25,983 $12,807 Operating Profit $4,585 $6,195 $5,633 $3,542 Operating Margin 18.3% 20.9% 17.8% 21.7% FX Impact Revenue $(560) $(404) $(962) $36 Operating Expenses $(71) $(82) $(214) $12 Operating Profit $(489) $(322) $(748) $24 Adjusted* Revenue $25,556 $30,102 $32,578 $16,313 Operating Expenses $20,482 $23,585 $26,196 $12,796 Operating Profit $5,074 $6,517 $6,381 $3,517 Restructuring Charges $150 Operating Profit x-Restructuring $5,074 $6,517 $6,531 $3,517 Operating Margin 19.9% 21.6% 20.0% 21.6% * Based on F/X rates at the beginning of each year. Note: Excludes F/X impact on content amortization, as titles are amortized at a historical blended rate based on timing of spend. YTD 2023 through June 30, 2023. July 19, 2023 Earnings Interview, 3pm PT Our video interview with Jessica Reif Ehrlich, BofA Securities will be on youtube/netflixir at 3pm PT today. Questions that investors would like to see asked should be sent to jessica.reif@bofa.com. Co-CEOs Ted Sarandos and Greg Peters, CFO Spence Neumann and VP of Finance/IR/Corporate Development Spencer Wang, will all be on the video to answer Jessica’s questions. 9 IR Contact: Spencer Wang VP, Finance/IR & Corporate Development 408 809-5360 PR Contact: Emily Feingold VP, Corporate Communications 323 287-0756 Use of Non-GAAP Measure This shareholder letter and its attachments include reference to the non-GAAP financial measures of F/X neutral revenue and operating margin, and free cash flow. Management believes that free cash flow is an important liquidity metric because it measures, during a given period, the amount of cash generated that is available to repay debt obligations, make strategic acquisitions and investments and for certain other activities like stock repurchases. Management believes that F/X neutral revenue and operating margin allow investors to compare our projected results to our actual results absent intra-year currency fluctuations. However, these non-GAAP financial measures should be considered in addition to, not as a substitute for or superior to, net income, operating income, operating margin, diluted earnings per share and net cash provided by (used in) operating activities, or other financial measures prepared in accordance with GAAP. Reconciliation to the GAAP equivalent of these non-GAAP measures are contained in tabular form on the attached unaudited financial statements. We are not able to reconcile forward-looking non-GAAP financial measures because we are unable to predict without unreasonable effort the exact amount or timing of the reconciling items, including property and equipment and change in other assets, and the impact of changes in currency exchange rates. The variability of these items could have a significant impact on our future GAAP financial results. Forward-Looking Statements This shareholder letter contains certain forward-looking statements within the meaning of the federal securities laws, including statements regarding our expected results for the fiscal quarter ending September 30, 2023 and fiscal year ending December 31, 2023; adoption and growth of streaming entertainment; growth outlook and market opportunity; competitive position; core strategy and business model; content offerings; our games strategy; monetization through pricing and tiering structures, including paid sharing; ad-supported tier and its prospects; product features; our competitors’ performance; impact of foreign exchange rates; cash balance and spend; stock repurchases; paid net additions, membership growth and retention; engagement; consolidated revenue, revenue growth and ARM, operating income, operating margin, net income, content amortization, and earnings per share; climate targets; advertising; and free cash flow. The forward-looking statements in this letter are subject to risks and uncertainties that could cause actual results and events to differ, including, without limitation: our ability to attract new members and retain existing members; our ability to compete effectively, including for consumer engagement with different modes of entertainment; timing and adoption of the ads plan and paid sharing; the impact of work stoppages; maintenance and expansion of device platforms for streaming; fluctuations in consumer usage of our service; service disruptions; production risks; macroeconomic conditions and timing of content releases. A detailed discussion of these and other risks and uncertainties that could cause actual results and events to differ materially from such forward-looking statements is included in our filings with the Securities and Exchange Commission, including our Annual Report on Form 10-K, filed with the Securities and Exchange Commission (“SEC”) on January 26, 2023. The Company provides internal forecast numbers. Investors 10 should anticipate that actual performance will vary from these forecast numbers based on risks and uncertainties discussed above and in our Annual Report on Form 10-K. We undertake no obligation to update forward-looking statements to reflect events or circumstances occurring after the date of this shareholder letter. 11 Netflix,�Inc.� Consolidated�Statements�of�Operations� (unaudited)� (in�thousands,�except�per�share�data)� Three�Months�Ended Six�Months�Ended June�30, 2023 March�31, 2023 June�30, 2022 June�30, 2023 June�30, 2022 Revenues $� 8,187,301� $� 8,161,503� $� 7,970,141� $� 16,348,804� $� 15,837,908� Cost�of�revenues 4,673,470� 4,803,625� 4,690,755� 9,477,095� 8,975,460� Marketing 627,168� 555,362� 574,960� 1,182,530� 1,130,938� Technology�and�development 657,983� 687,275� 716,846� 1,345,258� 1,374,376� General�and�administrative 401,497� 400,924� 409,297� 802,421� 807,225� Operating�income 1,827,183� 1,714,317� 1,578,283� 3,541,500� 3,549,909� Other�income�(expense): Interest�expense (174,812)� (174,239)� (175,455)� (349,051)� (363,034)� Interest�and�other�income�(expense) 26,961� (71,204)� 220,226� (44,243)� 415,871� Income�before�income�taxes 1,679,332� 1,468,874� 1,623,054� 3,148,206� 3,602,746� Provision�for�income�taxes (191,722)� (163,754)� (182,103)� (355,476)� (564,348)� Net�income $� 1,487,610� $� 1,305,120� $� 1,440,951� $� 2,792,730� $� 3,038,398� Earnings�per�share: Basic $� 3.35� $� 2.93� $� 3.24� $� 6.28� $� 6.84� Diluted $� 3.29� $� 2.88� $� 3.20� $� 6.18� $� 6.73� Weighted-average�shares�of�common�stock�outstanding: Basic 443,881� 445,244� 444,557� 444,559� 444,352� Diluted 451,572� 452,417� 450,169� 451,990� 451,578� 12 Netflix,�Inc.� Consolidated�Balance�Sheets� (in�thousands)� As�of June�30, 2023 December�31, 2022 (unaudited) Assets Current�assets: Cash�and�cash�equivalents $� 7,662,788� $� 5,147,176� Short-term�investments 914,201� 911,276� Other�current�assets 2,929,347� 3,208,021� Total�current�assets 11,506,336� 9,266,473� Content�assets,�net 32,520,774� 32,736,713� Property�and�equipment,�net 1,471,968� 1,398,257� Other�non-current�assets 5,318,395� 5,193,325� Total�assets $� 50,817,473� $� 48,594,768� Liabilities�and�Stockholders\\'�Equity Current�liabilities: Current�content�liabilities $� 4,440,412� $� 4,480,150� Accounts�payable 615,374� 671,513� Accrued�expenses�and�other�liabilities 1,908,714� 1,514,650� Deferred�revenue 1,311,918� 1,264,661� Short-term�debt 399,387� —� Total�current�liabilities 8,675,805� 7,930,974� Non-current�content�liabilities 2,849,387� 3,081,277� Long-term�debt 14,070,151� 14,353,076� Other�non-current�liabilities 2,389,915� 2,452,040� Total�liabilities 27,985,258� 27,817,367� Stockholders\\'�equity: Common�stock 4,874,208� 4,637,601� Treasury�stock�at�cost (1,876,753)� (824,190)� Accumulated�other�comprehensive�loss (139,266)� (217,306)� Retained�earnings 19,974,026� 17,181,296� Total�stockholders\\'�equity 22,832,215� 20,777,401� Total�liabilities�and�stockholders\\'�equity $� 50,817,473� $� 48,594,768� Supplemental�Information Total�streaming�content�obligations* $� 20,900,288� $� 21,831,947� * Total�streaming�content�obligations�are�comprised�of�content�liabilities�included�in�\"Current�content�liabilities\"�and�\"Non- current�content�liabilities\"�on�the�Consolidated�Balance�Sheets�and�obligations�that�are�not�reflected�on�the�Consolidated Balance�Sheets�as�they�did�not�yet�meet�the�criteria�for�recognition. 13 Netflix,�Inc.� Consolidated�Statements�of�Cash�Flows� (unaudited)� (in�thousands) Three�Months�Ended Six�Months�Ended June�30, 2023 March�31, 2023 June�30, 2022 June�30, 2023 June�30, 2022 Cash�flows�from�operating�activities: Net�income $� 1,487,610� $� 1,305,120� $� 1,440,951� $� 2,792,730� $� 3,038,398� Adjustments�to�reconcile�net�income�to�net�cash�provided�by� operating�activities: Additions�to�content�assets (3,683,007)� (2,458,666)� (4,687,011)� (6,141,673)� (8,271,175)� Change�in�content�liabilities 46,119� (354,791)� 191,228� (308,672)� (155,921)� Amortization�of�content�assets 3,410,021� 3,459,984� 3,261,348� 6,870,005� 6,427,713� Depreciation�and�amortization�of�property,�equipment�and� intangibles 89,385� 90,335� 83,505� 179,720� 158,107� Stock-based�compensation�expense 78,030� 99,099� 150,392� 177,129� 269,601� Foreign�currency�remeasurement�loss�(gain)�on�debt 28,952� 80,651� (304,513)� 109,603� (466,334)� Other�non-cash�items 121,483� 120,008� 205,374� 241,491� 307,342� Deferred�income�taxes (103,172)� (98,782)� (115,820)� (201,954)� (184,726)� Changes�in�operating�assets�and�liabilities: Other�current�assets (183,049)� (88,522)� 123,399� (271,571)� 164,556� Accounts�payable 38,332� (89,668)� (122,048)� (51,336)� (337,492)� Accrued�expenses�and�other�liabilities 177,831� 185,299� (238,719)� 363,130� 112,044� Deferred�revenue 49,647� (2,390)� (10,376)� 47,257� 6,367� Other�non-current�assets�and�liabilities (117,950)� (68,937)� 125,040� (186,887)� (42,891)� Net�cash�provided�by�operating�activities 1,440,232� 2,178,740� 102,750� 3,618,972� 1,025,589� Cash�flows�from�investing�activities: Purchases�of�property�and�equipment (100,972)� (62,019)� (90,018)� (162,991)� (211,176)� Acquisitions —� —� (68,876)� —� (193,397)� Purchases�of�short-term�investments (303,228)� (201,634)� —� (504,862)� —� Proceeds�from�maturities�of�short-term�investments 501,937� —� —� 501,937� —� Net�cash�provided�by�(used�in)�investing�activities 97,737� (263,653)� (158,894)� (165,916)� (404,573)� Cash�flows�from�financing�activities: Repayments�of�debt —� —� —� —� (700,000)� Proceeds�from�issuance�of�common�stock 34,717� 26,028� 11,250� 60,745� 24,928� Repurchases�of�common�stock (645,146)� (400,101)� —� (1,045,247)� —� Other�financing�activities (38,920)� —� —� (38,920)� —� Net�cash�provided�by�(used�in)�financing�activities (649,349)� (374,073)� 11,250� (1,023,422)� (675,072)� Effect�of�exchange�rate�changes�on�cash,�cash�equivalents,�and� restricted�cash� 39,626� 26,423� (145,198)� 66,049� (156,646)� Net�increase�(decrease)�in�cash,�cash�equivalents,�and�restricted� cash 928,246� 1,567,437� (190,092)� 2,495,683� (210,702)� Cash,�cash�equivalents�and�restricted�cash�at�beginning�of� period� 6,738,019� 5,170,582� 6,034,501� 5,170,582� 6,055,111� Cash,�cash�equivalents�and�restricted�cash�at�end�of�period� $� 7,666,265� $� 6,738,019� $� 5,844,409� $� 7,666,265� $� 5,844,409� Three�Months�Ended Six�Months�Ended June�30, 2023 March�31, 2023 June�30, 2022 June�30, 2023 June�30, 2022 Non-GAAP�free�cash�flow�reconciliation: Net�cash�provided�by�operating�activities $� 1,440,232� $� 2,178,740� $� 102,750� $� 3,618,972� $� 1,025,589� Purchases�of�property�and�equipment (100,972)� (62,019)� (90,018)� (162,991)� (211,176)� Non-GAAP�free�cash�flow $� 1,339,260� $� 2,116,721� $� 12,732� $� 3,455,981� $� 814,413� 14 Netflix,�Inc.� Non-GAAP�Information (unaudited)� (in�thousands,�except�percentages) As�Reported Currency� Translation� Adjustment Adjusted� Revenue�at�2022� Rates Reported� Change Constant� Currency� Change Non-GAAP�reconciliation�of�reported�and�constant�currency�revenue�growth�for�the�quarter�ended�June�30,�2023: Total�revenues $� 8,187,301� $� 231,144� $� 8,418,445� �3�% �6�% 15'"
      ]
     },
     "execution_count": 28,
     "metadata": {},
     "output_type": "execute_result"
    }
   ],
   "source": [
    "final_text"
   ]
  },
  {
   "cell_type": "code",
   "execution_count": 6,
   "metadata": {},
   "outputs": [],
   "source": [
    "# Define headings in the document using word size function\n",
    "def word_ratio_func(word):\n",
    "    try:\n",
    "        # calculate word size parameters\n",
    "        word_length = len(word[\"text\"])\n",
    "        word_bottom = float(word['bottom'])\n",
    "        word_top = float(word['top'])\n",
    "        return (word_bottom - word_top), word_length, word[\"text\"]\n",
    "        \n",
    "    except:\n",
    "        # in case of error, return zeros\n",
    "        return 0, 0, 0\n",
    "\n",
    "# Preprocess the text\n",
    "def preprocess_text(texts):\n",
    "\n",
    "    # join the text and perform cleansing operations\n",
    "    text = \"\".join(texts.values()).strip(\"●\").strip(\"*\")\n",
    "    text = text.split(\"\\n\")\n",
    "    text = [x for x in text if x != '' and x.startswith(\"Source\") == False]\n",
    "    text = [x[0].replace(\"●\", \"\") + x[1:] if x[0] == \"●\" else x for x in text]\n",
    "    text = [x[0].replace(\"*\", \"\") + x[1:] if x[0] == \"*\" else x for x in text]\n",
    "    text = [x[0].replace(\"○\", \"\") + x[1:] if x[0] == \"○\" else x for x in text]\n",
    "    text = [x[0].replace(\"1\", \"\") + x[1:] if x[1:3] in [\"Q1\", \"Q2\", \"Q3\", \"Q4\"] else x for x in text]\n",
    "    text = text[2:]\n",
    "\n",
    "    return text"
   ]
  },
  {
   "cell_type": "code",
   "execution_count": 12,
   "metadata": {},
   "outputs": [
    {
     "name": "stderr",
     "output_type": "stream",
     "text": [
      "  0%|          | 0/50 [00:00<?, ?it/s]"
     ]
    }
   ],
   "source": [
    "# Transform pdf into the text\n",
    "def process_pdf(pdf_paths):\n",
    "    \n",
    "    # store the pdf text and headings in dictionaries\n",
    "    pdf_texts = {}\n",
    "    pdf_headings = {}\n",
    "\n",
    "    # iterate over the pdf files\n",
    "    for file_path in tqdm(pdf_paths):\n",
    "\n",
    "        # if file path contains\n",
    "        file_path = \"ShareholderLetters/FINAL-Q2-23-Shareholder-Letter.pdf\"\n",
    "\n",
    "        try:\n",
    "            \n",
    "            # open the pdf file using pdfplumber library\n",
    "            reader = pdfplumber.open(file_path)\n",
    "\n",
    "            # store the text and headings within one pdf file\n",
    "            texts = {}\n",
    "            headings = []\n",
    "            headings_count = 0\n",
    "\n",
    "            for page_number in range(0, len(reader.pages)):\n",
    "\n",
    "                # get the specific page from the pdf file\n",
    "                page = reader.pages[page_number]\n",
    "                # extract text from page\n",
    "                text = page.extract_text()\n",
    "                # add text to dictionary\n",
    "                texts[page_number] = text\n",
    "\n",
    "                # extract headings from page\n",
    "                words = page.extract_words()\n",
    "                word_count = 0\n",
    "                while word_count < len(words):\n",
    "                    # find if the words are large enough to be headings\n",
    "                    word_size, word_length, word_text = word_ratio_func(words[word_count])\n",
    "                    heading = []\n",
    "\n",
    "                    if word_size > 15 and word_length > 1:\n",
    "                        while True:\n",
    "                            heading.append(word_text)\n",
    "                            word_count += 1\n",
    "                            if word_count >= len(words):\n",
    "                                break\n",
    "                            word_size, word_length, word_text = word_ratio_func(words[word_count])\n",
    "                            if not word_size > 15 and word_length > 1:\n",
    "                                headings.append(\" \".join(heading))\n",
    "                                word_count += 10\n",
    "                                break\n",
    "                    headings_count += 1\n",
    "                    word_count += 1\n",
    "                \n",
    "                # break if the page covers the reference section\n",
    "                if re.search(\"\\nReference\\n\", text):\n",
    "                    break\n",
    "            \n",
    "            # preprocess the text\n",
    "            text = preprocess_text(texts)\n",
    "            final_text = \" \".join(text)\n",
    "\n",
    "            # optionally, export the text to a txt file\n",
    "            # with open(\"Txt/\" + file_path.split(\"/\")[-1].split(\".\")[0] + \".txt\", \"w\", encoding='utf-8') as f:\n",
    "            #     f.write(final_text)\n",
    "\n",
    "            # add the text to the dictionary\n",
    "            pdf_texts[file_path.split(\"/\")[-1].split(\".\")[0]] = final_text\n",
    "            # add the headings to the dictionary\n",
    "            pdf_headings[file_path.split(\"/\")[-1].split(\".\")[0]] = headings\n",
    "\n",
    "        except Exception as e:\n",
    "\n",
    "            # in case of error, print the specifics of issue\n",
    "            exc_type, exc_value, exc_traceback = sys.exc_info()\n",
    "            traceback_details = traceback.extract_tb(exc_traceback)\n",
    "            filename = traceback_details[-1][0]\n",
    "            line_no = traceback_details[-1][1]\n",
    "            func = traceback_details[-1][2]\n",
    "            print(f\"Exception occurred in file {filename} at line {line_no} in function {func}\")\n",
    "            print(f\"Exception type: {exc_type.__name__}, Exception message: {str(e)}\")\n",
    "\n",
    "            break\n",
    "    \n",
    "    return pdf_texts, pdf_headings\n",
    "\n",
    "# Transform pdf files into texts and headings and store them as dictionaries\n",
    "pdf_texts, pdf_headings = process_pdf(file_paths) # total run time: 2 min 20 s 20 files"
   ]
  },
  {
   "cell_type": "code",
   "execution_count": 11,
   "metadata": {},
   "outputs": [],
   "source": [
    "# Get file paths for the pdf files\n",
    "folder_path = \"ShareholderLetters/\" # put '/' sign at the end of the folder\n",
    "file_paths = []\n",
    "for root, directories, files in os.walk(folder_path):\n",
    "    for filename in files:\n",
    "        filepath = os.path.join(root, filename)\n",
    "        file_paths.append(filepath)"
   ]
  },
  {
   "cell_type": "code",
   "execution_count": 9,
   "metadata": {},
   "outputs": [
    {
     "data": {
      "text/plain": [
       "['ShareholderLetters/COMBINED-Q4-17-Shareholder-Letter-FINAL.pdf',\n",
       " 'ShareholderLetters/FINAL-Q1-18-Shareholder-Letter.pdf',\n",
       " 'ShareholderLetters/FINAL-Q1-19-Shareholder-Letter.pdf',\n",
       " 'ShareholderLetters/FINAL-Q1-20-Shareholder-Letter.pdf',\n",
       " 'ShareholderLetters/FINAL-Q1-21-Shareholder-Letter.pdf',\n",
       " 'ShareholderLetters/FINAL-Q1-22-Shareholder-Letter.pdf',\n",
       " 'ShareholderLetters/Final-Q1-23-Shareholder-Letter.pdf',\n",
       " 'ShareholderLetters/FINAL-Q2-18-Shareholder-Letter.pdf',\n",
       " 'ShareholderLetters/FINAL-Q2-20-Shareholder-Letter-V3-with-Tables.pdf',\n",
       " 'ShareholderLetters/FINAL-Q2-21-Shareholder-Letter.pdf',\n",
       " 'ShareholderLetters/FINAL-Q2-22-Shareholder-Letter.pdf',\n",
       " 'ShareholderLetters/FINAL-Q2-23-Shareholder-Letter.pdf',\n",
       " 'ShareholderLetters/FINAL-Q3-18-Shareholder-Letter.pdf',\n",
       " 'ShareholderLetters/FINAL-Q3-19-Shareholder-Letter.pdf',\n",
       " 'ShareholderLetters/FINAL-Q3-20-Shareholder-Letter.pdf',\n",
       " 'ShareholderLetters/FINAL-Q3-21-Shareholder-Letter.pdf',\n",
       " 'ShareholderLetters/FINAL-Q3-22-Shareholder-Letter.pdf',\n",
       " 'ShareholderLetters/FINAL-Q4-18-Shareholder-Letter.pdf',\n",
       " 'ShareholderLetters/FINAL-Q4-19-Shareholder-Letter.pdf',\n",
       " 'ShareholderLetters/FINAL-Q4-21-Shareholder-Letter.pdf',\n",
       " 'ShareholderLetters/FINAL-Q4-22-Shareholder-Letter.pdf',\n",
       " 'ShareholderLetters/FINAL-Q420-Shareholder-Letter.pdf',\n",
       " 'ShareholderLetters/FINAL_Q2_15_Letter_to_Shareholders_With_Tables_.pdf',\n",
       " 'ShareholderLetters/FINAL_Q3_15_Letter_to_Shareholders_With_Tables_.pdf',\n",
       " 'ShareholderLetters/FINAL_Q3_Letter.pdf',\n",
       " 'ShareholderLetters/Investor-Letter-Q1-2012.pdf',\n",
       " 'ShareholderLetters/Investor-Letter-Q2-2012-07.24.12.pdf',\n",
       " 'ShareholderLetters/Investor-Letter-Q3-2011.pdf',\n",
       " 'ShareholderLetters/Investor-Letter-Q3-2012-10.23.12.pdf',\n",
       " 'ShareholderLetters/Investor-Letter-Q4-2011.pdf',\n",
       " 'ShareholderLetters/Investor-Letter-Q42012-01.23.13.pdf',\n",
       " 'ShareholderLetters/Investor_Letter_Q12013.pdf',\n",
       " 'ShareholderLetters/July-Investor-Letter-1130am.pdf',\n",
       " 'ShareholderLetters/July2014EarningsLetter_7.21.14_final.pdf',\n",
       " 'ShareholderLetters/Q1-11-Letter-to-shareholders.pdf',\n",
       " 'ShareholderLetters/Q114-Earnings-Letter-4.21.14-final.pdf',\n",
       " 'ShareholderLetters/Q116LettertoShareholders_W_TABLES_.pdf',\n",
       " 'ShareholderLetters/Q117ShareholderLetterV2FINAL.pdf',\n",
       " 'ShareholderLetters/Q1_15_Earnings_Letter_final_tables.pdf',\n",
       " 'ShareholderLetters/Q2-19-Shareholder-Letter-FINAL.pdf',\n",
       " 'ShareholderLetters/Q213-Investor-Letter.pdf',\n",
       " 'ShareholderLetters/Q216LettertoShareholders_FINAL_w_Tables.pdf',\n",
       " 'ShareholderLetters/Q2_17_Shareholder_Letter.pdf',\n",
       " 'ShareholderLetters/Q313-Earnings-Letter-10.21.13-10.30am.pdf',\n",
       " 'ShareholderLetters/Q3_14_Letter_to_shareholders.pdf',\n",
       " 'ShareholderLetters/Q3_17_Shareholder_Letter_COMBINED.pdf',\n",
       " 'ShareholderLetters/Q4-13-Letter-to-shareholders.pdf',\n",
       " 'ShareholderLetters/Q416ShareholderLetter.pdf',\n",
       " 'ShareholderLetters/Q4_14_Letter_to_shareholders.pdf',\n",
       " 'ShareholderLetters/Q4_15_Letter_to_Shareholders_-_COMBINED.pdf']"
      ]
     },
     "execution_count": 9,
     "metadata": {},
     "output_type": "execute_result"
    }
   ],
   "source": [
    "file_paths"
   ]
  },
  {
   "cell_type": "code",
   "execution_count": null,
   "metadata": {},
   "outputs": [],
   "source": [
    "# Transform pdf files into texts and headings and store them as dictionaries\n",
    "pdf_texts, pdf_headings = process_pdf(file_paths) # total run time: 2 min 20 s 20 files\n",
    "\n",
    "# Save pdf texts and headings to pickle files\n",
    "with open(\"pdf_texts.pkl\", \"wb\") as f:\n",
    "    pickle.dump(pdf_texts, f)\n",
    "with open(\"pdf_headings.pkl\", \"wb\") as f:\n",
    "    pickle.dump(pdf_headings, f)\n"
   ]
  }
 ],
 "metadata": {
  "kernelspec": {
   "display_name": "Python 3",
   "language": "python",
   "name": "python3"
  },
  "language_info": {
   "codemirror_mode": {
    "name": "ipython",
    "version": 3
   },
   "file_extension": ".py",
   "mimetype": "text/x-python",
   "name": "python",
   "nbconvert_exporter": "python",
   "pygments_lexer": "ipython3",
   "version": "3.10.8"
  },
  "orig_nbformat": 4
 },
 "nbformat": 4,
 "nbformat_minor": 2
}
