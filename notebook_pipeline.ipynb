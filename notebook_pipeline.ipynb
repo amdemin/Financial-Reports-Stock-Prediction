{
 "cells": [
  {
   "cell_type": "code",
   "execution_count": 1,
   "metadata": {},
   "outputs": [],
   "source": [
    "# Import libraries\n",
    "import pandas as pd\n",
    "import numpy as np\n",
    "import matplotlib.pyplot as plt\n",
    "import seaborn as sns\n",
    "import requests\n",
    "import os\n",
    "import re\n",
    "import pickle\n",
    "import time\n",
    "from tqdm.notebook import tqdm\n",
    "from textblob import TextBlob\n",
    "\n",
    "from sklearn.preprocessing import MinMaxScaler\n",
    "\n",
    "# Load local preprocesing modules\n",
    "from module_text_blocks import split_text_into_blocks, clean_text_blocks\n",
    "from module_process_pdf import process_pdf\n",
    "\n",
    "# Load local model modules\n",
    "from module_sentiment_textblob import calculate_textblob_polarity\n",
    "from module_sentiment_google import calculate_google_polarity\n",
    "from module_sentiment_amazon import calculate_amazon_polarity\n",
    "from module_sentiment_openai import calculate_openai_polarity\n",
    "\n",
    "# add two model modules later (BERT and Roberta)\n"
   ]
  },
  {
   "cell_type": "code",
   "execution_count": 3,
   "metadata": {},
   "outputs": [],
   "source": [
    "# Load pdf text and headings from the pickle file\n",
    "# pdf_texts = pickle.load(open(\"Src/pdf_texts.pkl\", \"rb\"))                        # Texts are extracted from the pdf\n",
    "# pdf_headings = pickle.load(open(\"Src/pdf_headings.pkl\", \"rb\"))                  # Headings are extracted from the pdf text\n",
    "# pdf_headings_context = pickle.load(open(\"Src/pdf_headings_context.pkl\", \"rb\"))  # Surrounding text of headings helps to identify headings correctly and avoid duplicates"
   ]
  },
  {
   "cell_type": "code",
   "execution_count": 2,
   "metadata": {},
   "outputs": [],
   "source": [
    "# Select the pdf file to process\n",
    "file_paths = [\"ShareholderLetters/FINAL-Q2-23-Shareholder-Letter.pdf\"]"
   ]
  },
  {
   "cell_type": "code",
   "execution_count": 3,
   "metadata": {},
   "outputs": [],
   "source": [
    "# Transform pdf files into texts and headings and store them as dictionaries\n",
    "pdf_texts, pdf_headings, pdf_headings_context = process_pdf(file_paths)"
   ]
  },
  {
   "cell_type": "code",
   "execution_count": 4,
   "metadata": {},
   "outputs": [],
   "source": [
    "# Normalise model scores\n",
    "def normalise_score(original_score, old_min, old_max, new_min, new_max):\n",
    "    old_range = old_max - old_min\n",
    "    new_range = new_max - new_min\n",
    "    normalised_score = (original_score - old_min) / old_range\n",
    "    normalised_score = new_min + (normalised_score * new_range)\n",
    "    return normalised_score"
   ]
  },
  {
   "cell_type": "code",
   "execution_count": 5,
   "metadata": {},
   "outputs": [
    {
     "name": "stdout",
     "output_type": "stream",
     "text": [
      "FINAL-Q2-23-Shareholder-Letter TextBlob sentiment score: 0.6603495902734645\n",
      "Time taken for TextBlob to process text:  0.11017346382141113\n",
      "FINAL-Q2-23-Shareholder-Letter Google sentiment score: 0.39000000804662704\n",
      "Time taken for Google to process text:  3.7825024127960205\n",
      "FINAL-Q2-23-Shareholder-Letter Amazon sentiment score: 0.5530620518205789\n",
      "Time taken for Amazon to process text:  20.243367910385132\n",
      "FINAL-Q2-23-Shareholder-Letter OpenAI sentiment score: 0.25\n",
      "Time taken for OpenAI to process text:  15.575986385345459\n"
     ]
    }
   ],
   "source": [
    "# Models with correspondings local functions to calculate sentiment score\n",
    "models = {\n",
    "    \"TextBlob\": calculate_textblob_polarity,\n",
    "    \"Google\": calculate_google_polarity,\n",
    "    \"Amazon\": calculate_amazon_polarity,\n",
    "    \"OpenAI\": calculate_openai_polarity\n",
    "}\n",
    "\n",
    "# Min and Max values for each model (needed for normalisation)\n",
    "models_min_max = {\n",
    "    \"TextBlob\": [0.07, 0.186],\n",
    "    \"Google\": [0.0, 0.30],\n",
    "    \"Amazon\": [0.689, 0.9058]\n",
    "}\n",
    "\n",
    "# Manual min and max values as benchmark for normalisation\n",
    "manual_min_value = -0.15\n",
    "manual_max_value = 0.66\n",
    "\n",
    "# Iterate over pdf files\n",
    "for pdf_file in pdf_texts:\n",
    "\n",
    "    try:\n",
    "\n",
    "        text = pdf_texts[pdf_file]\n",
    "        headings = pdf_headings[pdf_file]\n",
    "        headings_context = pdf_headings_context[pdf_file]\n",
    "\n",
    "        # Split text into blocks\n",
    "        text_blocks = split_text_into_blocks(text, headings, headings_context)\n",
    "\n",
    "        # Clean text blocks\n",
    "        text_blocks = clean_text_blocks(text_blocks)\n",
    "\n",
    "        # Iterate over models\n",
    "        for model_name, model_function in models.items():\n",
    "            \n",
    "            # set start time\n",
    "            start_time = time.time()\n",
    "\n",
    "            # Calculate sentiment score\n",
    "            sentiment_score = model_function(text_blocks, headings, text)\n",
    "            \n",
    "            # Normalise sentiment score (except for OpenAI) \n",
    "            if model_name != \"OpenAI\": \n",
    "                sentiment_score = normalise_score(sentiment_score, models_min_max[model_name][0], models_min_max[model_name][1], manual_min_value, manual_max_value)\n",
    "        \n",
    "            # set end time\n",
    "            end_time = time.time()\n",
    "            # print sentiment score\n",
    "            print(f\"{pdf_file} {model_name} sentiment score: {sentiment_score}\")\n",
    "            # print processing time\n",
    "            print(f\"Time taken for {model_name} to process text: \", end_time - start_time)\n",
    "\n",
    "    except Exception as e:\n",
    "\n",
    "        print(f\"Error: {e}\")"
   ]
  }
 ],
 "metadata": {
  "kernelspec": {
   "display_name": "ARP_3_10",
   "language": "python",
   "name": "python3"
  },
  "language_info": {
   "codemirror_mode": {
    "name": "ipython",
    "version": 3
   },
   "file_extension": ".py",
   "mimetype": "text/x-python",
   "name": "python",
   "nbconvert_exporter": "python",
   "pygments_lexer": "ipython3",
   "version": "3.10.12"
  },
  "orig_nbformat": 4
 },
 "nbformat": 4,
 "nbformat_minor": 2
}
