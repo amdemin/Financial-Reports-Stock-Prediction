{
 "cells": [
  {
   "cell_type": "code",
   "execution_count": 26,
   "id": "0cd7810b",
   "metadata": {},
   "outputs": [],
   "source": [
    "# Import libraries\n",
    "import pandas as pd\n",
    "import numpy as np\n",
    "import matplotlib.pyplot as plt\n",
    "import seaborn as sns\n",
    "import requests\n",
    "import os\n",
    "import re\n",
    "from tqdm.notebook import tqdm\n",
    "from difflib import SequenceMatcher\n",
    "import pdfquery\n",
    "import pdfplumber"
   ]
  },
  {
   "cell_type": "code",
   "execution_count": 3,
   "id": "9f024aca",
   "metadata": {},
   "outputs": [],
   "source": [
    "# Define similarity function\n",
    "def similar(a, b):\n",
    "    return SequenceMatcher(None, a, b).ratio()"
   ]
  },
  {
   "cell_type": "code",
   "execution_count": 5,
   "id": "da170dda",
   "metadata": {},
   "outputs": [],
   "source": [
    "# Define headings in the document using word size function\n",
    "def word_ratio_func(word):\n",
    "    try:\n",
    "        word_length = len(word[\"text\"])\n",
    "        word_bottom = float(word['bottom'])\n",
    "        word_top = float(word['top'])\n",
    "        return (word_bottom - word_top), word_length, word[\"text\"]\n",
    "        \n",
    "    except:\n",
    "        return 0, 0, 0"
   ]
  },
  {
   "cell_type": "markdown",
   "id": "a26f87ed",
   "metadata": {},
   "source": [
    "### Scrape the PDFs"
   ]
  },
  {
   "cell_type": "code",
   "execution_count": 48,
   "id": "3880e1aa",
   "metadata": {},
   "outputs": [
    {
     "name": "stdout",
     "output_type": "stream",
     "text": [
      "9 pages extracted\n"
     ]
    }
   ],
   "source": [
    "# creating a pdf reader object\n",
    "file_path = 'Src/FINAL-Q2-22-Shareholder-Letter.pdf'\n",
    "reader = pdfplumber.open(file_path)\n",
    "\n",
    "texts = {}\n",
    "headings = []\n",
    "\n",
    "for page_number in range(0, len(reader.pages)):\n",
    "\n",
    "    # get the specific page from the pdf file\n",
    "    page = reader.pages[page_number]\n",
    "    # extract text from page\n",
    "    text = page.extract_text()\n",
    "    # add text to dictionary\n",
    "    texts[page_number] = text\n",
    "\n",
    "    # extract headings from page\n",
    "    words = page.extract_words()\n",
    "    word_count = 0\n",
    "    while word_count < len(words):\n",
    "        # find if the words are large enough to be headings\n",
    "        word_size, word_length, word_text = word_ratio_func(words[word_count])\n",
    "        heading = []\n",
    "        if word_size > 15 and word_length > 1:\n",
    "            while True:\n",
    "                heading.append(word_text)\n",
    "                word_count += 1\n",
    "                word_size, word_length, word_text = word_ratio_func(words[word_count])\n",
    "                if not word_size > 15 and word_length > 1:\n",
    "                    headings.append(\" \".join(heading))\n",
    "                    word_count += 10\n",
    "                    break\n",
    "        word_count += 1\n",
    "    # break if the page covers the reference section\n",
    "    if re.search(\"\\nReference\\n\", text):\n",
    "        break\n",
    "\n",
    "print(len(texts), \"pages extracted\")"
   ]
  },
  {
   "cell_type": "code",
   "execution_count": 12,
   "id": "a3afef6e",
   "metadata": {},
   "outputs": [
    {
     "data": {
      "text/plain": [
       "['Q2 Results',\n",
       " 'Q3 Forecast',\n",
       " 'Content, Marketing, and Product',\n",
       " 'Near Term Focus',\n",
       " 'F/X Neutral Operating Margin Disclosure',\n",
       " 'Cash Flow and Capital Structure',\n",
       " 'Environmental, Social, and Governance (ESG)',\n",
       " 'Summary',\n",
       " 'Reference']"
      ]
     },
     "execution_count": 12,
     "metadata": {},
     "output_type": "execute_result"
    }
   ],
   "source": [
    "# show the headings\n",
    "headings"
   ]
  },
  {
   "cell_type": "code",
   "execution_count": 13,
   "id": "56a93cf5",
   "metadata": {},
   "outputs": [],
   "source": [
    "# preprocess the text\n",
    "text = \"\".join(texts.values()).strip(\"●\").strip(\"*\")\n",
    "text = text.split(\"\\n\")\n",
    "text = [x for x in text if x != '' and x.startswith(\"Source\") == False]\n",
    "text = [x[0].replace(\"●\", \"\") + x[1:] if x[0] == \"●\" else x for x in text]\n",
    "text = [x[0].replace(\"*\", \"\") + x[1:] if x[0] == \"*\" else x for x in text]\n",
    "text = [x[0].replace(\"○\", \"\") + x[1:] if x[0] == \"○\" else x for x in text]\n",
    "text = [x[0].replace(\"1\", \"\") + x[1:] if x[1:3] in [\"Q1\", \"Q2\", \"Q3\", \"Q4\"] else x for x in text]\n",
    "text = text[2:]"
   ]
  },
  {
   "cell_type": "code",
   "execution_count": 16,
   "id": "ce7f662d",
   "metadata": {},
   "outputs": [],
   "source": [
    "# split the text into blocks\n",
    "# these blocks would be further used as separate prompts for the OpenAI model to summarize the whole document\n",
    "text_blocks = []\n",
    "block = []\n",
    "for element in range(len(text)):\n",
    "    if text[element] in headings:\n",
    "        if text[element] == \"Reference\":\n",
    "            break\n",
    "        text_blocks.append(block)\n",
    "        block = []\n",
    "    block.append(text[element])\n",
    "text_blocks.append(block)"
   ]
  },
  {
   "cell_type": "code",
   "execution_count": 20,
   "id": "ff8fae49",
   "metadata": {},
   "outputs": [
    {
     "data": {
      "text/plain": [
       "['Q2 was better-than-expected on membership growth, and foreign exchange was worse-than-expected',\n",
       " '(stronger US dollar), resulting in 9% revenue growth (13% constant currency). Our challenge and',\n",
       " 'opportunity is to accelerate our revenue and membership growth by continuing to improve our product,',\n",
       " 'content, and marketing as we’ve done for the last 25 years, and to better monetize our big audience.',\n",
       " 'We’re in a position of strength given our $30 billion-plus in revenue, $6 billion in operating profit last',\n",
       " 'year, growing free cash flow and a strong balance sheet. Our summary results and forecast are below.']"
      ]
     },
     "execution_count": 20,
     "metadata": {},
     "output_type": "execute_result"
    }
   ],
   "source": [
    "# show the first text block\n",
    "text_blocks[0]"
   ]
  },
  {
   "cell_type": "code",
   "execution_count": 34,
   "id": "d90e5925",
   "metadata": {},
   "outputs": [
    {
     "data": {
      "text/plain": [
       "[93, 495, 280, 120, 495, 538, 147, 72]"
      ]
     },
     "execution_count": 34,
     "metadata": {},
     "output_type": "execute_result"
    }
   ],
   "source": [
    "# find the number of words in each block\n",
    "# the number of words should be within the limit of the OpenAI prompt length (2048 tokens)\n",
    "block_word_count = []\n",
    "for block in text_blocks:\n",
    "    word_count = 0\n",
    "    for line in block:\n",
    "        word_count += len(line.split(\" \"))\n",
    "    block_word_count.append(word_count)\n",
    "block_word_count"
   ]
  },
  {
   "cell_type": "code",
   "execution_count": 31,
   "id": "feee6357",
   "metadata": {},
   "outputs": [
    {
     "name": "stdout",
     "output_type": "stream",
     "text": [
      "Q2 was better-than-expected on membership growth, and foreign exchange was worse-than-expected (stronger US dollar), resulting in 9% revenue growth (13% constant currency). Our challenge and opportunity is to accelerate our revenue and membership growth by continuing to improve our product, content, and marketing as we’ve done for the last 25 years, and to better monetize our big audience. We’re in a position of strength given our $30 billion-plus in revenue, $6 billion in operating profit last year, growing free cash flow and a strong balance sheet. Our summary results and forecast are below.\n",
      "Q2 Results Revenue in Q2 grew 9% year over year (or 13% excluding a -$339 million foreign currency impact), driven by a 6% and 2% increase in average paid memberships and ARM1, respectively. Excluding the impact of foreign exchange (F/X), ARM rose 7% year over year. The appreciation of the US dollar (USD) vs. most other currencies since our April earnings report was the primary reason for the variance to our revenue guidance forecast. We slightly under-forecasted global paid net adds in Q2 (-1.0m vs. -2.0m forecast and compared to +1.5m in the year ago quarter).  In APAC, revenue grew 23% year over year, excluding F/X. At over $900 million of revenue, APAC is approaching the size of our LATAM business. We added 1.1m paid memberships in the region (vs. 1.0m last Q2). ARM in APAC was -2% year over year on a F/X neutral basis, due to the impact from our price decrease in India last December as well as plan mix, which was partially offset by 1ARM(Average Revenue per Membership) is defined asstreaming revenue divided by the average number of streaming paid memberships divided by the number of months in the period. These figures do not include sales taxes or VAT. 1higher ARM in Korea and Australia. Excluding India, APAC ARM grew 4% year over year on a constant currency basis.  Excluding F/X, EMEA revenue and ARM increased 13% and 6% year over year, respectively, while paid net additions totaled -0.8m vs. 0.2m in the year ago quarter.  Revenue in LATAM grew 19% year over year excluding F/X and surpassed the $1 billion quarterly mark for the first time, helped by constant currency ARM growth of 15%. Paid memberships were flat sequentially (compared to 0.8m paid net adds in Q2’21).  In UCAN, ARM and revenue each increased 10% year over year, excluding the impact of F/X. Paid net adds were -1.3m vs. -0.4m in the year ago period. Retention improved over the course of the quarter and, while churn remains slightly elevated, it is now back near pre-price change levels. We’ve adjusted our cost structure for our current rate of revenue growth. This resulted in approximately $70 million of severance costs and an $80m non-cash impairment of certain real estate leases primarily related to rightsizing our office footprint. Excluding these items totaling $150 million, and the F/X impact of the stronger US dollar since our April report, operating profit and operating margin were slightly ahead of our guidance forecast. EPS of $3.20 vs. $2.97 a year ago exceeded our guidance forecast of $3.00 due to a $305 million non-cash unrealized gain from F/X remeasurement on our Euro denominated debt, which is recognized below operating income in “interest and other income.” Our approximately $5 billion of Euro bonds provides us with some natural hedge against the Euro for net income, but doesn’t affect operating income. Year to date, our gain from F/X remeasurement on our Euro debt is $467 million.\n",
      "Q3 Forecast As a reminder, the quarterly guidance we provide is our actual internal forecast at the time we report. As always, we strive for accuracy although the current uncertain macro-economic environment leads to less-than-normal visibility. The US dollar continues to strengthen meaningfully against most currencies at ahistoric pace, withthe Euro recently falling below the US dollarfor thefirst time in two decades, a significant headwind for all multinational US companies. We have high exposure to this unprecedented appreciation in the USD because nearly 60% of our revenue comes from outside the US and swings in F/X have a large flow through to operating profit as most of our expenses are in USD and don’t benefit from a stronger USD. Our Q3 revenue growth forecast of 5% translates into 12% year over year revenue growth on a constant currency basis. Similarly, excluding the impact of currency, operating profit growth would be -3% year over year (vs our forecast decline of -29%) and operating margin would be 20% (vs our forecast of 16%). As we have written in the past, over the medium term, we intend to continue to adjust our business as appropriate given the relative strength of the USD to protect our operating margin and try to avoid immediate actions that we believe could be detrimental to the business. We forecast paid net adds for Q3 of +1.0m vs. 4.4m in the year ago quarter. We continue to expect full year 2022 operating margin of 19%-20%, excluding the unanticipated $150m of restructuring costs in Q2 2noted above and the material movement in F/X from January 2022, as our guidance was set based on F/X at that time (see ourQ4’21 letter).\n",
      "Content, Marketing, and Product Last quarter, we discussed our slowing revenue growth, which we believe is the result of connected TV adoption, account sharing, competition, and macro factors such as sluggish economic growth and the impacts of the war in Ukraine. We’ve now had more time to understand these issues, as well as how best to address them. First and foremost, we need to continue to improve all aspects of Netflix. This focus on improving our core service has served us well over the past 25 years, and remains our north star to drive continuous growth. It’s why we strive for an ever better content, marketing and product experience. Also as a pure play streaming business, we’re unencumbered by legacy revenue streams. This freedom means we can offer big movies direct-to-Netflix, without the need for extended or exclusive theatrical windows, and let members binge watch TV if they want, without having to wait for a new episode to drop each week. This focus on choice and control for members influences all aspects of our strategy, creating what we believe to be a significant long term business advantage. Our content offering is designed to satisfy a broad range of member tastes by providing an unmatched variety and quality of titles. Our Q2 slate is emblematic of this approach, headlined by season four of Stranger Things, which returned to tremendous fanreception and was a smash hit by all measures - including an outstanding drama Emmy nomination (along withOzarkseason 4 andSquid Game). In its first four weeks,Stranger Thingsseason four generated1.3 billion hours viewed2, making it our biggest season of English TV ever. Season four also re-ignited interest in past episodes with season one through three experiencing a greater than five-fold increase in viewing in the month after the release of season four (vs. the prior month). Season four ofStranger Thingsalso showcased theeffectiveness of our marketing strategy in driving conversation around our titles. When we deliver shows and movies that members are talking about in large numbers, we can influence pop culture, build passion for Netflix and create an experience that is differentiated and difficult-to-replicate. For example, the show catapulted the 1985 songRunning Up That Hillto thetop of the music charts. Metallicaalso enjoyed a return to the charts in the US and UK with their 1986 songMaster of Puppetsafter beingfeatured in the new season ofStranger Things. The cumulative Twitter volume forStranger Thingscontinuesto outpace bothObi-Wan KenobiandTop Gun Maverick, highlighting the big conversation aroundthis title and reinforcing that our binge versus one week at a time release strategy drives lots of “water cooler conversation.” 2Hours viewed data is based on the first 28 days of release for each title; since some titles have multiple premiere dates, whether weekly or in parts, we count the 28 days from each episode premiere date in each country. For titles released less than 28 days (denoted with an asterisk), data is from launch date through July 17, 2022. We publish weekly our top titles based on hours viewed atNetflix Top 10. 3Source: Twitter. We also delivered a wide variety of other English language series hits in Q2, including season three of The Umbrella Academy(284m view hours*) and seasonone ofThe Lincoln Lawyer, a legal drama, which generated 277m hours viewed and has been renewed for a second season. We’ve also renewed the endearing, UK-produced young adult dramaHeartstopper(67m view hours) for another two seasons. In unscripted, audiences embraced season five ofSellingSunset, which recorded 95m view hours in its first four weeks, while the debut season of marriage reality showThe Ultimatumhad 148m view hours. In unscripted, we are also taking global formats and creating local versions. This quarter, we hadRhythm + Flow France, our rap competition show, which wasa big local success. The winner of season one, Fresh, was formerly unknown, working in a gym. But since his appearance on the show, he has become a star with his song CHOP that he performed in the finale hitting #1 on every streaming service in France. He was also invited to the Les Ardentes music festival where he performed for an audience of 15,000 people - another example of \"The Netflix Effect.\" We’re making good progress in film. The basketball dramaHustle(starring Adam Sandler) was our biggest Netflix movie in Q2 (186m hours viewed) and was loved by critics and audiences alike, followed by the comedySenior Year, starring Rebel Wilson,with 161m view hours. We continue to invest in animated features; building off our initial titles likeOver the MoonandBackto the Outback, we releasedThe Sea Beast(102m hoursviewed*) early in Q3 to audience and critical acclaim. Today, we announced that we will be acquiring leading animation studioAnimal Logic, with ~800 amazing people mostly in Sydney and Vancouver, which will help us accelerate the development of our animation production capabilities and reinforces our commitment to build a world-class animation studio. We’ve been partnering with Animal Logic for two years now, working onThe Magician’s Elephant (directed by Wendy Rogers) and the recently announcedThe Shrinking of the Treehorns(directed by Ron Howard). Together, we’ll create an animation studio that will produce some of our largest animated 4feature films. We’ll fund the purchase from our existing cash balance. The deal is subject to certain regulatory approvals and we anticipate closing later this year. We’re building on our lead in non-English programming. We want Netflix to be relevant to audiences all over the globe and our local language titles are a differentiator for us. We focus first on telling authentic stories for local impact, but we see that great stories can travel everywhere. Another example of this In Q2 wasThe Marked Heart, a Colombian series, whichfound a global audience and ended up in the top 10 in 81 countries around the world by its second week. Similarly,The Takedown, a French film, wasin the top 10 in 91 countries around the world by its second week, again showing the power of an authentic story and our ability to serve those stories - with subtitling, dubbing, and personalized discovery - for members to enjoy around the world. While we always have room to improve, we’re very pleased with how far we’ve come in providing so much satisfaction and enjoyment to our members. For instance, in the US, which is one of the most competitive markets in the world, we drewmore TVviewing time than any other outletduring the 2021-22 TV season (see chart below), nearly matching the combined total of the two most watched broadcast networks. And, as Nielsen will announce on Thursday, our share of US TV viewing reached an all-time high of 7.7% in June (vs. 6.6% in June 2021), demonstrating our ability to grow our engagement share as we continue to improve our service. Since our launch of a small selection of licensed mobile games last November, we’ve released new games every few weeks, with the portfolio growing to the current total of 24. The games are all intended to be accessible to broad audiences, and span several genres and categories, including racing with Asphalt Xtreme, the digital version of the irreverentcard gameExploding Kittens, zombies inInto the Dead 2and the knitting for cats inKnittens. We’vehad millions of our members play games through the service and we are learning about what games work for different audiences. We’re adapting our 5licensing and partner-based development activities in response to these learnings. We’ve also acquired three games studios (Night School Studios, Boss Fight Studios, and Next Games) which gives us a range of expertise in multiple geographies to accelerate the buildout of our internal development capacity. We are building a solid pipeline of new games that will launch over the next several years and are excited to see our members engage with these titles.\n",
      "Near Term Focus In the near term, a key priority to re-accelerate revenue growth is to evolve and improve our monetization. In the early days of streaming, we kept our pricing very simple with just one plan level. In 2014, we introduced three price tiers to better segment demand. Going forward, we will focus on better monetizing usage through both continued optimization of our pricing and tiering structures as well as the addition of a new, lower-priced ad-supported tier. Advertising Our lower priced advertising-supported offering will complementour existing plans, which will remain ad-free. Our global ARM has grown at a 5% compoundannual rate from 2013 to 2021, so it makes sense now to give consumers a choice for a lower priced option with advertisements, if they desire it. We recentlyannouncedMicrosoft as our technologyand sales partner and we’re targeting to launch this tier around the early part of 2023. They are investing heavily to expand their multi-billion advertising business into premium television video, and we are thrilled to be working with such a strong global partner. We’re excited by the opportunity given the combination of our very engaged audience and high quality content, which we think will attract premium CPMs from brand advertisers. We’ll likely start in a handful of markets where advertising spend is significant. Like most of our new initiatives, our intention is to roll it out, listen and learn, and iterate quickly to improve the offering. So, our advertising business in a few years will likely look quite different than what it looks like on day one. Over time, our hope is to create a better-than-linear-TV advertisement model that’s more seamless and relevant for consumers, and more effective for our advertising partners. While it will take some time to grow our member base for the ad tier and the associated ad revenues, over the long run, we think advertising can enable substantial incremental membership (through lower prices) and profit growth (through ad revenues). Paid Sharing We’re in the early stages of working to monetize the 100m+ households that are currently enjoying, but not directly paying for, Netflix. We know this will be a change for our members. As such, we have launchedtwo different approachesin Latin Americato learn more. Our goal is to find an easy-to-use paid sharing offering that we believe works for our members and our business that we can roll out in 2023. We’re encouraged by our early learnings and ability to convert consumers to paid sharing in Latin America. 6Simplicity At Netflix, focus remains very important to us. These initiatives - paid sharing and advertising - do introduce some additional complexity, but our approach has always been tokeep our business model as simple as possible within the context of our growth objectives. In this vein, these initiatives are similar to expanding into originals, launching our service across the world, and building our own studio, each of which also increased complexity but are natural extensions intended to enhance our existing business.\n",
      "F/X Neutral Operating Margin Disclosure To provide additional transparency around our operating margin, we’ll now disclose our year-to-date (YTD) operating margin based on F/X ratesat the beginningof each year. This will allow investors to see how our operating margin is tracking against our target (which was set in January of 2022 based on F/X rates at that time), absent intra-year fluctuations in F/X (which have beensubstantial in 2022). As can be seen from the table below, F/X-driven changes to our revenue have a high flow through to operating income (the operating profit impact ranges from ~75% to 80%+ of the revenue impact). This is because the bulk of our expenses don’t change with F/X fluctuations.  Based on F/X rates at the beginning of each year. YTD 2022 through June 30, 2022. Note: There were no adjustments to content amortization for the purposes of this calculation, as titles are amortized at the historical blended rate at the time of capitalization. 7Cash Flow and Capital Structure Net cash generated by operating activities in Q2 was +$103 million vs. -$64 million in the prior year period. Free cash flow (FCF)3in the quarter totaled+$13 million, compared with -$175 million in Q2’21. Cash declined $190m sequentially, primarily due to our Next Games acquisition ($69m) and the F/X impact on cash ($145m). As we’ve discussed previously, we are now self-funding. For the full year 2022, we expect FCF to be approximately +$1 billion, plus or minus a few hundred million dollars (assuming no material further movements in F/X). We expect annual positive FCF going forward (with substantial growth in FCF in 2023 vs. 2022) due to our increasing revenue, solid profitability, and the successful multi-year evolution of our content model. We’re now more than a decade into transforming our service from licensed second run content to mostly Netflix originals - including more than five years into building out our internal studio to produce the majority of our original titles (60% of our net content assets on our balance sheet are Netflix-produced). We’re now through the most cash-intensive part of that transition. As a result, our cash content spend-to-content amortization expense ratio peaked at 1.6x (along with peak negative FCF of -$3.3B in 2019) and is expected to be about 1.2-1.3x in 2022 and to decline going forward, based on our current plans, which assume no material expansion into new content categories in ‘23. 2022 estimate based on the midpoint of 1.2x-1.3x range. 3For a reconciliation of free cash flow to net cash provided by (used in) operating activities, please refer to the reconciliation in tabular form on the attached unaudited financial statements and the footnotes thereto. 8Gross debt at quarter end amounted to $14.3 billion, within our targeted range of $10-$15 billion. With cash of $5.8 billion, net debt totaled $8.5 billion, or 1.3x LTM EBITDA4. Our capital structure policy remains unchanged. The first priority for our cash is to reinvest in our core business and to fund new growth opportunities like gaming, followed by selective acquisitions. We target maintaining minimum cash equivalent to roughly two months of revenue (eg, about $5.3 billion based on Q2 revenue). After meeting those needs, our intent is to return excess cash to stockholders through share repurchases.\n",
      "Environmental, Social, and Governance (ESG) At this year’s annual meeting in June, shareholders approved proposals to declassify our board, remove supermajority voting provisions in our charter and enable shareholders to call special meetings. We’ve also changed the voting standard for our directors to simple majority in uncontested elections. Our governance structure is now similar to other large cap company governance structures. With more than one billion people living with some form of disability, we want to ensure Netflix is as accessible as possible. In Q2, we announced that we are expanding the availability of audio descriptions and subtitles for the deaf and hard of hearing to a total of 20 languages - work that recently won the prestigiousDr. Jacob Bolotin Award. We’ve also introducednew badges for our titles that have audio descriptions and subtitles on laptop and iOS, eliminating the inconvenient need to play a title first.\n",
      "Summary Reaccelerating our revenue growth is a big challenge. But we’ve been through hard times before. We’ve built this company to be flexible and adaptable and this will be a great test for us and our high performance culture. We’re fortunate to be in a position of strength as the leader in streaming entertainment by all metrics (revenue, engagement, subscribers, profit and free cash flow). We’re confident and optimistic about the future.\n"
     ]
    }
   ],
   "source": [
    "# this is to show the text blocks\n",
    "for block in text_blocks:\n",
    "    print(\" \".join(block))"
   ]
  },
  {
   "cell_type": "markdown",
   "id": "206a5016",
   "metadata": {},
   "source": [
    "### OpenAI Summarization"
   ]
  },
  {
   "cell_type": "code",
   "execution_count": 32,
   "id": "98eb5716",
   "metadata": {},
   "outputs": [],
   "source": [
    "# load credentials for OpenAI API\n",
    "import openai\n",
    "import credentials\n",
    "openai.api_key = credentials.openai_api_key"
   ]
  },
  {
   "cell_type": "code",
   "execution_count": 33,
   "id": "0a5d1f50",
   "metadata": {},
   "outputs": [],
   "source": [
    "for block in range(len(text_blocks)):\n",
    "    # if the block is too long (contains over 750 words), summarize it\n",
    "    if block_word_count[block] > 750:\n",
    "        block_text = \" \".join(text_blocks[block])\n",
    "        # use the OpenAI API to summarize the text\n",
    "        completion = openai.ChatCompletion.create(\n",
    "            model=\"gpt-3.5-turbo\",\n",
    "            messages=[\n",
    "            {\"role\": \"user\", \"content\": \"Please effectively summarize the following text: \" + block_text}\n",
    "            ])\n",
    "        # replace the long text block with the summarized version\n",
    "        text_blocks[block] = [completion.choices[0].message.content]"
   ]
  },
  {
   "cell_type": "code",
   "execution_count": 35,
   "id": "8efd3e76",
   "metadata": {},
   "outputs": [],
   "source": [
    "# flatten list of text blocks and join them into a single final prompt\n",
    "final_prompt = [item for sublist in text_blocks for item in sublist]\n",
    "final_prompt = \"\".join(final_prompt)"
   ]
  },
  {
   "cell_type": "code",
   "execution_count": 36,
   "id": "df66ee1c",
   "metadata": {},
   "outputs": [],
   "source": [
    "import tiktoken\n",
    "\n",
    "# define the number of tokens in the prompt\n",
    "def num_tokens_from_string(string: str, encoding_name: str) -> int:\n",
    "    \"\"\"Returns the number of tokens in a text string.\"\"\"\n",
    "    encoding = tiktoken.get_encoding(encoding_name)\n",
    "    # num_tokens = len(encoding.encode(string))\n",
    "    num_tokens = len(encoding.encode(string))\n",
    "    return num_tokens"
   ]
  },
  {
   "cell_type": "code",
   "execution_count": 39,
   "id": "4655909e",
   "metadata": {},
   "outputs": [
    {
     "data": {
      "text/plain": [
       "2951"
      ]
     },
     "execution_count": 39,
     "metadata": {},
     "output_type": "execute_result"
    }
   ],
   "source": [
    "# show number of tokens in prompt (max 2048 tokens for input)\n",
    "num_tokens_from_string(final_prompt, \"cl100k_base\")"
   ]
  },
  {
   "cell_type": "code",
   "execution_count": 45,
   "id": "6c61e1a9",
   "metadata": {},
   "outputs": [
    {
     "name": "stdout",
     "output_type": "stream",
     "text": [
      "Overall, the sentiment of the information for the market (Netflix company) is positive. The company acknowledges the challenges it faces in terms of slowing revenue growth but expresses confidence and optimism about its future. The information highlights the company's strengths, such as its strong revenue and profit figures, growing cash flow, and a strong balance sheet. The company emphasizes the importance of continuously improving its product, content, and marketing to drive revenue and membership growth. It also discusses its plans to monetize its audience through advertising and explore new revenue streams, such as paid sharing. The sentiment is positive, reflecting the company's confidence in its ability to navigate challenges and continue its growth trajectory.\n",
      "\n",
      "Total polarity score: 0.81\n",
      "Total subjectivity score: 0.34\n"
     ]
    }
   ],
   "source": [
    "# use the OpenAI API to generate the sentiment analysis\n",
    "completion = openai.ChatCompletion.create(\n",
    "    model=\"gpt-3.5-turbo\",\n",
    "    messages=[\n",
    "        {\"role\": \"user\",\n",
    "          \"content\": \"Please tell me about the sentiment (positive, negative, neutral) of this information for the market (Netflix company) Please, be consice and lucid. Calculate the total polarity and subjectivity scores on the range -1 to 1. Don't forget to give me these scores\" + final_prompt}\n",
    "    ]\n",
    ")\n",
    "\n",
    "# show the sentiment analysis\n",
    "print(completion.choices[0].message.content)"
   ]
  },
  {
   "cell_type": "markdown",
   "id": "1fd428d8",
   "metadata": {},
   "source": [
    "### OpenAI Fine Tuning"
   ]
  },
  {
   "cell_type": "code",
   "execution_count": 23,
   "id": "b43b15a2",
   "metadata": {},
   "outputs": [
    {
     "name": "stdout",
     "output_type": "stream",
     "text": [
      "Sentiment: Neutral\n",
      "\n",
      "The information provided in this statement is mainly regarding the financial performance and future forecast of Netflix. The statement discusses the Q2 results and the challenges and opportunities for the company to increase its revenue and membership. The company discusses its focus on improving product, content, and marketing. The statement also mentions the introduction of a new lower-priced ad-supported tier that will be launched in the early part of 2023. The company also discusses its goal to monetize the 100m+ households that are currently enjoying but not directly paying for Netflix. The company's focus on accessibility for people with disabilities is also mentioned. \n",
      "\n",
      "Polarity Score: 0.041\n",
      "\n",
      "Subjectivity Score: 0.284\n"
     ]
    }
   ],
   "source": [
    "# run the request for ChatGPT\n",
    "\n",
    "fine_tune_messages = {\"role\": \"system\", \"content\":\n",
    "                \"You are a helpful financial assistant who is expert in evaluating sentiment scores for financial statements \\\n",
    "               You give precise answers to questions \\\n",
    "               the quality of your answers is highly important, you never hallucinate answers - only \\\n",
    "               answering based on your knowledge. Where the answer requires creative thought you engage \\\n",
    "               in reflective internal dialogue to ascertain the best answer\"\n",
    "}\n",
    "\n",
    "user_content = \"Please tell me about the sentiment (positive, negative, neutral) of this information (Netflix) for the investors. \\\n",
    "                Please, be consice and lucid. \\\n",
    "                Calculate the total polarity and subjectivity scores on the range -1 to 1 (show scores in the beginning of your output): \"\n",
    "\n",
    "\n",
    "completion = openai.ChatCompletion.create(\n",
    "  model=\"gpt-3.5-turbo\",\n",
    "  messages=[\n",
    "      fine_tune_messages,\n",
    "    {\"role\": \"user\", \"content\": user_content + final_prompt}\n",
    "  ]\n",
    ")\n",
    "\n",
    "print(completion.choices[0].message.content)"
   ]
  }
 ],
 "metadata": {
  "kernelspec": {
   "display_name": "Python 3 (ipykernel)",
   "language": "python",
   "name": "python3"
  },
  "language_info": {
   "codemirror_mode": {
    "name": "ipython",
    "version": 3
   },
   "file_extension": ".py",
   "mimetype": "text/x-python",
   "name": "python",
   "nbconvert_exporter": "python",
   "pygments_lexer": "ipython3",
   "version": "3.10.8"
  }
 },
 "nbformat": 4,
 "nbformat_minor": 5
}
