{
 "cells": [
  {
   "cell_type": "code",
   "execution_count": 68,
   "id": "0cd7810b",
   "metadata": {},
   "outputs": [],
   "source": [
    "# Import libraries\n",
    "import pandas as pd\n",
    "import numpy as np\n",
    "import matplotlib.pyplot as plt\n",
    "import seaborn as sns\n",
    "import requests\n",
    "import os\n",
    "import re\n",
    "from tqdm.notebook import tqdm\n",
    "from difflib import SequenceMatcher\n",
    "import pdfplumber\n",
    "# import local .py file\n",
    "from scrapepdf import scrape_pdf"
   ]
  },
  {
   "cell_type": "code",
   "execution_count": 47,
   "id": "9f024aca",
   "metadata": {},
   "outputs": [],
   "source": [
    "# Define similarity function\n",
    "def similar(a, b):\n",
    "    return SequenceMatcher(None, a, b).ratio()"
   ]
  },
  {
   "cell_type": "code",
   "execution_count": 69,
   "id": "ecf79796",
   "metadata": {},
   "outputs": [],
   "source": [
    "# Get file paths for the pdf files\n",
    "folder_path = \"ShareholderLetters/\" # put / at the end to get all files in the folder\n",
    "file_paths = []\n",
    "for root, directories, files in os.walk(folder_path):\n",
    "    for filename in files:\n",
    "        filepath = os.path.join(root, filename)\n",
    "        file_paths.append(filepath)"
   ]
  },
  {
   "cell_type": "code",
   "execution_count": 70,
   "id": "c704593a",
   "metadata": {},
   "outputs": [],
   "source": [
    "# Scrape pdf files and store the text and headings in a dictionary\n",
    "pdf_texts, pdf_headings = scrape_pdf(file_paths) # total run time: 2 min 20 s"
   ]
  },
  {
   "cell_type": "code",
   "execution_count": 72,
   "id": "32823d6f",
   "metadata": {},
   "outputs": [
    {
     "data": {
      "text/plain": [
       "[('COMBINED-Q4-17-Shareholder-Letter-FINAL',\n",
       "  \"We had a beautiful Q4, completing a great year as internet TV expands globally. In 2017, we grew streaming revenue 36% to over $11 billion, added 24 million new memberships (compared to 19 million in 2016), achieved for the first time a full-year positive international contribution profit, and more than doubled global operating income. . Q4 Results Average paid streaming memberships rose 25% year over year in Q4. Combined with a 9% increase in ASP, global streaming revenue growth amounted to 35%. Operating income of $245 million (7.5% margin) vs. $154 million prior year (6.2% margin) was slightly above our $238 million forecast. Operating margin for FY17 was 7.2%, on target with our goal at the beginning of this year. EPS was $0.41 vs. $0.15 last year and met our forecast of $0.41. There were several below the line items that affected net income, including a pre-tax $26 million non-cash unrealized loss from F/X remeasurement on our Eurobond. Our tax rate was helped by a $66 million foreign tax benefit, which partially offset a revaluation of our deferred tax assets and the impact from the mandatory deemed repatriation of accumulated foreign earnings related to the recent US tax reform. In Q4, we registered global net adds of 8.3 million, the highest quarter in our history and up 18% vs. last year’s record 7.05 million net adds. This exceeded our 6.3m forecast due primarily to stronger than expected acquisition fueled by our original content slate and the ongoing global adoption of internet entertainment. Geographically, the outperformance vs. guidance was broad-based. In the US, memberships rose by 2.0 million (vs. forecast of 1.25m) bringing total FY17 net adds to 5.3 million. ASP rose 5% year-over-year. Domestic contribution profit increased 5% year-over-year although contribution margin of 34.4% declined both on a year-over-year and sequential basis due to the marketing spend we noted in last quarter’s investor letter. Internationally, we added 6.36 million memberships (compared with guidance of 5.05m), a new record for quarterly net adds for this segment. Excluding a F/X impact of +$43 million, international revenue and ASP grew 59% and 12% year over year, respectively. The increase in ASP reflects price adjustments in a wide variety of our markets over the course of 2017. With contribution profit of $227 million in 2017 (4.5% contribution margin), the international segment delivered its first full year of positive contribution profit in our history. We took a $39m non-cash charge in Q4 for unreleased content we’ve decided not to move forward with. This charge was recognized in content expense in cost of revenues. Despite this unexpected expense, we slightly exceeded our contribution profit and operating income forecast due to our stronger than expected member growth and the timing of international content spend. Forecast The guidance we provide is our internal forecast at the time we report. For Q1, we project global net adds of 6.35 million (vs. 5.0m in the year ago quarter), with 1.45m in the US and 4.90m internationally. As we wrote last quarter, our primary profit metric is operating margin and we are targeting a full year 2018 target of 10%, up about 300 basis points year over year, as in the prior year. We believe our big investments in content are paying off. In 2017, average streaming hours per membership grew by 9% year-over-year. With greater than expected member growth (resulting in more revenue), we now plan to spend $7.5-$8.0 billion on content on a P&L basis in 2018. 2Big hits like 13 Reasons Why, Stranger Things and Bright result from a combination of great content and \\u200b \\u200b \\u200b \\u200b \\u200b \\u200b great marketing. We’re taking marketing spend up a little faster than revenue for this year (from about $1.3B to approximately $2B) because our testing results indicate this is wise. We want great content, and we want the budget to make the hits we have really big, to drive our membership growth. We’ll grow our technology & development investment to roughly $1.3 billion in 2018. Content Q4 capped an amazing year for Netflix original content with returning seasons of The Crown and Black \\u200b \\u200b \\u200b Mirror as well as Stranger Things, which cemented its place as a global phenomenon. In the quarter, we \\u200b \\u200b \\u200b \\u200b\\u200b also successfully launched new titles like the limited series Godless, Marvel’s The Punisher and \\u200b \\u200b \\u200b \\u200b Mindhunter (from director David Fincher), the latter two of which are renewed for a second season. It’s \\u200b amazing to think that in only 5 years since launching our first original series, Netflix had three of the Top \\u200b 5 most searched TV shows globally for the second year in a row. \\u200b Our largest investment in original films to date, Bright, a fantasy action movie starring Will Smith, was a \\u200b \\u200b major success and drove a notable lift in acquisition. In its first month, Bright has become one of our \\u200b \\u200b most viewed original titles ever. We’re thrilled with this performance and are planning a sequel as well as additional investment in original films. We’re finding continued success with international originals and in Q4 we released: season 3 of Club de \\u200b Cuervos as well as The Day I Met El Chapo, both of which are from Mexico; Suburra from Italy; and an \\u200b \\u200b \\u200b \\u200b \\u200b unscripted series from the UK, Jack Whitehall: Travels with My Father. We also debuted Dark, our first \\u200b \\u200b \\u200b \\u200b German original drama series. High-quality content can travel globally, irrespective of language; for instance, Dark, in addition to being well-received in its home country, has also been viewed by millions \\u200b \\u200b of members in the US and has outsized watching throughout Europe and Latin America. Combined with attractive economics and a positive impact on our business in local markets, we will expand this initiative with over 30 international original series this year, including projects from France, Poland, India, Korea and Japan. We are increasingly self-producing our original content. As part of this initiative, in Q4 we signed overall deals with Stranger Things producer Shawn Levy and Orange is the New Black and GLOW creator Jenji \\u200b \\u200b \\u200b \\u200b \\u200b \\u200b Kohan. Our goal is to work directly with the best talent to bring amazing stories to our members all over the world. Product and Partnerships We are partnering with a growing number of MVPDs and ISPs across the world to the benefit of our mutual customers. These partnerships make it easier for consumers to sign up, enjoy and pay for Netflix, while our service allows our partners to deepen their relationships with these subscribers. Examples of these types of partnerships that we struck in Q4 include an expanded global partnership with Deutsche Telekom and with Cox Communications and Verizon Communications in the US. As expected, the FCC removed the US net neutrality rules. We believe that a strong internet should have enforceable net 3neutrality rules, so we and other internet firms are backing the Internet Association’s challenge to the FCC’s action. Competition We have been talking about the transition from linear to streaming for the past 10 years. As this trend becomes increasingly evident, more companies are entering the market for premium video content. On the commercial-free tech side, Amazon Studios is likely to bring in a strong new leader given their large content budgets, and Apple is growing its programming, which we presume will either be bundled with Apple Music or with iOS. Facebook and YouTube are expanding and competing in free ad-supported video content. With their multi-billion global audiences, free ad-supported internet video is a big force in the market for entertainment time, as well as a great advertising vehicle for Netflix. Traditional media companies are also expanding into streaming. Disney is in the process of acquiring most of 21st Century Fox and plans to launch a direct-to-consumer service in 2019 with a beloved brand and great franchises. The market for entertainment time is vast and can support many successful services. In addition, entertainment services are often complementary given their unique content offerings. We believe this is largely why both we and Hulu have been able to succeed and grow. Free Cash Flow and Capital Structure In Q4, free cash flow amounted to -$524 million, bringing full year 2017 FCF to -$2.0 billion, at the lower end of the -$2.0 to -$2.5 billion range we had previously indicated. This was largely due to the timing of content payments, which will now occur in 2018. Our operating margins and income are rising, and our only material cash-ahead-of-P&L-expense is content. When we develop a title like Bright, the cash spend is 1-3 years before the viewing, associated \\u200b \\u200b membership growth, and P&L expense. Thus, the faster we grow our originals budget (particularly for self-produced content), the more cash we consume. We are increasing operating margins and expect that in the future, a combination of rising operating profits and slowing growth in original content spend will turn our business FCF positive. In the near term, however, membership, revenue and original content spend are booming. We’re growing faster than we expected, which allows us to invest more in original content than we had planned, so our FCF will be around negative $3B-$4B in 2018. Given our track record of content investments helping to increase growth, we are excited about the growth in future years from the increased investments we are making in original content this year. We anticipate continuing to raise capital in the high yield market. The new limitation on deductibility of interest costs is not expected to affect us. We are striving to make the right choices and investments to grow the value of the firm, and that is what also ultimately secures our debt. High yield has rarely seen an equity cushion so thick. 4Board of Directors We are pleased to add Rodolphe Belmer to our board of directors. Rodolphe is the former CEO of Canal+ \\u200b \\u200b Group in France, and is currently CEO of Eutelsat, a global satellite business. A large and growing percentage of our members are European, and we are fortunate to have a leader like Rodolphe join our board. Summary Our goal is to entertain people. We are thrilled to be able to do that at great scale. For quick reference, our eight most recent investor letters are: October 2017, July 2017, April 2017, \\u200b \\u200b \\u200b \\u200b \\u200b \\u200b January 2017, October 2016, July 2016, April 2016, January, 2016. \\u200b \\u200b \\u200b \\u200b \\u200b \\u200b \\u200b \\u200b \\u200b January 22, 2018 Earnings Interview, 3pm PST Our video interview with Todd Juenger of Bernstein will be on youtube/netflixir at 3pm PST today. \\u200b \\u200b Questions that investors would like Todd to ask should be sent to todd.juenger@bernstein.com. Reed \\u200b \\u200b \\u200b Hastings, CEO, David Wells, CFO, Ted Sarandos, Chief Content Officer, Greg Peters, Chief Product Officer and Spencer Wang, VP of IR/Corporate Development will be answering Todd’s questions. IR Contact: PR Contact: Spencer Wang Jonathan Friedland Vice President, Finance/IR & Corporate Development Chief Communications Officer 408 809-5360 310 734-2958 Use of Non-GAAP Measures This shareholder letter and its attachments include reference to the non-GAAP financial measure of free cash flow and EBITDA. Management believes that free cash flow and EBITDA are important liquidity metrics because they measure, during a given period, the amount of cash generated that is available to repay debt obligations, make investments and for certain other activities or the amount of cash used in operations, including investments in global streaming content. However, these non-GAAP measures should be considered in addition to, not as a substitute for or superior to, net income, operating income, diluted earnings per share and net cash provided by operating activities, or other financial measures prepared in accordance with GAAP. Reconciliation to the GAAP equivalent of these non-GAAP measures are contained in tabular form on the attached unaudited financial statements. Forward-Looking Statements This shareholder letter contains certain forward-looking statements within the meaning of the federal securities laws, including statements regarding our investments in marketing, technology and 5development, and content, including original content; content and product partnerships; impact of U.S. net neutrality rules; growth of internet video and competitive landscape; future capital raises; expectations of positive free cash flow, impact of the new limitation on the deductibility of interest; domestic and international net, total and paid subscribers; revenue; contribution profit (loss) and contribution margin for both domestic and international operations, as well as consolidated operating income, operating margin; net income, earnings per share and free cash flow. The forward-looking statements in this letter are subject to risks and uncertainties that could cause actual results and events to differ, including, without limitation: our ability to attract new members and retain existing members; our ability to compete effectively; maintenance and expansion of device platforms for streaming; fluctuations in consumer usage of our service; service disruptions; production risks; actions of Internet Service Providers; and, competition, including consumer adoption of different modes of viewing in-home filmed entertainment. A detailed discussion of these and other risks and uncertainties that could cause actual results and events to differ materially from such forward-looking statements is included in our filings with the Securities and Exchange Commission, including our Annual Report on Form 10-K filed with the Securities and Exchange Commission on January 27, 2017. The Company provides internal forecast numbers. Investors should anticipate that actual performance will vary from these forecast numbers based on risks and uncertainties discussed above and in our Annual Report on Form 10-K. We undertake no obligation to update forward-looking statements to reflect events or circumstances occurring after the date of this shareholder letter. 6Netflix, Inc. Consolidated Statements of Operations (unaudited) (in thousands, except per share data) Three Months Ended Twelve Months Ended December 31, September 30, December 31, December 31, December 31, 2017 2017 2016 2017 2016 Revenues $ 3,285,755 $ 2,984,859 $ 2,477,541 $ 11,692,713 $ 8,830,669 Cost of revenues 2,107,354 1,992,980 1,654,419 7,659,666 6,029,901 Marketing 419,939 312,490 284,996 1,278,022 991,078 Technology and development 273,351 255,236 225,191 1,052,778 852,098 General and administrative 239,808 215,526 159,001 863,568 577,799 Operating income 245,303 208,627 153,934 838,679 379,793 Other income (expense): Interest expense (75,292) (60,688) (43,586) (238,204) (150,114) Interest and other income (expense) (38,681) (31,702) (20,079) (115,154) 30,828 Income before income taxes 131,330 116,237 90,269 485,321 260,507 Provision for (benefit from) income taxes (54,187) (13,353) 23,521 (73,608) 73,829 Net income $ 185,517 $ 129,590 $ 66,748 $ 558,929 $ 186,678 Earnings per share: Basic $ 0.43 $ 0.30 $ 0.16 $ 1.29 $ 0.44 Diluted $ 0.41 $ 0.29 $ 0.15 $ 1.25 $ 0.43 Weighted-average common shares outstanding: Basic 433,108 432,404 429,738 431,885 428,822 Diluted 448,142 447,362 440,063 446,814 438,652 7Netflix, Inc. Consolidated Balance Sheets (unaudited) (in thousands, except share and par value data) As of December 31, December 31, 2017 2016 Assets Current assets: Cash and cash equivalents $ 2,822,795 $ 1,467,576 Short-term investments — 266,206 Current content assets, net 4,310,934 3,726,307 Other current assets 536,245 260,202 Total current assets 7,669,974 5,720,291 Non-current content assets, net 10,371,055 7,274,501 Property and equipment, net 319,404 250,395 Other non-current assets 652,309 341,423 Total assets $ 19,012,742 $ 13,586,610 Liabilities and Stockholders' Equity Current liabilities: Current content liabilities $ 4,173,041 $ 3,632,711 Accounts payable 359,555 312,842 Accrued expenses 315,094 197,632 Deferred revenue 618,622 443,472 Total current liabilities 5,466,312 4,586,657 Non-current content liabilities 3,329,796 2,894,654 Long-term debt 6,499,432 3,364,311 Other non-current liabilities 135,246 61,188 Total liabilities 15,430,786 10,906,810 Stockholders' equity: Common stock 1,871,396 1,599,762 Accumulated other comprehensive loss (20,557) (48,565) Retained earnings 1,731,117 1,128,603 Total stockholders' equity 3,581,956 2,679,800 Total liabilities and stockholders' equity $ 19,012,742 $ 13,586,610 8Netflix, Inc. Consolidated Statements of Cash Flows (unaudited) (in thousands) Three Months Ended Twelve Months Ended December 31, September 30, December 31, December 31, December 31, 2017 2017 2016 2017 2016 Cash flows from operating activities: Net income $ 185,517 $ 129,590 $ 66,748 $ 558,929 $ 186,678 Adjustments to reconcile net income to net cash used in operating activities: Additions to streaming content assets (2,477,659) (2,315,017) (2,102,841) (9,805,763) (8,653,286) Change in streaming content liabilities 53,446 (34,587) 98,525 900,006 1,772,650 Amortization of streaming content assets 1,713,863 1,627,477 1,330,508 6,197,817 4,788,498 Amortization of DVD content assets 12,289 13,259 19,206 60,657 78,952 Depreciation and amortization of property, equipment and intangibles 19,073 19,238 14,189 71,911 57,528 Stock-based compensation expense 48,530 44,763 43,646 182,209 173,675 Excess tax benefits from stock-based compensation — — (27,720) — (65,121) Other non-cash items 14,126 9,896 9,430 57,207 40,909 Foreign currency remeasurement loss on long-term debt 25,740 50,830 — 140,790 — Deferred taxes (104,132) (57,090) (26,706) (208,688) (46,847) Changes in operating assets and liabilities: Other current assets (87,090) (41,399) (1,679) (234,090) 46,970 Accounts payable 63,969 34,029 15,540 74,559 32,247 Accrued expenses (5,169) 74,006 (3,582) 114,337 68,706 Deferred revenue 83,197 32,947 16,266 177,974 96,751 Other non-current assets and liabilities (33,657) (7,549) (8,690) (73,803) (52,294) Net cash used in operating activities (487,957) (419,607) (557,160) (1,785,948) (1,473,984) Cash flows from investing activities: Acquisitions of DVD content assets (10,507) (10,217) (18,797) (53,720) (77,177) Purchases of property and equipment (21,585) (33,963) (61,048) (173,302) (107,653) Change in other assets (3,749) (1,107) (1,617) (6,689) (941) Purchases of short-term investments — (2,799) (5,603) (74,819) (187,193) Proceeds from sale of short-term investments — 250,278 83,797 320,154 282,484 Proceeds from maturities of short-term investments — — 27,690 22,705 140,245 Net cash provided by (used in) investing activities (35,841) 202,192 24,422 34,329 49,765 Cash flows from financing activities: Proceeds from issuance of debt 1,600,000 — 1,000,000 3,020,510 1,000,000 Issuance costs (16,828) (312) (10,700) (32,153) (10,700) Proceeds from issuance of common stock 14,705 34,669 25,392 88,378 36,979 Excess tax benefits from stock-based compensation — — 27,720 — 65,121 Other financing activities 66 65 60 255 230 Net cash provided by financing activities 1,597,943 34,422 1,042,472 3,076,990 1,091,630 Effect of exchange rate changes on cash and cash equivalents 2,181 10,685 (11,316) 29,848 (9,165) Net increase (decrease) in cash and cash equivalents 1,076,326 (172,308) 498,418 1,355,219 (341,754) Cash and cash equivalents, beginning of period 1,746,469 1,918,777 969,158 1,467,576 1,809,330 Cash and cash equivalents, end of period $ 2,822,795 $ 1,746,469 $ 1,467,576 $ 2,822,795 $ 1,467,576 Three Months Ended Twelve Months Ended December 31, September 30, December 31, December 31, December 31, 2017 2017 2016 2017 2016 Non-GAAP free cash flow reconciliation: Net cash used in operating activities $ (487,957) $ (419,607) $ (557,160) $ (1,785,948) $ (1,473,984) Acquisitions of DVD content assets (10,507) (10,217) (18,797) (53,720) (77,177) Purchases of property and equipment (21,585) (33,963) (61,048) (173,302) (107,653) Change in other assets (3,749) (1,107) (1,617) (6,689) (941) Non-GAAP free cash flow $ (523,798) $ (464,894) $ (638,622) $ (2,019,659) $ (1,659,755) 9Netflix, Inc. Segment Information (unaudited) (in thousands) As of / Three Months Ended As of/ Twelve Months Ended December 31, September 30, December 31, December 31, December 31, 2017 2017 2016 2017 2016 Domestic Streaming Total memberships at end of period 54,750 52,772 49,431 54,750 49,431 Paid memberships at end of period 52,810 51,345 47,905 52,810 47,905 Revenues $ 1,630,274 $ 1,547,210 $ 1,403,462 $ 6,153,025 $ 5,077,307 Cost of revenues 873,372 864,408 761,479 3,319,230 2,855,789 Marketing 195,784 128,901 105,589 553,331 382,832 Contribution profit 561,118 553,901 536,394 2,280,464 1,838,686 International Streaming Total memberships at end of period 62,832 56,476 44,365 62,832 44,365 Paid memberships at end of period 57,834 52,678 41,185 57,834 41,185 Revenues $ 1,550,329 $ 1,327,435 $ 947,666 $ 5,089,191 $ 3,211,095 Cost of revenues 1,191,497 1,081,485 834,794 4,137,911 2,911,370 Marketing 224,155 183,589 179,407 724,691 608,246 Contribution profit (loss) 134,677 62,361 (66,535) 226,589 (308,521) Domestic DVD Total memberships at end of period 3,383 3,569 4,114 3,383 4,114 Paid memberships at end of period 3,330 3,520 4,029 3,330 4,029 Revenues $ 105,152 $ 110,214 $ 126,413 $ 450,497 $ 542,267 Cost of revenues 42,485 47,087 58,146 202,525 262,742 Contribution profit 62,667 63,127 68,267 247,972 279,525 Consolidated Revenues $ 3,285,755 $ 2,984,859 $ 2,477,541 $ 11,692,713 $ 8,830,669 Cost of revenues 2,107,354 1,992,980 1,654,419 7,659,666 6,029,901 Marketing 419,939 312,490 284,996 1,278,022 991,078 Contribution profit 758,462 679,389 538,126 2,755,025 1,809,690 Other operating expenses 513,159 470,762 384,192 1,916,346 1,429,897 Operating income 245,303 208,627 153,934 838,679 379,793 Other expense (113,973) (92,390) (63,665) (353,358) (119,286) Provision for (benefit from) income taxes (54,187) (13,353) 23,521 (73,608) 73,829 Net income $ 185,517 $ 129,590 $ 66,748 $ 558,929 $ 186,678 10Netflix, Inc. Non-GAAP Information (unaudited) (in thousands) December 31, March 31, June 30, September 30, December 31, 2016 2017 2017 2017 2017 Non-GAAP Adjusted EBITDA reconciliation: GAAP net income $ 66,748 $ 178,222 $ 65,600 $ 129,590 $ 185,517 Add: Interest and other (income) expense 63,665 33,150 113,845 92,390 113,973 Provision for (benefit from) income taxes 23,521 45,570 (51,638) (13,353) (54,187) Depreciation and amortization of property, equipment and intangibles 14,189 15,049 18,551 19,238 19,073 Stock-based compensation expense 43,646 44,888 44,028 44,763 48,530 Adjusted EBITDA $ 211,769 $ 316,879 $ 190,386 $ 272,628 $ 312,906 11\"),\n",
       " ('FINAL-Q1-20-Shareholder-Letter',\n",
       "  'In our 20+ year history, we have never seen a future more uncertain or unsettling. The coronavirus has reached every corner of the world and, in the absence of a widespread treatment or vaccine, no one knows how or when this terrible crisis will end. What’s clear is the escalating human cost in terms of lost lives and lost jobs, with tens of millions of people now out of work. At Netflix, we’re acutely aware that we are fortunate to have a service that is even more meaningful to people confined at home, and which we can operate remotely with minimal disruption in the short to medium term. Like other home entertainment services, we’re seeing temporarily higher viewing and increased membership growth. In our case, this is offset by a sharply stronger US dollar, depressing our international revenue, resulting in revenue-as-forecast. We expect viewing to decline and membership \\u200b growth to decelerate as home confinement ends, which we hope is soon. By helping people connect with stories they love, we are able to provide comfort and escape as well as a sense of community during this pandemic. So our focus has been on maintaining the quality of our service while our employees around the world adapt to working from home. For the most part, this has gone smoothly. Our product teams, for example, have been relatively unaffected. As a precaution, we have temporarily reduced the number of product innovations we try, while continuing to release features that we know will add meaningful value for our members, such as improved parental controls. However, we have seen significant disruption when it comes to customer support and content production. On the customer support side, we’ve now fixed most of our work-from-home challenges. In addition, we’ve taken on another 2,000 agents (all working remotely), so our customer service levels are almost fully restored despite the increased demand. When it comes to production, almost all filming has now been stopped globally, with the exception of a few countries like Korea and Iceland. This has been devastating for millions of workers in the TV and film industry - electricians, hair and make-up artists, carpenters and drivers who are often paid hourly wages and work project-to-project. In March, we created a $100 million fund to help with hardship in the industry, starting with the hardest \\u200b \\u200b hit workers on our productions, where Netflix has the greatest responsibility. We will have paid these crews for about seven weeks, with the goal of providing a bridge until government safety nets kick in. In addition, we’re donating $30 million to third parties and non-profits, providing emergency relief to out-of-work crew and cast across the broader TV and film industry in countries where we have a large production base. This includes donations of $1 million each to the SAG-AFTRA Foundation COVID-19 Disaster Fund, the \\u200b \\u200b Motion Picture and Television Fund and the Actors Fund Emergency Assistance in the US, and $1 million \\u200b \\u200b \\u200b between the AFC and Fondation des Artistes in Canada. These are all well established hardship funds. In \\u200b \\u200b \\u200b \\u200b 1other countries where no such funds exist, we’ve been working to set them up, including in the UK (£1 million) with the British Film Institute, in Italy ( 1 million) with the Italian Film Commission, in France ( 1 \\u200b \\u200b € \\u200b \\u200b € million) with Audiens, in Brazil (R$5 million) with the Brazilian Institute of Audiovisual Content, in Mexico \\u200b \\u200b \\u200b \\u200b ($1 million) with the Mexican Academy of Film Arts and Sciences, in Spain (€1 million) with the Ministry \\u200b \\u200b \\u200b \\u200b \\u200b of Culture and Sport, Accion Cultural and the Film Academy and in the Netherlands (€1 million) with the \\u200b \\u200b \\u200b Netherlands Film Fund. \\u200b In total, we have committed to spend $150 million supporting the industry through this crisis. Netflix’s culture is designed to empower decision making at all levels of the company. Throughout this crisis, our employees have been working tirelessly to maintain the quality of our service and to find quick, practical solutions to the problems Netflix and our partners face. For example, within two weeks of the shelter-in-place orders coming into effect in Los Angeles, most of our animation production team was back up and running, working from home. On the post production side, we’ve been able to get 200+ projects going remotely. Most of our series writers’ rooms are operating virtually. However, we’ve been unable to create dubs in Italian and some other languages due to home confinement of our voice talent for a handful of titles launching in April and May. But we hope that with the help of guilds around the world, voice actors can be set up from home, ensuring that they can stay safe and continue to earn a living. Similar efforts are underway for both music and visual effects. This pandemic has demonstrated the importance of a strong Internet like never before. Over the years, we’ve invested heavily in Open Connect, a pioneering caching system that puts our library of content as close to members’ homes as possible. This enables ISPs to run their networks more efficiently and at a lower cost. However, given the surge in internet use, networks in some countries have struggled to cope. In March, we were asked by a number of governments and ISPs to temporarily reduce the network traffic of our members. Using our Open Connect technology, our engineering team was able to respond immediately, reducing network use by 25 percent virtually overnight in those countries, while also \\u200b \\u200b substantially maintaining the quality of our service, including in higher definition. We’re now working with ISPs to help increase capacity so that we can lift these limitations as conditions improve. Netflix employees have been outstanding and to help them support their local communities, we’ve doubled our charitable match giving program for 2020. So for every $1 donated by our employees to an organization, we now donate an additional $2 to that organization. Last, and most important of all, we want to say thank you on behalf of all our employees to the heroic doctors, nurses and first responders fighting this pandemic on the frontlines and the grocery, restaurant and other essential workers who take risks to make sure our families are fed and taken care of. We are truly inspired and humbled by you. Our summary results for Q1 and our Q2 forecast can be found in the table below. 2Q1 Results and Q2 Forecast Despite paid net additions that were higher than forecast, revenue was in-line with our guidance due to the appreciation in the US dollar vs. other currencies. Excluding a -$115m impact from F/X, streaming ARPU grew 8% year over year. Operating margin of 16.6% (vs. 10.2% in the prior year quarter) was lower than our 18.0% forecast as we incurred $218m in incremental content costs due to paused productions and hardship fund commitments (a 3.8 percentage point impact to operating margin). There are three primary effects on our financial performance from the crisis. First, our membership growth has temporarily accelerated due to home confinement. Second, our international revenue will be less than previously forecast due to the dollar rising sharply. Third, due to the production shutdown, some cash spending on content will be delayed, improving our free cash flow, and some title releases will be delayed, typically by a quarter. More on each of these three effects below. During the first two months of Q1, our membership growth was similar to the prior two years, including in UCAN. Then, with lockdown orders in many countries starting in March, many more households joined Netflix to enjoy entertainment. This timing of paid membership additions also affected our Q1’20 global streaming ARPU; this was the primary driver of the sequential decline in streaming ARPU as the revenue impact from these additions late in the quarter will be mostly felt in Q2’20 and beyond. Hopefully, progress against the virus will allow governments to lift the home confinement soon. As that happens, we expect viewing and growth to decline. Our internal forecast and guidance is for 7.5 million global paid net additions in Q2. Given the uncertainty on home confinement timing, this is mostly guesswork. The actual Q2 numbers could end up well below or well above that, depending on many 3factors including when people can go back to their social lives in various countries and how much people take a break from television after the lockdown. Some of the lockdown growth will turn out to be pull-forward from the multi-year organic growth trend, resulting in slower growth after the lockdown is lifted country-by-country. Intuitively, the person who didn’t join Netflix during the entire confinement is not likely to join soon after the confinement. Plus, last year we had new seasons of Money Heist and \\u200b \\u200b Stranger Things in Q3, which were not planned for this year’s Q3. Therefore, we currently guess that \\u200b Q3’20 and Q4’20 will have lower net additions than last year due to these effects. Second, partially due to the crisis, the US dollar has appreciated significantly, which creates a drag on international revenue growth. As an example, the price for our standard plan in Brazil is R$33, which used to be $8.5 last year but now is $6.5 based on April 2020 F/X rates, so we have a ~25% decline in US dollar average subscription price from Brazil, which offsets strong membership growth. Third, we’ve paused most of our productions across the world in response to government lockdowns and guidance from local public health officials. In Q2, there is only a modest impact on our new releases, which is primarily language dubbing. No one knows how long it will be until we can safely restart physical production in various countries, and, once we can, what international travel will be possible, and how negotiations for various resources (e.g., talent, stages, and post-production) will play out. The impact on us is less cash spending this year as some content projects are pushed out. We are working hard to complete the content we know our members want and we’re complementing this effort with additional licensed films and series. Our content competitors and suppliers will be impacted about as much as we are, in terms of new titles. Since we have a large library with thousands of titles for viewing and very strong recommendations, our member satisfaction may be less impacted than our peers’ by a shortage of new content, but it will take time to tell. We continue to target a 16% operating margin for the full year 2020, despite the extra costs in Q1. As a reminder, more than half of our revenue is not denominated in US dollars and we don’t hedge our foreign exchange exposure. If the US dollar remains at these elevated levels (or strengthens further), we may target modestly slower growth in our annual operating margin progression next year. Given that lead time, we believe we can readjust our model to be appropriate in that new stronger US dollar world. Content As people shelter at home, our hope is that we can help make that experience more bearable by providing a diverse range of high quality content for our members. While our productions are largely paused around the world, we benefit from a large pipeline of content that was either complete and ready for launch or in post-production when filming stopped. For Q2, we’re looking forward to releasing all of our originally planned shows and films (with some language dubbing impacts on a few titles). We’re also finding ways to bolster our programming this year - including the recent acquisition of Paramount’s and Media Rights Capital’s The Lovebirds, a comedy \\u200b \\u200b starring Issa Rae and Kumail Nanjiani, for Q2’20 and Legendary Pictures’ Enola Holmes starring Millie \\u200b \\u200b Bobby Brown, Helena Bonham Carter, Henry Cavill, and Sam Claflin, for Q3 ‘20. So, while we’re certainly 4impacted by the global production pause, we expect to continue to be able to provide a terrific variety of new titles throughout 2020 and 2021. Our Q1 slate highlighted the variety of content that people enjoy en masse all over the world on Netflix: scripted English language series like Ozark season 3 (a projected 29m member households will have \\u200b \\u200b chosen to watch this season in its first four weeks), the riveting docu-series Tiger King: Murder, Mayhem \\u200b and Madness (64m), our breakthrough unscripted dating show Love is Blind (30m), original film Spenser \\u200b \\u200b \\u200b \\u200b Confidential (85m), and season four of the Spanish language hit La Casa de Papel, aka Money Heist (a \\u200b \\u200b \\u200b \\u200b \\u200b projected 65m), which debuted in early April. In Q2, we are looking forward to the launch of Space Force, our new original comedy series created by \\u200b \\u200b Greg Daniels (The Office) and Steve Carell, starring Carell, John Malkovich and Lisa Kudrow. We just \\u200b \\u200b launched our latest buzzy unscripted series Too Hot to Handle, #BlackAF from Kenya Barris and, outside \\u200b \\u200b\\u200b \\u200b the US, the Michael Jordan documentary The Last Dance, which we co-produced with ESPN (launching \\u200b \\u200b on Netflix in the US on July 19). We will also premiere Hollywood from Ryan Murphy, and, later this \\u200b \\u200b \\u200b\\u200b \\u200b\\u200b week, Extraction, a large scale action film starring Chris Hemsworth and directed by Sam Hargrave, who \\u200b \\u200b was the stunt coordinator and choreographer on films like Avengers: Endgame, Avengers: Infinity War, \\u200b Deadpool 2, and Captain America: Civil War. \\u200b \\u200b Product In February, we rolled out our Top 10 most popular lists to nearly 100 countries, after testing this \\u200b \\u200b feature last year in the UK and Mexico. In each of these countries, there are now three daily lists: Top 10 overall, Top 10 series and Top 10 films. Our goal with this feature is to help members find great TV shows and films and enable them to be part of the cultural zeitgeist in their country. Recently, we’ve also enhanced our parental controls for our service to improve the experience for family members of all ages. Updates include (i) PIN-controlled access to content by maturity level; (ii) the \\u200b \\u200b ability to PIN protect specific titles as well as profiles; (iii) Profile-level content filtering; (iv) the ability to create kids’ experiences that can be customized for different age groups (‘teens and below,’ ‘older kids and below’ and ‘little kids’); and (v) the ability to disable post-play for kids from account settings. Cash Flow and Capital Structure In Q1, net cash used in operating activities was +$260 million vs. -$380 million in the prior year period. Free cash flow1 totaled +$162 million compared with -$460 million in the year ago quarter. As we stated last quarter, our FCF profile is beginning to improve due to growing operating margin and profits and as we digest our big move into the production of Netflix originals (which requires more cash upfront vs. later-window content) that started five years ago. With our productions currently paused, this will shift out some cash spending on content to future years. As a result, we’re now expecting 2020 FCF of -$1 billion or better (compared with our prior 2020 expectation of -$2.5 billion and -$3.3 billion actual in 2019). This dynamic may result in more lumpiness 1 For a reconciliation of free cash flow to net cash (used in) operating activities, please refer to the reconciliation in tabular form on the attached unaudited financial statements and the footnotes thereto. 5in our path to sustained FCF profitability (as, prior to the pandemic, we had been planning for annual improvement in FCF). However, there has been no material change to our overall time table to reach consistent annual positive FCF and we believe that 2019 will still represent the peak in our annual FCF deficit. We finished the quarter with cash of $5.2 billion, while our $750m unsecured credit facility remains undrawn. Combined with our improved FCF outlook for 2020, we have more than 12 months of liquidity and substantial financial flexibility. Our financing strategy remains unchanged - our current plan is to continue to use debt to finance our investment needs. Reference For quick reference, our eight most recent investor letters are: January 2020, October 2019, July 2019, \\u200b \\u200b \\u200b \\u200b \\u200b \\u200b April 2019, January 2019, October 2018, July 2018, April 2018. \\u200b \\u200b \\u200b \\u200b \\u200b \\u200b \\u200b \\u200b \\u200b 6'),\n",
       " ('FINAL-Q1-21-Shareholder-Letter',\n",
       "  \"Revenue grew 24% year over year and was in line withour beginning of quarter forecast, while operating profit and margin reached all-time highs. We finishedQ1’21 with 208m paid memberships, up 14% year over year, but below our guidance forecast of 210mpaid memberships. We believe paid membership growth slowed due to the big Covid-19 pull forwardin 2020 and a lighter content slate in the firsthalf of this year, due to Covid-19 production delays. We continueto anticipate a strong second half with the return of new seasons of some of our biggest hitsand an exciting film lineup. In the short-term, thereis some uncertainty from Covid-19; in the long-term,the rise of streaming to replace linear TV aroundthe world is the clear trend in entertainment. Q1 Results and Q2 Forecast Average revenue per membership1rose 6% year overyear, or 5%, excluding a foreign exchange impact of +$80m. Operating income of $2 billion vs. $958 millionmore than doubled vs. Q1’20. This exceeded our guidance forecast primarily due to the timing of contentspend. EPS of $3.75 vs. $1.57 a year ago included a $253m non-cash unrealized gain from F/Xremeasurement on our Euro denominated debt. The extraordinary events of Covid-19 led to unprecedentedmembership growth in 2020, as it pulled forward growth from 2021, and delayed production acrossevery region. In turn, we ended 2020 with a bigger membership and revenue base than we would otherwisehave had, contributing to record Q1’21 revenues. And since we were still ramping productionlevels late last year, we had lower content spendin 1Average revenue per membership (ARM) is defined asstreaming revenue divided by the average number of streaming paid memberships divided by the number ofmonths in the period. These figures do not includesales taxes or VAT. Q1’21 - content amortization only grew 9.5% year over year in Q1’21 vs. 17% in FY20. The result was a 10 percentage point year over year jump in our operatingmargin to 27% in Q1, which is an all-time high. As we discussed in past letters, these dynamics arealso contributing to a lighter content slate in thefirst half of 2021, and hence, we believe slower membership growth. In Q1, paid net additions of 4m were below our 6m guidance (and the 16m net additions inthe year ago quarter) primarily due to acquisition, as retention in Q1 was in line with our expectations.We don’t believe competitive intensity materially changed in the quarter or was a material factor inthe variance as the over-forecast was across allof our regions. We also saw similar percentage year-over-yeardeclines in paid net adds in all regions (see our Regional Breakdown table below), whereas the levelof competitive intensity varies by country. As a reminder, the quarterly guidance we provide isour actual internal forecast at the time we report. That means in some quarters our results will be highrelative to our guidance forecast and, in others,it will be low, as can be seen in the chart below. Asour membership base continues to grow, there will naturally be more volatility in our absolute paidnet additions performance vs. forecast. With similar pull forward and delayed slate dynamicsplus our typical seasonality expected to impact Q2’21, we project paid net additions of 1m (vs. 10min the prior year quarter) with our UCAN and LATAM regions expected to be roughly flattish in memberships(+/- a couple hundred thousand paid net adds). We anticipate paid membership growth will re-acceleratein the second half of 2021 as we ramp into a very strong back half slate with the return of bighits likeSex Education,The Witcher,La Casa dePapel (akaMoney Heist), andYou, as well as an excitingarray of original films including the finale toTheKissing Boothtrilogy and large scale, star-driven featureslikeRed Notice(starring Gal Gadot, Dwayne Johnson and Ryan Reynolds) andDon’t Look Up(with an all-starcast including Leonardo DiCaprio, Jennifer Lawrence, Cate Blanchett, Timothée Chalamet, and MerylStreep). We’ll also have our most comprehensive offering to date of local language titlesincludingToo Hot to Handlefor Brazil and Mexico, 2a special based on our Korean hit franchiseKingdom, the action-thrillerDhamaka(India), as well as new seasons ofSintonia(Brazil), andControl Z(Mexico). As always, we’re focusing on the fundamentals of ourbusiness, which remain healthy. In addition to our record financial results, engagement per member householdgrew solidly year over year in Q1’21. We’re also seeing how much members value Netflix with Q1’21churn below Q1‘20 levels, demonstrating that as we improve the service, we can charge a bit more.Our FY21 operating margin target of 20% vs. 18% last year remains unchanged. We are optimistic aboutthe future and believe we are still in the earlydays of the adoption of internet entertainment, which shouldprovide us with many years of growth ahead. Content As seen in the weekly growth chart above, in earlyQ1, with the benefit ofBridgerton,LupinandCobra Kai, we were following a growth trajectory similarto recent years. As we’ve noted previously, the production delays from Covid-19 in 2020 will leadto a 2021 slate that is more heavily second half weighted with a large number of returning franchises.And while the roll out of vaccines is very uneven across the world, we are back up and producing safelyin every major market, with the exception of Brazil and India. Assuming this continues, we’ll spendover $17 billion in cash on content this year and we’ll continue to deliver an amazing range of titlesfor our members with more originals this year than last. There are several facets to our content strategy.First and foremost, we want to deliver a wide varietyof best-in-class stories that our members love and watchin big numbers. Examples of this breadth in Q1 include season one ofFirefly Lane(49m chose to watchthis title in its first 28 days), season 3 ofCobra Kai(45m),Fate: The Winx Saga(57m), andGinny &Georgia(52m). Our top movies in Q1 includeI CareA Lot(56m),YES DAY(62m),Outside the Wire(66m) andthe last installment ofTo All the Boys I’ve Loved 3Beforetrilogy (51m). We program across many genres because tastes are very diverse. Even for one person, what they desire will vary widely dependingon their mood or who they are watching with. Another goal is to create great, locally authenticstories in countries all around the world. It’s whyour priority for local language titles is to have a bigimpact in the home territory so we don’t sacrificelocal impact for “travelability.” But we’re increasinglyseeing that these local titles find significant audiences around the world, which supports our thesis that greatstories are universal: they can come from anywhere and be loved everywhere. Notable standoutsthis quarter includeBelow Zerofrom Spain (47m chose to watch in its first four weeks),Space Sweepersfrom Korea (26m),Squared Lovefrom Poland (31m) andWho Killed Sara?from Mexico (an estimated55m), which is also our most popular non-English title ever in the US in its first 28 days(with season 2 launching on May 19). We want our titles to be talked about by audiencesacross the globe. Because of our broad distribution and highly engaged members, our titles not only generatehigh levels of viewing but also can pierce the cultural zeitgeist and transcend the film and TV industry. There were two recent standout examples of this:Lupin, our French language series about a daringgentleman burglar played by Omar Sy, was not only our most popular new title this quarter on Netflix(76m member households chose to watch in the first 28 days), but it alsopropelled book salesofthe novel in France;Lupin: Part 2will debut laterin Q2’21. Similarly, driven by the late December launchof season one ofBridgerton, Julia Quinn’s bookshit The New York Timesbestseller list for the first timein 18 years. Netflix led all studios for recent award nominationsincluding the Oscars, Golden Globes, SAG Awards, BAFTA and the NAACP Image Awards, among others. Headinginto the Academy Awards this weekend, we have 36 nominations across 17 films including twonominees in each of the Best Picture (Mank,The Trial of the Chicago 7), Best Documentary Feature(Crip Camp,My Octopus Teacher), and Best Animated Feature (Over the Moon,A Shaun The Sheep Movie: Farmageddon)categories.Mankled all films with 10 nominations. Product We are constantly working to make it easier for membersto access and enjoy something they will love, regardless of their location or mood. In Q1, we launchedan opt-inDownloads for Youfeature for Android (with iOS coming soon) that automatically downloadsrecommended shows and movies onto a member's mobile device, ensuring that they alwayshave something to watch irrespective of connectivity. Knowing that bandwidth and storage canbe precious, this feature tries to choose only the most relevant content to download. This quarter we also launchedFast Laughs, a mobilefeed of short comedy clips from Netflix favorites- it's initially available in several countries includingthe US on iOS and will be on Android soon. For television viewers, this month we unveiled an updatedand improved experience for Kids Profile that more vividly and easilyconnects childrenwith theirfavorite titles and characters. 4Competition We compete with many activities for consumers’ entertainmenttime, ranging from watching linear TV, video gaming, and viewing user generated content,just to name a few. Against this backdrop, the entertainment market is huge, giving us plenty ofroom to grow, if we can continue to improve our service. We believe we are less than 10% of TV screentime in the US and even smaller in other regions and when including mobile devices. More and more new streaming services are launching,reinforcing our vision that linear TV will slowly give way to streaming entertainment. Despite our 10+year head start, we are continually seeking operational and creative excellence; we’re workingas hard as ever to continually improve our serviceso that we are the best entertainment option availablewith best in class stories, an ever-improving product experience and authentic local titles that our memberslove. Our ability to evolve from a DVD-by-mail to an internet entertainment business, from a US-onlyto a global service, and from a licensor of second window content to a producer of original content acrossso many different categories fuels our confidence and optimism for our next decade of challenges,growth and innovation. When comparing services, subscriber figures alonetell only part of the story (given bundles, discounts and other promotions) so it’s important to also focuson engagement and revenue as key indicators of success; they drive the flywheel of investment ineven more amazing stories for our members and future growth. It’s our job to please our members so muchon Monday, that on Tuesday, they start with us, and then they stick with us as their first choice forentertainment. Cash Flow and Capital Structure Net cash generated by operating activities in Q1 was$777 million vs. $260 million in the prior year period. Free cash flow (FCF)2for the quarter was$692 million vs. $162 million in Q1‘20. We are ontrack for full year 2021 free cash flow to be approximatelybreak even. As we discussed last quarter, we believe we are very close to being sustainably FCF positiveand that we no longer have a need to raise external financing to fund our day-to-day operations. During the quarter, we repaid our 5.375% February1, 2021 bond ($500 million principal) out of balance sheet cash, reducing our total gross debt balanceto $15.7 billion as of March 31, 2021. We intend to maintain $10-$15 billion of gross debt. Our boardhas approved a program to repurchase up to $5 billion of our common stock beginning in 2021 with no fixedexpiration date. We expect our buyback program will begin this quarter. Environmental, Social, and Governance (ESG) We’ve added a new section to our investor relationssite that collates all of ourESG informationforour investors, including our recently published2020 ESGReport(filed March 30, 2021). Our 2020 ESG report includes our commitment to achieve net zero greenhousegas emissions by the end of 2022. We also 2For a reconciliation of free cash flow to net cashprovided by (used in) operating activities, pleaserefer to the reconciliation in tabular form on the attachedunaudited financial statements and the footnotes thereto. 5released our firstInclusion Reportaround the makeup of our workforce and a third-party diversity audit of our content by theUSC Annenberg Inclusion Initiative,designed to set industry benchmarks around these important issues. As part of this work, we announcedthe Netflix Fund for Creative Equity, committing $100 million to further develop our pipelinefor underrepresented talent. Reference For quick reference, our eight most recent investorletters are:January 2021,October 2020,July 2020, April 2020,January 2020,October 2019,July 2019,April 2019. Regional Breakdown 6\")]"
      ]
     },
     "execution_count": 72,
     "metadata": {},
     "output_type": "execute_result"
    }
   ],
   "source": [
    "# view your pdf texts with pdf names as keys\n",
    "list(pdf_texts.items())[:3]"
   ]
  },
  {
   "cell_type": "code",
   "execution_count": 73,
   "id": "fb737a52",
   "metadata": {},
   "outputs": [],
   "source": [
    "# get text from the first pdf file\n",
    "text = list(pdf_texts.items())[0][1]\n",
    "# get headings from the first pdf file\n",
    "headings = list(pdf_headings.items())[0][1]"
   ]
  },
  {
   "cell_type": "code",
   "execution_count": 83,
   "id": "90a2f619",
   "metadata": {},
   "outputs": [],
   "source": [
    "text_blocks = {}\n",
    "\n",
    "# split the text into blocks based on the headings\n",
    "for heading in range(len(headings)):\n",
    "\n",
    "    if heading == 0:\n",
    "        document_intro = text.split(headings[heading])[0]\n",
    "        text_blocks['Document_intro'] = document_intro\n",
    "    \n",
    "    text_after_heading = text.split(headings[heading])[1]\n",
    "    if heading == len(headings) - 1:\n",
    "        text_blocks[headings[heading]] = text_after_heading\n",
    "        break\n",
    "    else:\n",
    "        text_of_heading = text_after_heading.split(headings[heading+1])[0]\n",
    "        text_blocks[headings[heading]] = text_of_heading"
   ]
  },
  {
   "cell_type": "code",
   "execution_count": 84,
   "id": "5aebefc5",
   "metadata": {},
   "outputs": [
    {
     "data": {
      "text/plain": [
       "{'Document_intro': 'In Q2, revenue increased 19% year over year to $7.3billion, while operating income rose 36% year over year to $1.8 billion. We finished the quarter withover 209m paid memberships, slightly ahead of our forecast. COVID has created some lumpiness in ourmembership growth (higher growth in 2020, slower growth this year), which is working its way through.We continue to focus on improving our service for our members and bringing them the best stories fromaround the world. Our summary results and forecast for Q3 are below. ',\n",
       " 'Q2 Results and Q3 Forecast': ' Revenue growth was driven by an 11% increase in averagepaid streaming memberships and 8% growth in average revenue per membership (ARM)1. ARM rose4%, excluding a foreign exchange (FX) impact of +$277m. Operating margin of 25.2% expanded 3 percentagepoints compared with the year ago quarter. EPS of $2.97 vs. $1.59 a year ago included a $63mnon-cash unrealized loss from FX remeasurement on our Euro denominated debt. The pandemic has created unusual choppiness in ourgrowth and distorts year-over-year comparisons as acquisition and engagement per member household spikedin the early months of COVID. In Q2’21, our engagement per member household was, as expected,down vs. those unprecedented levels but was still up 17% compared with a more comparable Q2’19. Similarly,retention continues to be strong and better than pre-COVID Q2’19 levels, even as average revenueper membership has grown 8% over this two-year 1Average revenue per membership (ARM) is defined asstreaming revenue divided by the average number of streaming paid memberships divided by the number ofmonths in the period. These figures do not includesales taxes or VAT. 1period, demonstrating how much our members value Netflix and that as we improve our service we can charge a bit more. We added 1.5m paid memberships in Q2, slightly aheadof our 1.0m guidance forecast. The APAC region represented about two-thirds of our global paid net adds in the quarter. As expected, Q2 paid memberships in the UCAN region were slightly downsequentially (-0.4m paid net adds). We believe our large membership base in UCAN coupled with a seasonallysmaller quarter for acquisition is the main reason for this dynamic. This is similar to what weexperienced in Q2’19 when our UCAN paid net adds were -0.1m; since then we’ve added nearly 7.5m paidnet adds in UCAN. As a reminder, the quarterly guidance we provide isour actual internal forecast at the time we report. For Q3’21, we forecast paid net additions of 3.5mvs. 2.2m in the prior year period. If we achieve our forecast, we will have added more than 54m paid netadds over the past 24 months or 27m on an annualized basis over that time period, which is consistentwith our pre-COVID annual rate of net additions. We forecast that ARM will grow roughly5% year over year on a FX neutral basis in Q3’21. We continue to target a 20% operating margin for thefull year 2021 vs. 18% in 2020. After our big global launch in January 2016, we committed to steadily growingour operating margin thereafter at an average rate of three percentage points per year over anyfew-year period. Some years we’ll be a little over(like in 2020), some years a little under (like in 2021).Assuming we achieve our margin target this year,we will have quintupled our operating margin in the lastfive years and are tracking ahead of this average annual three percentage point pace. 2With revenue and margin both increasing, our operatingprofit dollars have risen dramatically as well (even as we have been investing heavily), from about$100 million per quarter in 2016 to nearly $2 billion per quarter so far in 2021. Our belief isthat as we steadily improve our service to betterplease our members, this will lead to continued growth inour membership base, ARM, revenue, operating margin and profit dollars. ',\n",
       " 'Content': ' We launched our first original scripted TV seriesin 2012 and we’ve since expanded our original programming effort to many additional categories,from all over the world. Our goal is to be everyone’s first choice for entertainment because of the varietyand quality of our titles. And despite the COVID-related production delays in 2020, we were ableto deliver an exciting portfolio of titles in Q2’21 that exemplify this ambition. For example,Shadow and Bone, a fantasy series basedon the popularGrishaverse book series, proved to be very popular with our members. Over 55m memberhouseholds chose to watch this show in its first 28 days and we’ve renewed it for a second season.Sweet Tooth, based on the beloved DC comic, was another hit series with 60m member households choosingthis title in its first four weeks. Our expansion into non-fiction series is going well.This past quarter, standout unscripted titles include season two of dating showToo Hot to Handleand socialexperiment reality programThe Circle(an estimated 29m and 14m, respectively, chose to watchin the first 28 days) as well as the true crime docu-seriesThe Sons of Sam(19m). We’re buildingout some of these unscripted titles with local versions of the same formats. As one example,TooHot to Handle: BrazilandToo Hot to Handle: Latino will be launching later in July and September, respectively,to serve our LATAM region. 3We’re also quickly growing both our live action and animated original film offering, with several impactful titles in Q2. Zack Snyder’sArmy of the Deadwas a blockbuster as 75m member households chose to watch this action packed zombie spectaclein its first 28 days of release. As an extensionto Army of the Dead, a prequel,Army of Thieves, willbe released in Q4’21 along with a spinoff anime series later in 2022.Fatherhood, a dramedy starring KevinHart, was another hit, drawing an estimated 74m member households in its first 28 days. And Q2 alsofeatured our biggest Netflix animated film to date with 53m member households choosing to watchThe Mitchellsvs. The Machines. Last week, Netflix series and specials received 129Emmy nominations. With 24 nominations,The Crown tied for the most nominated series.Bridgertonwith12 nominations was also nominated for Best Drama series whileThe Queen’s Gambitreceived 18 nominationsincluding Best Limited Series.Cobra Kai,Emily In Parisand the finale season ofThe Kominsky Methodwere all nominated for Best Comedy series. Beyond this acclaim, these are also among our popularseries on Netflix. Our non-English content investments are growing bothin scope and impact. Our P&L content expense for this content category has more than doubled inthe past two years. Illustrating how great storiescan come from anywhere and be loved everywhere, part twoofLupinfrom France was our largest non-English title in the quarter with 54m member householdschoosing this title in its first four weeks. Season four ofElitefrom Spain drew 37m member householdsin its first 28 days, while season two of Who Killed Sara?built on the success of the firstseason with 34m households choosing the latest installment of this gripping thriller from Mexico. As discussed in previous letters, COVID-related productiondelays in 2020 have led to a lighter first half of 2021 slate that will build through the course of theyear. In the first six months of 2021, content amortization grew only 9% year over year (as comparedto 17% in FY20). COVID and its variants make predicting the future hard, but with productions largelyrunning smoothly so far, we’re optimistic in our ability to deliver a strong second half slate. Throughthe first half of 2021 we’ve already spent $8 billion in cash on content (up 41% yr-over-yr and 1.4x ourcontent amortization) and we expect content amortization to be around $12 billion for the fullyear (+12% year over year). Our Q3 slate will include new seasons of fan favoritesLa Casa de Papel(akaMoney Heist),Sex Education, Virgin RiverandNever Have I Everas well as live action films includingSweet Girl (starring Jason Momoa),Kissing Booth3, and Kate(starring Mary Elizabeth Winstead) and the animatedfeature filmVivo, featuring all-new songs from Lin-Manuel Miranda. We’re also in the early stages of further expandinginto games, building on our earlier efforts around interactivity (eg,Black Mirror Bandersnatch) andourStranger Thingsgames. We view gaming as another new content category for us, similar to our expansioninto original films, animation and unscripted TV. Games will be included in members’ Netflix subscriptionat no additional cost similar to films and series. Initially, we’ll be primarily focused on games formobile devices. We’re excited as ever about our movies and TV series offering and we expect a long runwayof increasing investment and growth across all ofour existing content categories, but since we are nearlya decade into our push into original programming, we think the time is right to learn more about howour members value games. Product 4We’re constantly innovating across a broad range of areas to improve the viewing experience and better serve our members. That’s why this quarter we globallylaunchedPlay Somethingon television, ournew featurethat lets Netflix do the work when you don’tfeel like choosing what to watch. Recognizing that broadband quality and cost varies around the world,we also improved the Netflix download experience to enable you to start watching a show or film evenif it hasn’t finished downloading. Once you reconnect, you can complete the partial download andkeep watching — also helping members avoid exceeding their data limits. We recently expanded our low-cost mobile-only planto an additional 78 countries across South East Asia and sub-saharan Africa. Like in our other markets,this plan complements our existing three tiers of service. In the five markets where we had previouslylaunched a mobile-only plan, we have found that the mobile only plan has been an effective way tointroduce more consumers to Netflix while being roughly revenue neutral as the lower average revenueper membership is offset by incremental acquisition and generally better retention. ',\n",
       " 'Competition': ' We are still very much in the early days of the transitionfrom linear to on-demand consumption of entertainment. Streaming represents just 27% of USTV screen time, compared with 63% for linear television, according to Nielsen. Based on this samestudy, Nielsen estimates that we are just 7% of US TV screen time. Considering that we are less maturein other countries and that this excludes mobile screens (where we believe our share of engagementis even lower), we are confident that we have a long runway for growth. As we improve our service, ourgoal is to continue to increase our share of screen time in the US and around the world. 5Share of Total US TV Time, June 2021(Total Day, Persons 2+) The planned combination of Warner Media Group andDiscovery and Amazon’s pending acquisition of MGM are examples of the ongoing industry consolidationas firms adapt to a world where streaming supplants linear TV. The industry has consolidatedmaterially over the years (Time Warner/AT&T, Viacom/CBS, Discovery/Scripps, Disney/Fox, Comcast/NBCU/Sky,etc.) and we don’t believe this consolidation has affected our growth much, if atall. While we are continually evaluating opportunities, we don’t view any assets as “must-have” and we haven’tyet found any large scale ones to be sufficiently compelling to act upon. In the race to entertain consumers around the world,we continue to compete for screen time with a broad set of firms like YouTube, Epic Games and TikTok(to name just a few). But, we are mostly competing with ourselves to improve our service asfast as we can. If we can do that, we’re confidentwe can maintain our strong position and continue to grownicely as we have been over the past two-plus decades. ',\n",
       " 'Cash Flow and Capital Structure': ' In Q2, net cash generated by operating activitieswas -$64 million vs. $1 billion in the prior year period. Free cash flow (FCF)2for the quarter was-$175 million vs. $899 million in Q2‘20. FCF in lastyear’s Q2 benefited from COVID-related production shutdowns.We are still expecting full year 2021 free cash flow to be approximately break even. As we discussedpreviously, we believe we no longer have a need to raise external financing to fund our day-to-dayoperations. 2For a reconciliation of free cash flow to net cashprovided by (used in) operating activities, pleaserefer to the reconciliation in tabular form on the attached unauditedfinancial statements and the footnotes thereto. 6During Q2, we increased our revolving credit facility (which remains undrawn) to $1 billion from $750 million and extended the maturity from 2024 to 2026.We also repurchased 1m shares for $500 million (at an average per share price of about $500) underour $5 billion share authorization. Our main priority is to invest in the organic growth of our business while maintaining strong liquidity and retaining financial flexibility for strategic investments. Ourgrowing operating profit allows us to complementthis priority with a return of capital to shareholders. ',\n",
       " 'Environmental, Social, and Governance (ESG)': ' In June, the independent sustainability think tankThe Carbon Trustpublished awhite paperexamining the carbon impact of video streaming.Key findingsof the work include:  The average carbon footprint for Europe per hour ofvideo streaming is approximately 55gCO2e, equivalent to driving 250 metres in an average petrolcar.  Devices (TVs, laptops/PCs, smartphones, tablets) makeup the largest portion of carbon emissions from streaming (over 50%), compared to othercomponents like energy from data centers or networks. Good news: Devices are gettingmore efficient over time and total device usage is fairly constant (with Netflix gaining sharefrom linear).  Changing resolutions and other viewing settings werefound to result in only a very small change in the carbon impact. Changing from standard definitionto 4K resolution grows transmission emissions from just under 1g CO2e/hour to just over1g CO2e/hour.  As demand for streaming and other internet servicesincreases, the carbon intensity of these services will decrease over time. This is due to (1)networking equipment becoming less energy-intensive with technological advances, and(2) increased use of renewable electricity. As a reminder, our ESG-related information can befound on ourIR website. ',\n",
       " 'Reference': ' For quick reference, our eight most recent investorletters are:April 2021,January 2021,October 2020, July 2020,April 2020,January 2020,October 2019,July 2019. 7'}"
      ]
     },
     "execution_count": 84,
     "metadata": {},
     "output_type": "execute_result"
    }
   ],
   "source": [
    "text_blocks"
   ]
  },
  {
   "cell_type": "code",
   "execution_count": 7,
   "id": "ce7f662d",
   "metadata": {},
   "outputs": [],
   "source": [
    "# split the text into blocks\n",
    "# these blocks would be further used as separate prompts for the OpenAI model to summarize the whole document\n",
    "# text_blocks = []\n",
    "# block = []\n",
    "# for element in range(len(text)):\n",
    "#     if text[element] in headings:\n",
    "#         if text[element] == \"Reference\":\n",
    "#             break\n",
    "#         text_blocks.append(block)\n",
    "#         block = []\n",
    "#     block.append(text[element])\n",
    "# text_blocks.append(block)"
   ]
  },
  {
   "cell_type": "code",
   "execution_count": 8,
   "id": "ff8fae49",
   "metadata": {},
   "outputs": [
    {
     "data": {
      "text/plain": [
       "['Q2 was better-than-expected on membership growth, and foreign exchange was worse-than-expected',\n",
       " '(stronger US dollar), resulting in 9% revenue growth (13% constant currency). Our challenge and',\n",
       " 'opportunity is to accelerate our revenue and membership growth by continuing to improve our product,',\n",
       " 'content, and marketing as we’ve done for the last 25 years, and to better monetize our big audience.',\n",
       " 'We’re in a position of strength given our $30 billion-plus in revenue, $6 billion in operating profit last',\n",
       " 'year, growing free cash flow and a strong balance sheet. Our summary results and forecast are below.']"
      ]
     },
     "execution_count": 8,
     "metadata": {},
     "output_type": "execute_result"
    }
   ],
   "source": [
    "# show the first text block\n",
    "# text_blocks[0]"
   ]
  },
  {
   "cell_type": "code",
   "execution_count": 87,
   "id": "d90e5925",
   "metadata": {},
   "outputs": [
    {
     "data": {
      "text/plain": [
       "[14, 30, 7, 11, 35, 47, 9]"
      ]
     },
     "execution_count": 87,
     "metadata": {},
     "output_type": "execute_result"
    }
   ],
   "source": [
    "# find the number of words in each block\n",
    "# the number of words should be within the limit of the OpenAI prompt length (2048 tokens)\n",
    "block_word_count = []\n",
    "for block in text_blocks:\n",
    "    word_count = 0\n",
    "    for line in block:\n",
    "        word_count += len(line.split(\" \"))\n",
    "    block_word_count.append(word_count)\n",
    "block_word_count"
   ]
  },
  {
   "cell_type": "code",
   "execution_count": 88,
   "id": "7b6bfeee",
   "metadata": {},
   "outputs": [
    {
     "data": {
      "text/plain": [
       "[86, 537, 934, 278, 196, 184, 21]"
      ]
     },
     "execution_count": 88,
     "metadata": {},
     "output_type": "execute_result"
    }
   ],
   "source": [
    "block_word_count = []\n",
    "for block in text_blocks.items():\n",
    "    word_count = 0\n",
    "    for line in block:\n",
    "        word_count += len(line.split(\" \"))\n",
    "    block_word_count.append(word_count)\n",
    "block_word_count"
   ]
  },
  {
   "cell_type": "code",
   "execution_count": 89,
   "id": "feee6357",
   "metadata": {},
   "outputs": [
    {
     "name": "stdout",
     "output_type": "stream",
     "text": [
      "D o c u m e n t _ i n t r o\n",
      "Q 2   R e s u l t s   a n d   Q 3   F o r e c a s t\n",
      "C o n t e n t\n",
      "C o m p e t i t i o n\n",
      "C a s h   F l o w   a n d   C a p i t a l   S t r u c t u r e\n",
      "E n v i r o n m e n t a l ,   S o c i a l ,   a n d   G o v e r n a n c e   ( E S G )\n",
      "R e f e r e n c e\n"
     ]
    }
   ],
   "source": [
    "# this is to show the text blocks\n",
    "for block in text_blocks:\n",
    "    print(\" \".join(block))"
   ]
  },
  {
   "cell_type": "code",
   "execution_count": 91,
   "id": "f3f8f8a8",
   "metadata": {},
   "outputs": [
    {
     "name": "stdout",
     "output_type": "stream",
     "text": [
      "Document_intro In Q2, revenue increased 19% year over year to $7.3billion, while operating income rose 36% year over year to $1.8 billion. We finished the quarter withover 209m paid memberships, slightly ahead of our forecast. COVID has created some lumpiness in ourmembership growth (higher growth in 2020, slower growth this year), which is working its way through.We continue to focus on improving our service for our members and bringing them the best stories fromaround the world. Our summary results and forecast for Q3 are below. \n",
      "Q2 Results and Q3 Forecast  Revenue growth was driven by an 11% increase in averagepaid streaming memberships and 8% growth in average revenue per membership (ARM)1. ARM rose4%, excluding a foreign exchange (FX) impact of +$277m. Operating margin of 25.2% expanded 3 percentagepoints compared with the year ago quarter. EPS of $2.97 vs. $1.59 a year ago included a $63mnon-cash unrealized loss from FX remeasurement on our Euro denominated debt. The pandemic has created unusual choppiness in ourgrowth and distorts year-over-year comparisons as acquisition and engagement per member household spikedin the early months of COVID. In Q2’21, our engagement per member household was, as expected,down vs. those unprecedented levels but was still up 17% compared with a more comparable Q2’19. Similarly,retention continues to be strong and better than pre-COVID Q2’19 levels, even as average revenueper membership has grown 8% over this two-year 1Average revenue per membership (ARM) is defined asstreaming revenue divided by the average number of streaming paid memberships divided by the number ofmonths in the period. These figures do not includesales taxes or VAT. 1period, demonstrating how much our members value Netflix and that as we improve our service we can charge a bit more. We added 1.5m paid memberships in Q2, slightly aheadof our 1.0m guidance forecast. The APAC region represented about two-thirds of our global paid net adds in the quarter. As expected, Q2 paid memberships in the UCAN region were slightly downsequentially (-0.4m paid net adds). We believe our large membership base in UCAN coupled with a seasonallysmaller quarter for acquisition is the main reason for this dynamic. This is similar to what weexperienced in Q2’19 when our UCAN paid net adds were -0.1m; since then we’ve added nearly 7.5m paidnet adds in UCAN. As a reminder, the quarterly guidance we provide isour actual internal forecast at the time we report. For Q3’21, we forecast paid net additions of 3.5mvs. 2.2m in the prior year period. If we achieve our forecast, we will have added more than 54m paid netadds over the past 24 months or 27m on an annualized basis over that time period, which is consistentwith our pre-COVID annual rate of net additions. We forecast that ARM will grow roughly5% year over year on a FX neutral basis in Q3’21. We continue to target a 20% operating margin for thefull year 2021 vs. 18% in 2020. After our big global launch in January 2016, we committed to steadily growingour operating margin thereafter at an average rate of three percentage points per year over anyfew-year period. Some years we’ll be a little over(like in 2020), some years a little under (like in 2021).Assuming we achieve our margin target this year,we will have quintupled our operating margin in the lastfive years and are tracking ahead of this average annual three percentage point pace. 2With revenue and margin both increasing, our operatingprofit dollars have risen dramatically as well (even as we have been investing heavily), from about$100 million per quarter in 2016 to nearly $2 billion per quarter so far in 2021. Our belief isthat as we steadily improve our service to betterplease our members, this will lead to continued growth inour membership base, ARM, revenue, operating margin and profit dollars. \n",
      "Content  We launched our first original scripted TV seriesin 2012 and we’ve since expanded our original programming effort to many additional categories,from all over the world. Our goal is to be everyone’s first choice for entertainment because of the varietyand quality of our titles. And despite the COVID-related production delays in 2020, we were ableto deliver an exciting portfolio of titles in Q2’21 that exemplify this ambition. For example,Shadow and Bone, a fantasy series basedon the popularGrishaverse book series, proved to be very popular with our members. Over 55m memberhouseholds chose to watch this show in its first 28 days and we’ve renewed it for a second season.Sweet Tooth, based on the beloved DC comic, was another hit series with 60m member households choosingthis title in its first four weeks. Our expansion into non-fiction series is going well.This past quarter, standout unscripted titles include season two of dating showToo Hot to Handleand socialexperiment reality programThe Circle(an estimated 29m and 14m, respectively, chose to watchin the first 28 days) as well as the true crime docu-seriesThe Sons of Sam(19m). We’re buildingout some of these unscripted titles with local versions of the same formats. As one example,TooHot to Handle: BrazilandToo Hot to Handle: Latino will be launching later in July and September, respectively,to serve our LATAM region. 3We’re also quickly growing both our live action and animated original film offering, with several impactful titles in Q2. Zack Snyder’sArmy of the Deadwas a blockbuster as 75m member households chose to watch this action packed zombie spectaclein its first 28 days of release. As an extensionto Army of the Dead, a prequel,Army of Thieves, willbe released in Q4’21 along with a spinoff anime series later in 2022.Fatherhood, a dramedy starring KevinHart, was another hit, drawing an estimated 74m member households in its first 28 days. And Q2 alsofeatured our biggest Netflix animated film to date with 53m member households choosing to watchThe Mitchellsvs. The Machines. Last week, Netflix series and specials received 129Emmy nominations. With 24 nominations,The Crown tied for the most nominated series.Bridgertonwith12 nominations was also nominated for Best Drama series whileThe Queen’s Gambitreceived 18 nominationsincluding Best Limited Series.Cobra Kai,Emily In Parisand the finale season ofThe Kominsky Methodwere all nominated for Best Comedy series. Beyond this acclaim, these are also among our popularseries on Netflix. Our non-English content investments are growing bothin scope and impact. Our P&L content expense for this content category has more than doubled inthe past two years. Illustrating how great storiescan come from anywhere and be loved everywhere, part twoofLupinfrom France was our largest non-English title in the quarter with 54m member householdschoosing this title in its first four weeks. Season four ofElitefrom Spain drew 37m member householdsin its first 28 days, while season two of Who Killed Sara?built on the success of the firstseason with 34m households choosing the latest installment of this gripping thriller from Mexico. As discussed in previous letters, COVID-related productiondelays in 2020 have led to a lighter first half of 2021 slate that will build through the course of theyear. In the first six months of 2021, content amortization grew only 9% year over year (as comparedto 17% in FY20). COVID and its variants make predicting the future hard, but with productions largelyrunning smoothly so far, we’re optimistic in our ability to deliver a strong second half slate. Throughthe first half of 2021 we’ve already spent $8 billion in cash on content (up 41% yr-over-yr and 1.4x ourcontent amortization) and we expect content amortization to be around $12 billion for the fullyear (+12% year over year). Our Q3 slate will include new seasons of fan favoritesLa Casa de Papel(akaMoney Heist),Sex Education, Virgin RiverandNever Have I Everas well as live action films includingSweet Girl (starring Jason Momoa),Kissing Booth3, and Kate(starring Mary Elizabeth Winstead) and the animatedfeature filmVivo, featuring all-new songs from Lin-Manuel Miranda. We’re also in the early stages of further expandinginto games, building on our earlier efforts around interactivity (eg,Black Mirror Bandersnatch) andourStranger Thingsgames. We view gaming as another new content category for us, similar to our expansioninto original films, animation and unscripted TV. Games will be included in members’ Netflix subscriptionat no additional cost similar to films and series. Initially, we’ll be primarily focused on games formobile devices. We’re excited as ever about our movies and TV series offering and we expect a long runwayof increasing investment and growth across all ofour existing content categories, but since we are nearlya decade into our push into original programming, we think the time is right to learn more about howour members value games. Product 4We’re constantly innovating across a broad range of areas to improve the viewing experience and better serve our members. That’s why this quarter we globallylaunchedPlay Somethingon television, ournew featurethat lets Netflix do the work when you don’tfeel like choosing what to watch. Recognizing that broadband quality and cost varies around the world,we also improved the Netflix download experience to enable you to start watching a show or film evenif it hasn’t finished downloading. Once you reconnect, you can complete the partial download andkeep watching — also helping members avoid exceeding their data limits. We recently expanded our low-cost mobile-only planto an additional 78 countries across South East Asia and sub-saharan Africa. Like in our other markets,this plan complements our existing three tiers of service. In the five markets where we had previouslylaunched a mobile-only plan, we have found that the mobile only plan has been an effective way tointroduce more consumers to Netflix while being roughly revenue neutral as the lower average revenueper membership is offset by incremental acquisition and generally better retention. \n",
      "Competition  We are still very much in the early days of the transitionfrom linear to on-demand consumption of entertainment. Streaming represents just 27% of USTV screen time, compared with 63% for linear television, according to Nielsen. Based on this samestudy, Nielsen estimates that we are just 7% of US TV screen time. Considering that we are less maturein other countries and that this excludes mobile screens (where we believe our share of engagementis even lower), we are confident that we have a long runway for growth. As we improve our service, ourgoal is to continue to increase our share of screen time in the US and around the world. 5Share of Total US TV Time, June 2021(Total Day, Persons 2+) The planned combination of Warner Media Group andDiscovery and Amazon’s pending acquisition of MGM are examples of the ongoing industry consolidationas firms adapt to a world where streaming supplants linear TV. The industry has consolidatedmaterially over the years (Time Warner/AT&T, Viacom/CBS, Discovery/Scripps, Disney/Fox, Comcast/NBCU/Sky,etc.) and we don’t believe this consolidation has affected our growth much, if atall. While we are continually evaluating opportunities, we don’t view any assets as “must-have” and we haven’tyet found any large scale ones to be sufficiently compelling to act upon. In the race to entertain consumers around the world,we continue to compete for screen time with a broad set of firms like YouTube, Epic Games and TikTok(to name just a few). But, we are mostly competing with ourselves to improve our service asfast as we can. If we can do that, we’re confidentwe can maintain our strong position and continue to grownicely as we have been over the past two-plus decades. \n",
      "Cash Flow and Capital Structure  In Q2, net cash generated by operating activitieswas -$64 million vs. $1 billion in the prior year period. Free cash flow (FCF)2for the quarter was-$175 million vs. $899 million in Q2‘20. FCF in lastyear’s Q2 benefited from COVID-related production shutdowns.We are still expecting full year 2021 free cash flow to be approximately break even. As we discussedpreviously, we believe we no longer have a need to raise external financing to fund our day-to-dayoperations. 2For a reconciliation of free cash flow to net cashprovided by (used in) operating activities, pleaserefer to the reconciliation in tabular form on the attached unauditedfinancial statements and the footnotes thereto. 6During Q2, we increased our revolving credit facility (which remains undrawn) to $1 billion from $750 million and extended the maturity from 2024 to 2026.We also repurchased 1m shares for $500 million (at an average per share price of about $500) underour $5 billion share authorization. Our main priority is to invest in the organic growth of our business while maintaining strong liquidity and retaining financial flexibility for strategic investments. Ourgrowing operating profit allows us to complementthis priority with a return of capital to shareholders. \n",
      "Environmental, Social, and Governance (ESG)  In June, the independent sustainability think tankThe Carbon Trustpublished awhite paperexamining the carbon impact of video streaming.Key findingsof the work include:  The average carbon footprint for Europe per hour ofvideo streaming is approximately 55gCO2e, equivalent to driving 250 metres in an average petrolcar.  Devices (TVs, laptops/PCs, smartphones, tablets) makeup the largest portion of carbon emissions from streaming (over 50%), compared to othercomponents like energy from data centers or networks. Good news: Devices are gettingmore efficient over time and total device usage is fairly constant (with Netflix gaining sharefrom linear).  Changing resolutions and other viewing settings werefound to result in only a very small change in the carbon impact. Changing from standard definitionto 4K resolution grows transmission emissions from just under 1g CO2e/hour to just over1g CO2e/hour.  As demand for streaming and other internet servicesincreases, the carbon intensity of these services will decrease over time. This is due to (1)networking equipment becoming less energy-intensive with technological advances, and(2) increased use of renewable electricity. As a reminder, our ESG-related information can befound on ourIR website. \n",
      "Reference  For quick reference, our eight most recent investorletters are:April 2021,January 2021,October 2020, July 2020,April 2020,January 2020,October 2019,July 2019. 7\n"
     ]
    }
   ],
   "source": [
    "for block in text_blocks.items():\n",
    "    print(\" \".join(block))"
   ]
  },
  {
   "cell_type": "markdown",
   "id": "206a5016",
   "metadata": {},
   "source": [
    "### OpenAI Summarization"
   ]
  },
  {
   "cell_type": "code",
   "execution_count": 32,
   "id": "98eb5716",
   "metadata": {},
   "outputs": [],
   "source": [
    "# load credentials for OpenAI API\n",
    "import openai\n",
    "import credentials\n",
    "openai.api_key = credentials.openai_api_key"
   ]
  },
  {
   "cell_type": "code",
   "execution_count": 33,
   "id": "0a5d1f50",
   "metadata": {},
   "outputs": [],
   "source": [
    "for block in range(len(text_blocks)):\n",
    "    # if the block is too long (contains over 750 words), summarize it\n",
    "    if block_word_count[block] > 750:\n",
    "        block_text = \" \".join(text_blocks[block])\n",
    "        # use the OpenAI API to summarize the text\n",
    "        completion = openai.ChatCompletion.create(\n",
    "            model=\"gpt-3.5-turbo\",\n",
    "            messages=[\n",
    "            {\"role\": \"user\", \"content\": \"Please effectively summarize the following text: \" + block_text}\n",
    "            ])\n",
    "        # replace the long text block with the summarized version\n",
    "        text_blocks[block] = [completion.choices[0].message.content]"
   ]
  },
  {
   "cell_type": "code",
   "execution_count": 35,
   "id": "8efd3e76",
   "metadata": {},
   "outputs": [],
   "source": [
    "# flatten list of text blocks and join them into a single final prompt\n",
    "final_prompt = [item for sublist in text_blocks for item in sublist]\n",
    "final_prompt = \"\".join(final_prompt)"
   ]
  },
  {
   "cell_type": "code",
   "execution_count": 36,
   "id": "df66ee1c",
   "metadata": {},
   "outputs": [],
   "source": [
    "import tiktoken\n",
    "\n",
    "# define the number of tokens in the prompt\n",
    "def num_tokens_from_string(string: str, encoding_name: str) -> int:\n",
    "    \"\"\"Returns the number of tokens in a text string.\"\"\"\n",
    "    encoding = tiktoken.get_encoding(encoding_name)\n",
    "    # num_tokens = len(encoding.encode(string))\n",
    "    num_tokens = len(encoding.encode(string))\n",
    "    return num_tokens"
   ]
  },
  {
   "cell_type": "code",
   "execution_count": 39,
   "id": "4655909e",
   "metadata": {},
   "outputs": [
    {
     "data": {
      "text/plain": [
       "2951"
      ]
     },
     "execution_count": 39,
     "metadata": {},
     "output_type": "execute_result"
    }
   ],
   "source": [
    "# show number of tokens in prompt (max 2048 tokens for input)\n",
    "num_tokens_from_string(final_prompt, \"cl100k_base\")"
   ]
  },
  {
   "cell_type": "code",
   "execution_count": 45,
   "id": "6c61e1a9",
   "metadata": {},
   "outputs": [
    {
     "name": "stdout",
     "output_type": "stream",
     "text": [
      "Overall, the sentiment of the information for the market (Netflix company) is positive. The company acknowledges the challenges it faces in terms of slowing revenue growth but expresses confidence and optimism about its future. The information highlights the company's strengths, such as its strong revenue and profit figures, growing cash flow, and a strong balance sheet. The company emphasizes the importance of continuously improving its product, content, and marketing to drive revenue and membership growth. It also discusses its plans to monetize its audience through advertising and explore new revenue streams, such as paid sharing. The sentiment is positive, reflecting the company's confidence in its ability to navigate challenges and continue its growth trajectory.\n",
      "\n",
      "Total polarity score: 0.81\n",
      "Total subjectivity score: 0.34\n"
     ]
    }
   ],
   "source": [
    "# use the OpenAI API to generate the sentiment analysis\n",
    "completion = openai.ChatCompletion.create(\n",
    "    model=\"gpt-3.5-turbo\",\n",
    "    messages=[\n",
    "        {\"role\": \"user\",\n",
    "          \"content\": \"Please tell me about the sentiment (positive, negative, neutral) of this information for the market (Netflix company) Please, be consice and lucid. Calculate the total polarity and subjectivity scores on the range -1 to 1. Don't forget to give me these scores\" + final_prompt}\n",
    "    ]\n",
    ")\n",
    "\n",
    "# show the sentiment analysis\n",
    "print(completion.choices[0].message.content)"
   ]
  },
  {
   "cell_type": "markdown",
   "id": "1fd428d8",
   "metadata": {},
   "source": [
    "### OpenAI Fine Tuning"
   ]
  },
  {
   "cell_type": "code",
   "execution_count": 23,
   "id": "b43b15a2",
   "metadata": {},
   "outputs": [
    {
     "name": "stdout",
     "output_type": "stream",
     "text": [
      "Sentiment: Neutral\n",
      "\n",
      "The information provided in this statement is mainly regarding the financial performance and future forecast of Netflix. The statement discusses the Q2 results and the challenges and opportunities for the company to increase its revenue and membership. The company discusses its focus on improving product, content, and marketing. The statement also mentions the introduction of a new lower-priced ad-supported tier that will be launched in the early part of 2023. The company also discusses its goal to monetize the 100m+ households that are currently enjoying but not directly paying for Netflix. The company's focus on accessibility for people with disabilities is also mentioned. \n",
      "\n",
      "Polarity Score: 0.041\n",
      "\n",
      "Subjectivity Score: 0.284\n"
     ]
    }
   ],
   "source": [
    "# run the request for ChatGPT\n",
    "\n",
    "fine_tune_messages = {\"role\": \"system\", \"content\":\n",
    "                \"You are a helpful financial assistant who is expert in evaluating sentiment scores for financial statements \\\n",
    "               You give precise answers to questions \\\n",
    "               the quality of your answers is highly important, you never hallucinate answers - only \\\n",
    "               answering based on your knowledge. Where the answer requires creative thought you engage \\\n",
    "               in reflective internal dialogue to ascertain the best answer\"\n",
    "}\n",
    "\n",
    "user_content = \"Please tell me about the sentiment (positive, negative, neutral) of this information (Netflix) for the investors. \\\n",
    "                Please, be consice and lucid. \\\n",
    "                Calculate the total polarity and subjectivity scores on the range -1 to 1 (show scores in the beginning of your output): \"\n",
    "\n",
    "\n",
    "completion = openai.ChatCompletion.create(\n",
    "  model=\"gpt-3.5-turbo\",\n",
    "  messages=[\n",
    "      fine_tune_messages,\n",
    "    {\"role\": \"user\", \"content\": user_content + final_prompt}\n",
    "  ]\n",
    ")\n",
    "\n",
    "print(completion.choices[0].message.content)"
   ]
  }
 ],
 "metadata": {
  "kernelspec": {
   "display_name": "Python 3 (ipykernel)",
   "language": "python",
   "name": "python3"
  },
  "language_info": {
   "codemirror_mode": {
    "name": "ipython",
    "version": 3
   },
   "file_extension": ".py",
   "mimetype": "text/x-python",
   "name": "python",
   "nbconvert_exporter": "python",
   "pygments_lexer": "ipython3",
   "version": "3.10.8"
  }
 },
 "nbformat": 4,
 "nbformat_minor": 5
}
