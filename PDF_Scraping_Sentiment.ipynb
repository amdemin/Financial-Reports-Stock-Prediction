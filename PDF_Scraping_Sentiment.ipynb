{
 "cells": [
  {
   "cell_type": "code",
   "execution_count": 4,
   "id": "0cd7810b",
   "metadata": {},
   "outputs": [],
   "source": [
    "# Import libraries\n",
    "import pandas as pd\n",
    "import numpy as np\n",
    "import matplotlib.pyplot as plt\n",
    "import seaborn as sns\n",
    "import requests\n",
    "import os\n",
    "import re\n",
    "import pickle\n",
    "from tqdm.notebook import tqdm\n",
    "from difflib import SequenceMatcher\n",
    "import pdfplumber\n",
    "\n",
    "# Import local .py file\n",
    "from scrapepdf import scrape_pdf"
   ]
  },
  {
   "cell_type": "code",
   "execution_count": 5,
   "id": "9f024aca",
   "metadata": {},
   "outputs": [],
   "source": [
    "# Define similarity function\n",
    "def similar(a, b):\n",
    "    return SequenceMatcher(None, a, b).ratio()"
   ]
  },
  {
   "cell_type": "code",
   "execution_count": 6,
   "id": "ecf79796",
   "metadata": {},
   "outputs": [],
   "source": [
    "# Get file paths for the pdf files\n",
    "folder_path = \"ShareholderLetters/\" # put '/' at the end to get all files in the folder\n",
    "file_paths = []\n",
    "for root, directories, files in os.walk(folder_path):\n",
    "    for filename in files:\n",
    "        filepath = os.path.join(root, filename)\n",
    "        file_paths.append(filepath)"
   ]
  },
  {
   "cell_type": "code",
   "execution_count": 70,
   "id": "c704593a",
   "metadata": {},
   "outputs": [],
   "source": [
    "# Scrape pdf files and store the text and headings in a dictionary\n",
    "pdf_texts, pdf_headings = scrape_pdf(file_paths) # total run time: 2 min 20 s"
   ]
  },
  {
   "cell_type": "code",
   "execution_count": 76,
   "id": "5e194cee",
   "metadata": {},
   "outputs": [],
   "source": [
    "# Save pdf texts and headings to pickle file\n",
    "with open(\"pdf_texts.pkl\", \"wb\") as f:\n",
    "    pickle.dump(pdf_texts, f)\n",
    "\n",
    "with open(\"pdf_headings.pkl\", \"wb\") as f:\n",
    "    pickle.dump(pdf_headings, f)"
   ]
  },
  {
   "cell_type": "code",
   "execution_count": 39,
   "id": "6525bc27",
   "metadata": {},
   "outputs": [],
   "source": [
    "# Load pdf text and headings from the pickle file\n",
    "pdf_texts = pickle.load(open(\"pdf_texts.pkl\", \"rb\"))\n",
    "pdf_headings = pickle.load(open(\"pdf_headings.pkl\", \"rb\"))"
   ]
  },
  {
   "cell_type": "code",
   "execution_count": 40,
   "id": "19b877cf",
   "metadata": {},
   "outputs": [
    {
     "data": {
      "text/plain": [
       "('COMBINED-Q4-17-Shareholder-Letter-FINAL',\n",
       " \"We had a beautiful Q4, completing a great year as internet TV expands globally. In 2017, we grew streaming revenue 36% to over $11 billion, added 24 million new memberships (compared to 19 million in 2016), achieved for the first time a full-year positive international contribution profit, and more than doubled global operating income. . Q4 Results Average paid streaming memberships rose 25% year over year in Q4. Combined with a 9% increase in ASP, global streaming revenue growth amounted to 35%. Operating income of $245 million (7.5% margin) vs. $154 million prior year (6.2% margin) was slightly above our $238 million forecast. Operating margin for FY17 was 7.2%, on target with our goal at the beginning of this year. EPS was $0.41 vs. $0.15 last year and met our forecast of $0.41. There were several below the line items that affected net income, including a pre-tax $26 million non-cash unrealized loss from F/X remeasurement on our Eurobond. Our tax rate was helped by a $66 million foreign tax benefit, which partially offset a revaluation of our deferred tax assets and the impact from the mandatory deemed repatriation of accumulated foreign earnings related to the recent US tax reform. In Q4, we registered global net adds of 8.3 million, the highest quarter in our history and up 18% vs. last year’s record 7.05 million net adds. This exceeded our 6.3m forecast due primarily to stronger than expected acquisition fueled by our original content slate and the ongoing global adoption of internet entertainment. Geographically, the outperformance vs. guidance was broad-based. In the US, memberships rose by 2.0 million (vs. forecast of 1.25m) bringing total FY17 net adds to 5.3 million. ASP rose 5% year-over-year. Domestic contribution profit increased 5% year-over-year although contribution margin of 34.4% declined both on a year-over-year and sequential basis due to the marketing spend we noted in last quarter’s investor letter. Internationally, we added 6.36 million memberships (compared with guidance of 5.05m), a new record for quarterly net adds for this segment. Excluding a F/X impact of +$43 million, international revenue and ASP grew 59% and 12% year over year, respectively. The increase in ASP reflects price adjustments in a wide variety of our markets over the course of 2017. With contribution profit of $227 million in 2017 (4.5% contribution margin), the international segment delivered its first full year of positive contribution profit in our history. We took a $39m non-cash charge in Q4 for unreleased content we’ve decided not to move forward with. This charge was recognized in content expense in cost of revenues. Despite this unexpected expense, we slightly exceeded our contribution profit and operating income forecast due to our stronger than expected member growth and the timing of international content spend. Forecast The guidance we provide is our internal forecast at the time we report. For Q1, we project global net adds of 6.35 million (vs. 5.0m in the year ago quarter), with 1.45m in the US and 4.90m internationally. As we wrote last quarter, our primary profit metric is operating margin and we are targeting a full year 2018 target of 10%, up about 300 basis points year over year, as in the prior year. We believe our big investments in content are paying off. In 2017, average streaming hours per membership grew by 9% year-over-year. With greater than expected member growth (resulting in more revenue), we now plan to spend $7.5-$8.0 billion on content on a P&L basis in 2018. 2Big hits like 13 Reasons Why, Stranger Things and Bright result from a combination of great content and \\u200b \\u200b \\u200b \\u200b \\u200b \\u200b great marketing. We’re taking marketing spend up a little faster than revenue for this year (from about $1.3B to approximately $2B) because our testing results indicate this is wise. We want great content, and we want the budget to make the hits we have really big, to drive our membership growth. We’ll grow our technology & development investment to roughly $1.3 billion in 2018. Content Q4 capped an amazing year for Netflix original content with returning seasons of The Crown and Black \\u200b \\u200b \\u200b Mirror as well as Stranger Things, which cemented its place as a global phenomenon. In the quarter, we \\u200b \\u200b \\u200b \\u200b\\u200b also successfully launched new titles like the limited series Godless, Marvel’s The Punisher and \\u200b \\u200b \\u200b \\u200b Mindhunter (from director David Fincher), the latter two of which are renewed for a second season. It’s \\u200b amazing to think that in only 5 years since launching our first original series, Netflix had three of the Top \\u200b 5 most searched TV shows globally for the second year in a row. \\u200b Our largest investment in original films to date, Bright, a fantasy action movie starring Will Smith, was a \\u200b \\u200b major success and drove a notable lift in acquisition. In its first month, Bright has become one of our \\u200b \\u200b most viewed original titles ever. We’re thrilled with this performance and are planning a sequel as well as additional investment in original films. We’re finding continued success with international originals and in Q4 we released: season 3 of Club de \\u200b Cuervos as well as The Day I Met El Chapo, both of which are from Mexico; Suburra from Italy; and an \\u200b \\u200b \\u200b \\u200b \\u200b unscripted series from the UK, Jack Whitehall: Travels with My Father. We also debuted Dark, our first \\u200b \\u200b \\u200b \\u200b German original drama series. High-quality content can travel globally, irrespective of language; for instance, Dark, in addition to being well-received in its home country, has also been viewed by millions \\u200b \\u200b of members in the US and has outsized watching throughout Europe and Latin America. Combined with attractive economics and a positive impact on our business in local markets, we will expand this initiative with over 30 international original series this year, including projects from France, Poland, India, Korea and Japan. We are increasingly self-producing our original content. As part of this initiative, in Q4 we signed overall deals with Stranger Things producer Shawn Levy and Orange is the New Black and GLOW creator Jenji \\u200b \\u200b \\u200b \\u200b \\u200b \\u200b Kohan. Our goal is to work directly with the best talent to bring amazing stories to our members all over the world. Product and Partnerships We are partnering with a growing number of MVPDs and ISPs across the world to the benefit of our mutual customers. These partnerships make it easier for consumers to sign up, enjoy and pay for Netflix, while our service allows our partners to deepen their relationships with these subscribers. Examples of these types of partnerships that we struck in Q4 include an expanded global partnership with Deutsche Telekom and with Cox Communications and Verizon Communications in the US. As expected, the FCC removed the US net neutrality rules. We believe that a strong internet should have enforceable net 3neutrality rules, so we and other internet firms are backing the Internet Association’s challenge to the FCC’s action. Competition We have been talking about the transition from linear to streaming for the past 10 years. As this trend becomes increasingly evident, more companies are entering the market for premium video content. On the commercial-free tech side, Amazon Studios is likely to bring in a strong new leader given their large content budgets, and Apple is growing its programming, which we presume will either be bundled with Apple Music or with iOS. Facebook and YouTube are expanding and competing in free ad-supported video content. With their multi-billion global audiences, free ad-supported internet video is a big force in the market for entertainment time, as well as a great advertising vehicle for Netflix. Traditional media companies are also expanding into streaming. Disney is in the process of acquiring most of 21st Century Fox and plans to launch a direct-to-consumer service in 2019 with a beloved brand and great franchises. The market for entertainment time is vast and can support many successful services. In addition, entertainment services are often complementary given their unique content offerings. We believe this is largely why both we and Hulu have been able to succeed and grow. Free Cash Flow and Capital Structure In Q4, free cash flow amounted to -$524 million, bringing full year 2017 FCF to -$2.0 billion, at the lower end of the -$2.0 to -$2.5 billion range we had previously indicated. This was largely due to the timing of content payments, which will now occur in 2018. Our operating margins and income are rising, and our only material cash-ahead-of-P&L-expense is content. When we develop a title like Bright, the cash spend is 1-3 years before the viewing, associated \\u200b \\u200b membership growth, and P&L expense. Thus, the faster we grow our originals budget (particularly for self-produced content), the more cash we consume. We are increasing operating margins and expect that in the future, a combination of rising operating profits and slowing growth in original content spend will turn our business FCF positive. In the near term, however, membership, revenue and original content spend are booming. We’re growing faster than we expected, which allows us to invest more in original content than we had planned, so our FCF will be around negative $3B-$4B in 2018. Given our track record of content investments helping to increase growth, we are excited about the growth in future years from the increased investments we are making in original content this year. We anticipate continuing to raise capital in the high yield market. The new limitation on deductibility of interest costs is not expected to affect us. We are striving to make the right choices and investments to grow the value of the firm, and that is what also ultimately secures our debt. High yield has rarely seen an equity cushion so thick. 4Board of Directors We are pleased to add Rodolphe Belmer to our board of directors. Rodolphe is the former CEO of Canal+ \\u200b \\u200b Group in France, and is currently CEO of Eutelsat, a global satellite business. A large and growing percentage of our members are European, and we are fortunate to have a leader like Rodolphe join our board. Summary Our goal is to entertain people. We are thrilled to be able to do that at great scale. For quick reference, our eight most recent investor letters are: October 2017, July 2017, April 2017, \\u200b \\u200b \\u200b \\u200b \\u200b \\u200b January 2017, October 2016, July 2016, April 2016, January, 2016. \\u200b \\u200b \\u200b \\u200b \\u200b \\u200b \\u200b \\u200b \\u200b January 22, 2018 Earnings Interview, 3pm PST Our video interview with Todd Juenger of Bernstein will be on youtube/netflixir at 3pm PST today. \\u200b \\u200b Questions that investors would like Todd to ask should be sent to todd.juenger@bernstein.com. Reed \\u200b \\u200b \\u200b Hastings, CEO, David Wells, CFO, Ted Sarandos, Chief Content Officer, Greg Peters, Chief Product Officer and Spencer Wang, VP of IR/Corporate Development will be answering Todd’s questions. IR Contact: PR Contact: Spencer Wang Jonathan Friedland Vice President, Finance/IR & Corporate Development Chief Communications Officer 408 809-5360 310 734-2958 Use of Non-GAAP Measures This shareholder letter and its attachments include reference to the non-GAAP financial measure of free cash flow and EBITDA. Management believes that free cash flow and EBITDA are important liquidity metrics because they measure, during a given period, the amount of cash generated that is available to repay debt obligations, make investments and for certain other activities or the amount of cash used in operations, including investments in global streaming content. However, these non-GAAP measures should be considered in addition to, not as a substitute for or superior to, net income, operating income, diluted earnings per share and net cash provided by operating activities, or other financial measures prepared in accordance with GAAP. Reconciliation to the GAAP equivalent of these non-GAAP measures are contained in tabular form on the attached unaudited financial statements. Forward-Looking Statements This shareholder letter contains certain forward-looking statements within the meaning of the federal securities laws, including statements regarding our investments in marketing, technology and 5development, and content, including original content; content and product partnerships; impact of U.S. net neutrality rules; growth of internet video and competitive landscape; future capital raises; expectations of positive free cash flow, impact of the new limitation on the deductibility of interest; domestic and international net, total and paid subscribers; revenue; contribution profit (loss) and contribution margin for both domestic and international operations, as well as consolidated operating income, operating margin; net income, earnings per share and free cash flow. The forward-looking statements in this letter are subject to risks and uncertainties that could cause actual results and events to differ, including, without limitation: our ability to attract new members and retain existing members; our ability to compete effectively; maintenance and expansion of device platforms for streaming; fluctuations in consumer usage of our service; service disruptions; production risks; actions of Internet Service Providers; and, competition, including consumer adoption of different modes of viewing in-home filmed entertainment. A detailed discussion of these and other risks and uncertainties that could cause actual results and events to differ materially from such forward-looking statements is included in our filings with the Securities and Exchange Commission, including our Annual Report on Form 10-K filed with the Securities and Exchange Commission on January 27, 2017. The Company provides internal forecast numbers. Investors should anticipate that actual performance will vary from these forecast numbers based on risks and uncertainties discussed above and in our Annual Report on Form 10-K. We undertake no obligation to update forward-looking statements to reflect events or circumstances occurring after the date of this shareholder letter. 6Netflix, Inc. Consolidated Statements of Operations (unaudited) (in thousands, except per share data) Three Months Ended Twelve Months Ended December 31, September 30, December 31, December 31, December 31, 2017 2017 2016 2017 2016 Revenues $ 3,285,755 $ 2,984,859 $ 2,477,541 $ 11,692,713 $ 8,830,669 Cost of revenues 2,107,354 1,992,980 1,654,419 7,659,666 6,029,901 Marketing 419,939 312,490 284,996 1,278,022 991,078 Technology and development 273,351 255,236 225,191 1,052,778 852,098 General and administrative 239,808 215,526 159,001 863,568 577,799 Operating income 245,303 208,627 153,934 838,679 379,793 Other income (expense): Interest expense (75,292) (60,688) (43,586) (238,204) (150,114) Interest and other income (expense) (38,681) (31,702) (20,079) (115,154) 30,828 Income before income taxes 131,330 116,237 90,269 485,321 260,507 Provision for (benefit from) income taxes (54,187) (13,353) 23,521 (73,608) 73,829 Net income $ 185,517 $ 129,590 $ 66,748 $ 558,929 $ 186,678 Earnings per share: Basic $ 0.43 $ 0.30 $ 0.16 $ 1.29 $ 0.44 Diluted $ 0.41 $ 0.29 $ 0.15 $ 1.25 $ 0.43 Weighted-average common shares outstanding: Basic 433,108 432,404 429,738 431,885 428,822 Diluted 448,142 447,362 440,063 446,814 438,652 7Netflix, Inc. Consolidated Balance Sheets (unaudited) (in thousands, except share and par value data) As of December 31, December 31, 2017 2016 Assets Current assets: Cash and cash equivalents $ 2,822,795 $ 1,467,576 Short-term investments — 266,206 Current content assets, net 4,310,934 3,726,307 Other current assets 536,245 260,202 Total current assets 7,669,974 5,720,291 Non-current content assets, net 10,371,055 7,274,501 Property and equipment, net 319,404 250,395 Other non-current assets 652,309 341,423 Total assets $ 19,012,742 $ 13,586,610 Liabilities and Stockholders' Equity Current liabilities: Current content liabilities $ 4,173,041 $ 3,632,711 Accounts payable 359,555 312,842 Accrued expenses 315,094 197,632 Deferred revenue 618,622 443,472 Total current liabilities 5,466,312 4,586,657 Non-current content liabilities 3,329,796 2,894,654 Long-term debt 6,499,432 3,364,311 Other non-current liabilities 135,246 61,188 Total liabilities 15,430,786 10,906,810 Stockholders' equity: Common stock 1,871,396 1,599,762 Accumulated other comprehensive loss (20,557) (48,565) Retained earnings 1,731,117 1,128,603 Total stockholders' equity 3,581,956 2,679,800 Total liabilities and stockholders' equity $ 19,012,742 $ 13,586,610 8Netflix, Inc. Consolidated Statements of Cash Flows (unaudited) (in thousands) Three Months Ended Twelve Months Ended December 31, September 30, December 31, December 31, December 31, 2017 2017 2016 2017 2016 Cash flows from operating activities: Net income $ 185,517 $ 129,590 $ 66,748 $ 558,929 $ 186,678 Adjustments to reconcile net income to net cash used in operating activities: Additions to streaming content assets (2,477,659) (2,315,017) (2,102,841) (9,805,763) (8,653,286) Change in streaming content liabilities 53,446 (34,587) 98,525 900,006 1,772,650 Amortization of streaming content assets 1,713,863 1,627,477 1,330,508 6,197,817 4,788,498 Amortization of DVD content assets 12,289 13,259 19,206 60,657 78,952 Depreciation and amortization of property, equipment and intangibles 19,073 19,238 14,189 71,911 57,528 Stock-based compensation expense 48,530 44,763 43,646 182,209 173,675 Excess tax benefits from stock-based compensation — — (27,720) — (65,121) Other non-cash items 14,126 9,896 9,430 57,207 40,909 Foreign currency remeasurement loss on long-term debt 25,740 50,830 — 140,790 — Deferred taxes (104,132) (57,090) (26,706) (208,688) (46,847) Changes in operating assets and liabilities: Other current assets (87,090) (41,399) (1,679) (234,090) 46,970 Accounts payable 63,969 34,029 15,540 74,559 32,247 Accrued expenses (5,169) 74,006 (3,582) 114,337 68,706 Deferred revenue 83,197 32,947 16,266 177,974 96,751 Other non-current assets and liabilities (33,657) (7,549) (8,690) (73,803) (52,294) Net cash used in operating activities (487,957) (419,607) (557,160) (1,785,948) (1,473,984) Cash flows from investing activities: Acquisitions of DVD content assets (10,507) (10,217) (18,797) (53,720) (77,177) Purchases of property and equipment (21,585) (33,963) (61,048) (173,302) (107,653) Change in other assets (3,749) (1,107) (1,617) (6,689) (941) Purchases of short-term investments — (2,799) (5,603) (74,819) (187,193) Proceeds from sale of short-term investments — 250,278 83,797 320,154 282,484 Proceeds from maturities of short-term investments — — 27,690 22,705 140,245 Net cash provided by (used in) investing activities (35,841) 202,192 24,422 34,329 49,765 Cash flows from financing activities: Proceeds from issuance of debt 1,600,000 — 1,000,000 3,020,510 1,000,000 Issuance costs (16,828) (312) (10,700) (32,153) (10,700) Proceeds from issuance of common stock 14,705 34,669 25,392 88,378 36,979 Excess tax benefits from stock-based compensation — — 27,720 — 65,121 Other financing activities 66 65 60 255 230 Net cash provided by financing activities 1,597,943 34,422 1,042,472 3,076,990 1,091,630 Effect of exchange rate changes on cash and cash equivalents 2,181 10,685 (11,316) 29,848 (9,165) Net increase (decrease) in cash and cash equivalents 1,076,326 (172,308) 498,418 1,355,219 (341,754) Cash and cash equivalents, beginning of period 1,746,469 1,918,777 969,158 1,467,576 1,809,330 Cash and cash equivalents, end of period $ 2,822,795 $ 1,746,469 $ 1,467,576 $ 2,822,795 $ 1,467,576 Three Months Ended Twelve Months Ended December 31, September 30, December 31, December 31, December 31, 2017 2017 2016 2017 2016 Non-GAAP free cash flow reconciliation: Net cash used in operating activities $ (487,957) $ (419,607) $ (557,160) $ (1,785,948) $ (1,473,984) Acquisitions of DVD content assets (10,507) (10,217) (18,797) (53,720) (77,177) Purchases of property and equipment (21,585) (33,963) (61,048) (173,302) (107,653) Change in other assets (3,749) (1,107) (1,617) (6,689) (941) Non-GAAP free cash flow $ (523,798) $ (464,894) $ (638,622) $ (2,019,659) $ (1,659,755) 9Netflix, Inc. Segment Information (unaudited) (in thousands) As of / Three Months Ended As of/ Twelve Months Ended December 31, September 30, December 31, December 31, December 31, 2017 2017 2016 2017 2016 Domestic Streaming Total memberships at end of period 54,750 52,772 49,431 54,750 49,431 Paid memberships at end of period 52,810 51,345 47,905 52,810 47,905 Revenues $ 1,630,274 $ 1,547,210 $ 1,403,462 $ 6,153,025 $ 5,077,307 Cost of revenues 873,372 864,408 761,479 3,319,230 2,855,789 Marketing 195,784 128,901 105,589 553,331 382,832 Contribution profit 561,118 553,901 536,394 2,280,464 1,838,686 International Streaming Total memberships at end of period 62,832 56,476 44,365 62,832 44,365 Paid memberships at end of period 57,834 52,678 41,185 57,834 41,185 Revenues $ 1,550,329 $ 1,327,435 $ 947,666 $ 5,089,191 $ 3,211,095 Cost of revenues 1,191,497 1,081,485 834,794 4,137,911 2,911,370 Marketing 224,155 183,589 179,407 724,691 608,246 Contribution profit (loss) 134,677 62,361 (66,535) 226,589 (308,521) Domestic DVD Total memberships at end of period 3,383 3,569 4,114 3,383 4,114 Paid memberships at end of period 3,330 3,520 4,029 3,330 4,029 Revenues $ 105,152 $ 110,214 $ 126,413 $ 450,497 $ 542,267 Cost of revenues 42,485 47,087 58,146 202,525 262,742 Contribution profit 62,667 63,127 68,267 247,972 279,525 Consolidated Revenues $ 3,285,755 $ 2,984,859 $ 2,477,541 $ 11,692,713 $ 8,830,669 Cost of revenues 2,107,354 1,992,980 1,654,419 7,659,666 6,029,901 Marketing 419,939 312,490 284,996 1,278,022 991,078 Contribution profit 758,462 679,389 538,126 2,755,025 1,809,690 Other operating expenses 513,159 470,762 384,192 1,916,346 1,429,897 Operating income 245,303 208,627 153,934 838,679 379,793 Other expense (113,973) (92,390) (63,665) (353,358) (119,286) Provision for (benefit from) income taxes (54,187) (13,353) 23,521 (73,608) 73,829 Net income $ 185,517 $ 129,590 $ 66,748 $ 558,929 $ 186,678 10Netflix, Inc. Non-GAAP Information (unaudited) (in thousands) December 31, March 31, June 30, September 30, December 31, 2016 2017 2017 2017 2017 Non-GAAP Adjusted EBITDA reconciliation: GAAP net income $ 66,748 $ 178,222 $ 65,600 $ 129,590 $ 185,517 Add: Interest and other (income) expense 63,665 33,150 113,845 92,390 113,973 Provision for (benefit from) income taxes 23,521 45,570 (51,638) (13,353) (54,187) Depreciation and amortization of property, equipment and intangibles 14,189 15,049 18,551 19,238 19,073 Stock-based compensation expense 43,646 44,888 44,028 44,763 48,530 Adjusted EBITDA $ 211,769 $ 316,879 $ 190,386 $ 272,628 $ 312,906 11\")"
      ]
     },
     "execution_count": 40,
     "metadata": {},
     "output_type": "execute_result"
    }
   ],
   "source": [
    "list(pdf_texts.items())[0]"
   ]
  },
  {
   "cell_type": "code",
   "execution_count": 41,
   "id": "fb737a52",
   "metadata": {},
   "outputs": [],
   "source": [
    "# Get text from the first pdf file\n",
    "text = list(pdf_texts.items())[0][1]\n",
    "# Get headings from the first pdf file\n",
    "headings = list(pdf_headings.items())[0][1]"
   ]
  },
  {
   "cell_type": "code",
   "execution_count": 42,
   "id": "c764868b",
   "metadata": {},
   "outputs": [
    {
     "data": {
      "text/plain": [
       "\"We had a beautiful Q4, completing a great year as internet TV expands globally. In 2017, we grew streaming revenue 36% to over $11 billion, added 24 million new memberships (compared to 19 million in 2016), achieved for the first time a full-year positive international contribution profit, and more than doubled global operating income. . Q4 Results Average paid streaming memberships rose 25% year over year in Q4. Combined with a 9% increase in ASP, global streaming revenue growth amounted to 35%. Operating income of $245 million (7.5% margin) vs. $154 million prior year (6.2% margin) was slightly above our $238 million forecast. Operating margin for FY17 was 7.2%, on target with our goal at the beginning of this year. EPS was $0.41 vs. $0.15 last year and met our forecast of $0.41. There were several below the line items that affected net income, including a pre-tax $26 million non-cash unrealized loss from F/X remeasurement on our Eurobond. Our tax rate was helped by a $66 million foreign tax benefit, which partially offset a revaluation of our deferred tax assets and the impact from the mandatory deemed repatriation of accumulated foreign earnings related to the recent US tax reform. In Q4, we registered global net adds of 8.3 million, the highest quarter in our history and up 18% vs. last year’s record 7.05 million net adds. This exceeded our 6.3m forecast due primarily to stronger than expected acquisition fueled by our original content slate and the ongoing global adoption of internet entertainment. Geographically, the outperformance vs. guidance was broad-based. In the US, memberships rose by 2.0 million (vs. forecast of 1.25m) bringing total FY17 net adds to 5.3 million. ASP rose 5% year-over-year. Domestic contribution profit increased 5% year-over-year although contribution margin of 34.4% declined both on a year-over-year and sequential basis due to the marketing spend we noted in last quarter’s investor letter. Internationally, we added 6.36 million memberships (compared with guidance of 5.05m), a new record for quarterly net adds for this segment. Excluding a F/X impact of +$43 million, international revenue and ASP grew 59% and 12% year over year, respectively. The increase in ASP reflects price adjustments in a wide variety of our markets over the course of 2017. With contribution profit of $227 million in 2017 (4.5% contribution margin), the international segment delivered its first full year of positive contribution profit in our history. We took a $39m non-cash charge in Q4 for unreleased content we’ve decided not to move forward with. This charge was recognized in content expense in cost of revenues. Despite this unexpected expense, we slightly exceeded our contribution profit and operating income forecast due to our stronger than expected member growth and the timing of international content spend. Forecast The guidance we provide is our internal forecast at the time we report. For Q1, we project global net adds of 6.35 million (vs. 5.0m in the year ago quarter), with 1.45m in the US and 4.90m internationally. As we wrote last quarter, our primary profit metric is operating margin and we are targeting a full year 2018 target of 10%, up about 300 basis points year over year, as in the prior year. We believe our big investments in content are paying off. In 2017, average streaming hours per membership grew by 9% year-over-year. With greater than expected member growth (resulting in more revenue), we now plan to spend $7.5-$8.0 billion on content on a P&L basis in 2018. 2Big hits like 13 Reasons Why, Stranger Things and Bright result from a combination of great content and \\u200b \\u200b \\u200b \\u200b \\u200b \\u200b great marketing. We’re taking marketing spend up a little faster than revenue for this year (from about $1.3B to approximately $2B) because our testing results indicate this is wise. We want great content, and we want the budget to make the hits we have really big, to drive our membership growth. We’ll grow our technology & development investment to roughly $1.3 billion in 2018. Content Q4 capped an amazing year for Netflix original content with returning seasons of The Crown and Black \\u200b \\u200b \\u200b Mirror as well as Stranger Things, which cemented its place as a global phenomenon. In the quarter, we \\u200b \\u200b \\u200b \\u200b\\u200b also successfully launched new titles like the limited series Godless, Marvel’s The Punisher and \\u200b \\u200b \\u200b \\u200b Mindhunter (from director David Fincher), the latter two of which are renewed for a second season. It’s \\u200b amazing to think that in only 5 years since launching our first original series, Netflix had three of the Top \\u200b 5 most searched TV shows globally for the second year in a row. \\u200b Our largest investment in original films to date, Bright, a fantasy action movie starring Will Smith, was a \\u200b \\u200b major success and drove a notable lift in acquisition. In its first month, Bright has become one of our \\u200b \\u200b most viewed original titles ever. We’re thrilled with this performance and are planning a sequel as well as additional investment in original films. We’re finding continued success with international originals and in Q4 we released: season 3 of Club de \\u200b Cuervos as well as The Day I Met El Chapo, both of which are from Mexico; Suburra from Italy; and an \\u200b \\u200b \\u200b \\u200b \\u200b unscripted series from the UK, Jack Whitehall: Travels with My Father. We also debuted Dark, our first \\u200b \\u200b \\u200b \\u200b German original drama series. High-quality content can travel globally, irrespective of language; for instance, Dark, in addition to being well-received in its home country, has also been viewed by millions \\u200b \\u200b of members in the US and has outsized watching throughout Europe and Latin America. Combined with attractive economics and a positive impact on our business in local markets, we will expand this initiative with over 30 international original series this year, including projects from France, Poland, India, Korea and Japan. We are increasingly self-producing our original content. As part of this initiative, in Q4 we signed overall deals with Stranger Things producer Shawn Levy and Orange is the New Black and GLOW creator Jenji \\u200b \\u200b \\u200b \\u200b \\u200b \\u200b Kohan. Our goal is to work directly with the best talent to bring amazing stories to our members all over the world. Product and Partnerships We are partnering with a growing number of MVPDs and ISPs across the world to the benefit of our mutual customers. These partnerships make it easier for consumers to sign up, enjoy and pay for Netflix, while our service allows our partners to deepen their relationships with these subscribers. Examples of these types of partnerships that we struck in Q4 include an expanded global partnership with Deutsche Telekom and with Cox Communications and Verizon Communications in the US. As expected, the FCC removed the US net neutrality rules. We believe that a strong internet should have enforceable net 3neutrality rules, so we and other internet firms are backing the Internet Association’s challenge to the FCC’s action. Competition We have been talking about the transition from linear to streaming for the past 10 years. As this trend becomes increasingly evident, more companies are entering the market for premium video content. On the commercial-free tech side, Amazon Studios is likely to bring in a strong new leader given their large content budgets, and Apple is growing its programming, which we presume will either be bundled with Apple Music or with iOS. Facebook and YouTube are expanding and competing in free ad-supported video content. With their multi-billion global audiences, free ad-supported internet video is a big force in the market for entertainment time, as well as a great advertising vehicle for Netflix. Traditional media companies are also expanding into streaming. Disney is in the process of acquiring most of 21st Century Fox and plans to launch a direct-to-consumer service in 2019 with a beloved brand and great franchises. The market for entertainment time is vast and can support many successful services. In addition, entertainment services are often complementary given their unique content offerings. We believe this is largely why both we and Hulu have been able to succeed and grow. Free Cash Flow and Capital Structure In Q4, free cash flow amounted to -$524 million, bringing full year 2017 FCF to -$2.0 billion, at the lower end of the -$2.0 to -$2.5 billion range we had previously indicated. This was largely due to the timing of content payments, which will now occur in 2018. Our operating margins and income are rising, and our only material cash-ahead-of-P&L-expense is content. When we develop a title like Bright, the cash spend is 1-3 years before the viewing, associated \\u200b \\u200b membership growth, and P&L expense. Thus, the faster we grow our originals budget (particularly for self-produced content), the more cash we consume. We are increasing operating margins and expect that in the future, a combination of rising operating profits and slowing growth in original content spend will turn our business FCF positive. In the near term, however, membership, revenue and original content spend are booming. We’re growing faster than we expected, which allows us to invest more in original content than we had planned, so our FCF will be around negative $3B-$4B in 2018. Given our track record of content investments helping to increase growth, we are excited about the growth in future years from the increased investments we are making in original content this year. We anticipate continuing to raise capital in the high yield market. The new limitation on deductibility of interest costs is not expected to affect us. We are striving to make the right choices and investments to grow the value of the firm, and that is what also ultimately secures our debt. High yield has rarely seen an equity cushion so thick. 4Board of Directors We are pleased to add Rodolphe Belmer to our board of directors. Rodolphe is the former CEO of Canal+ \\u200b \\u200b Group in France, and is currently CEO of Eutelsat, a global satellite business. A large and growing percentage of our members are European, and we are fortunate to have a leader like Rodolphe join our board. Summary Our goal is to entertain people. We are thrilled to be able to do that at great scale. For quick reference, our eight most recent investor letters are: October 2017, July 2017, April 2017, \\u200b \\u200b \\u200b \\u200b \\u200b \\u200b January 2017, October 2016, July 2016, April 2016, January, 2016. \\u200b \\u200b \\u200b \\u200b \\u200b \\u200b \\u200b \\u200b \\u200b January 22, 2018 Earnings Interview, 3pm PST Our video interview with Todd Juenger of Bernstein will be on youtube/netflixir at 3pm PST today. \\u200b \\u200b Questions that investors would like Todd to ask should be sent to todd.juenger@bernstein.com. Reed \\u200b \\u200b \\u200b Hastings, CEO, David Wells, CFO, Ted Sarandos, Chief Content Officer, Greg Peters, Chief Product Officer and Spencer Wang, VP of IR/Corporate Development will be answering Todd’s questions. IR Contact: PR Contact: Spencer Wang Jonathan Friedland Vice President, Finance/IR & Corporate Development Chief Communications Officer 408 809-5360 310 734-2958 Use of Non-GAAP Measures This shareholder letter and its attachments include reference to the non-GAAP financial measure of free cash flow and EBITDA. Management believes that free cash flow and EBITDA are important liquidity metrics because they measure, during a given period, the amount of cash generated that is available to repay debt obligations, make investments and for certain other activities or the amount of cash used in operations, including investments in global streaming content. However, these non-GAAP measures should be considered in addition to, not as a substitute for or superior to, net income, operating income, diluted earnings per share and net cash provided by operating activities, or other financial measures prepared in accordance with GAAP. Reconciliation to the GAAP equivalent of these non-GAAP measures are contained in tabular form on the attached unaudited financial statements. Forward-Looking Statements This shareholder letter contains certain forward-looking statements within the meaning of the federal securities laws, including statements regarding our investments in marketing, technology and 5development, and content, including original content; content and product partnerships; impact of U.S. net neutrality rules; growth of internet video and competitive landscape; future capital raises; expectations of positive free cash flow, impact of the new limitation on the deductibility of interest; domestic and international net, total and paid subscribers; revenue; contribution profit (loss) and contribution margin for both domestic and international operations, as well as consolidated operating income, operating margin; net income, earnings per share and free cash flow. The forward-looking statements in this letter are subject to risks and uncertainties that could cause actual results and events to differ, including, without limitation: our ability to attract new members and retain existing members; our ability to compete effectively; maintenance and expansion of device platforms for streaming; fluctuations in consumer usage of our service; service disruptions; production risks; actions of Internet Service Providers; and, competition, including consumer adoption of different modes of viewing in-home filmed entertainment. A detailed discussion of these and other risks and uncertainties that could cause actual results and events to differ materially from such forward-looking statements is included in our filings with the Securities and Exchange Commission, including our Annual Report on Form 10-K filed with the Securities and Exchange Commission on January 27, 2017. The Company provides internal forecast numbers. Investors should anticipate that actual performance will vary from these forecast numbers based on risks and uncertainties discussed above and in our Annual Report on Form 10-K. We undertake no obligation to update forward-looking statements to reflect events or circumstances occurring after the date of this shareholder letter. 6Netflix, Inc. Consolidated Statements of Operations (unaudited) (in thousands, except per share data) Three Months Ended Twelve Months Ended December 31, September 30, December 31, December 31, December 31, 2017 2017 2016 2017 2016 Revenues $ 3,285,755 $ 2,984,859 $ 2,477,541 $ 11,692,713 $ 8,830,669 Cost of revenues 2,107,354 1,992,980 1,654,419 7,659,666 6,029,901 Marketing 419,939 312,490 284,996 1,278,022 991,078 Technology and development 273,351 255,236 225,191 1,052,778 852,098 General and administrative 239,808 215,526 159,001 863,568 577,799 Operating income 245,303 208,627 153,934 838,679 379,793 Other income (expense): Interest expense (75,292) (60,688) (43,586) (238,204) (150,114) Interest and other income (expense) (38,681) (31,702) (20,079) (115,154) 30,828 Income before income taxes 131,330 116,237 90,269 485,321 260,507 Provision for (benefit from) income taxes (54,187) (13,353) 23,521 (73,608) 73,829 Net income $ 185,517 $ 129,590 $ 66,748 $ 558,929 $ 186,678 Earnings per share: Basic $ 0.43 $ 0.30 $ 0.16 $ 1.29 $ 0.44 Diluted $ 0.41 $ 0.29 $ 0.15 $ 1.25 $ 0.43 Weighted-average common shares outstanding: Basic 433,108 432,404 429,738 431,885 428,822 Diluted 448,142 447,362 440,063 446,814 438,652 7Netflix, Inc. Consolidated Balance Sheets (unaudited) (in thousands, except share and par value data) As of December 31, December 31, 2017 2016 Assets Current assets: Cash and cash equivalents $ 2,822,795 $ 1,467,576 Short-term investments — 266,206 Current content assets, net 4,310,934 3,726,307 Other current assets 536,245 260,202 Total current assets 7,669,974 5,720,291 Non-current content assets, net 10,371,055 7,274,501 Property and equipment, net 319,404 250,395 Other non-current assets 652,309 341,423 Total assets $ 19,012,742 $ 13,586,610 Liabilities and Stockholders' Equity Current liabilities: Current content liabilities $ 4,173,041 $ 3,632,711 Accounts payable 359,555 312,842 Accrued expenses 315,094 197,632 Deferred revenue 618,622 443,472 Total current liabilities 5,466,312 4,586,657 Non-current content liabilities 3,329,796 2,894,654 Long-term debt 6,499,432 3,364,311 Other non-current liabilities 135,246 61,188 Total liabilities 15,430,786 10,906,810 Stockholders' equity: Common stock 1,871,396 1,599,762 Accumulated other comprehensive loss (20,557) (48,565) Retained earnings 1,731,117 1,128,603 Total stockholders' equity 3,581,956 2,679,800 Total liabilities and stockholders' equity $ 19,012,742 $ 13,586,610 8Netflix, Inc. Consolidated Statements of Cash Flows (unaudited) (in thousands) Three Months Ended Twelve Months Ended December 31, September 30, December 31, December 31, December 31, 2017 2017 2016 2017 2016 Cash flows from operating activities: Net income $ 185,517 $ 129,590 $ 66,748 $ 558,929 $ 186,678 Adjustments to reconcile net income to net cash used in operating activities: Additions to streaming content assets (2,477,659) (2,315,017) (2,102,841) (9,805,763) (8,653,286) Change in streaming content liabilities 53,446 (34,587) 98,525 900,006 1,772,650 Amortization of streaming content assets 1,713,863 1,627,477 1,330,508 6,197,817 4,788,498 Amortization of DVD content assets 12,289 13,259 19,206 60,657 78,952 Depreciation and amortization of property, equipment and intangibles 19,073 19,238 14,189 71,911 57,528 Stock-based compensation expense 48,530 44,763 43,646 182,209 173,675 Excess tax benefits from stock-based compensation — — (27,720) — (65,121) Other non-cash items 14,126 9,896 9,430 57,207 40,909 Foreign currency remeasurement loss on long-term debt 25,740 50,830 — 140,790 — Deferred taxes (104,132) (57,090) (26,706) (208,688) (46,847) Changes in operating assets and liabilities: Other current assets (87,090) (41,399) (1,679) (234,090) 46,970 Accounts payable 63,969 34,029 15,540 74,559 32,247 Accrued expenses (5,169) 74,006 (3,582) 114,337 68,706 Deferred revenue 83,197 32,947 16,266 177,974 96,751 Other non-current assets and liabilities (33,657) (7,549) (8,690) (73,803) (52,294) Net cash used in operating activities (487,957) (419,607) (557,160) (1,785,948) (1,473,984) Cash flows from investing activities: Acquisitions of DVD content assets (10,507) (10,217) (18,797) (53,720) (77,177) Purchases of property and equipment (21,585) (33,963) (61,048) (173,302) (107,653) Change in other assets (3,749) (1,107) (1,617) (6,689) (941) Purchases of short-term investments — (2,799) (5,603) (74,819) (187,193) Proceeds from sale of short-term investments — 250,278 83,797 320,154 282,484 Proceeds from maturities of short-term investments — — 27,690 22,705 140,245 Net cash provided by (used in) investing activities (35,841) 202,192 24,422 34,329 49,765 Cash flows from financing activities: Proceeds from issuance of debt 1,600,000 — 1,000,000 3,020,510 1,000,000 Issuance costs (16,828) (312) (10,700) (32,153) (10,700) Proceeds from issuance of common stock 14,705 34,669 25,392 88,378 36,979 Excess tax benefits from stock-based compensation — — 27,720 — 65,121 Other financing activities 66 65 60 255 230 Net cash provided by financing activities 1,597,943 34,422 1,042,472 3,076,990 1,091,630 Effect of exchange rate changes on cash and cash equivalents 2,181 10,685 (11,316) 29,848 (9,165) Net increase (decrease) in cash and cash equivalents 1,076,326 (172,308) 498,418 1,355,219 (341,754) Cash and cash equivalents, beginning of period 1,746,469 1,918,777 969,158 1,467,576 1,809,330 Cash and cash equivalents, end of period $ 2,822,795 $ 1,746,469 $ 1,467,576 $ 2,822,795 $ 1,467,576 Three Months Ended Twelve Months Ended December 31, September 30, December 31, December 31, December 31, 2017 2017 2016 2017 2016 Non-GAAP free cash flow reconciliation: Net cash used in operating activities $ (487,957) $ (419,607) $ (557,160) $ (1,785,948) $ (1,473,984) Acquisitions of DVD content assets (10,507) (10,217) (18,797) (53,720) (77,177) Purchases of property and equipment (21,585) (33,963) (61,048) (173,302) (107,653) Change in other assets (3,749) (1,107) (1,617) (6,689) (941) Non-GAAP free cash flow $ (523,798) $ (464,894) $ (638,622) $ (2,019,659) $ (1,659,755) 9Netflix, Inc. Segment Information (unaudited) (in thousands) As of / Three Months Ended As of/ Twelve Months Ended December 31, September 30, December 31, December 31, December 31, 2017 2017 2016 2017 2016 Domestic Streaming Total memberships at end of period 54,750 52,772 49,431 54,750 49,431 Paid memberships at end of period 52,810 51,345 47,905 52,810 47,905 Revenues $ 1,630,274 $ 1,547,210 $ 1,403,462 $ 6,153,025 $ 5,077,307 Cost of revenues 873,372 864,408 761,479 3,319,230 2,855,789 Marketing 195,784 128,901 105,589 553,331 382,832 Contribution profit 561,118 553,901 536,394 2,280,464 1,838,686 International Streaming Total memberships at end of period 62,832 56,476 44,365 62,832 44,365 Paid memberships at end of period 57,834 52,678 41,185 57,834 41,185 Revenues $ 1,550,329 $ 1,327,435 $ 947,666 $ 5,089,191 $ 3,211,095 Cost of revenues 1,191,497 1,081,485 834,794 4,137,911 2,911,370 Marketing 224,155 183,589 179,407 724,691 608,246 Contribution profit (loss) 134,677 62,361 (66,535) 226,589 (308,521) Domestic DVD Total memberships at end of period 3,383 3,569 4,114 3,383 4,114 Paid memberships at end of period 3,330 3,520 4,029 3,330 4,029 Revenues $ 105,152 $ 110,214 $ 126,413 $ 450,497 $ 542,267 Cost of revenues 42,485 47,087 58,146 202,525 262,742 Contribution profit 62,667 63,127 68,267 247,972 279,525 Consolidated Revenues $ 3,285,755 $ 2,984,859 $ 2,477,541 $ 11,692,713 $ 8,830,669 Cost of revenues 2,107,354 1,992,980 1,654,419 7,659,666 6,029,901 Marketing 419,939 312,490 284,996 1,278,022 991,078 Contribution profit 758,462 679,389 538,126 2,755,025 1,809,690 Other operating expenses 513,159 470,762 384,192 1,916,346 1,429,897 Operating income 245,303 208,627 153,934 838,679 379,793 Other expense (113,973) (92,390) (63,665) (353,358) (119,286) Provision for (benefit from) income taxes (54,187) (13,353) 23,521 (73,608) 73,829 Net income $ 185,517 $ 129,590 $ 66,748 $ 558,929 $ 186,678 10Netflix, Inc. Non-GAAP Information (unaudited) (in thousands) December 31, March 31, June 30, September 30, December 31, 2016 2017 2017 2017 2017 Non-GAAP Adjusted EBITDA reconciliation: GAAP net income $ 66,748 $ 178,222 $ 65,600 $ 129,590 $ 185,517 Add: Interest and other (income) expense 63,665 33,150 113,845 92,390 113,973 Provision for (benefit from) income taxes 23,521 45,570 (51,638) (13,353) (54,187) Depreciation and amortization of property, equipment and intangibles 14,189 15,049 18,551 19,238 19,073 Stock-based compensation expense 43,646 44,888 44,028 44,763 48,530 Adjusted EBITDA $ 211,769 $ 316,879 $ 190,386 $ 272,628 $ 312,906 11\""
      ]
     },
     "execution_count": 42,
     "metadata": {},
     "output_type": "execute_result"
    }
   ],
   "source": [
    "text"
   ]
  },
  {
   "cell_type": "code",
   "execution_count": 43,
   "id": "29d8f875",
   "metadata": {},
   "outputs": [
    {
     "data": {
      "text/plain": [
       "['Q4 Results',\n",
       " 'Forecast',\n",
       " 'Content',\n",
       " 'Product and Partnerships',\n",
       " 'Competition',\n",
       " 'Free Cash Flow and Capital Structure',\n",
       " 'Board of Directors',\n",
       " 'Summary',\n",
       " 'January 22, 2018 Earnings Interview, 3pm PST']"
      ]
     },
     "execution_count": 43,
     "metadata": {},
     "output_type": "execute_result"
    }
   ],
   "source": [
    "headings"
   ]
  },
  {
   "cell_type": "code",
   "execution_count": 44,
   "id": "90a2f619",
   "metadata": {},
   "outputs": [],
   "source": [
    "# Split the text into blocks based on the headings\n",
    "text_blocks = {}\n",
    "\n",
    "# Iterate over the headings\n",
    "for heading in range(len(headings)):\n",
    "\n",
    "    if heading == 0:\n",
    "        document_intro = text.split(headings[heading])[0]\n",
    "        text_blocks['Document_intro'] = document_intro\n",
    "    \n",
    "    text_after_heading = text.split(headings[heading])[1]\n",
    "    if heading == len(headings) - 1:\n",
    "        text_blocks[headings[heading]] = text_after_heading\n",
    "        break\n",
    "    else:\n",
    "        text_of_heading = text_after_heading.split(headings[heading+1])[0]\n",
    "        text_blocks[headings[heading]] = text_of_heading"
   ]
  },
  {
   "cell_type": "code",
   "execution_count": 45,
   "id": "a64ecc7f",
   "metadata": {},
   "outputs": [],
   "source": [
    "# iterate over text blocks, removing '\\u200b' and extra spaces\n",
    "for key in text_blocks:\n",
    "    text_blocks[key] = re.sub('\\u200b', '', text_blocks[key])\n",
    "    text_blocks[key] = re.sub(' +', ' ', text_blocks[key])"
   ]
  },
  {
   "cell_type": "code",
   "execution_count": 53,
   "id": "5aebefc5",
   "metadata": {},
   "outputs": [
    {
     "data": {
      "text/plain": [
       "{'Document_intro': 'We had a beautiful Q4, completing a great year as internet TV expands globally. In 2017, we grew streaming revenue 36% to over $11 billion, added 24 million new memberships (compared to 19 million in 2016), achieved for the first time a full-year positive international contribution profit, and more than doubled global operating income. . ',\n",
       " 'Q4 Results': ' Average paid streaming memberships rose 25% year over year in Q4. Combined with a 9% increase in ASP, global streaming revenue growth amounted to 35%. Operating income of $245 million (7.5% margin) vs. $154 million prior year (6.2% margin) was slightly above our $238 million forecast. Operating margin for FY17 was 7.2%, on target with our goal at the beginning of this year. EPS was $0.41 vs. $0.15 last year and met our forecast of $0.41. There were several below the line items that affected net income, including a pre-tax $26 million non-cash unrealized loss from F/X remeasurement on our Eurobond. Our tax rate was helped by a $66 million foreign tax benefit, which partially offset a revaluation of our deferred tax assets and the impact from the mandatory deemed repatriation of accumulated foreign earnings related to the recent US tax reform. In Q4, we registered global net adds of 8.3 million, the highest quarter in our history and up 18% vs. last year’s record 7.05 million net adds. This exceeded our 6.3m forecast due primarily to stronger than expected acquisition fueled by our original content slate and the ongoing global adoption of internet entertainment. Geographically, the outperformance vs. guidance was broad-based. In the US, memberships rose by 2.0 million (vs. forecast of 1.25m) bringing total FY17 net adds to 5.3 million. ASP rose 5% year-over-year. Domestic contribution profit increased 5% year-over-year although contribution margin of 34.4% declined both on a year-over-year and sequential basis due to the marketing spend we noted in last quarter’s investor letter. Internationally, we added 6.36 million memberships (compared with guidance of 5.05m), a new record for quarterly net adds for this segment. Excluding a F/X impact of +$43 million, international revenue and ASP grew 59% and 12% year over year, respectively. The increase in ASP reflects price adjustments in a wide variety of our markets over the course of 2017. With contribution profit of $227 million in 2017 (4.5% contribution margin), the international segment delivered its first full year of positive contribution profit in our history. We took a $39m non-cash charge in Q4 for unreleased content we’ve decided not to move forward with. This charge was recognized in content expense in cost of revenues. Despite this unexpected expense, we slightly exceeded our contribution profit and operating income forecast due to our stronger than expected member growth and the timing of international content spend. ',\n",
       " 'Forecast': ' The guidance we provide is our internal forecast at the time we report. For Q1, we project global net adds of 6.35 million (vs. 5.0m in the year ago quarter), with 1.45m in the US and 4.90m internationally. As we wrote last quarter, our primary profit metric is operating margin and we are targeting a full year 2018 target of 10%, up about 300 basis points year over year, as in the prior year. We believe our big investments in content are paying off. In 2017, average streaming hours per membership grew by 9% year-over-year. With greater than expected member growth (resulting in more revenue), we now plan to spend $7.5-$8.0 billion on content on a P&L basis in 2018. 2Big hits like 13 Reasons Why, Stranger Things and Bright result from a combination of great content and great marketing. We’re taking marketing spend up a little faster than revenue for this year (from about $1.3B to approximately $2B) because our testing results indicate this is wise. We want great content, and we want the budget to make the hits we have really big, to drive our membership growth. We’ll grow our technology & development investment to roughly $1.3 billion in 2018. ',\n",
       " 'Content': ' Q4 capped an amazing year for Netflix original content with returning seasons of The Crown and Black Mirror as well as Stranger Things, which cemented its place as a global phenomenon. In the quarter, we also successfully launched new titles like the limited series Godless, Marvel’s The Punisher and Mindhunter (from director David Fincher), the latter two of which are renewed for a second season. It’s amazing to think that in only 5 years since launching our first original series, Netflix had three of the Top 5 most searched TV shows globally for the second year in a row. Our largest investment in original films to date, Bright, a fantasy action movie starring Will Smith, was a major success and drove a notable lift in acquisition. In its first month, Bright has become one of our most viewed original titles ever. We’re thrilled with this performance and are planning a sequel as well as additional investment in original films. We’re finding continued success with international originals and in Q4 we released: season 3 of Club de Cuervos as well as The Day I Met El Chapo, both of which are from Mexico; Suburra from Italy; and an unscripted series from the UK, Jack Whitehall: Travels with My Father. We also debuted Dark, our first German original drama series. High-quality content can travel globally, irrespective of language; for instance, Dark, in addition to being well-received in its home country, has also been viewed by millions of members in the US and has outsized watching throughout Europe and Latin America. Combined with attractive economics and a positive impact on our business in local markets, we will expand this initiative with over 30 international original series this year, including projects from France, Poland, India, Korea and Japan. We are increasingly self-producing our original content. As part of this initiative, in Q4 we signed overall deals with Stranger Things producer Shawn Levy and Orange is the New Black and GLOW creator Jenji Kohan. Our goal is to work directly with the best talent to bring amazing stories to our members all over the world. ',\n",
       " 'Product and Partnerships': ' We are partnering with a growing number of MVPDs and ISPs across the world to the benefit of our mutual customers. These partnerships make it easier for consumers to sign up, enjoy and pay for Netflix, while our service allows our partners to deepen their relationships with these subscribers. Examples of these types of partnerships that we struck in Q4 include an expanded global partnership with Deutsche Telekom and with Cox Communications and Verizon Communications in the US. As expected, the FCC removed the US net neutrality rules. We believe that a strong internet should have enforceable net 3neutrality rules, so we and other internet firms are backing the Internet Association’s challenge to the FCC’s action. ',\n",
       " 'Competition': ' We have been talking about the transition from linear to streaming for the past 10 years. As this trend becomes increasingly evident, more companies are entering the market for premium video content. On the commercial-free tech side, Amazon Studios is likely to bring in a strong new leader given their large content budgets, and Apple is growing its programming, which we presume will either be bundled with Apple Music or with iOS. Facebook and YouTube are expanding and competing in free ad-supported video content. With their multi-billion global audiences, free ad-supported internet video is a big force in the market for entertainment time, as well as a great advertising vehicle for Netflix. Traditional media companies are also expanding into streaming. Disney is in the process of acquiring most of 21st Century Fox and plans to launch a direct-to-consumer service in 2019 with a beloved brand and great franchises. The market for entertainment time is vast and can support many successful services. In addition, entertainment services are often complementary given their unique content offerings. We believe this is largely why both we and Hulu have been able to succeed and grow. ',\n",
       " 'Free Cash Flow and Capital Structure': ' In Q4, free cash flow amounted to -$524 million, bringing full year 2017 FCF to -$2.0 billion, at the lower end of the -$2.0 to -$2.5 billion range we had previously indicated. This was largely due to the timing of content payments, which will now occur in 2018. Our operating margins and income are rising, and our only material cash-ahead-of-P&L-expense is content. When we develop a title like Bright, the cash spend is 1-3 years before the viewing, associated membership growth, and P&L expense. Thus, the faster we grow our originals budget (particularly for self-produced content), the more cash we consume. We are increasing operating margins and expect that in the future, a combination of rising operating profits and slowing growth in original content spend will turn our business FCF positive. In the near term, however, membership, revenue and original content spend are booming. We’re growing faster than we expected, which allows us to invest more in original content than we had planned, so our FCF will be around negative $3B-$4B in 2018. Given our track record of content investments helping to increase growth, we are excited about the growth in future years from the increased investments we are making in original content this year. We anticipate continuing to raise capital in the high yield market. The new limitation on deductibility of interest costs is not expected to affect us. We are striving to make the right choices and investments to grow the value of the firm, and that is what also ultimately secures our debt. High yield has rarely seen an equity cushion so thick. 4',\n",
       " 'Board of Directors': ' We are pleased to add Rodolphe Belmer to our board of directors. Rodolphe is the former CEO of Canal+ Group in France, and is currently CEO of Eutelsat, a global satellite business. A large and growing percentage of our members are European, and we are fortunate to have a leader like Rodolphe join our board. ',\n",
       " 'Summary': ' Our goal is to entertain people. We are thrilled to be able to do that at great scale. For quick reference, our eight most recent investor letters are: October 2017, July 2017, April 2017, January 2017, October 2016, July 2016, April 2016, January, 2016. ',\n",
       " 'January 22, 2018 Earnings Interview, 3pm PST': \"The video interview with Todd Juenger of Bernstein will be available on YouTube and NetflixIR at 3pm PST today. Investors can send questions they would like Todd to ask to todd.juenger@bernstein.com. Reed Hastings, CEO, David Wells, CFO, Ted Sarandos, Chief Content Officer, Greg Peters, Chief Product Officer, and Spencer Wang, VP of IR/Corporate Development, will be answering Todd's questions. The letter also includes information about the use of non-GAAP measures and forward-looking statements. The financial statements and segment information for Netflix are also provided.\"}"
      ]
     },
     "execution_count": 53,
     "metadata": {},
     "output_type": "execute_result"
    }
   ],
   "source": [
    "text_blocks"
   ]
  },
  {
   "cell_type": "code",
   "execution_count": 47,
   "id": "ce7f662d",
   "metadata": {},
   "outputs": [],
   "source": [
    "# split the text into blocks\n",
    "# these blocks would be further used as separate prompts for the OpenAI model to summarize the whole document\n",
    "# text_blocks = []\n",
    "# block = []\n",
    "# for element in range(len(text)):\n",
    "#     if text[element] in headings:\n",
    "#         if text[element] == \"Reference\":\n",
    "#             break\n",
    "#         text_blocks.append(block)\n",
    "#         block = []\n",
    "#     block.append(text[element])\n",
    "# text_blocks.append(block)"
   ]
  },
  {
   "cell_type": "code",
   "execution_count": 48,
   "id": "7b6bfeee",
   "metadata": {},
   "outputs": [
    {
     "data": {
      "text/plain": [
       "[57, 404, 205, 353, 121, 193, 274, 60, 47, 1708]"
      ]
     },
     "execution_count": 48,
     "metadata": {},
     "output_type": "execute_result"
    }
   ],
   "source": [
    "# find the number of words in each block\n",
    "# the number of words should be within the limit of the OpenAI prompt length (2048 tokens)\n",
    "block_word_count = []\n",
    "for block in text_blocks.items():\n",
    "    word_count = 0\n",
    "    for line in block:\n",
    "        word_count += len(line.split(\" \"))\n",
    "    block_word_count.append(word_count)\n",
    "block_word_count"
   ]
  },
  {
   "cell_type": "code",
   "execution_count": 52,
   "id": "f3f8f8a8",
   "metadata": {},
   "outputs": [
    {
     "name": "stdout",
     "output_type": "stream",
     "text": [
      "56\n",
      "402\n",
      "204\n",
      "352\n",
      "118\n",
      "192\n",
      "268\n",
      "57\n",
      "46\n",
      "84\n"
     ]
    }
   ],
   "source": [
    "for heading, text in text_blocks.items():\n",
    "    print(len(text.split(\" \")))"
   ]
  },
  {
   "cell_type": "markdown",
   "id": "206a5016",
   "metadata": {},
   "source": [
    "### OpenAI Summarization"
   ]
  },
  {
   "cell_type": "code",
   "execution_count": 50,
   "id": "98eb5716",
   "metadata": {},
   "outputs": [],
   "source": [
    "# load credentials for OpenAI API\n",
    "import openai\n",
    "import credentials\n",
    "openai.api_key = credentials.openai_api_key"
   ]
  },
  {
   "cell_type": "code",
   "execution_count": 33,
   "id": "0a5d1f50",
   "metadata": {},
   "outputs": [],
   "source": [
    "# for block in range(len(text_blocks)):\n",
    "#     # if the block is too long (contains over 750 words), summarize it\n",
    "#     if block_word_count[block] > 750:\n",
    "#         block_text = \" \".join(text_blocks[block])\n",
    "#         # use the OpenAI API to summarize the text\n",
    "#         completion = openai.ChatCompletion.create(\n",
    "#             model=\"gpt-3.5-turbo\",\n",
    "#             messages=[\n",
    "#             {\"role\": \"user\", \"content\": \"Please effectively summarize the following text: \" + block_text}\n",
    "#             ])\n",
    "#         # replace the long text block with the summarized version\n",
    "#         text_blocks[block] = [completion.choices[0].message.content]"
   ]
  },
  {
   "cell_type": "code",
   "execution_count": 51,
   "id": "29e9051c",
   "metadata": {},
   "outputs": [],
   "source": [
    "for heading, text in text_blocks.items():\n",
    "    # if the block is too long (contains over 750 words), summarize it\n",
    "    if len(text.split(' ')) > 750:\n",
    "\n",
    "        # use the OpenAI API to summarize the text\n",
    "        completion = openai.ChatCompletion.create(\n",
    "            model=\"gpt-3.5-turbo\",\n",
    "            messages=[\n",
    "            {\"role\": \"user\", \"content\": \"Please effectively summarize the following text: \" + text}\n",
    "            ])\n",
    "        # replace the long text block with the summarized version\n",
    "        text_blocks[heading] = completion.choices[0].message.content"
   ]
  },
  {
   "cell_type": "code",
   "execution_count": 60,
   "id": "175a900a",
   "metadata": {},
   "outputs": [
    {
     "name": "stdout",
     "output_type": "stream",
     "text": [
      "Document_intro: We had a beautiful Q4, completing a great year as internet TV expands globally. In 2017, we grew streaming revenue 36% to over $11 billion, added 24 million new memberships (compared to 19 million in 2016), achieved for the first time a full-year positive international contribution profit, and more than doubled global operating income. . \n",
      "Q4 Results:  Average paid streaming memberships rose 25% year over year in Q4. Combined with a 9% increase in ASP, global streaming revenue growth amounted to 35%. Operating income of $245 million (7.5% margin) vs. $154 million prior year (6.2% margin) was slightly above our $238 million forecast. Operating margin for FY17 was 7.2%, on target with our goal at the beginning of this year. EPS was $0.41 vs. $0.15 last year and met our forecast of $0.41. There were several below the line items that affected net income, including a pre-tax $26 million non-cash unrealized loss from F/X remeasurement on our Eurobond. Our tax rate was helped by a $66 million foreign tax benefit, which partially offset a revaluation of our deferred tax assets and the impact from the mandatory deemed repatriation of accumulated foreign earnings related to the recent US tax reform. In Q4, we registered global net adds of 8.3 million, the highest quarter in our history and up 18% vs. last year’s record 7.05 million net adds. This exceeded our 6.3m forecast due primarily to stronger than expected acquisition fueled by our original content slate and the ongoing global adoption of internet entertainment. Geographically, the outperformance vs. guidance was broad-based. In the US, memberships rose by 2.0 million (vs. forecast of 1.25m) bringing total FY17 net adds to 5.3 million. ASP rose 5% year-over-year. Domestic contribution profit increased 5% year-over-year although contribution margin of 34.4% declined both on a year-over-year and sequential basis due to the marketing spend we noted in last quarter’s investor letter. Internationally, we added 6.36 million memberships (compared with guidance of 5.05m), a new record for quarterly net adds for this segment. Excluding a F/X impact of +$43 million, international revenue and ASP grew 59% and 12% year over year, respectively. The increase in ASP reflects price adjustments in a wide variety of our markets over the course of 2017. With contribution profit of $227 million in 2017 (4.5% contribution margin), the international segment delivered its first full year of positive contribution profit in our history. We took a $39m non-cash charge in Q4 for unreleased content we’ve decided not to move forward with. This charge was recognized in content expense in cost of revenues. Despite this unexpected expense, we slightly exceeded our contribution profit and operating income forecast due to our stronger than expected member growth and the timing of international content spend. \n",
      "Forecast:  The guidance we provide is our internal forecast at the time we report. For Q1, we project global net adds of 6.35 million (vs. 5.0m in the year ago quarter), with 1.45m in the US and 4.90m internationally. As we wrote last quarter, our primary profit metric is operating margin and we are targeting a full year 2018 target of 10%, up about 300 basis points year over year, as in the prior year. We believe our big investments in content are paying off. In 2017, average streaming hours per membership grew by 9% year-over-year. With greater than expected member growth (resulting in more revenue), we now plan to spend $7.5-$8.0 billion on content on a P&L basis in 2018. 2Big hits like 13 Reasons Why, Stranger Things and Bright result from a combination of great content and great marketing. We’re taking marketing spend up a little faster than revenue for this year (from about $1.3B to approximately $2B) because our testing results indicate this is wise. We want great content, and we want the budget to make the hits we have really big, to drive our membership growth. We’ll grow our technology & development investment to roughly $1.3 billion in 2018. \n",
      "Content:  Q4 capped an amazing year for Netflix original content with returning seasons of The Crown and Black Mirror as well as Stranger Things, which cemented its place as a global phenomenon. In the quarter, we also successfully launched new titles like the limited series Godless, Marvel’s The Punisher and Mindhunter (from director David Fincher), the latter two of which are renewed for a second season. It’s amazing to think that in only 5 years since launching our first original series, Netflix had three of the Top 5 most searched TV shows globally for the second year in a row. Our largest investment in original films to date, Bright, a fantasy action movie starring Will Smith, was a major success and drove a notable lift in acquisition. In its first month, Bright has become one of our most viewed original titles ever. We’re thrilled with this performance and are planning a sequel as well as additional investment in original films. We’re finding continued success with international originals and in Q4 we released: season 3 of Club de Cuervos as well as The Day I Met El Chapo, both of which are from Mexico; Suburra from Italy; and an unscripted series from the UK, Jack Whitehall: Travels with My Father. We also debuted Dark, our first German original drama series. High-quality content can travel globally, irrespective of language; for instance, Dark, in addition to being well-received in its home country, has also been viewed by millions of members in the US and has outsized watching throughout Europe and Latin America. Combined with attractive economics and a positive impact on our business in local markets, we will expand this initiative with over 30 international original series this year, including projects from France, Poland, India, Korea and Japan. We are increasingly self-producing our original content. As part of this initiative, in Q4 we signed overall deals with Stranger Things producer Shawn Levy and Orange is the New Black and GLOW creator Jenji Kohan. Our goal is to work directly with the best talent to bring amazing stories to our members all over the world. \n",
      "Product and Partnerships:  We are partnering with a growing number of MVPDs and ISPs across the world to the benefit of our mutual customers. These partnerships make it easier for consumers to sign up, enjoy and pay for Netflix, while our service allows our partners to deepen their relationships with these subscribers. Examples of these types of partnerships that we struck in Q4 include an expanded global partnership with Deutsche Telekom and with Cox Communications and Verizon Communications in the US. As expected, the FCC removed the US net neutrality rules. We believe that a strong internet should have enforceable net 3neutrality rules, so we and other internet firms are backing the Internet Association’s challenge to the FCC’s action. \n",
      "Competition:  We have been talking about the transition from linear to streaming for the past 10 years. As this trend becomes increasingly evident, more companies are entering the market for premium video content. On the commercial-free tech side, Amazon Studios is likely to bring in a strong new leader given their large content budgets, and Apple is growing its programming, which we presume will either be bundled with Apple Music or with iOS. Facebook and YouTube are expanding and competing in free ad-supported video content. With their multi-billion global audiences, free ad-supported internet video is a big force in the market for entertainment time, as well as a great advertising vehicle for Netflix. Traditional media companies are also expanding into streaming. Disney is in the process of acquiring most of 21st Century Fox and plans to launch a direct-to-consumer service in 2019 with a beloved brand and great franchises. The market for entertainment time is vast and can support many successful services. In addition, entertainment services are often complementary given their unique content offerings. We believe this is largely why both we and Hulu have been able to succeed and grow. \n",
      "Free Cash Flow and Capital Structure:  In Q4, free cash flow amounted to -$524 million, bringing full year 2017 FCF to -$2.0 billion, at the lower end of the -$2.0 to -$2.5 billion range we had previously indicated. This was largely due to the timing of content payments, which will now occur in 2018. Our operating margins and income are rising, and our only material cash-ahead-of-P&L-expense is content. When we develop a title like Bright, the cash spend is 1-3 years before the viewing, associated membership growth, and P&L expense. Thus, the faster we grow our originals budget (particularly for self-produced content), the more cash we consume. We are increasing operating margins and expect that in the future, a combination of rising operating profits and slowing growth in original content spend will turn our business FCF positive. In the near term, however, membership, revenue and original content spend are booming. We’re growing faster than we expected, which allows us to invest more in original content than we had planned, so our FCF will be around negative $3B-$4B in 2018. Given our track record of content investments helping to increase growth, we are excited about the growth in future years from the increased investments we are making in original content this year. We anticipate continuing to raise capital in the high yield market. The new limitation on deductibility of interest costs is not expected to affect us. We are striving to make the right choices and investments to grow the value of the firm, and that is what also ultimately secures our debt. High yield has rarely seen an equity cushion so thick. 4\n",
      "Board of Directors:  We are pleased to add Rodolphe Belmer to our board of directors. Rodolphe is the former CEO of Canal+ Group in France, and is currently CEO of Eutelsat, a global satellite business. A large and growing percentage of our members are European, and we are fortunate to have a leader like Rodolphe join our board. \n",
      "Summary:  Our goal is to entertain people. We are thrilled to be able to do that at great scale. For quick reference, our eight most recent investor letters are: October 2017, July 2017, April 2017, January 2017, October 2016, July 2016, April 2016, January, 2016. \n",
      "January 22, 2018 Earnings Interview, 3pm PST: The video interview with Todd Juenger of Bernstein will be available on YouTube and NetflixIR at 3pm PST today. Investors can send questions they would like Todd to ask to todd.juenger@bernstein.com. Reed Hastings, CEO, David Wells, CFO, Ted Sarandos, Chief Content Officer, Greg Peters, Chief Product Officer, and Spencer Wang, VP of IR/Corporate Development, will be answering Todd's questions. The letter also includes information about the use of non-GAAP measures and forward-looking statements. The financial statements and segment information for Netflix are also provided.\n"
     ]
    }
   ],
   "source": [
    "for heading, text in text_blocks.items():\n",
    "    print(heading + ': ' + text)"
   ]
  },
  {
   "cell_type": "code",
   "execution_count": 61,
   "id": "8efd3e76",
   "metadata": {},
   "outputs": [],
   "source": [
    "final_prompt = ''\n",
    "for heading, text in text_blocks.items():\n",
    "    final_prompt += heading + ': ' + text + \" \""
   ]
  },
  {
   "cell_type": "code",
   "execution_count": 63,
   "id": "df66ee1c",
   "metadata": {},
   "outputs": [],
   "source": [
    "import tiktoken\n",
    "\n",
    "# define the number of tokens in the prompt\n",
    "def num_tokens_from_string(string: str, encoding_name: str) -> int:\n",
    "    \"\"\"Returns the number of tokens in a text string.\"\"\"\n",
    "    encoding = tiktoken.get_encoding(encoding_name)\n",
    "    # num_tokens = len(encoding.encode(string))\n",
    "    num_tokens = len(encoding.encode(string))\n",
    "    return num_tokens"
   ]
  },
  {
   "cell_type": "code",
   "execution_count": 64,
   "id": "4655909e",
   "metadata": {},
   "outputs": [
    {
     "data": {
      "text/plain": [
       "2365"
      ]
     },
     "execution_count": 64,
     "metadata": {},
     "output_type": "execute_result"
    }
   ],
   "source": [
    "# show number of tokens in prompt (max 2048 tokens for input)\n",
    "num_tokens_from_string(final_prompt, \"cl100k_base\")"
   ]
  },
  {
   "cell_type": "code",
   "execution_count": null,
   "id": "6c61e1a9",
   "metadata": {},
   "outputs": [
    {
     "name": "stdout",
     "output_type": "stream",
     "text": [
      "Overall, the sentiment of the information for the market (Netflix company) is positive. The document highlights the company's strong performance in Q4 and for the full year, including growth in streaming revenue and memberships, increased operating income and contribution profit, and the success of original content. The document also discusses future forecasts and the company's plans for content investment. The total polarity score is 0.533 and the subjectivity score is 0.371, both falling within the positive range.\n"
     ]
    }
   ],
   "source": [
    "# use the OpenAI API to generate the sentiment analysis\n",
    "completion = openai.ChatCompletion.create(\n",
    "    model=\"gpt-3.5-turbo\",\n",
    "    messages=[\n",
    "        {\"role\": \"user\",\n",
    "          \"content\": \"Please tell me about the sentiment (positive, negative, neutral) of this information for the market (Netflix company) Please, be consice and lucid. Calculate the total polarity and subjectivity scores on the range -1 to 1. Don't forget to give me these scores\" + final_prompt}\n",
    "    ]\n",
    ")\n",
    "\n",
    "# show the sentiment analysis\n",
    "print(completion.choices[0].message.content)"
   ]
  },
  {
   "cell_type": "markdown",
   "id": "1fd428d8",
   "metadata": {},
   "source": [
    "### OpenAI Fine Tuning"
   ]
  },
  {
   "cell_type": "code",
   "execution_count": 72,
   "id": "b43b15a2",
   "metadata": {},
   "outputs": [],
   "source": [
    "# run the request for ChatGPT\n",
    "\n",
    "fine_tune_messages = {\"role\": \"system\", \"content\":\n",
    "                \"You are a helpful financial assistant who is expert in evaluating sentiment scores for financial statements \\\n",
    "               You give precise answers to questions \\\n",
    "               the quality of your answers is highly important, you never hallucinate answers - only \\\n",
    "               answering based on your knowledge. Where the answer requires creative thought you engage \\\n",
    "               in reflective internal dialogue to ascertain the best answer\"\n",
    "}\n",
    "\n",
    "user_content = \"Please tell me about the sentiment (positive, negative, neutral) of this information (Netflix) for the investors. \\\n",
    "                Please, be consice and lucid. \\\n",
    "                Calculate the total polarity and subjectivity scores on the range -1 to 1 (show scores in the beginning of your output): \"\n",
    "\n",
    "\n",
    "completion = openai.ChatCompletion.create(\n",
    "  model=\"gpt-3.5-turbo\",\n",
    "  messages=[\n",
    "      fine_tune_messages,\n",
    "    {\"role\": \"user\", \"content\": user_content + final_prompt}\n",
    "  ]\n",
    ")\n",
    "\n",
    "print(completion.choices[0].message.content)"
   ]
  }
 ],
 "metadata": {
  "kernelspec": {
   "display_name": "Python 3 (ipykernel)",
   "language": "python",
   "name": "python3"
  },
  "language_info": {
   "codemirror_mode": {
    "name": "ipython",
    "version": 3
   },
   "file_extension": ".py",
   "mimetype": "text/x-python",
   "name": "python",
   "nbconvert_exporter": "python",
   "pygments_lexer": "ipython3",
   "version": "3.10.8"
  }
 },
 "nbformat": 4,
 "nbformat_minor": 5
}
