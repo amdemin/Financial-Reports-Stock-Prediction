{
 "cells": [
  {
   "cell_type": "code",
   "execution_count": 2,
   "id": "0cd7810b",
   "metadata": {},
   "outputs": [],
   "source": [
    "# Import libraries\n",
    "import pandas as pd\n",
    "import numpy as np\n",
    "import matplotlib.pyplot as plt\n",
    "import seaborn as sns\n",
    "import requests\n",
    "import os\n",
    "import re\n",
    "from tqdm.notebook import tqdm\n",
    "from difflib import SequenceMatcher\n",
    "import pdfquery\n",
    "import pdfplumber"
   ]
  },
  {
   "cell_type": "code",
   "execution_count": 3,
   "id": "9f024aca",
   "metadata": {},
   "outputs": [],
   "source": [
    "# Define similarity function\n",
    "def similar(a, b):\n",
    "    return SequenceMatcher(None, a, b).ratio()"
   ]
  },
  {
   "cell_type": "code",
   "execution_count": 4,
   "id": "da170dda",
   "metadata": {},
   "outputs": [],
   "source": [
    "# Define headings in the document using word size function\n",
    "def word_ratio_func(word):\n",
    "    try:\n",
    "        word_length = len(word[\"text\"])\n",
    "        word_bottom = float(word['bottom'])\n",
    "        word_top = float(word['top'])\n",
    "        return (word_bottom - word_top), word_length, word[\"text\"]\n",
    "        \n",
    "    except:\n",
    "        return 0, 0, 0"
   ]
  },
  {
   "cell_type": "code",
   "execution_count": 5,
   "id": "0b21f9a9",
   "metadata": {},
   "outputs": [],
   "source": [
    "def preprocess_text(texts):\n",
    "\n",
    "    # preprocess the text\n",
    "    text = \"\".join(texts.values()).strip(\"●\").strip(\"*\")\n",
    "    text = text.split(\"\\n\")\n",
    "    text = [x for x in text if x != '' and x.startswith(\"Source\") == False]\n",
    "    text = [x[0].replace(\"●\", \"\") + x[1:] if x[0] == \"●\" else x for x in text]\n",
    "    text = [x[0].replace(\"*\", \"\") + x[1:] if x[0] == \"*\" else x for x in text]\n",
    "    text = [x[0].replace(\"○\", \"\") + x[1:] if x[0] == \"○\" else x for x in text]\n",
    "    text = [x[0].replace(\"1\", \"\") + x[1:] if x[1:3] in [\"Q1\", \"Q2\", \"Q3\", \"Q4\"] else x for x in text]\n",
    "    text = text[2:]\n",
    "\n",
    "    return text"
   ]
  },
  {
   "cell_type": "markdown",
   "id": "a26f87ed",
   "metadata": {},
   "source": [
    "### Scrape the PDFs"
   ]
  },
  {
   "cell_type": "code",
   "execution_count": 79,
   "id": "92e5e823",
   "metadata": {},
   "outputs": [],
   "source": [
    "# get file paths for all pdfs\n",
    "pdf_paths = []\n",
    "for root, dirs, files in os.walk(\"ShareholderLetters/\"):\n",
    "    for file in files:\n",
    "        if file.endswith(\".pdf\"):\n",
    "             pdf_paths.append(os.path.join(root, file))"
   ]
  },
  {
   "cell_type": "code",
   "execution_count": 80,
   "id": "3880e1aa",
   "metadata": {},
   "outputs": [
    {
     "data": {
      "application/vnd.jupyter.widget-view+json": {
       "model_id": "49068b24a3424975a33dde9439bdea6a",
       "version_major": 2,
       "version_minor": 0
      },
      "text/plain": [
       "  0%|          | 0/2 [00:00<?, ?it/s]"
      ]
     },
     "metadata": {},
     "output_type": "display_data"
    }
   ],
   "source": [
    "# creating a pdf reader object\n",
    "pdf_paths = [\"ShareholderLetters/FINAL-Q2-21-Shareholder-Letter.pdf\",\n",
    "            \"ShareholderLetters/FINAL-Q1-21-Shareholder-Letter.pdf\"]\n",
    "\n",
    "pdf_texts = {}\n",
    "pdf_headings = {}\n",
    "\n",
    "for file_path in tqdm(pdf_paths):\n",
    "\n",
    "    try:\n",
    "        \n",
    "        reader = pdfplumber.open(file_path)\n",
    "\n",
    "        texts = {}\n",
    "        texts_v2 = {}\n",
    "        headings = []\n",
    "        headings_count = 0\n",
    "\n",
    "        for page_number in range(0, len(reader.pages)):\n",
    "\n",
    "            # get the specific page from the pdf file\n",
    "            page = reader.pages[page_number]\n",
    "            # extract text from page\n",
    "            text = page.extract_text()\n",
    "            # add text to dictionary\n",
    "            texts[page_number] = text\n",
    "\n",
    "            # extract headings from page\n",
    "            words = page.extract_words()\n",
    "            word_count = 0\n",
    "            while word_count < len(words):\n",
    "                # find if the words are large enough to be headings\n",
    "                word_size, word_length, word_text = word_ratio_func(words[word_count])\n",
    "                heading = []\n",
    "\n",
    "                if word_size > 15 and word_length > 1:\n",
    "                    while True:\n",
    "                        heading.append(word_text)\n",
    "                        word_count += 1\n",
    "                        if word_count >= len(words):\n",
    "                            break\n",
    "                        word_size, word_length, word_text = word_ratio_func(words[word_count])\n",
    "                        if not word_size > 15 and word_length > 1:\n",
    "                            headings.append(\" \".join(heading))\n",
    "                            word_count += 10\n",
    "                            break\n",
    "                headings_count += 1\n",
    "                word_count += 1\n",
    "            \n",
    "            # break if the page covers the reference section\n",
    "            if re.search(\"\\nReference\\n\", text):\n",
    "                break\n",
    "        \n",
    "        # preprocess the text\n",
    "        text = preprocess_text(texts)\n",
    "        final_text = \" \".join(text)\n",
    "\n",
    "        # export the text to a txt file\n",
    "        with open(\"Txt/\" + file_path.split(\"/\")[-1].split(\".\")[0] + \".txt\", \"w\", encoding='utf-8') as f:\n",
    "            f.write(final_text)\n",
    "\n",
    "        # add the text to the dictionary\n",
    "        pdf_texts[file_path.split(\"/\")[-1].split(\".\")[0]] = final_text\n",
    "        # add the headings to the dictionary\n",
    "        pdf_headings[file_path.split(\"/\")[-1].split(\".\")[0]] = headings\n",
    "\n",
    "    except Exception as e:\n",
    "        print(e)\n",
    "        continue"
   ]
  },
  {
   "cell_type": "code",
   "execution_count": 81,
   "id": "32823d6f",
   "metadata": {},
   "outputs": [
    {
     "data": {
      "text/plain": [
       "[('FINAL-Q2-21-Shareholder-Letter',\n",
       "  'In Q2, revenue increased 19% year over year to $7.3billion, while operating income rose 36% year over year to $1.8 billion. We finished the quarter withover 209m paid memberships, slightly ahead of our forecast. COVID has created some lumpiness in ourmembership growth (higher growth in 2020, slower growth this year), which is working its way through.We continue to focus on improving our service for our members and bringing them the best stories fromaround the world. Our summary results and forecast for Q3 are below. Q2 Results and Q3 Forecast Revenue growth was driven by an 11% increase in averagepaid streaming memberships and 8% growth in average revenue per membership (ARM)1. ARM rose4%, excluding a foreign exchange (FX) impact of +$277m. Operating margin of 25.2% expanded 3 percentagepoints compared with the year ago quarter. EPS of $2.97 vs. $1.59 a year ago included a $63mnon-cash unrealized loss from FX remeasurement on our Euro denominated debt. The pandemic has created unusual choppiness in ourgrowth and distorts year-over-year comparisons as acquisition and engagement per member household spikedin the early months of COVID. In Q2’21, our engagement per member household was, as expected,down vs. those unprecedented levels but was still up 17% compared with a more comparable Q2’19. Similarly,retention continues to be strong and better than pre-COVID Q2’19 levels, even as average revenueper membership has grown 8% over this two-year 1Average revenue per membership (ARM) is defined asstreaming revenue divided by the average number of streaming paid memberships divided by the number ofmonths in the period. These figures do not includesales taxes or VAT. 1period, demonstrating how much our members value Netflix and that as we improve our service we can charge a bit more. We added 1.5m paid memberships in Q2, slightly aheadof our 1.0m guidance forecast. The APAC region represented about two-thirds of our global paid net adds in the quarter. As expected, Q2 paid memberships in the UCAN region were slightly downsequentially (-0.4m paid net adds). We believe our large membership base in UCAN coupled with a seasonallysmaller quarter for acquisition is the main reason for this dynamic. This is similar to what weexperienced in Q2’19 when our UCAN paid net adds were -0.1m; since then we’ve added nearly 7.5m paidnet adds in UCAN. As a reminder, the quarterly guidance we provide isour actual internal forecast at the time we report. For Q3’21, we forecast paid net additions of 3.5mvs. 2.2m in the prior year period. If we achieve our forecast, we will have added more than 54m paid netadds over the past 24 months or 27m on an annualized basis over that time period, which is consistentwith our pre-COVID annual rate of net additions. We forecast that ARM will grow roughly5% year over year on a FX neutral basis in Q3’21. We continue to target a 20% operating margin for thefull year 2021 vs. 18% in 2020. After our big global launch in January 2016, we committed to steadily growingour operating margin thereafter at an average rate of three percentage points per year over anyfew-year period. Some years we’ll be a little over(like in 2020), some years a little under (like in 2021).Assuming we achieve our margin target this year,we will have quintupled our operating margin in the lastfive years and are tracking ahead of this average annual three percentage point pace. 2With revenue and margin both increasing, our operatingprofit dollars have risen dramatically as well (even as we have been investing heavily), from about$100 million per quarter in 2016 to nearly $2 billion per quarter so far in 2021. Our belief isthat as we steadily improve our service to betterplease our members, this will lead to continued growth inour membership base, ARM, revenue, operating margin and profit dollars. Content We launched our first original scripted TV seriesin 2012 and we’ve since expanded our original programming effort to many additional categories,from all over the world. Our goal is to be everyone’s first choice for entertainment because of the varietyand quality of our titles. And despite the COVID-related production delays in 2020, we were ableto deliver an exciting portfolio of titles in Q2’21 that exemplify this ambition. For example,Shadow and Bone, a fantasy series basedon the popularGrishaverse book series, proved to be very popular with our members. Over 55m memberhouseholds chose to watch this show in its first 28 days and we’ve renewed it for a second season.Sweet Tooth, based on the beloved DC comic, was another hit series with 60m member households choosingthis title in its first four weeks. Our expansion into non-fiction series is going well.This past quarter, standout unscripted titles include season two of dating showToo Hot to Handleand socialexperiment reality programThe Circle(an estimated 29m and 14m, respectively, chose to watchin the first 28 days) as well as the true crime docu-seriesThe Sons of Sam(19m). We’re buildingout some of these unscripted titles with local versions of the same formats. As one example,TooHot to Handle: BrazilandToo Hot to Handle: Latino will be launching later in July and September, respectively,to serve our LATAM region. 3We’re also quickly growing both our live action and animated original film offering, with several impactful titles in Q2. Zack Snyder’sArmy of the Deadwas a blockbuster as 75m member households chose to watch this action packed zombie spectaclein its first 28 days of release. As an extensionto Army of the Dead, a prequel,Army of Thieves, willbe released in Q4’21 along with a spinoff anime series later in 2022.Fatherhood, a dramedy starring KevinHart, was another hit, drawing an estimated 74m member households in its first 28 days. And Q2 alsofeatured our biggest Netflix animated film to date with 53m member households choosing to watchThe Mitchellsvs. The Machines. Last week, Netflix series and specials received 129Emmy nominations. With 24 nominations,The Crown tied for the most nominated series.Bridgertonwith12 nominations was also nominated for Best Drama series whileThe Queen’s Gambitreceived 18 nominationsincluding Best Limited Series.Cobra Kai,Emily In Parisand the finale season ofThe Kominsky Methodwere all nominated for Best Comedy series. Beyond this acclaim, these are also among our popularseries on Netflix. Our non-English content investments are growing bothin scope and impact. Our P&L content expense for this content category has more than doubled inthe past two years. Illustrating how great storiescan come from anywhere and be loved everywhere, part twoofLupinfrom France was our largest non-English title in the quarter with 54m member householdschoosing this title in its first four weeks. Season four ofElitefrom Spain drew 37m member householdsin its first 28 days, while season two of Who Killed Sara?built on the success of the firstseason with 34m households choosing the latest installment of this gripping thriller from Mexico. As discussed in previous letters, COVID-related productiondelays in 2020 have led to a lighter first half of 2021 slate that will build through the course of theyear. In the first six months of 2021, content amortization grew only 9% year over year (as comparedto 17% in FY20). COVID and its variants make predicting the future hard, but with productions largelyrunning smoothly so far, we’re optimistic in our ability to deliver a strong second half slate. Throughthe first half of 2021 we’ve already spent $8 billion in cash on content (up 41% yr-over-yr and 1.4x ourcontent amortization) and we expect content amortization to be around $12 billion for the fullyear (+12% year over year). Our Q3 slate will include new seasons of fan favoritesLa Casa de Papel(akaMoney Heist),Sex Education, Virgin RiverandNever Have I Everas well as live action films includingSweet Girl (starring Jason Momoa),Kissing Booth3, and Kate(starring Mary Elizabeth Winstead) and the animatedfeature filmVivo, featuring all-new songs from Lin-Manuel Miranda. We’re also in the early stages of further expandinginto games, building on our earlier efforts around interactivity (eg,Black Mirror Bandersnatch) andourStranger Thingsgames. We view gaming as another new content category for us, similar to our expansioninto original films, animation and unscripted TV. Games will be included in members’ Netflix subscriptionat no additional cost similar to films and series. Initially, we’ll be primarily focused on games formobile devices. We’re excited as ever about our movies and TV series offering and we expect a long runwayof increasing investment and growth across all ofour existing content categories, but since we are nearlya decade into our push into original programming, we think the time is right to learn more about howour members value games. Product 4We’re constantly innovating across a broad range of areas to improve the viewing experience and better serve our members. That’s why this quarter we globallylaunchedPlay Somethingon television, ournew featurethat lets Netflix do the work when you don’tfeel like choosing what to watch. Recognizing that broadband quality and cost varies around the world,we also improved the Netflix download experience to enable you to start watching a show or film evenif it hasn’t finished downloading. Once you reconnect, you can complete the partial download andkeep watching — also helping members avoid exceeding their data limits. We recently expanded our low-cost mobile-only planto an additional 78 countries across South East Asia and sub-saharan Africa. Like in our other markets,this plan complements our existing three tiers of service. In the five markets where we had previouslylaunched a mobile-only plan, we have found that the mobile only plan has been an effective way tointroduce more consumers to Netflix while being roughly revenue neutral as the lower average revenueper membership is offset by incremental acquisition and generally better retention. Competition We are still very much in the early days of the transitionfrom linear to on-demand consumption of entertainment. Streaming represents just 27% of USTV screen time, compared with 63% for linear television, according to Nielsen. Based on this samestudy, Nielsen estimates that we are just 7% of US TV screen time. Considering that we are less maturein other countries and that this excludes mobile screens (where we believe our share of engagementis even lower), we are confident that we have a long runway for growth. As we improve our service, ourgoal is to continue to increase our share of screen time in the US and around the world. 5Share of Total US TV Time, June 2021(Total Day, Persons 2+) The planned combination of Warner Media Group andDiscovery and Amazon’s pending acquisition of MGM are examples of the ongoing industry consolidationas firms adapt to a world where streaming supplants linear TV. The industry has consolidatedmaterially over the years (Time Warner/AT&T, Viacom/CBS, Discovery/Scripps, Disney/Fox, Comcast/NBCU/Sky,etc.) and we don’t believe this consolidation has affected our growth much, if atall. While we are continually evaluating opportunities, we don’t view any assets as “must-have” and we haven’tyet found any large scale ones to be sufficiently compelling to act upon. In the race to entertain consumers around the world,we continue to compete for screen time with a broad set of firms like YouTube, Epic Games and TikTok(to name just a few). But, we are mostly competing with ourselves to improve our service asfast as we can. If we can do that, we’re confidentwe can maintain our strong position and continue to grownicely as we have been over the past two-plus decades. Cash Flow and Capital Structure In Q2, net cash generated by operating activitieswas -$64 million vs. $1 billion in the prior year period. Free cash flow (FCF)2for the quarter was-$175 million vs. $899 million in Q2‘20. FCF in lastyear’s Q2 benefited from COVID-related production shutdowns.We are still expecting full year 2021 free cash flow to be approximately break even. As we discussedpreviously, we believe we no longer have a need to raise external financing to fund our day-to-dayoperations. 2For a reconciliation of free cash flow to net cashprovided by (used in) operating activities, pleaserefer to the reconciliation in tabular form on the attached unauditedfinancial statements and the footnotes thereto. 6During Q2, we increased our revolving credit facility (which remains undrawn) to $1 billion from $750 million and extended the maturity from 2024 to 2026.We also repurchased 1m shares for $500 million (at an average per share price of about $500) underour $5 billion share authorization. Our main priority is to invest in the organic growth of our business while maintaining strong liquidity and retaining financial flexibility for strategic investments. Ourgrowing operating profit allows us to complementthis priority with a return of capital to shareholders. Environmental, Social, and Governance (ESG) In June, the independent sustainability think tankThe Carbon Trustpublished awhite paperexamining the carbon impact of video streaming.Key findingsof the work include:  The average carbon footprint for Europe per hour ofvideo streaming is approximately 55gCO2e, equivalent to driving 250 metres in an average petrolcar.  Devices (TVs, laptops/PCs, smartphones, tablets) makeup the largest portion of carbon emissions from streaming (over 50%), compared to othercomponents like energy from data centers or networks. Good news: Devices are gettingmore efficient over time and total device usage is fairly constant (with Netflix gaining sharefrom linear).  Changing resolutions and other viewing settings werefound to result in only a very small change in the carbon impact. Changing from standard definitionto 4K resolution grows transmission emissions from just under 1g CO2e/hour to just over1g CO2e/hour.  As demand for streaming and other internet servicesincreases, the carbon intensity of these services will decrease over time. This is due to (1)networking equipment becoming less energy-intensive with technological advances, and(2) increased use of renewable electricity. As a reminder, our ESG-related information can befound on ourIR website. Reference For quick reference, our eight most recent investorletters are:April 2021,January 2021,October 2020, July 2020,April 2020,January 2020,October 2019,July 2019. 7'),\n",
       " ('FINAL-Q1-21-Shareholder-Letter',\n",
       "  \"Revenue grew 24% year over year and was in line withour beginning of quarter forecast, while operating profit and margin reached all-time highs. We finishedQ1’21 with 208m paid memberships, up 14% year over year, but below our guidance forecast of 210mpaid memberships. We believe paid membership growth slowed due to the big Covid-19 pull forwardin 2020 and a lighter content slate in the firsthalf of this year, due to Covid-19 production delays. We continueto anticipate a strong second half with the return of new seasons of some of our biggest hitsand an exciting film lineup. In the short-term, thereis some uncertainty from Covid-19; in the long-term,the rise of streaming to replace linear TV aroundthe world is the clear trend in entertainment. Q1 Results and Q2 Forecast Average revenue per membership1rose 6% year overyear, or 5%, excluding a foreign exchange impact of +$80m. Operating income of $2 billion vs. $958 millionmore than doubled vs. Q1’20. This exceeded our guidance forecast primarily due to the timing of contentspend. EPS of $3.75 vs. $1.57 a year ago included a $253m non-cash unrealized gain from F/Xremeasurement on our Euro denominated debt. The extraordinary events of Covid-19 led to unprecedentedmembership growth in 2020, as it pulled forward growth from 2021, and delayed production acrossevery region. In turn, we ended 2020 with a bigger membership and revenue base than we would otherwisehave had, contributing to record Q1’21 revenues. And since we were still ramping productionlevels late last year, we had lower content spendin 1Average revenue per membership (ARM) is defined asstreaming revenue divided by the average number of streaming paid memberships divided by the number ofmonths in the period. These figures do not includesales taxes or VAT. Q1’21 - content amortization only grew 9.5% year over year in Q1’21 vs. 17% in FY20. The result was a 10 percentage point year over year jump in our operatingmargin to 27% in Q1, which is an all-time high. As we discussed in past letters, these dynamics arealso contributing to a lighter content slate in thefirst half of 2021, and hence, we believe slower membership growth. In Q1, paid net additions of 4m were below our 6m guidance (and the 16m net additions inthe year ago quarter) primarily due to acquisition, as retention in Q1 was in line with our expectations.We don’t believe competitive intensity materially changed in the quarter or was a material factor inthe variance as the over-forecast was across allof our regions. We also saw similar percentage year-over-yeardeclines in paid net adds in all regions (see our Regional Breakdown table below), whereas the levelof competitive intensity varies by country. As a reminder, the quarterly guidance we provide isour actual internal forecast at the time we report. That means in some quarters our results will be highrelative to our guidance forecast and, in others,it will be low, as can be seen in the chart below. Asour membership base continues to grow, there will naturally be more volatility in our absolute paidnet additions performance vs. forecast. With similar pull forward and delayed slate dynamicsplus our typical seasonality expected to impact Q2’21, we project paid net additions of 1m (vs. 10min the prior year quarter) with our UCAN and LATAM regions expected to be roughly flattish in memberships(+/- a couple hundred thousand paid net adds). We anticipate paid membership growth will re-acceleratein the second half of 2021 as we ramp into a very strong back half slate with the return of bighits likeSex Education,The Witcher,La Casa dePapel (akaMoney Heist), andYou, as well as an excitingarray of original films including the finale toTheKissing Boothtrilogy and large scale, star-driven featureslikeRed Notice(starring Gal Gadot, Dwayne Johnson and Ryan Reynolds) andDon’t Look Up(with an all-starcast including Leonardo DiCaprio, Jennifer Lawrence, Cate Blanchett, Timothée Chalamet, and MerylStreep). We’ll also have our most comprehensive offering to date of local language titlesincludingToo Hot to Handlefor Brazil and Mexico, 2a special based on our Korean hit franchiseKingdom, the action-thrillerDhamaka(India), as well as new seasons ofSintonia(Brazil), andControl Z(Mexico). As always, we’re focusing on the fundamentals of ourbusiness, which remain healthy. In addition to our record financial results, engagement per member householdgrew solidly year over year in Q1’21. We’re also seeing how much members value Netflix with Q1’21churn below Q1‘20 levels, demonstrating that as we improve the service, we can charge a bit more.Our FY21 operating margin target of 20% vs. 18% last year remains unchanged. We are optimistic aboutthe future and believe we are still in the earlydays of the adoption of internet entertainment, which shouldprovide us with many years of growth ahead. Content As seen in the weekly growth chart above, in earlyQ1, with the benefit ofBridgerton,LupinandCobra Kai, we were following a growth trajectory similarto recent years. As we’ve noted previously, the production delays from Covid-19 in 2020 will leadto a 2021 slate that is more heavily second half weighted with a large number of returning franchises.And while the roll out of vaccines is very uneven across the world, we are back up and producing safelyin every major market, with the exception of Brazil and India. Assuming this continues, we’ll spendover $17 billion in cash on content this year and we’ll continue to deliver an amazing range of titlesfor our members with more originals this year than last. There are several facets to our content strategy.First and foremost, we want to deliver a wide varietyof best-in-class stories that our members love and watchin big numbers. Examples of this breadth in Q1 include season one ofFirefly Lane(49m chose to watchthis title in its first 28 days), season 3 ofCobra Kai(45m),Fate: The Winx Saga(57m), andGinny &Georgia(52m). Our top movies in Q1 includeI CareA Lot(56m),YES DAY(62m),Outside the Wire(66m) andthe last installment ofTo All the Boys I’ve Loved 3Beforetrilogy (51m). We program across many genres because tastes are very diverse. Even for one person, what they desire will vary widely dependingon their mood or who they are watching with. Another goal is to create great, locally authenticstories in countries all around the world. It’s whyour priority for local language titles is to have a bigimpact in the home territory so we don’t sacrificelocal impact for “travelability.” But we’re increasinglyseeing that these local titles find significant audiences around the world, which supports our thesis that greatstories are universal: they can come from anywhere and be loved everywhere. Notable standoutsthis quarter includeBelow Zerofrom Spain (47m chose to watch in its first four weeks),Space Sweepersfrom Korea (26m),Squared Lovefrom Poland (31m) andWho Killed Sara?from Mexico (an estimated55m), which is also our most popular non-English title ever in the US in its first 28 days(with season 2 launching on May 19). We want our titles to be talked about by audiencesacross the globe. Because of our broad distribution and highly engaged members, our titles not only generatehigh levels of viewing but also can pierce the cultural zeitgeist and transcend the film and TV industry. There were two recent standout examples of this:Lupin, our French language series about a daringgentleman burglar played by Omar Sy, was not only our most popular new title this quarter on Netflix(76m member households chose to watch in the first 28 days), but it alsopropelled book salesofthe novel in France;Lupin: Part 2will debut laterin Q2’21. Similarly, driven by the late December launchof season one ofBridgerton, Julia Quinn’s bookshit The New York Timesbestseller list for the first timein 18 years. Netflix led all studios for recent award nominationsincluding the Oscars, Golden Globes, SAG Awards, BAFTA and the NAACP Image Awards, among others. Headinginto the Academy Awards this weekend, we have 36 nominations across 17 films including twonominees in each of the Best Picture (Mank,The Trial of the Chicago 7), Best Documentary Feature(Crip Camp,My Octopus Teacher), and Best Animated Feature (Over the Moon,A Shaun The Sheep Movie: Farmageddon)categories.Mankled all films with 10 nominations. Product We are constantly working to make it easier for membersto access and enjoy something they will love, regardless of their location or mood. In Q1, we launchedan opt-inDownloads for Youfeature for Android (with iOS coming soon) that automatically downloadsrecommended shows and movies onto a member's mobile device, ensuring that they alwayshave something to watch irrespective of connectivity. Knowing that bandwidth and storage canbe precious, this feature tries to choose only the most relevant content to download. This quarter we also launchedFast Laughs, a mobilefeed of short comedy clips from Netflix favorites- it's initially available in several countries includingthe US on iOS and will be on Android soon. For television viewers, this month we unveiled an updatedand improved experience for Kids Profile that more vividly and easilyconnects childrenwith theirfavorite titles and characters. 4Competition We compete with many activities for consumers’ entertainmenttime, ranging from watching linear TV, video gaming, and viewing user generated content,just to name a few. Against this backdrop, the entertainment market is huge, giving us plenty ofroom to grow, if we can continue to improve our service. We believe we are less than 10% of TV screentime in the US and even smaller in other regions and when including mobile devices. More and more new streaming services are launching,reinforcing our vision that linear TV will slowly give way to streaming entertainment. Despite our 10+year head start, we are continually seeking operational and creative excellence; we’re workingas hard as ever to continually improve our serviceso that we are the best entertainment option availablewith best in class stories, an ever-improving product experience and authentic local titles that our memberslove. Our ability to evolve from a DVD-by-mail to an internet entertainment business, from a US-onlyto a global service, and from a licensor of second window content to a producer of original content acrossso many different categories fuels our confidence and optimism for our next decade of challenges,growth and innovation. When comparing services, subscriber figures alonetell only part of the story (given bundles, discounts and other promotions) so it’s important to also focuson engagement and revenue as key indicators of success; they drive the flywheel of investment ineven more amazing stories for our members and future growth. It’s our job to please our members so muchon Monday, that on Tuesday, they start with us, and then they stick with us as their first choice forentertainment. Cash Flow and Capital Structure Net cash generated by operating activities in Q1 was$777 million vs. $260 million in the prior year period. Free cash flow (FCF)2for the quarter was$692 million vs. $162 million in Q1‘20. We are ontrack for full year 2021 free cash flow to be approximatelybreak even. As we discussed last quarter, we believe we are very close to being sustainably FCF positiveand that we no longer have a need to raise external financing to fund our day-to-day operations. During the quarter, we repaid our 5.375% February1, 2021 bond ($500 million principal) out of balance sheet cash, reducing our total gross debt balanceto $15.7 billion as of March 31, 2021. We intend to maintain $10-$15 billion of gross debt. Our boardhas approved a program to repurchase up to $5 billion of our common stock beginning in 2021 with no fixedexpiration date. We expect our buyback program will begin this quarter. Environmental, Social, and Governance (ESG) We’ve added a new section to our investor relationssite that collates all of ourESG informationforour investors, including our recently published2020 ESGReport(filed March 30, 2021). Our 2020 ESG report includes our commitment to achieve net zero greenhousegas emissions by the end of 2022. We also 2For a reconciliation of free cash flow to net cashprovided by (used in) operating activities, pleaserefer to the reconciliation in tabular form on the attachedunaudited financial statements and the footnotes thereto. 5released our firstInclusion Reportaround the makeup of our workforce and a third-party diversity audit of our content by theUSC Annenberg Inclusion Initiative,designed to set industry benchmarks around these important issues. As part of this work, we announcedthe Netflix Fund for Creative Equity, committing $100 million to further develop our pipelinefor underrepresented talent. Reference For quick reference, our eight most recent investorletters are:January 2021,October 2020,July 2020, April 2020,January 2020,October 2019,July 2019,April 2019. Regional Breakdown 6\")]"
      ]
     },
     "execution_count": 81,
     "metadata": {},
     "output_type": "execute_result"
    }
   ],
   "source": [
    "# view your pdf texts with pdf names as keys\n",
    "list(pdf_texts.items())"
   ]
  },
  {
   "cell_type": "code",
   "execution_count": 82,
   "id": "fb737a52",
   "metadata": {},
   "outputs": [],
   "source": [
    "# get text from the first pdf file\n",
    "text = list(pdf_texts.items())[0][1]\n",
    "# get headings from the first pdf file\n",
    "headings = list(pdf_headings.items())[0][1]"
   ]
  },
  {
   "cell_type": "code",
   "execution_count": 83,
   "id": "90a2f619",
   "metadata": {},
   "outputs": [],
   "source": [
    "text_blocks = {}\n",
    "\n",
    "# split the text into blocks based on the headings\n",
    "for heading in range(len(headings)):\n",
    "\n",
    "    if heading == 0:\n",
    "        document_intro = text.split(headings[heading])[0]\n",
    "        text_blocks['Document_intro'] = document_intro\n",
    "    \n",
    "    text_after_heading = text.split(headings[heading])[1]\n",
    "    if heading == len(headings) - 1:\n",
    "        text_blocks[headings[heading]] = text_after_heading\n",
    "        break\n",
    "    else:\n",
    "        text_of_heading = text_after_heading.split(headings[heading+1])[0]\n",
    "        text_blocks[headings[heading]] = text_of_heading"
   ]
  },
  {
   "cell_type": "code",
   "execution_count": 84,
   "id": "5aebefc5",
   "metadata": {},
   "outputs": [
    {
     "data": {
      "text/plain": [
       "{'Document_intro': 'In Q2, revenue increased 19% year over year to $7.3billion, while operating income rose 36% year over year to $1.8 billion. We finished the quarter withover 209m paid memberships, slightly ahead of our forecast. COVID has created some lumpiness in ourmembership growth (higher growth in 2020, slower growth this year), which is working its way through.We continue to focus on improving our service for our members and bringing them the best stories fromaround the world. Our summary results and forecast for Q3 are below. ',\n",
       " 'Q2 Results and Q3 Forecast': ' Revenue growth was driven by an 11% increase in averagepaid streaming memberships and 8% growth in average revenue per membership (ARM)1. ARM rose4%, excluding a foreign exchange (FX) impact of +$277m. Operating margin of 25.2% expanded 3 percentagepoints compared with the year ago quarter. EPS of $2.97 vs. $1.59 a year ago included a $63mnon-cash unrealized loss from FX remeasurement on our Euro denominated debt. The pandemic has created unusual choppiness in ourgrowth and distorts year-over-year comparisons as acquisition and engagement per member household spikedin the early months of COVID. In Q2’21, our engagement per member household was, as expected,down vs. those unprecedented levels but was still up 17% compared with a more comparable Q2’19. Similarly,retention continues to be strong and better than pre-COVID Q2’19 levels, even as average revenueper membership has grown 8% over this two-year 1Average revenue per membership (ARM) is defined asstreaming revenue divided by the average number of streaming paid memberships divided by the number ofmonths in the period. These figures do not includesales taxes or VAT. 1period, demonstrating how much our members value Netflix and that as we improve our service we can charge a bit more. We added 1.5m paid memberships in Q2, slightly aheadof our 1.0m guidance forecast. The APAC region represented about two-thirds of our global paid net adds in the quarter. As expected, Q2 paid memberships in the UCAN region were slightly downsequentially (-0.4m paid net adds). We believe our large membership base in UCAN coupled with a seasonallysmaller quarter for acquisition is the main reason for this dynamic. This is similar to what weexperienced in Q2’19 when our UCAN paid net adds were -0.1m; since then we’ve added nearly 7.5m paidnet adds in UCAN. As a reminder, the quarterly guidance we provide isour actual internal forecast at the time we report. For Q3’21, we forecast paid net additions of 3.5mvs. 2.2m in the prior year period. If we achieve our forecast, we will have added more than 54m paid netadds over the past 24 months or 27m on an annualized basis over that time period, which is consistentwith our pre-COVID annual rate of net additions. We forecast that ARM will grow roughly5% year over year on a FX neutral basis in Q3’21. We continue to target a 20% operating margin for thefull year 2021 vs. 18% in 2020. After our big global launch in January 2016, we committed to steadily growingour operating margin thereafter at an average rate of three percentage points per year over anyfew-year period. Some years we’ll be a little over(like in 2020), some years a little under (like in 2021).Assuming we achieve our margin target this year,we will have quintupled our operating margin in the lastfive years and are tracking ahead of this average annual three percentage point pace. 2With revenue and margin both increasing, our operatingprofit dollars have risen dramatically as well (even as we have been investing heavily), from about$100 million per quarter in 2016 to nearly $2 billion per quarter so far in 2021. Our belief isthat as we steadily improve our service to betterplease our members, this will lead to continued growth inour membership base, ARM, revenue, operating margin and profit dollars. ',\n",
       " 'Content': ' We launched our first original scripted TV seriesin 2012 and we’ve since expanded our original programming effort to many additional categories,from all over the world. Our goal is to be everyone’s first choice for entertainment because of the varietyand quality of our titles. And despite the COVID-related production delays in 2020, we were ableto deliver an exciting portfolio of titles in Q2’21 that exemplify this ambition. For example,Shadow and Bone, a fantasy series basedon the popularGrishaverse book series, proved to be very popular with our members. Over 55m memberhouseholds chose to watch this show in its first 28 days and we’ve renewed it for a second season.Sweet Tooth, based on the beloved DC comic, was another hit series with 60m member households choosingthis title in its first four weeks. Our expansion into non-fiction series is going well.This past quarter, standout unscripted titles include season two of dating showToo Hot to Handleand socialexperiment reality programThe Circle(an estimated 29m and 14m, respectively, chose to watchin the first 28 days) as well as the true crime docu-seriesThe Sons of Sam(19m). We’re buildingout some of these unscripted titles with local versions of the same formats. As one example,TooHot to Handle: BrazilandToo Hot to Handle: Latino will be launching later in July and September, respectively,to serve our LATAM region. 3We’re also quickly growing both our live action and animated original film offering, with several impactful titles in Q2. Zack Snyder’sArmy of the Deadwas a blockbuster as 75m member households chose to watch this action packed zombie spectaclein its first 28 days of release. As an extensionto Army of the Dead, a prequel,Army of Thieves, willbe released in Q4’21 along with a spinoff anime series later in 2022.Fatherhood, a dramedy starring KevinHart, was another hit, drawing an estimated 74m member households in its first 28 days. And Q2 alsofeatured our biggest Netflix animated film to date with 53m member households choosing to watchThe Mitchellsvs. The Machines. Last week, Netflix series and specials received 129Emmy nominations. With 24 nominations,The Crown tied for the most nominated series.Bridgertonwith12 nominations was also nominated for Best Drama series whileThe Queen’s Gambitreceived 18 nominationsincluding Best Limited Series.Cobra Kai,Emily In Parisand the finale season ofThe Kominsky Methodwere all nominated for Best Comedy series. Beyond this acclaim, these are also among our popularseries on Netflix. Our non-English content investments are growing bothin scope and impact. Our P&L content expense for this content category has more than doubled inthe past two years. Illustrating how great storiescan come from anywhere and be loved everywhere, part twoofLupinfrom France was our largest non-English title in the quarter with 54m member householdschoosing this title in its first four weeks. Season four ofElitefrom Spain drew 37m member householdsin its first 28 days, while season two of Who Killed Sara?built on the success of the firstseason with 34m households choosing the latest installment of this gripping thriller from Mexico. As discussed in previous letters, COVID-related productiondelays in 2020 have led to a lighter first half of 2021 slate that will build through the course of theyear. In the first six months of 2021, content amortization grew only 9% year over year (as comparedto 17% in FY20). COVID and its variants make predicting the future hard, but with productions largelyrunning smoothly so far, we’re optimistic in our ability to deliver a strong second half slate. Throughthe first half of 2021 we’ve already spent $8 billion in cash on content (up 41% yr-over-yr and 1.4x ourcontent amortization) and we expect content amortization to be around $12 billion for the fullyear (+12% year over year). Our Q3 slate will include new seasons of fan favoritesLa Casa de Papel(akaMoney Heist),Sex Education, Virgin RiverandNever Have I Everas well as live action films includingSweet Girl (starring Jason Momoa),Kissing Booth3, and Kate(starring Mary Elizabeth Winstead) and the animatedfeature filmVivo, featuring all-new songs from Lin-Manuel Miranda. We’re also in the early stages of further expandinginto games, building on our earlier efforts around interactivity (eg,Black Mirror Bandersnatch) andourStranger Thingsgames. We view gaming as another new content category for us, similar to our expansioninto original films, animation and unscripted TV. Games will be included in members’ Netflix subscriptionat no additional cost similar to films and series. Initially, we’ll be primarily focused on games formobile devices. We’re excited as ever about our movies and TV series offering and we expect a long runwayof increasing investment and growth across all ofour existing content categories, but since we are nearlya decade into our push into original programming, we think the time is right to learn more about howour members value games. Product 4We’re constantly innovating across a broad range of areas to improve the viewing experience and better serve our members. That’s why this quarter we globallylaunchedPlay Somethingon television, ournew featurethat lets Netflix do the work when you don’tfeel like choosing what to watch. Recognizing that broadband quality and cost varies around the world,we also improved the Netflix download experience to enable you to start watching a show or film evenif it hasn’t finished downloading. Once you reconnect, you can complete the partial download andkeep watching — also helping members avoid exceeding their data limits. We recently expanded our low-cost mobile-only planto an additional 78 countries across South East Asia and sub-saharan Africa. Like in our other markets,this plan complements our existing three tiers of service. In the five markets where we had previouslylaunched a mobile-only plan, we have found that the mobile only plan has been an effective way tointroduce more consumers to Netflix while being roughly revenue neutral as the lower average revenueper membership is offset by incremental acquisition and generally better retention. ',\n",
       " 'Competition': ' We are still very much in the early days of the transitionfrom linear to on-demand consumption of entertainment. Streaming represents just 27% of USTV screen time, compared with 63% for linear television, according to Nielsen. Based on this samestudy, Nielsen estimates that we are just 7% of US TV screen time. Considering that we are less maturein other countries and that this excludes mobile screens (where we believe our share of engagementis even lower), we are confident that we have a long runway for growth. As we improve our service, ourgoal is to continue to increase our share of screen time in the US and around the world. 5Share of Total US TV Time, June 2021(Total Day, Persons 2+) The planned combination of Warner Media Group andDiscovery and Amazon’s pending acquisition of MGM are examples of the ongoing industry consolidationas firms adapt to a world where streaming supplants linear TV. The industry has consolidatedmaterially over the years (Time Warner/AT&T, Viacom/CBS, Discovery/Scripps, Disney/Fox, Comcast/NBCU/Sky,etc.) and we don’t believe this consolidation has affected our growth much, if atall. While we are continually evaluating opportunities, we don’t view any assets as “must-have” and we haven’tyet found any large scale ones to be sufficiently compelling to act upon. In the race to entertain consumers around the world,we continue to compete for screen time with a broad set of firms like YouTube, Epic Games and TikTok(to name just a few). But, we are mostly competing with ourselves to improve our service asfast as we can. If we can do that, we’re confidentwe can maintain our strong position and continue to grownicely as we have been over the past two-plus decades. ',\n",
       " 'Cash Flow and Capital Structure': ' In Q2, net cash generated by operating activitieswas -$64 million vs. $1 billion in the prior year period. Free cash flow (FCF)2for the quarter was-$175 million vs. $899 million in Q2‘20. FCF in lastyear’s Q2 benefited from COVID-related production shutdowns.We are still expecting full year 2021 free cash flow to be approximately break even. As we discussedpreviously, we believe we no longer have a need to raise external financing to fund our day-to-dayoperations. 2For a reconciliation of free cash flow to net cashprovided by (used in) operating activities, pleaserefer to the reconciliation in tabular form on the attached unauditedfinancial statements and the footnotes thereto. 6During Q2, we increased our revolving credit facility (which remains undrawn) to $1 billion from $750 million and extended the maturity from 2024 to 2026.We also repurchased 1m shares for $500 million (at an average per share price of about $500) underour $5 billion share authorization. Our main priority is to invest in the organic growth of our business while maintaining strong liquidity and retaining financial flexibility for strategic investments. Ourgrowing operating profit allows us to complementthis priority with a return of capital to shareholders. ',\n",
       " 'Environmental, Social, and Governance (ESG)': ' In June, the independent sustainability think tankThe Carbon Trustpublished awhite paperexamining the carbon impact of video streaming.Key findingsof the work include:  The average carbon footprint for Europe per hour ofvideo streaming is approximately 55gCO2e, equivalent to driving 250 metres in an average petrolcar.  Devices (TVs, laptops/PCs, smartphones, tablets) makeup the largest portion of carbon emissions from streaming (over 50%), compared to othercomponents like energy from data centers or networks. Good news: Devices are gettingmore efficient over time and total device usage is fairly constant (with Netflix gaining sharefrom linear).  Changing resolutions and other viewing settings werefound to result in only a very small change in the carbon impact. Changing from standard definitionto 4K resolution grows transmission emissions from just under 1g CO2e/hour to just over1g CO2e/hour.  As demand for streaming and other internet servicesincreases, the carbon intensity of these services will decrease over time. This is due to (1)networking equipment becoming less energy-intensive with technological advances, and(2) increased use of renewable electricity. As a reminder, our ESG-related information can befound on ourIR website. ',\n",
       " 'Reference': ' For quick reference, our eight most recent investorletters are:April 2021,January 2021,October 2020, July 2020,April 2020,January 2020,October 2019,July 2019. 7'}"
      ]
     },
     "execution_count": 84,
     "metadata": {},
     "output_type": "execute_result"
    }
   ],
   "source": [
    "text_blocks"
   ]
  },
  {
   "cell_type": "code",
   "execution_count": 7,
   "id": "ce7f662d",
   "metadata": {},
   "outputs": [],
   "source": [
    "# split the text into blocks\n",
    "# these blocks would be further used as separate prompts for the OpenAI model to summarize the whole document\n",
    "# text_blocks = []\n",
    "# block = []\n",
    "# for element in range(len(text)):\n",
    "#     if text[element] in headings:\n",
    "#         if text[element] == \"Reference\":\n",
    "#             break\n",
    "#         text_blocks.append(block)\n",
    "#         block = []\n",
    "#     block.append(text[element])\n",
    "# text_blocks.append(block)"
   ]
  },
  {
   "cell_type": "code",
   "execution_count": 8,
   "id": "ff8fae49",
   "metadata": {},
   "outputs": [
    {
     "data": {
      "text/plain": [
       "['Q2 was better-than-expected on membership growth, and foreign exchange was worse-than-expected',\n",
       " '(stronger US dollar), resulting in 9% revenue growth (13% constant currency). Our challenge and',\n",
       " 'opportunity is to accelerate our revenue and membership growth by continuing to improve our product,',\n",
       " 'content, and marketing as we’ve done for the last 25 years, and to better monetize our big audience.',\n",
       " 'We’re in a position of strength given our $30 billion-plus in revenue, $6 billion in operating profit last',\n",
       " 'year, growing free cash flow and a strong balance sheet. Our summary results and forecast are below.']"
      ]
     },
     "execution_count": 8,
     "metadata": {},
     "output_type": "execute_result"
    }
   ],
   "source": [
    "# show the first text block\n",
    "# text_blocks[0]"
   ]
  },
  {
   "cell_type": "code",
   "execution_count": 87,
   "id": "d90e5925",
   "metadata": {},
   "outputs": [
    {
     "data": {
      "text/plain": [
       "[14, 30, 7, 11, 35, 47, 9]"
      ]
     },
     "execution_count": 87,
     "metadata": {},
     "output_type": "execute_result"
    }
   ],
   "source": [
    "# find the number of words in each block\n",
    "# the number of words should be within the limit of the OpenAI prompt length (2048 tokens)\n",
    "block_word_count = []\n",
    "for block in text_blocks:\n",
    "    word_count = 0\n",
    "    for line in block:\n",
    "        word_count += len(line.split(\" \"))\n",
    "    block_word_count.append(word_count)\n",
    "block_word_count"
   ]
  },
  {
   "cell_type": "code",
   "execution_count": 88,
   "id": "7b6bfeee",
   "metadata": {},
   "outputs": [
    {
     "data": {
      "text/plain": [
       "[86, 537, 934, 278, 196, 184, 21]"
      ]
     },
     "execution_count": 88,
     "metadata": {},
     "output_type": "execute_result"
    }
   ],
   "source": [
    "block_word_count = []\n",
    "for block in text_blocks.items():\n",
    "    word_count = 0\n",
    "    for line in block:\n",
    "        word_count += len(line.split(\" \"))\n",
    "    block_word_count.append(word_count)\n",
    "block_word_count"
   ]
  },
  {
   "cell_type": "code",
   "execution_count": 89,
   "id": "feee6357",
   "metadata": {},
   "outputs": [
    {
     "name": "stdout",
     "output_type": "stream",
     "text": [
      "D o c u m e n t _ i n t r o\n",
      "Q 2   R e s u l t s   a n d   Q 3   F o r e c a s t\n",
      "C o n t e n t\n",
      "C o m p e t i t i o n\n",
      "C a s h   F l o w   a n d   C a p i t a l   S t r u c t u r e\n",
      "E n v i r o n m e n t a l ,   S o c i a l ,   a n d   G o v e r n a n c e   ( E S G )\n",
      "R e f e r e n c e\n"
     ]
    }
   ],
   "source": [
    "# this is to show the text blocks\n",
    "for block in text_blocks:\n",
    "    print(\" \".join(block))"
   ]
  },
  {
   "cell_type": "code",
   "execution_count": 91,
   "id": "f3f8f8a8",
   "metadata": {},
   "outputs": [
    {
     "name": "stdout",
     "output_type": "stream",
     "text": [
      "Document_intro In Q2, revenue increased 19% year over year to $7.3billion, while operating income rose 36% year over year to $1.8 billion. We finished the quarter withover 209m paid memberships, slightly ahead of our forecast. COVID has created some lumpiness in ourmembership growth (higher growth in 2020, slower growth this year), which is working its way through.We continue to focus on improving our service for our members and bringing them the best stories fromaround the world. Our summary results and forecast for Q3 are below. \n",
      "Q2 Results and Q3 Forecast  Revenue growth was driven by an 11% increase in averagepaid streaming memberships and 8% growth in average revenue per membership (ARM)1. ARM rose4%, excluding a foreign exchange (FX) impact of +$277m. Operating margin of 25.2% expanded 3 percentagepoints compared with the year ago quarter. EPS of $2.97 vs. $1.59 a year ago included a $63mnon-cash unrealized loss from FX remeasurement on our Euro denominated debt. The pandemic has created unusual choppiness in ourgrowth and distorts year-over-year comparisons as acquisition and engagement per member household spikedin the early months of COVID. In Q2’21, our engagement per member household was, as expected,down vs. those unprecedented levels but was still up 17% compared with a more comparable Q2’19. Similarly,retention continues to be strong and better than pre-COVID Q2’19 levels, even as average revenueper membership has grown 8% over this two-year 1Average revenue per membership (ARM) is defined asstreaming revenue divided by the average number of streaming paid memberships divided by the number ofmonths in the period. These figures do not includesales taxes or VAT. 1period, demonstrating how much our members value Netflix and that as we improve our service we can charge a bit more. We added 1.5m paid memberships in Q2, slightly aheadof our 1.0m guidance forecast. The APAC region represented about two-thirds of our global paid net adds in the quarter. As expected, Q2 paid memberships in the UCAN region were slightly downsequentially (-0.4m paid net adds). We believe our large membership base in UCAN coupled with a seasonallysmaller quarter for acquisition is the main reason for this dynamic. This is similar to what weexperienced in Q2’19 when our UCAN paid net adds were -0.1m; since then we’ve added nearly 7.5m paidnet adds in UCAN. As a reminder, the quarterly guidance we provide isour actual internal forecast at the time we report. For Q3’21, we forecast paid net additions of 3.5mvs. 2.2m in the prior year period. If we achieve our forecast, we will have added more than 54m paid netadds over the past 24 months or 27m on an annualized basis over that time period, which is consistentwith our pre-COVID annual rate of net additions. We forecast that ARM will grow roughly5% year over year on a FX neutral basis in Q3’21. We continue to target a 20% operating margin for thefull year 2021 vs. 18% in 2020. After our big global launch in January 2016, we committed to steadily growingour operating margin thereafter at an average rate of three percentage points per year over anyfew-year period. Some years we’ll be a little over(like in 2020), some years a little under (like in 2021).Assuming we achieve our margin target this year,we will have quintupled our operating margin in the lastfive years and are tracking ahead of this average annual three percentage point pace. 2With revenue and margin both increasing, our operatingprofit dollars have risen dramatically as well (even as we have been investing heavily), from about$100 million per quarter in 2016 to nearly $2 billion per quarter so far in 2021. Our belief isthat as we steadily improve our service to betterplease our members, this will lead to continued growth inour membership base, ARM, revenue, operating margin and profit dollars. \n",
      "Content  We launched our first original scripted TV seriesin 2012 and we’ve since expanded our original programming effort to many additional categories,from all over the world. Our goal is to be everyone’s first choice for entertainment because of the varietyand quality of our titles. And despite the COVID-related production delays in 2020, we were ableto deliver an exciting portfolio of titles in Q2’21 that exemplify this ambition. For example,Shadow and Bone, a fantasy series basedon the popularGrishaverse book series, proved to be very popular with our members. Over 55m memberhouseholds chose to watch this show in its first 28 days and we’ve renewed it for a second season.Sweet Tooth, based on the beloved DC comic, was another hit series with 60m member households choosingthis title in its first four weeks. Our expansion into non-fiction series is going well.This past quarter, standout unscripted titles include season two of dating showToo Hot to Handleand socialexperiment reality programThe Circle(an estimated 29m and 14m, respectively, chose to watchin the first 28 days) as well as the true crime docu-seriesThe Sons of Sam(19m). We’re buildingout some of these unscripted titles with local versions of the same formats. As one example,TooHot to Handle: BrazilandToo Hot to Handle: Latino will be launching later in July and September, respectively,to serve our LATAM region. 3We’re also quickly growing both our live action and animated original film offering, with several impactful titles in Q2. Zack Snyder’sArmy of the Deadwas a blockbuster as 75m member households chose to watch this action packed zombie spectaclein its first 28 days of release. As an extensionto Army of the Dead, a prequel,Army of Thieves, willbe released in Q4’21 along with a spinoff anime series later in 2022.Fatherhood, a dramedy starring KevinHart, was another hit, drawing an estimated 74m member households in its first 28 days. And Q2 alsofeatured our biggest Netflix animated film to date with 53m member households choosing to watchThe Mitchellsvs. The Machines. Last week, Netflix series and specials received 129Emmy nominations. With 24 nominations,The Crown tied for the most nominated series.Bridgertonwith12 nominations was also nominated for Best Drama series whileThe Queen’s Gambitreceived 18 nominationsincluding Best Limited Series.Cobra Kai,Emily In Parisand the finale season ofThe Kominsky Methodwere all nominated for Best Comedy series. Beyond this acclaim, these are also among our popularseries on Netflix. Our non-English content investments are growing bothin scope and impact. Our P&L content expense for this content category has more than doubled inthe past two years. Illustrating how great storiescan come from anywhere and be loved everywhere, part twoofLupinfrom France was our largest non-English title in the quarter with 54m member householdschoosing this title in its first four weeks. Season four ofElitefrom Spain drew 37m member householdsin its first 28 days, while season two of Who Killed Sara?built on the success of the firstseason with 34m households choosing the latest installment of this gripping thriller from Mexico. As discussed in previous letters, COVID-related productiondelays in 2020 have led to a lighter first half of 2021 slate that will build through the course of theyear. In the first six months of 2021, content amortization grew only 9% year over year (as comparedto 17% in FY20). COVID and its variants make predicting the future hard, but with productions largelyrunning smoothly so far, we’re optimistic in our ability to deliver a strong second half slate. Throughthe first half of 2021 we’ve already spent $8 billion in cash on content (up 41% yr-over-yr and 1.4x ourcontent amortization) and we expect content amortization to be around $12 billion for the fullyear (+12% year over year). Our Q3 slate will include new seasons of fan favoritesLa Casa de Papel(akaMoney Heist),Sex Education, Virgin RiverandNever Have I Everas well as live action films includingSweet Girl (starring Jason Momoa),Kissing Booth3, and Kate(starring Mary Elizabeth Winstead) and the animatedfeature filmVivo, featuring all-new songs from Lin-Manuel Miranda. We’re also in the early stages of further expandinginto games, building on our earlier efforts around interactivity (eg,Black Mirror Bandersnatch) andourStranger Thingsgames. We view gaming as another new content category for us, similar to our expansioninto original films, animation and unscripted TV. Games will be included in members’ Netflix subscriptionat no additional cost similar to films and series. Initially, we’ll be primarily focused on games formobile devices. We’re excited as ever about our movies and TV series offering and we expect a long runwayof increasing investment and growth across all ofour existing content categories, but since we are nearlya decade into our push into original programming, we think the time is right to learn more about howour members value games. Product 4We’re constantly innovating across a broad range of areas to improve the viewing experience and better serve our members. That’s why this quarter we globallylaunchedPlay Somethingon television, ournew featurethat lets Netflix do the work when you don’tfeel like choosing what to watch. Recognizing that broadband quality and cost varies around the world,we also improved the Netflix download experience to enable you to start watching a show or film evenif it hasn’t finished downloading. Once you reconnect, you can complete the partial download andkeep watching — also helping members avoid exceeding their data limits. We recently expanded our low-cost mobile-only planto an additional 78 countries across South East Asia and sub-saharan Africa. Like in our other markets,this plan complements our existing three tiers of service. In the five markets where we had previouslylaunched a mobile-only plan, we have found that the mobile only plan has been an effective way tointroduce more consumers to Netflix while being roughly revenue neutral as the lower average revenueper membership is offset by incremental acquisition and generally better retention. \n",
      "Competition  We are still very much in the early days of the transitionfrom linear to on-demand consumption of entertainment. Streaming represents just 27% of USTV screen time, compared with 63% for linear television, according to Nielsen. Based on this samestudy, Nielsen estimates that we are just 7% of US TV screen time. Considering that we are less maturein other countries and that this excludes mobile screens (where we believe our share of engagementis even lower), we are confident that we have a long runway for growth. As we improve our service, ourgoal is to continue to increase our share of screen time in the US and around the world. 5Share of Total US TV Time, June 2021(Total Day, Persons 2+) The planned combination of Warner Media Group andDiscovery and Amazon’s pending acquisition of MGM are examples of the ongoing industry consolidationas firms adapt to a world where streaming supplants linear TV. The industry has consolidatedmaterially over the years (Time Warner/AT&T, Viacom/CBS, Discovery/Scripps, Disney/Fox, Comcast/NBCU/Sky,etc.) and we don’t believe this consolidation has affected our growth much, if atall. While we are continually evaluating opportunities, we don’t view any assets as “must-have” and we haven’tyet found any large scale ones to be sufficiently compelling to act upon. In the race to entertain consumers around the world,we continue to compete for screen time with a broad set of firms like YouTube, Epic Games and TikTok(to name just a few). But, we are mostly competing with ourselves to improve our service asfast as we can. If we can do that, we’re confidentwe can maintain our strong position and continue to grownicely as we have been over the past two-plus decades. \n",
      "Cash Flow and Capital Structure  In Q2, net cash generated by operating activitieswas -$64 million vs. $1 billion in the prior year period. Free cash flow (FCF)2for the quarter was-$175 million vs. $899 million in Q2‘20. FCF in lastyear’s Q2 benefited from COVID-related production shutdowns.We are still expecting full year 2021 free cash flow to be approximately break even. As we discussedpreviously, we believe we no longer have a need to raise external financing to fund our day-to-dayoperations. 2For a reconciliation of free cash flow to net cashprovided by (used in) operating activities, pleaserefer to the reconciliation in tabular form on the attached unauditedfinancial statements and the footnotes thereto. 6During Q2, we increased our revolving credit facility (which remains undrawn) to $1 billion from $750 million and extended the maturity from 2024 to 2026.We also repurchased 1m shares for $500 million (at an average per share price of about $500) underour $5 billion share authorization. Our main priority is to invest in the organic growth of our business while maintaining strong liquidity and retaining financial flexibility for strategic investments. Ourgrowing operating profit allows us to complementthis priority with a return of capital to shareholders. \n",
      "Environmental, Social, and Governance (ESG)  In June, the independent sustainability think tankThe Carbon Trustpublished awhite paperexamining the carbon impact of video streaming.Key findingsof the work include:  The average carbon footprint for Europe per hour ofvideo streaming is approximately 55gCO2e, equivalent to driving 250 metres in an average petrolcar.  Devices (TVs, laptops/PCs, smartphones, tablets) makeup the largest portion of carbon emissions from streaming (over 50%), compared to othercomponents like energy from data centers or networks. Good news: Devices are gettingmore efficient over time and total device usage is fairly constant (with Netflix gaining sharefrom linear).  Changing resolutions and other viewing settings werefound to result in only a very small change in the carbon impact. Changing from standard definitionto 4K resolution grows transmission emissions from just under 1g CO2e/hour to just over1g CO2e/hour.  As demand for streaming and other internet servicesincreases, the carbon intensity of these services will decrease over time. This is due to (1)networking equipment becoming less energy-intensive with technological advances, and(2) increased use of renewable electricity. As a reminder, our ESG-related information can befound on ourIR website. \n",
      "Reference  For quick reference, our eight most recent investorletters are:April 2021,January 2021,October 2020, July 2020,April 2020,January 2020,October 2019,July 2019. 7\n"
     ]
    }
   ],
   "source": [
    "for block in text_blocks.items():\n",
    "    print(\" \".join(block))"
   ]
  },
  {
   "cell_type": "markdown",
   "id": "206a5016",
   "metadata": {},
   "source": [
    "### OpenAI Summarization"
   ]
  },
  {
   "cell_type": "code",
   "execution_count": 32,
   "id": "98eb5716",
   "metadata": {},
   "outputs": [],
   "source": [
    "# load credentials for OpenAI API\n",
    "import openai\n",
    "import credentials\n",
    "openai.api_key = credentials.openai_api_key"
   ]
  },
  {
   "cell_type": "code",
   "execution_count": 33,
   "id": "0a5d1f50",
   "metadata": {},
   "outputs": [],
   "source": [
    "for block in range(len(text_blocks)):\n",
    "    # if the block is too long (contains over 750 words), summarize it\n",
    "    if block_word_count[block] > 750:\n",
    "        block_text = \" \".join(text_blocks[block])\n",
    "        # use the OpenAI API to summarize the text\n",
    "        completion = openai.ChatCompletion.create(\n",
    "            model=\"gpt-3.5-turbo\",\n",
    "            messages=[\n",
    "            {\"role\": \"user\", \"content\": \"Please effectively summarize the following text: \" + block_text}\n",
    "            ])\n",
    "        # replace the long text block with the summarized version\n",
    "        text_blocks[block] = [completion.choices[0].message.content]"
   ]
  },
  {
   "cell_type": "code",
   "execution_count": 35,
   "id": "8efd3e76",
   "metadata": {},
   "outputs": [],
   "source": [
    "# flatten list of text blocks and join them into a single final prompt\n",
    "final_prompt = [item for sublist in text_blocks for item in sublist]\n",
    "final_prompt = \"\".join(final_prompt)"
   ]
  },
  {
   "cell_type": "code",
   "execution_count": 36,
   "id": "df66ee1c",
   "metadata": {},
   "outputs": [],
   "source": [
    "import tiktoken\n",
    "\n",
    "# define the number of tokens in the prompt\n",
    "def num_tokens_from_string(string: str, encoding_name: str) -> int:\n",
    "    \"\"\"Returns the number of tokens in a text string.\"\"\"\n",
    "    encoding = tiktoken.get_encoding(encoding_name)\n",
    "    # num_tokens = len(encoding.encode(string))\n",
    "    num_tokens = len(encoding.encode(string))\n",
    "    return num_tokens"
   ]
  },
  {
   "cell_type": "code",
   "execution_count": 39,
   "id": "4655909e",
   "metadata": {},
   "outputs": [
    {
     "data": {
      "text/plain": [
       "2951"
      ]
     },
     "execution_count": 39,
     "metadata": {},
     "output_type": "execute_result"
    }
   ],
   "source": [
    "# show number of tokens in prompt (max 2048 tokens for input)\n",
    "num_tokens_from_string(final_prompt, \"cl100k_base\")"
   ]
  },
  {
   "cell_type": "code",
   "execution_count": 45,
   "id": "6c61e1a9",
   "metadata": {},
   "outputs": [
    {
     "name": "stdout",
     "output_type": "stream",
     "text": [
      "Overall, the sentiment of the information for the market (Netflix company) is positive. The company acknowledges the challenges it faces in terms of slowing revenue growth but expresses confidence and optimism about its future. The information highlights the company's strengths, such as its strong revenue and profit figures, growing cash flow, and a strong balance sheet. The company emphasizes the importance of continuously improving its product, content, and marketing to drive revenue and membership growth. It also discusses its plans to monetize its audience through advertising and explore new revenue streams, such as paid sharing. The sentiment is positive, reflecting the company's confidence in its ability to navigate challenges and continue its growth trajectory.\n",
      "\n",
      "Total polarity score: 0.81\n",
      "Total subjectivity score: 0.34\n"
     ]
    }
   ],
   "source": [
    "# use the OpenAI API to generate the sentiment analysis\n",
    "completion = openai.ChatCompletion.create(\n",
    "    model=\"gpt-3.5-turbo\",\n",
    "    messages=[\n",
    "        {\"role\": \"user\",\n",
    "          \"content\": \"Please tell me about the sentiment (positive, negative, neutral) of this information for the market (Netflix company) Please, be consice and lucid. Calculate the total polarity and subjectivity scores on the range -1 to 1. Don't forget to give me these scores\" + final_prompt}\n",
    "    ]\n",
    ")\n",
    "\n",
    "# show the sentiment analysis\n",
    "print(completion.choices[0].message.content)"
   ]
  },
  {
   "cell_type": "markdown",
   "id": "1fd428d8",
   "metadata": {},
   "source": [
    "### OpenAI Fine Tuning"
   ]
  },
  {
   "cell_type": "code",
   "execution_count": 23,
   "id": "b43b15a2",
   "metadata": {},
   "outputs": [
    {
     "name": "stdout",
     "output_type": "stream",
     "text": [
      "Sentiment: Neutral\n",
      "\n",
      "The information provided in this statement is mainly regarding the financial performance and future forecast of Netflix. The statement discusses the Q2 results and the challenges and opportunities for the company to increase its revenue and membership. The company discusses its focus on improving product, content, and marketing. The statement also mentions the introduction of a new lower-priced ad-supported tier that will be launched in the early part of 2023. The company also discusses its goal to monetize the 100m+ households that are currently enjoying but not directly paying for Netflix. The company's focus on accessibility for people with disabilities is also mentioned. \n",
      "\n",
      "Polarity Score: 0.041\n",
      "\n",
      "Subjectivity Score: 0.284\n"
     ]
    }
   ],
   "source": [
    "# run the request for ChatGPT\n",
    "\n",
    "fine_tune_messages = {\"role\": \"system\", \"content\":\n",
    "                \"You are a helpful financial assistant who is expert in evaluating sentiment scores for financial statements \\\n",
    "               You give precise answers to questions \\\n",
    "               the quality of your answers is highly important, you never hallucinate answers - only \\\n",
    "               answering based on your knowledge. Where the answer requires creative thought you engage \\\n",
    "               in reflective internal dialogue to ascertain the best answer\"\n",
    "}\n",
    "\n",
    "user_content = \"Please tell me about the sentiment (positive, negative, neutral) of this information (Netflix) for the investors. \\\n",
    "                Please, be consice and lucid. \\\n",
    "                Calculate the total polarity and subjectivity scores on the range -1 to 1 (show scores in the beginning of your output): \"\n",
    "\n",
    "\n",
    "completion = openai.ChatCompletion.create(\n",
    "  model=\"gpt-3.5-turbo\",\n",
    "  messages=[\n",
    "      fine_tune_messages,\n",
    "    {\"role\": \"user\", \"content\": user_content + final_prompt}\n",
    "  ]\n",
    ")\n",
    "\n",
    "print(completion.choices[0].message.content)"
   ]
  }
 ],
 "metadata": {
  "kernelspec": {
   "display_name": "Python 3 (ipykernel)",
   "language": "python",
   "name": "python3"
  },
  "language_info": {
   "codemirror_mode": {
    "name": "ipython",
    "version": 3
   },
   "file_extension": ".py",
   "mimetype": "text/x-python",
   "name": "python",
   "nbconvert_exporter": "python",
   "pygments_lexer": "ipython3",
   "version": "3.10.8"
  }
 },
 "nbformat": 4,
 "nbformat_minor": 5
}
