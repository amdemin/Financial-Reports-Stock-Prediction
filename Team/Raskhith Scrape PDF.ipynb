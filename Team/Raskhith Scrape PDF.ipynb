{
 "cells": [
  {
   "cell_type": "code",
   "execution_count": 1,
   "id": "f3266411",
   "metadata": {},
   "outputs": [],
   "source": [
    "import requests\n",
    "from bs4 import BeautifulSoup\n",
    "import pandas as pd\n",
    "import selenium\n",
    "from selenium import webdriver\n",
    "from selenium.webdriver.support.ui import WebDriverWait\n",
    "from selenium.webdriver.common.keys import Keys\n",
    "from selenium.webdriver.common.by import By\n",
    "from selenium.webdriver.chrome.service import Service\n",
    "from webdriver_manager.chrome import ChromeDriverManager\n",
    "import pandas as pd\n",
    "import re\n",
    "import time\n",
    "import tempfile\n",
    "import pdfplumber"
   ]
  },
  {
   "cell_type": "code",
   "execution_count": 2,
   "id": "d8279722",
   "metadata": {},
   "outputs": [
    {
     "name": "stdout",
     "output_type": "stream",
     "text": [
      "4.11.2\n"
     ]
    }
   ],
   "source": [
    "print(selenium.__version__)"
   ]
  },
  {
   "cell_type": "code",
   "execution_count": 4,
   "id": "fb12ac03",
   "metadata": {},
   "outputs": [],
   "source": [
    "from selenium import webdriver\n",
    "from selenium.webdriver.chrome.service import Service\n",
    "from webdriver_manager.chrome import ChromeDriverManager\n",
    "\n",
    "# setup chrome options\n",
    "chrome_options = webdriver.ChromeOptions()\n",
    "\n",
    "# define options to download file to specific folder\n",
    "prefs = {\n",
    "    \"download.default_directory\": \"/path/to/download/directory\", # (this is default Google Chrome directory)\n",
    "    # \"download.default_directory\": \"D:\\\\notes\\\\Python\\\\Simone\\\\download_for_arp\", # specify folder to download file (use double backslash)\n",
    "    \"download.prompt_for_download\": False,  # set False to auto download the file\n",
    "    \"download.directory_upgrade\": True,\n",
    "    \"plugins.always_open_pdf_externally\": True # set True to download pdf files\n",
    "}\n",
    "\n",
    "# add experimental options\n",
    "chrome_options.add_experimental_option(\"prefs\", prefs)\n",
    "\n",
    "driver = webdriver.Chrome(service=Service(ChromeDriverManager('114.0.5735.90').install()), options=chrome_options)"
   ]
  },
  {
   "cell_type": "code",
   "execution_count": 4,
   "id": "3c65919c",
   "metadata": {},
   "outputs": [],
   "source": [
    "from selenium import webdriver\n",
    "from selenium.webdriver.chrome.service import Service\n",
    "from selenium.webdriver.chrome.options import Options\n",
    "\n",
    "# open quartely earning reports website section\n",
    "driver.get(\"https://ir.netflix.net/financials/quarterly-earnings/default.aspx\")\n",
    "\n",
    "\n",
    "#elem.click()\n",
    "\n"
   ]
  },
  {
   "cell_type": "code",
   "execution_count": 6,
   "id": "95789338",
   "metadata": {},
   "outputs": [],
   "source": [
    "elem = driver.find_elements(By.XPATH, '//a[@class=\"module_link module_link-letter\"]')\n",
    "#elem.click()"
   ]
  },
  {
   "cell_type": "code",
   "execution_count": 7,
   "id": "667a87c5",
   "metadata": {},
   "outputs": [
    {
     "data": {
      "text/plain": [
       "[<selenium.webdriver.remote.webelement.WebElement (session=\"ec9547158b728efb558db363273319c6\", element=\"815B0C3B45626DE663E51C172D1B2553_element_120\")>,\n",
       " <selenium.webdriver.remote.webelement.WebElement (session=\"ec9547158b728efb558db363273319c6\", element=\"815B0C3B45626DE663E51C172D1B2553_element_140\")>]"
      ]
     },
     "execution_count": 7,
     "metadata": {},
     "output_type": "execute_result"
    }
   ],
   "source": [
    "elem"
   ]
  },
  {
   "cell_type": "code",
   "execution_count": 8,
   "id": "b4dc018d",
   "metadata": {},
   "outputs": [],
   "source": [
    "home_urls = []\n",
    "for link in elem:\n",
    "    home_urls.append(link.get_attribute('href'))"
   ]
  },
  {
   "cell_type": "code",
   "execution_count": 9,
   "id": "9a8bf043",
   "metadata": {},
   "outputs": [
    {
     "data": {
      "text/plain": [
       "['https://s22.q4cdn.com/959853165/files/doc_financials/2023/q2/FINAL-Q2-23-Shareholder-Letter.pdf',\n",
       " 'https://s22.q4cdn.com/959853165/files/doc_financials/2023/q1/Final-Q1-23-Shareholder-Letter.pdf']"
      ]
     },
     "execution_count": 9,
     "metadata": {},
     "output_type": "execute_result"
    }
   ],
   "source": [
    "home_urls"
   ]
  },
  {
   "cell_type": "code",
   "execution_count": 11,
   "id": "673e28d8",
   "metadata": {},
   "outputs": [
    {
     "name": "stdout",
     "output_type": "stream",
     "text": [
      "https://s22.q4cdn.com/959853165/files/doc_financials/2023/q2/FINAL-Q2-23-Shareholder-Letter.pdf\n",
      "https://s22.q4cdn.com/959853165/files/doc_financials/2023/q1/Final-Q1-23-Shareholder-Letter.pdf\n"
     ]
    }
   ],
   "source": [
    "# download file from url automatically\n",
    "for i in home_urls:\n",
    "    driver.get(i)\n",
    "    print(i)"
   ]
  },
  {
   "cell_type": "markdown",
   "id": "5e76f103",
   "metadata": {},
   "source": [
    "Testing for getting all urls"
   ]
  },
  {
   "cell_type": "code",
   "execution_count": 5,
   "id": "401b4785",
   "metadata": {},
   "outputs": [],
   "source": [
    "from selenium.webdriver.support.ui import Select\n",
    "dd = driver.find_element(By.XPATH,\"//select[@id='module-financial-quarter_select']\")\n",
    "selectList = Select(dd)\n",
    "options = selectList.options"
   ]
  },
  {
   "cell_type": "code",
   "execution_count": 6,
   "id": "15b7b142",
   "metadata": {},
   "outputs": [],
   "source": [
    "selectList.select_by_value(\"2023\")"
   ]
  },
  {
   "cell_type": "code",
   "execution_count": 8,
   "id": "28344dcc",
   "metadata": {},
   "outputs": [],
   "source": [
    "home_urls = []\n",
    "for year in range(2023, 2012, -1):\n",
    "    value_to_select = str(year)\n",
    "    selectList.select_by_value(value_to_select)\n",
    "    elem = driver.find_elements(By.XPATH, '//a[@class=\"module_link module_link-letter\"]')\n",
    "    for link in elem:\n",
    "        home_urls.append(link.get_attribute('href'))"
   ]
  },
  {
   "cell_type": "code",
   "execution_count": 9,
   "id": "170020d1",
   "metadata": {},
   "outputs": [
    {
     "name": "stdout",
     "output_type": "stream",
     "text": [
      "https://s22.q4cdn.com/959853165/files/doc_financials/2023/q2/FINAL-Q2-23-Shareholder-Letter.pdf\n",
      "https://s22.q4cdn.com/959853165/files/doc_financials/2023/q1/Final-Q1-23-Shareholder-Letter.pdf\n",
      "https://s22.q4cdn.com/959853165/files/doc_financials/2022/q4/FINAL-Q4-22-Shareholder-Letter.pdf\n",
      "https://s22.q4cdn.com/959853165/files/doc_financials/2022/q3/FINAL-Q3-22-Shareholder-Letter.pdf\n",
      "https://s22.q4cdn.com/959853165/files/doc_financials/2022/q2/FINAL-Q2-22-Shareholder-Letter.pdf\n",
      "https://s22.q4cdn.com/959853165/files/doc_financials/2022/q1/FINAL-Q1-22-Shareholder-Letter.pdf\n",
      "https://s22.q4cdn.com/959853165/files/doc_financials/2021/q4/FINAL-Q4-21-Shareholder-Letter.pdf\n",
      "https://s22.q4cdn.com/959853165/files/doc_financials/2021/q3/FINAL-Q3-21-Shareholder-Letter.pdf\n",
      "https://s22.q4cdn.com/959853165/files/doc_financials/2021/q2/FINAL-Q2-21-Shareholder-Letter.pdf\n",
      "https://s22.q4cdn.com/959853165/files/doc_financials/2021/q1/FINAL-Q1-21-Shareholder-Letter.pdf\n",
      "https://s22.q4cdn.com/959853165/files/doc_financials/2020/q4/FINAL-Q420-Shareholder-Letter.pdf\n",
      "https://s22.q4cdn.com/959853165/files/doc_financials/2020/q3/FINAL-Q3-20-Shareholder-Letter.pdf\n",
      "https://s22.q4cdn.com/959853165/files/doc_financials/2020/q2/FINAL-Q2-20-Shareholder-Letter-V3-with-Tables.pdf\n",
      "https://s22.q4cdn.com/959853165/files/doc_financials/2020/q1/updated/FINAL-Q1-20-Shareholder-Letter.pdf\n",
      "https://s22.q4cdn.com/959853165/files/doc_financials/2019/q4/FINAL-Q4-19-Shareholder-Letter.pdf\n",
      "https://s22.q4cdn.com/959853165/files/doc_financials/quarterly_reports/2019/q3/FINAL-Q3-19-Shareholder-Letter.pdf\n",
      "https://s22.q4cdn.com/959853165/files/doc_financials/quarterly_reports/2019/q2/Q2-19-Shareholder-Letter-FINAL.pdf\n",
      "https://s22.q4cdn.com/959853165/files/doc_financials/quarterly_reports/2019/q1/FINAL-Q1-19-Shareholder-Letter.pdf\n"
     ]
    }
   ],
   "source": [
    "for i in home_urls:\n",
    "    driver.get(i)\n",
    "    print(i)"
   ]
  }
 ],
 "metadata": {
  "kernelspec": {
   "display_name": "Python 3",
   "language": "python",
   "name": "python3"
  },
  "language_info": {
   "codemirror_mode": {
    "name": "ipython",
    "version": 3
   },
   "file_extension": ".py",
   "mimetype": "text/x-python",
   "name": "python",
   "nbconvert_exporter": "python",
   "pygments_lexer": "ipython3",
   "version": "3.10.12"
  }
 },
 "nbformat": 4,
 "nbformat_minor": 5
}
