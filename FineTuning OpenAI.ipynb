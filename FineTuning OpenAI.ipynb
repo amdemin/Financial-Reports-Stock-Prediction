{
 "cells": [
  {
   "cell_type": "code",
   "execution_count": 1,
   "metadata": {},
   "outputs": [],
   "source": [
    "import csv\n",
    "import json\n",
    "import openai\n",
    "import re"
   ]
  },
  {
   "cell_type": "code",
   "execution_count": 2,
   "metadata": {},
   "outputs": [],
   "source": [
    "def preprocess_data(text):\n",
    "\n",
    "    text = re.sub('\\u200b', '', text)\n",
    "    text = re.sub('\\u201c', '', text)\n",
    "    text = re.sub('\\u201d', '', text)\n",
    "    text = re.sub('\\u2019', \"'\", text)\n",
    "    text = re.sub('\\u2018', \"'\", text)\n",
    "    text = text.strip()\n",
    "\n",
    "    return text"
   ]
  },
  {
   "cell_type": "code",
   "execution_count": 10,
   "metadata": {},
   "outputs": [],
   "source": [
    "# Read csv file\n",
    "with open('Src/prompts.csv', 'r', encoding='utf-8') as f:\n",
    "    csv_data = list(csv.reader(f))\n",
    "    headers = csv_data[0]\n",
    "    data = csv_data[1:]"
   ]
  },
  {
   "cell_type": "code",
   "execution_count": 4,
   "metadata": {},
   "outputs": [],
   "source": [
    "pairs = []\n",
    "for prompt, completion in data:\n",
    "    # preprocess prompt\n",
    "    prompt = preprocess_data(prompt)\n",
    "    completion = preprocess_data(completion)\n",
    "    pairs.append({\"prompt\": prompt + \" -->\", \"completion\": \" \" + completion + \"\\n\"})"
   ]
  },
  {
   "cell_type": "code",
   "execution_count": 5,
   "metadata": {},
   "outputs": [],
   "source": [
    "# Export to json file\n",
    "with open('Src/prompt_completion_pairs.json', 'w') as f:\n",
    "    json.dump(pairs, f)"
   ]
  },
  {
   "cell_type": "code",
   "execution_count": null,
   "metadata": {},
   "outputs": [],
   "source": [
    "# Convert json file to jsonl file\n"
   ]
  },
  {
   "cell_type": "code",
   "execution_count": 7,
   "metadata": {},
   "outputs": [],
   "source": [
    "# Import OpenAI credentials\n",
    "from credentials_openai import *"
   ]
  },
  {
   "cell_type": "code",
   "execution_count": null,
   "metadata": {},
   "outputs": [],
   "source": [
    "# Print key to further paste in the terminal\n",
    "print(openai_api_key)"
   ]
  },
  {
   "cell_type": "markdown",
   "metadata": {},
   "source": [
    "### Write commands in the terminal\n",
    "\n",
    "##### 1. Set the API key\n",
    "*export OPENAI_API_KEY=\"OpenAI_API_Key\"  for Mac*  <br/>\n",
    "`set OPENAI_API_KEY=\"OpenAI_API_Key\"     for Windows Option 1` <br/>\n",
    "`$env:OPENAI_API_KEY=\"OpenAI_API_Key\"    for Windows Option 2`\n",
    "\n",
    "##### 2. Prepare data and create jsonl files\n",
    "`openai tools fine_tunes.prepare_data -f prompt_completion_pairs.json`\n",
    "\n",
    "##### 3. Fine-tune the model\n",
    "`openai api fine_tunes.create -t \"prompt_completion_pairs_prepared.jsonl\" -m davinci`"
   ]
  },
  {
   "cell_type": "markdown",
   "metadata": {},
   "source": []
  }
 ],
 "metadata": {
  "kernelspec": {
   "display_name": "Python 3",
   "language": "python",
   "name": "python3"
  },
  "language_info": {
   "codemirror_mode": {
    "name": "ipython",
    "version": 3
   },
   "file_extension": ".py",
   "mimetype": "text/x-python",
   "name": "python",
   "nbconvert_exporter": "python",
   "pygments_lexer": "ipython3",
   "version": "3.10.8"
  },
  "orig_nbformat": 4
 },
 "nbformat": 4,
 "nbformat_minor": 2
}
