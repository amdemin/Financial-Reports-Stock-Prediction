{
 "cells": [
  {
   "cell_type": "code",
   "execution_count": 1,
   "id": "f3266411",
   "metadata": {},
   "outputs": [],
   "source": [
    "import requests\n",
    "from bs4 import BeautifulSoup\n",
    "import pandas as pd\n",
    "import selenium\n",
    "from selenium import webdriver\n",
    "from selenium.webdriver.support.ui import WebDriverWait\n",
    "from selenium.webdriver.common.keys import Keys\n",
    "from selenium.webdriver.common.by import By\n",
    "from selenium.webdriver.chrome.service import Service\n",
    "from webdriver_manager.chrome import ChromeDriverManager\n",
    "import pandas as pd\n",
    "import re\n",
    "import time\n",
    "import tempfile\n",
    "import pdfplumber"
   ]
  },
  {
   "cell_type": "code",
   "execution_count": 2,
   "id": "d8279722",
   "metadata": {},
   "outputs": [
    {
     "name": "stdout",
     "output_type": "stream",
     "text": [
      "4.10.0\n"
     ]
    }
   ],
   "source": [
    "print(selenium.__version__)"
   ]
  },
  {
   "cell_type": "code",
   "execution_count": 3,
   "id": "fb12ac03",
   "metadata": {},
   "outputs": [],
   "source": [
    "from selenium import webdriver\n",
    "from selenium.webdriver.chrome.service import Service\n",
    "from webdriver_manager.chrome import ChromeDriverManager\n",
    "\n",
    "# setup chrome options\n",
    "chrome_options = webdriver.ChromeOptions()\n",
    "\n",
    "# define options to download file to specific folder\n",
    "prefs = {\n",
    "    # \"download.default_directory\": \"/path/to/download/directory\", (this is default Google Chrome directory)\n",
    "    \"download.default_directory\": \"D:\\\\notes\\\\Python\\\\Simone\\\\download_for_arp\", # specify folder to download file (use double backslash)\n",
    "    \"download.prompt_for_download\": False,  # set False to auto download the file\n",
    "    \"download.directory_upgrade\": True,\n",
    "    \"plugins.always_open_pdf_externally\": True # set True to download pdf files\n",
    "}\n",
    "\n",
    "# add experimental options\n",
    "chrome_options.add_experimental_option(\"prefs\", prefs)\n",
    "\n",
    "driver = webdriver.Chrome(service=Service(ChromeDriverManager('114.0.5735.90').install()), options=chrome_options)"
   ]
  },
  {
   "cell_type": "code",
   "execution_count": 4,
   "id": "3c65919c",
   "metadata": {},
   "outputs": [],
   "source": [
    "from selenium import webdriver\n",
    "from selenium.webdriver.chrome.service import Service\n",
    "from selenium.webdriver.chrome.options import Options\n",
    "\n",
    "\n",
    "driver.get(\"https://ir.netflix.net/financials/quarterly-earnings/default.aspx\")\n",
    "\n",
    "\n",
    "#elem.click()\n",
    "\n"
   ]
  },
  {
   "cell_type": "code",
   "execution_count": 4,
   "id": "95789338",
   "metadata": {},
   "outputs": [],
   "source": [
    "elem = driver.find_elements(By.XPATH, '//a[@class=\"module_link module_link-letter\"]')\n",
    "#elem.click()"
   ]
  },
  {
   "cell_type": "code",
   "execution_count": 5,
   "id": "b4dc018d",
   "metadata": {},
   "outputs": [],
   "source": [
    "home_urls = []\n",
    "for link in elem:\n",
    "    home_urls.append(link.get_attribute('href'))"
   ]
  },
  {
   "cell_type": "code",
   "execution_count": 6,
   "id": "9a8bf043",
   "metadata": {},
   "outputs": [
    {
     "data": {
      "text/plain": [
       "['https://s22.q4cdn.com/959853165/files/doc_financials/2023/q2/FINAL-Q2-23-Shareholder-Letter.pdf',\n",
       " 'https://s22.q4cdn.com/959853165/files/doc_financials/2023/q1/Final-Q1-23-Shareholder-Letter.pdf']"
      ]
     },
     "execution_count": 6,
     "metadata": {},
     "output_type": "execute_result"
    }
   ],
   "source": [
    "home_urls"
   ]
  },
  {
   "cell_type": "code",
   "execution_count": 7,
   "id": "673e28d8",
   "metadata": {},
   "outputs": [
    {
     "name": "stdout",
     "output_type": "stream",
     "text": [
      "https://s22.q4cdn.com/959853165/files/doc_financials/2023/q2/FINAL-Q2-23-Shareholder-Letter.pdf\n",
      "https://s22.q4cdn.com/959853165/files/doc_financials/2023/q1/Final-Q1-23-Shareholder-Letter.pdf\n"
     ]
    }
   ],
   "source": [
    "# download file from url automatically\n",
    "for i in home_urls:\n",
    "    driver.get(i)\n",
    "    print(i)"
   ]
  },
  {
   "cell_type": "markdown",
   "id": "5e76f103",
   "metadata": {},
   "source": [
    "Testing for getting all urls"
   ]
  },
  {
   "cell_type": "code",
   "execution_count": 6,
   "id": "401b4785",
   "metadata": {},
   "outputs": [],
   "source": [
    "from selenium.webdriver.support.ui import Select\n",
    "dd = driver.find_element(By.XPATH,\"//select[@id='module-financial-quarter_select']\")\n",
    "selectList = Select(dd)\n",
    "options = selectList.options"
   ]
  },
  {
   "cell_type": "code",
   "execution_count": 10,
   "id": "15b7b142",
   "metadata": {},
   "outputs": [],
   "source": [
    "selectList.select_by_value(\"2023\")"
   ]
  },
  {
   "cell_type": "code",
   "execution_count": 11,
   "id": "28344dcc",
   "metadata": {},
   "outputs": [],
   "source": [
    "home_urls = []\n",
    "for year in range(2023, 2012, -1):\n",
    "    value_to_select = str(year)\n",
    "    selectList.select_by_value(value_to_select)\n",
    "    elem = driver.find_elements(By.XPATH, '//a[@class=\"module_link module_link-letter\"]')\n",
    "    for link in elem:\n",
    "        home_urls.append(link.get_attribute('href'))\n",
    "    \n"
   ]
  },
  {
   "cell_type": "code",
   "execution_count": 13,
   "id": "170020d1",
   "metadata": {},
   "outputs": [
    {
     "name": "stdout",
     "output_type": "stream",
     "text": [
      "https://s22.q4cdn.com/959853165/files/doc_financials/2023/q2/FINAL-Q2-23-Shareholder-Letter.pdf\n",
      "https://s22.q4cdn.com/959853165/files/doc_financials/2023/q1/Final-Q1-23-Shareholder-Letter.pdf\n",
      "https://s22.q4cdn.com/959853165/files/doc_financials/2022/q4/FINAL-Q4-22-Shareholder-Letter.pdf\n",
      "https://s22.q4cdn.com/959853165/files/doc_financials/2022/q3/FINAL-Q3-22-Shareholder-Letter.pdf\n",
      "https://s22.q4cdn.com/959853165/files/doc_financials/2022/q2/FINAL-Q2-22-Shareholder-Letter.pdf\n",
      "https://s22.q4cdn.com/959853165/files/doc_financials/2022/q1/FINAL-Q1-22-Shareholder-Letter.pdf\n",
      "https://s22.q4cdn.com/959853165/files/doc_financials/2021/q4/FINAL-Q4-21-Shareholder-Letter.pdf\n",
      "https://s22.q4cdn.com/959853165/files/doc_financials/2021/q3/FINAL-Q3-21-Shareholder-Letter.pdf\n",
      "https://s22.q4cdn.com/959853165/files/doc_financials/2021/q2/FINAL-Q2-21-Shareholder-Letter.pdf\n",
      "https://s22.q4cdn.com/959853165/files/doc_financials/2021/q1/FINAL-Q1-21-Shareholder-Letter.pdf\n",
      "https://s22.q4cdn.com/959853165/files/doc_financials/2020/q4/FINAL-Q420-Shareholder-Letter.pdf\n",
      "https://s22.q4cdn.com/959853165/files/doc_financials/2020/q3/FINAL-Q3-20-Shareholder-Letter.pdf\n",
      "https://s22.q4cdn.com/959853165/files/doc_financials/2020/q2/FINAL-Q2-20-Shareholder-Letter-V3-with-Tables.pdf\n",
      "https://s22.q4cdn.com/959853165/files/doc_financials/2020/q1/updated/FINAL-Q1-20-Shareholder-Letter.pdf\n",
      "https://s22.q4cdn.com/959853165/files/doc_financials/2019/q4/FINAL-Q4-19-Shareholder-Letter.pdf\n",
      "https://s22.q4cdn.com/959853165/files/doc_financials/quarterly_reports/2019/q3/FINAL-Q3-19-Shareholder-Letter.pdf\n",
      "https://s22.q4cdn.com/959853165/files/doc_financials/quarterly_reports/2019/q2/Q2-19-Shareholder-Letter-FINAL.pdf\n",
      "https://s22.q4cdn.com/959853165/files/doc_financials/quarterly_reports/2019/q1/FINAL-Q1-19-Shareholder-Letter.pdf\n",
      "https://s22.q4cdn.com/959853165/files/doc_financials/quarterly_reports/2018/q4/01/FINAL-Q4-18-Shareholder-Letter.pdf\n",
      "https://s22.q4cdn.com/959853165/files/doc_financials/quarterly_reports/2018/q3/FINAL-Q3-18-Shareholder-Letter.pdf\n",
      "https://s22.q4cdn.com/959853165/files/doc_financials/quarterly_reports/2018/q2/FINAL-Q2-18-Shareholder-Letter.pdf\n",
      "https://s22.q4cdn.com/959853165/files/doc_financials/quarterly_reports/2018/q1/FINAL-Q1-18-Shareholder-Letter.pdf\n",
      "https://s22.q4cdn.com/959853165/files/doc_financials/quarterly_reports/2017/q4/COMBINED-Q4-17-Shareholder-Letter-FINAL.pdf\n",
      "https://s22.q4cdn.com/959853165/files/doc_financials/quarterly_reports/2017/q3/Q3_17_Shareholder_Letter_COMBINED.pdf\n",
      "https://s22.q4cdn.com/959853165/files/doc_financials/quarterly_reports/2017/q2/Q2_17_Shareholder_Letter.pdf\n",
      "https://s22.q4cdn.com/959853165/files/doc_financials/quarterly_reports/2017/q1/Q117ShareholderLetterV2FINAL.pdf\n",
      "https://s22.q4cdn.com/959853165/files/doc_financials/quarterly_reports/2016/q4/Q416ShareholderLetter.pdf\n",
      "https://s22.q4cdn.com/959853165/files/doc_financials/quarterly_reports/2016/q3/FINAL_Q3_Letter.pdf\n",
      "https://s22.q4cdn.com/959853165/files/doc_financials/quarterly_reports/2016/q2/Q216LettertoShareholders_FINAL_w_Tables.pdf\n",
      "https://s22.q4cdn.com/959853165/files/doc_financials/quarterly_reports/2016/q1/Q116LettertoShareholders_W_TABLES_.pdf\n",
      "https://s22.q4cdn.com/959853165/files/doc_financials/quarterly_reports/2015/q4/Q4_15_Letter_to_Shareholders_-_COMBINED.pdf\n",
      "https://s22.q4cdn.com/959853165/files/doc_financials/quarterly_reports/2015/q3/FINAL_Q3_15_Letter_to_Shareholders_With_Tables_.pdf\n",
      "https://s22.q4cdn.com/959853165/files/doc_financials/quarterly_reports/2015/q2/FINAL_Q2_15_Letter_to_Shareholders_With_Tables_.pdf\n",
      "https://s22.q4cdn.com/959853165/files/doc_financials/quarterly_reports/2015/q1/Q1_15_Earnings_Letter_final_tables.pdf\n",
      "https://s22.q4cdn.com/959853165/files/doc_financials/quarterly_reports/2014/q4/Q4_14_Letter_to_shareholders.pdf\n",
      "https://s22.q4cdn.com/959853165/files/doc_financials/quarterly_reports/2014/q3/Q3_14_Letter_to_shareholders.pdf\n",
      "https://s22.q4cdn.com/959853165/files/doc_financials/quarterly_reports/2014/q2/July2014EarningsLetter_7.21.14_final.pdf\n",
      "https://s22.q4cdn.com/959853165/files/doc_financials/quarterly_reports/2014/q1/Q114-Earnings-Letter-4.21.14-final.pdf\n",
      "https://s22.q4cdn.com/959853165/files/doc_financials/quarterly_reports/2013/q4/Q4-13-Letter-to-shareholders.pdf\n",
      "https://s22.q4cdn.com/959853165/files/doc_financials/quarterly_reports/2013/q3/Q313-Earnings-Letter-10.21.13-10.30am.pdf\n",
      "https://s22.q4cdn.com/959853165/files/doc_financials/quarterly_reports/2013/q2/Q213-Investor-Letter.pdf\n",
      "https://s22.q4cdn.com/959853165/files/doc_financials/quarterly_reports/2013/q1/Investor_Letter_Q12013.pdf\n"
     ]
    }
   ],
   "source": [
    "for i in home_urls:\n",
    "    driver.get(i)\n",
    "    print(i)"
   ]
  }
 ],
 "metadata": {
  "kernelspec": {
   "display_name": "Shetty_python_3.10",
   "language": "python",
   "name": "shetty_python_3.10"
  },
  "language_info": {
   "codemirror_mode": {
    "name": "ipython",
    "version": 3
   },
   "file_extension": ".py",
   "mimetype": "text/x-python",
   "name": "python",
   "nbconvert_exporter": "python",
   "pygments_lexer": "ipython3",
   "version": "3.10.11"
  }
 },
 "nbformat": 4,
 "nbformat_minor": 5
}
