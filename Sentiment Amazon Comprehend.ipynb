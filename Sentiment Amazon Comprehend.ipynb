{
 "cells": [
  {
   "cell_type": "code",
   "execution_count": 1,
   "metadata": {},
   "outputs": [],
   "source": [
    "# Import libraries\n",
    "import pandas as pd\n",
    "import numpy as np\n",
    "import matplotlib.pyplot as plt\n",
    "import seaborn as sns\n",
    "import requests\n",
    "import json\n",
    "import re\n",
    "import os\n",
    "import pickle\n",
    "from tqdm.notebook import tqdm\n",
    "\n",
    "# Load local modules\n",
    "from module_text_blocks import split_text_into_blocks, clean_text_blocks\n",
    "\n",
    "# Import credentials\n",
    "from credentials_amazon import *\n",
    "\n",
    "# Connect to Amazon API\n",
    "import boto3\n",
    "os.environ[\"AWS_ACCESS_KEY_ID\"] = AWS_ACCESS_KEY_ID\n",
    "os.environ[\"AWS_SECRET_ACCESS_KEY\"] = AWS_SECRET_ACCESS_KEY\n",
    "os.environ[\"AWS_REGION\"] = AWS_REGION"
   ]
  },
  {
   "cell_type": "code",
   "execution_count": 2,
   "metadata": {},
   "outputs": [],
   "source": [
    "def amazon_analyze_sentiment(text):\n",
    "    comprehend = boto3.client(service_name='comprehend', region_name=\"us-west-2\")\n",
    "    sentiment_response = comprehend.detect_sentiment(Text=text, LanguageCode='en')\n",
    "    return sentiment_response[\"SentimentScore\"]"
   ]
  },
  {
   "cell_type": "code",
   "execution_count": 3,
   "metadata": {},
   "outputs": [],
   "source": [
    "# Load pdf text and headings from the pickle file\n",
    "pdf_texts = pickle.load(open(\"pdf_texts.pkl\", \"rb\"))\n",
    "pdf_headings = pickle.load(open(\"pdf_headings.pkl\", \"rb\"))"
   ]
  },
  {
   "cell_type": "code",
   "execution_count": 7,
   "metadata": {},
   "outputs": [
    {
     "data": {
      "application/vnd.jupyter.widget-view+json": {
       "model_id": "1cf9862b76704be29d887510183a3ec1",
       "version_major": 2,
       "version_minor": 0
      },
      "text/plain": [
       "  0%|          | 0/50 [00:00<?, ?it/s]"
      ]
     },
     "metadata": {},
     "output_type": "display_data"
    },
    {
     "ename": "KeyboardInterrupt",
     "evalue": "",
     "output_type": "error",
     "traceback": [
      "\u001b[1;31m---------------------------------------------------------------------------\u001b[0m",
      "\u001b[1;31mKeyboardInterrupt\u001b[0m                         Traceback (most recent call last)",
      "\u001b[1;32mc:\\Users\\Я\\Desktop\\ARP project\\ARP_Github\\Sentiment Amazon Comprehend.ipynb Cell 4\u001b[0m in \u001b[0;36m5\n\u001b[0;32m     <a href='vscode-notebook-cell:/c%3A/Users/%D0%AF/Desktop/ARP%20project/ARP_Github/Sentiment%20Amazon%20Comprehend.ipynb#W5sZmlsZQ%3D%3D?line=46'>47</a>\u001b[0m \u001b[39mfor\u001b[39;00m heading, text \u001b[39min\u001b[39;00m text_blocks\u001b[39m.\u001b[39mitems():\n\u001b[0;32m     <a href='vscode-notebook-cell:/c%3A/Users/%D0%AF/Desktop/ARP%20project/ARP_Github/Sentiment%20Amazon%20Comprehend.ipynb#W5sZmlsZQ%3D%3D?line=47'>48</a>\u001b[0m     \n\u001b[0;32m     <a href='vscode-notebook-cell:/c%3A/Users/%D0%AF/Desktop/ARP%20project/ARP_Github/Sentiment%20Amazon%20Comprehend.ipynb#W5sZmlsZQ%3D%3D?line=48'>49</a>\u001b[0m     \u001b[39m# the prompt for amazon sentiment analysis should be less than 5000 bytes\u001b[39;00m\n\u001b[0;32m     <a href='vscode-notebook-cell:/c%3A/Users/%D0%AF/Desktop/ARP%20project/ARP_Github/Sentiment%20Amazon%20Comprehend.ipynb#W5sZmlsZQ%3D%3D?line=49'>50</a>\u001b[0m     \u001b[39mif\u001b[39;00m \u001b[39mlen\u001b[39m(text) \u001b[39m<\u001b[39m \u001b[39m5000\u001b[39m:\n\u001b[1;32m---> <a href='vscode-notebook-cell:/c%3A/Users/%D0%AF/Desktop/ARP%20project/ARP_Github/Sentiment%20Amazon%20Comprehend.ipynb#W5sZmlsZQ%3D%3D?line=50'>51</a>\u001b[0m         polarity_score \u001b[39m=\u001b[39m amazon_analyze_sentiment(text)\n\u001b[0;32m     <a href='vscode-notebook-cell:/c%3A/Users/%D0%AF/Desktop/ARP%20project/ARP_Github/Sentiment%20Amazon%20Comprehend.ipynb#W5sZmlsZQ%3D%3D?line=51'>52</a>\u001b[0m         key \u001b[39m=\u001b[39m \u001b[39mmax\u001b[39m(polarity_score, key\u001b[39m=\u001b[39mpolarity_score\u001b[39m.\u001b[39mget)\n\u001b[0;32m     <a href='vscode-notebook-cell:/c%3A/Users/%D0%AF/Desktop/ARP%20project/ARP_Github/Sentiment%20Amazon%20Comprehend.ipynb#W5sZmlsZQ%3D%3D?line=52'>53</a>\u001b[0m         text_blocks_scores\u001b[39m.\u001b[39mappend(polarity_score[key])\n",
      "\u001b[1;32mc:\\Users\\Я\\Desktop\\ARP project\\ARP_Github\\Sentiment Amazon Comprehend.ipynb Cell 4\u001b[0m in \u001b[0;36m3\n\u001b[0;32m      <a href='vscode-notebook-cell:/c%3A/Users/%D0%AF/Desktop/ARP%20project/ARP_Github/Sentiment%20Amazon%20Comprehend.ipynb#W5sZmlsZQ%3D%3D?line=0'>1</a>\u001b[0m \u001b[39mdef\u001b[39;00m \u001b[39mamazon_analyze_sentiment\u001b[39m(text):\n\u001b[0;32m      <a href='vscode-notebook-cell:/c%3A/Users/%D0%AF/Desktop/ARP%20project/ARP_Github/Sentiment%20Amazon%20Comprehend.ipynb#W5sZmlsZQ%3D%3D?line=1'>2</a>\u001b[0m     comprehend \u001b[39m=\u001b[39m boto3\u001b[39m.\u001b[39mclient(service_name\u001b[39m=\u001b[39m\u001b[39m'\u001b[39m\u001b[39mcomprehend\u001b[39m\u001b[39m'\u001b[39m, region_name\u001b[39m=\u001b[39m\u001b[39m\"\u001b[39m\u001b[39mus-west-2\u001b[39m\u001b[39m\"\u001b[39m)\n\u001b[1;32m----> <a href='vscode-notebook-cell:/c%3A/Users/%D0%AF/Desktop/ARP%20project/ARP_Github/Sentiment%20Amazon%20Comprehend.ipynb#W5sZmlsZQ%3D%3D?line=2'>3</a>\u001b[0m     sentiment_response \u001b[39m=\u001b[39m comprehend\u001b[39m.\u001b[39;49mdetect_sentiment(Text\u001b[39m=\u001b[39;49mtext, LanguageCode\u001b[39m=\u001b[39;49m\u001b[39m'\u001b[39;49m\u001b[39men\u001b[39;49m\u001b[39m'\u001b[39;49m)\n\u001b[0;32m      <a href='vscode-notebook-cell:/c%3A/Users/%D0%AF/Desktop/ARP%20project/ARP_Github/Sentiment%20Amazon%20Comprehend.ipynb#W5sZmlsZQ%3D%3D?line=3'>4</a>\u001b[0m     \u001b[39mreturn\u001b[39;00m sentiment_response[\u001b[39m\"\u001b[39m\u001b[39mSentimentScore\u001b[39m\u001b[39m\"\u001b[39m]\n",
      "File \u001b[1;32mc:\\Users\\Я\\AppData\\Local\\Programs\\Python\\Python310\\lib\\site-packages\\botocore\\client.py:535\u001b[0m, in \u001b[0;36mClientCreator._create_api_method.<locals>._api_call\u001b[1;34m(self, *args, **kwargs)\u001b[0m\n\u001b[0;32m    531\u001b[0m     \u001b[39mraise\u001b[39;00m \u001b[39mTypeError\u001b[39;00m(\n\u001b[0;32m    532\u001b[0m         \u001b[39mf\u001b[39m\u001b[39m\"\u001b[39m\u001b[39m{\u001b[39;00mpy_operation_name\u001b[39m}\u001b[39;00m\u001b[39m() only accepts keyword arguments.\u001b[39m\u001b[39m\"\u001b[39m\n\u001b[0;32m    533\u001b[0m     )\n\u001b[0;32m    534\u001b[0m \u001b[39m# The \"self\" in this scope is referring to the BaseClient.\u001b[39;00m\n\u001b[1;32m--> 535\u001b[0m \u001b[39mreturn\u001b[39;00m \u001b[39mself\u001b[39;49m\u001b[39m.\u001b[39;49m_make_api_call(operation_name, kwargs)\n",
      "File \u001b[1;32mc:\\Users\\Я\\AppData\\Local\\Programs\\Python\\Python310\\lib\\site-packages\\botocore\\client.py:963\u001b[0m, in \u001b[0;36mBaseClient._make_api_call\u001b[1;34m(self, operation_name, api_params)\u001b[0m\n\u001b[0;32m    959\u001b[0m     maybe_compress_request(\n\u001b[0;32m    960\u001b[0m         \u001b[39mself\u001b[39m\u001b[39m.\u001b[39mmeta\u001b[39m.\u001b[39mconfig, request_dict, operation_model\n\u001b[0;32m    961\u001b[0m     )\n\u001b[0;32m    962\u001b[0m     apply_request_checksum(request_dict)\n\u001b[1;32m--> 963\u001b[0m     http, parsed_response \u001b[39m=\u001b[39m \u001b[39mself\u001b[39;49m\u001b[39m.\u001b[39;49m_make_request(\n\u001b[0;32m    964\u001b[0m         operation_model, request_dict, request_context\n\u001b[0;32m    965\u001b[0m     )\n\u001b[0;32m    967\u001b[0m \u001b[39mself\u001b[39m\u001b[39m.\u001b[39mmeta\u001b[39m.\u001b[39mevents\u001b[39m.\u001b[39memit(\n\u001b[0;32m    968\u001b[0m     \u001b[39m'\u001b[39m\u001b[39mafter-call.\u001b[39m\u001b[39m{service_id}\u001b[39;00m\u001b[39m.\u001b[39m\u001b[39m{operation_name}\u001b[39;00m\u001b[39m'\u001b[39m\u001b[39m.\u001b[39mformat(\n\u001b[0;32m    969\u001b[0m         service_id\u001b[39m=\u001b[39mservice_id, operation_name\u001b[39m=\u001b[39moperation_name\n\u001b[1;32m   (...)\u001b[0m\n\u001b[0;32m    974\u001b[0m     context\u001b[39m=\u001b[39mrequest_context,\n\u001b[0;32m    975\u001b[0m )\n\u001b[0;32m    977\u001b[0m \u001b[39mif\u001b[39;00m http\u001b[39m.\u001b[39mstatus_code \u001b[39m>\u001b[39m\u001b[39m=\u001b[39m \u001b[39m300\u001b[39m:\n",
      "File \u001b[1;32mc:\\Users\\Я\\AppData\\Local\\Programs\\Python\\Python310\\lib\\site-packages\\botocore\\client.py:986\u001b[0m, in \u001b[0;36mBaseClient._make_request\u001b[1;34m(self, operation_model, request_dict, request_context)\u001b[0m\n\u001b[0;32m    984\u001b[0m \u001b[39mdef\u001b[39;00m \u001b[39m_make_request\u001b[39m(\u001b[39mself\u001b[39m, operation_model, request_dict, request_context):\n\u001b[0;32m    985\u001b[0m     \u001b[39mtry\u001b[39;00m:\n\u001b[1;32m--> 986\u001b[0m         \u001b[39mreturn\u001b[39;00m \u001b[39mself\u001b[39;49m\u001b[39m.\u001b[39;49m_endpoint\u001b[39m.\u001b[39;49mmake_request(operation_model, request_dict)\n\u001b[0;32m    987\u001b[0m     \u001b[39mexcept\u001b[39;00m \u001b[39mException\u001b[39;00m \u001b[39mas\u001b[39;00m e:\n\u001b[0;32m    988\u001b[0m         \u001b[39mself\u001b[39m\u001b[39m.\u001b[39mmeta\u001b[39m.\u001b[39mevents\u001b[39m.\u001b[39memit(\n\u001b[0;32m    989\u001b[0m             \u001b[39m'\u001b[39m\u001b[39mafter-call-error.\u001b[39m\u001b[39m{service_id}\u001b[39;00m\u001b[39m.\u001b[39m\u001b[39m{operation_name}\u001b[39;00m\u001b[39m'\u001b[39m\u001b[39m.\u001b[39mformat(\n\u001b[0;32m    990\u001b[0m                 service_id\u001b[39m=\u001b[39m\u001b[39mself\u001b[39m\u001b[39m.\u001b[39m_service_model\u001b[39m.\u001b[39mservice_id\u001b[39m.\u001b[39mhyphenize(),\n\u001b[1;32m   (...)\u001b[0m\n\u001b[0;32m    994\u001b[0m             context\u001b[39m=\u001b[39mrequest_context,\n\u001b[0;32m    995\u001b[0m         )\n",
      "File \u001b[1;32mc:\\Users\\Я\\AppData\\Local\\Programs\\Python\\Python310\\lib\\site-packages\\botocore\\endpoint.py:119\u001b[0m, in \u001b[0;36mEndpoint.make_request\u001b[1;34m(self, operation_model, request_dict)\u001b[0m\n\u001b[0;32m    113\u001b[0m \u001b[39mdef\u001b[39;00m \u001b[39mmake_request\u001b[39m(\u001b[39mself\u001b[39m, operation_model, request_dict):\n\u001b[0;32m    114\u001b[0m     logger\u001b[39m.\u001b[39mdebug(\n\u001b[0;32m    115\u001b[0m         \u001b[39m\"\u001b[39m\u001b[39mMaking request for \u001b[39m\u001b[39m%s\u001b[39;00m\u001b[39m with params: \u001b[39m\u001b[39m%s\u001b[39;00m\u001b[39m\"\u001b[39m,\n\u001b[0;32m    116\u001b[0m         operation_model,\n\u001b[0;32m    117\u001b[0m         request_dict,\n\u001b[0;32m    118\u001b[0m     )\n\u001b[1;32m--> 119\u001b[0m     \u001b[39mreturn\u001b[39;00m \u001b[39mself\u001b[39;49m\u001b[39m.\u001b[39;49m_send_request(request_dict, operation_model)\n",
      "File \u001b[1;32mc:\\Users\\Я\\AppData\\Local\\Programs\\Python\\Python310\\lib\\site-packages\\botocore\\endpoint.py:199\u001b[0m, in \u001b[0;36mEndpoint._send_request\u001b[1;34m(self, request_dict, operation_model)\u001b[0m\n\u001b[0;32m    197\u001b[0m \u001b[39mself\u001b[39m\u001b[39m.\u001b[39m_update_retries_context(context, attempts)\n\u001b[0;32m    198\u001b[0m request \u001b[39m=\u001b[39m \u001b[39mself\u001b[39m\u001b[39m.\u001b[39mcreate_request(request_dict, operation_model)\n\u001b[1;32m--> 199\u001b[0m success_response, exception \u001b[39m=\u001b[39m \u001b[39mself\u001b[39;49m\u001b[39m.\u001b[39;49m_get_response(\n\u001b[0;32m    200\u001b[0m     request, operation_model, context\n\u001b[0;32m    201\u001b[0m )\n\u001b[0;32m    202\u001b[0m \u001b[39mwhile\u001b[39;00m \u001b[39mself\u001b[39m\u001b[39m.\u001b[39m_needs_retry(\n\u001b[0;32m    203\u001b[0m     attempts,\n\u001b[0;32m    204\u001b[0m     operation_model,\n\u001b[1;32m   (...)\u001b[0m\n\u001b[0;32m    207\u001b[0m     exception,\n\u001b[0;32m    208\u001b[0m ):\n\u001b[0;32m    209\u001b[0m     attempts \u001b[39m+\u001b[39m\u001b[39m=\u001b[39m \u001b[39m1\u001b[39m\n",
      "File \u001b[1;32mc:\\Users\\Я\\AppData\\Local\\Programs\\Python\\Python310\\lib\\site-packages\\botocore\\endpoint.py:241\u001b[0m, in \u001b[0;36mEndpoint._get_response\u001b[1;34m(self, request, operation_model, context)\u001b[0m\n\u001b[0;32m    235\u001b[0m \u001b[39mdef\u001b[39;00m \u001b[39m_get_response\u001b[39m(\u001b[39mself\u001b[39m, request, operation_model, context):\n\u001b[0;32m    236\u001b[0m     \u001b[39m# This will return a tuple of (success_response, exception)\u001b[39;00m\n\u001b[0;32m    237\u001b[0m     \u001b[39m# and success_response is itself a tuple of\u001b[39;00m\n\u001b[0;32m    238\u001b[0m     \u001b[39m# (http_response, parsed_dict).\u001b[39;00m\n\u001b[0;32m    239\u001b[0m     \u001b[39m# If an exception occurs then the success_response is None.\u001b[39;00m\n\u001b[0;32m    240\u001b[0m     \u001b[39m# If no exception occurs then exception is None.\u001b[39;00m\n\u001b[1;32m--> 241\u001b[0m     success_response, exception \u001b[39m=\u001b[39m \u001b[39mself\u001b[39;49m\u001b[39m.\u001b[39;49m_do_get_response(\n\u001b[0;32m    242\u001b[0m         request, operation_model, context\n\u001b[0;32m    243\u001b[0m     )\n\u001b[0;32m    244\u001b[0m     kwargs_to_emit \u001b[39m=\u001b[39m {\n\u001b[0;32m    245\u001b[0m         \u001b[39m'\u001b[39m\u001b[39mresponse_dict\u001b[39m\u001b[39m'\u001b[39m: \u001b[39mNone\u001b[39;00m,\n\u001b[0;32m    246\u001b[0m         \u001b[39m'\u001b[39m\u001b[39mparsed_response\u001b[39m\u001b[39m'\u001b[39m: \u001b[39mNone\u001b[39;00m,\n\u001b[0;32m    247\u001b[0m         \u001b[39m'\u001b[39m\u001b[39mcontext\u001b[39m\u001b[39m'\u001b[39m: context,\n\u001b[0;32m    248\u001b[0m         \u001b[39m'\u001b[39m\u001b[39mexception\u001b[39m\u001b[39m'\u001b[39m: exception,\n\u001b[0;32m    249\u001b[0m     }\n\u001b[0;32m    250\u001b[0m     \u001b[39mif\u001b[39;00m success_response \u001b[39mis\u001b[39;00m \u001b[39mnot\u001b[39;00m \u001b[39mNone\u001b[39;00m:\n",
      "File \u001b[1;32mc:\\Users\\Я\\AppData\\Local\\Programs\\Python\\Python310\\lib\\site-packages\\botocore\\endpoint.py:281\u001b[0m, in \u001b[0;36mEndpoint._do_get_response\u001b[1;34m(self, request, operation_model, context)\u001b[0m\n\u001b[0;32m    279\u001b[0m     http_response \u001b[39m=\u001b[39m first_non_none_response(responses)\n\u001b[0;32m    280\u001b[0m     \u001b[39mif\u001b[39;00m http_response \u001b[39mis\u001b[39;00m \u001b[39mNone\u001b[39;00m:\n\u001b[1;32m--> 281\u001b[0m         http_response \u001b[39m=\u001b[39m \u001b[39mself\u001b[39;49m\u001b[39m.\u001b[39;49m_send(request)\n\u001b[0;32m    282\u001b[0m \u001b[39mexcept\u001b[39;00m HTTPClientError \u001b[39mas\u001b[39;00m e:\n\u001b[0;32m    283\u001b[0m     \u001b[39mreturn\u001b[39;00m (\u001b[39mNone\u001b[39;00m, e)\n",
      "File \u001b[1;32mc:\\Users\\Я\\AppData\\Local\\Programs\\Python\\Python310\\lib\\site-packages\\botocore\\endpoint.py:377\u001b[0m, in \u001b[0;36mEndpoint._send\u001b[1;34m(self, request)\u001b[0m\n\u001b[0;32m    376\u001b[0m \u001b[39mdef\u001b[39;00m \u001b[39m_send\u001b[39m(\u001b[39mself\u001b[39m, request):\n\u001b[1;32m--> 377\u001b[0m     \u001b[39mreturn\u001b[39;00m \u001b[39mself\u001b[39;49m\u001b[39m.\u001b[39;49mhttp_session\u001b[39m.\u001b[39;49msend(request)\n",
      "File \u001b[1;32mc:\\Users\\Я\\AppData\\Local\\Programs\\Python\\Python310\\lib\\site-packages\\botocore\\httpsession.py:465\u001b[0m, in \u001b[0;36mURLLib3Session.send\u001b[1;34m(self, request)\u001b[0m\n\u001b[0;32m    462\u001b[0m     conn\u001b[39m.\u001b[39mproxy_headers[\u001b[39m'\u001b[39m\u001b[39mhost\u001b[39m\u001b[39m'\u001b[39m] \u001b[39m=\u001b[39m host\n\u001b[0;32m    464\u001b[0m request_target \u001b[39m=\u001b[39m \u001b[39mself\u001b[39m\u001b[39m.\u001b[39m_get_request_target(request\u001b[39m.\u001b[39murl, proxy_url)\n\u001b[1;32m--> 465\u001b[0m urllib_response \u001b[39m=\u001b[39m conn\u001b[39m.\u001b[39;49murlopen(\n\u001b[0;32m    466\u001b[0m     method\u001b[39m=\u001b[39;49mrequest\u001b[39m.\u001b[39;49mmethod,\n\u001b[0;32m    467\u001b[0m     url\u001b[39m=\u001b[39;49mrequest_target,\n\u001b[0;32m    468\u001b[0m     body\u001b[39m=\u001b[39;49mrequest\u001b[39m.\u001b[39;49mbody,\n\u001b[0;32m    469\u001b[0m     headers\u001b[39m=\u001b[39;49mrequest\u001b[39m.\u001b[39;49mheaders,\n\u001b[0;32m    470\u001b[0m     retries\u001b[39m=\u001b[39;49mRetry(\u001b[39mFalse\u001b[39;49;00m),\n\u001b[0;32m    471\u001b[0m     assert_same_host\u001b[39m=\u001b[39;49m\u001b[39mFalse\u001b[39;49;00m,\n\u001b[0;32m    472\u001b[0m     preload_content\u001b[39m=\u001b[39;49m\u001b[39mFalse\u001b[39;49;00m,\n\u001b[0;32m    473\u001b[0m     decode_content\u001b[39m=\u001b[39;49m\u001b[39mFalse\u001b[39;49;00m,\n\u001b[0;32m    474\u001b[0m     chunked\u001b[39m=\u001b[39;49m\u001b[39mself\u001b[39;49m\u001b[39m.\u001b[39;49m_chunked(request\u001b[39m.\u001b[39;49mheaders),\n\u001b[0;32m    475\u001b[0m )\n\u001b[0;32m    477\u001b[0m http_response \u001b[39m=\u001b[39m botocore\u001b[39m.\u001b[39mawsrequest\u001b[39m.\u001b[39mAWSResponse(\n\u001b[0;32m    478\u001b[0m     request\u001b[39m.\u001b[39murl,\n\u001b[0;32m    479\u001b[0m     urllib_response\u001b[39m.\u001b[39mstatus,\n\u001b[0;32m    480\u001b[0m     urllib_response\u001b[39m.\u001b[39mheaders,\n\u001b[0;32m    481\u001b[0m     urllib_response,\n\u001b[0;32m    482\u001b[0m )\n\u001b[0;32m    484\u001b[0m \u001b[39mif\u001b[39;00m \u001b[39mnot\u001b[39;00m request\u001b[39m.\u001b[39mstream_output:\n\u001b[0;32m    485\u001b[0m     \u001b[39m# Cause the raw stream to be exhausted immediately. We do it\u001b[39;00m\n\u001b[0;32m    486\u001b[0m     \u001b[39m# this way instead of using preload_content because\u001b[39;00m\n\u001b[0;32m    487\u001b[0m     \u001b[39m# preload_content will never buffer chunked responses\u001b[39;00m\n",
      "File \u001b[1;32mc:\\Users\\Я\\AppData\\Local\\Programs\\Python\\Python310\\lib\\site-packages\\urllib3\\connectionpool.py:703\u001b[0m, in \u001b[0;36mHTTPConnectionPool.urlopen\u001b[1;34m(self, method, url, body, headers, retries, redirect, assert_same_host, timeout, pool_timeout, release_conn, chunked, body_pos, **response_kw)\u001b[0m\n\u001b[0;32m    700\u001b[0m     \u001b[39mself\u001b[39m\u001b[39m.\u001b[39m_prepare_proxy(conn)\n\u001b[0;32m    702\u001b[0m \u001b[39m# Make the request on the httplib connection object.\u001b[39;00m\n\u001b[1;32m--> 703\u001b[0m httplib_response \u001b[39m=\u001b[39m \u001b[39mself\u001b[39;49m\u001b[39m.\u001b[39;49m_make_request(\n\u001b[0;32m    704\u001b[0m     conn,\n\u001b[0;32m    705\u001b[0m     method,\n\u001b[0;32m    706\u001b[0m     url,\n\u001b[0;32m    707\u001b[0m     timeout\u001b[39m=\u001b[39;49mtimeout_obj,\n\u001b[0;32m    708\u001b[0m     body\u001b[39m=\u001b[39;49mbody,\n\u001b[0;32m    709\u001b[0m     headers\u001b[39m=\u001b[39;49mheaders,\n\u001b[0;32m    710\u001b[0m     chunked\u001b[39m=\u001b[39;49mchunked,\n\u001b[0;32m    711\u001b[0m )\n\u001b[0;32m    713\u001b[0m \u001b[39m# If we're going to release the connection in ``finally:``, then\u001b[39;00m\n\u001b[0;32m    714\u001b[0m \u001b[39m# the response doesn't need to know about the connection. Otherwise\u001b[39;00m\n\u001b[0;32m    715\u001b[0m \u001b[39m# it will also try to release it and we'll have a double-release\u001b[39;00m\n\u001b[0;32m    716\u001b[0m \u001b[39m# mess.\u001b[39;00m\n\u001b[0;32m    717\u001b[0m response_conn \u001b[39m=\u001b[39m conn \u001b[39mif\u001b[39;00m \u001b[39mnot\u001b[39;00m release_conn \u001b[39melse\u001b[39;00m \u001b[39mNone\u001b[39;00m\n",
      "File \u001b[1;32mc:\\Users\\Я\\AppData\\Local\\Programs\\Python\\Python310\\lib\\site-packages\\urllib3\\connectionpool.py:449\u001b[0m, in \u001b[0;36mHTTPConnectionPool._make_request\u001b[1;34m(self, conn, method, url, timeout, chunked, **httplib_request_kw)\u001b[0m\n\u001b[0;32m    444\u001b[0m             httplib_response \u001b[39m=\u001b[39m conn\u001b[39m.\u001b[39mgetresponse()\n\u001b[0;32m    445\u001b[0m         \u001b[39mexcept\u001b[39;00m \u001b[39mBaseException\u001b[39;00m \u001b[39mas\u001b[39;00m e:\n\u001b[0;32m    446\u001b[0m             \u001b[39m# Remove the TypeError from the exception chain in\u001b[39;00m\n\u001b[0;32m    447\u001b[0m             \u001b[39m# Python 3 (including for exceptions like SystemExit).\u001b[39;00m\n\u001b[0;32m    448\u001b[0m             \u001b[39m# Otherwise it looks like a bug in the code.\u001b[39;00m\n\u001b[1;32m--> 449\u001b[0m             six\u001b[39m.\u001b[39;49mraise_from(e, \u001b[39mNone\u001b[39;49;00m)\n\u001b[0;32m    450\u001b[0m \u001b[39mexcept\u001b[39;00m (SocketTimeout, BaseSSLError, SocketError) \u001b[39mas\u001b[39;00m e:\n\u001b[0;32m    451\u001b[0m     \u001b[39mself\u001b[39m\u001b[39m.\u001b[39m_raise_timeout(err\u001b[39m=\u001b[39me, url\u001b[39m=\u001b[39murl, timeout_value\u001b[39m=\u001b[39mread_timeout)\n",
      "File \u001b[1;32m<string>:3\u001b[0m, in \u001b[0;36mraise_from\u001b[1;34m(value, from_value)\u001b[0m\n",
      "File \u001b[1;32mc:\\Users\\Я\\AppData\\Local\\Programs\\Python\\Python310\\lib\\site-packages\\urllib3\\connectionpool.py:444\u001b[0m, in \u001b[0;36mHTTPConnectionPool._make_request\u001b[1;34m(self, conn, method, url, timeout, chunked, **httplib_request_kw)\u001b[0m\n\u001b[0;32m    441\u001b[0m \u001b[39mexcept\u001b[39;00m \u001b[39mTypeError\u001b[39;00m:\n\u001b[0;32m    442\u001b[0m     \u001b[39m# Python 3\u001b[39;00m\n\u001b[0;32m    443\u001b[0m     \u001b[39mtry\u001b[39;00m:\n\u001b[1;32m--> 444\u001b[0m         httplib_response \u001b[39m=\u001b[39m conn\u001b[39m.\u001b[39;49mgetresponse()\n\u001b[0;32m    445\u001b[0m     \u001b[39mexcept\u001b[39;00m \u001b[39mBaseException\u001b[39;00m \u001b[39mas\u001b[39;00m e:\n\u001b[0;32m    446\u001b[0m         \u001b[39m# Remove the TypeError from the exception chain in\u001b[39;00m\n\u001b[0;32m    447\u001b[0m         \u001b[39m# Python 3 (including for exceptions like SystemExit).\u001b[39;00m\n\u001b[0;32m    448\u001b[0m         \u001b[39m# Otherwise it looks like a bug in the code.\u001b[39;00m\n\u001b[0;32m    449\u001b[0m         six\u001b[39m.\u001b[39mraise_from(e, \u001b[39mNone\u001b[39;00m)\n",
      "File \u001b[1;32mc:\\Users\\Я\\AppData\\Local\\Programs\\Python\\Python310\\lib\\http\\client.py:1374\u001b[0m, in \u001b[0;36mHTTPConnection.getresponse\u001b[1;34m(self)\u001b[0m\n\u001b[0;32m   1372\u001b[0m \u001b[39mtry\u001b[39;00m:\n\u001b[0;32m   1373\u001b[0m     \u001b[39mtry\u001b[39;00m:\n\u001b[1;32m-> 1374\u001b[0m         response\u001b[39m.\u001b[39;49mbegin()\n\u001b[0;32m   1375\u001b[0m     \u001b[39mexcept\u001b[39;00m \u001b[39mConnectionError\u001b[39;00m:\n\u001b[0;32m   1376\u001b[0m         \u001b[39mself\u001b[39m\u001b[39m.\u001b[39mclose()\n",
      "File \u001b[1;32mc:\\Users\\Я\\AppData\\Local\\Programs\\Python\\Python310\\lib\\http\\client.py:318\u001b[0m, in \u001b[0;36mHTTPResponse.begin\u001b[1;34m(self)\u001b[0m\n\u001b[0;32m    316\u001b[0m \u001b[39m# read until we get a non-100 response\u001b[39;00m\n\u001b[0;32m    317\u001b[0m \u001b[39mwhile\u001b[39;00m \u001b[39mTrue\u001b[39;00m:\n\u001b[1;32m--> 318\u001b[0m     version, status, reason \u001b[39m=\u001b[39m \u001b[39mself\u001b[39;49m\u001b[39m.\u001b[39;49m_read_status()\n\u001b[0;32m    319\u001b[0m     \u001b[39mif\u001b[39;00m status \u001b[39m!=\u001b[39m CONTINUE:\n\u001b[0;32m    320\u001b[0m         \u001b[39mbreak\u001b[39;00m\n",
      "File \u001b[1;32mc:\\Users\\Я\\AppData\\Local\\Programs\\Python\\Python310\\lib\\http\\client.py:279\u001b[0m, in \u001b[0;36mHTTPResponse._read_status\u001b[1;34m(self)\u001b[0m\n\u001b[0;32m    278\u001b[0m \u001b[39mdef\u001b[39;00m \u001b[39m_read_status\u001b[39m(\u001b[39mself\u001b[39m):\n\u001b[1;32m--> 279\u001b[0m     line \u001b[39m=\u001b[39m \u001b[39mstr\u001b[39m(\u001b[39mself\u001b[39;49m\u001b[39m.\u001b[39;49mfp\u001b[39m.\u001b[39;49mreadline(_MAXLINE \u001b[39m+\u001b[39;49m \u001b[39m1\u001b[39;49m), \u001b[39m\"\u001b[39m\u001b[39miso-8859-1\u001b[39m\u001b[39m\"\u001b[39m)\n\u001b[0;32m    280\u001b[0m     \u001b[39mif\u001b[39;00m \u001b[39mlen\u001b[39m(line) \u001b[39m>\u001b[39m _MAXLINE:\n\u001b[0;32m    281\u001b[0m         \u001b[39mraise\u001b[39;00m LineTooLong(\u001b[39m\"\u001b[39m\u001b[39mstatus line\u001b[39m\u001b[39m\"\u001b[39m)\n",
      "File \u001b[1;32mc:\\Users\\Я\\AppData\\Local\\Programs\\Python\\Python310\\lib\\socket.py:705\u001b[0m, in \u001b[0;36mSocketIO.readinto\u001b[1;34m(self, b)\u001b[0m\n\u001b[0;32m    703\u001b[0m \u001b[39mwhile\u001b[39;00m \u001b[39mTrue\u001b[39;00m:\n\u001b[0;32m    704\u001b[0m     \u001b[39mtry\u001b[39;00m:\n\u001b[1;32m--> 705\u001b[0m         \u001b[39mreturn\u001b[39;00m \u001b[39mself\u001b[39;49m\u001b[39m.\u001b[39;49m_sock\u001b[39m.\u001b[39;49mrecv_into(b)\n\u001b[0;32m    706\u001b[0m     \u001b[39mexcept\u001b[39;00m timeout:\n\u001b[0;32m    707\u001b[0m         \u001b[39mself\u001b[39m\u001b[39m.\u001b[39m_timeout_occurred \u001b[39m=\u001b[39m \u001b[39mTrue\u001b[39;00m\n",
      "File \u001b[1;32mc:\\Users\\Я\\AppData\\Local\\Programs\\Python\\Python310\\lib\\ssl.py:1274\u001b[0m, in \u001b[0;36mSSLSocket.recv_into\u001b[1;34m(self, buffer, nbytes, flags)\u001b[0m\n\u001b[0;32m   1270\u001b[0m     \u001b[39mif\u001b[39;00m flags \u001b[39m!=\u001b[39m \u001b[39m0\u001b[39m:\n\u001b[0;32m   1271\u001b[0m         \u001b[39mraise\u001b[39;00m \u001b[39mValueError\u001b[39;00m(\n\u001b[0;32m   1272\u001b[0m           \u001b[39m\"\u001b[39m\u001b[39mnon-zero flags not allowed in calls to recv_into() on \u001b[39m\u001b[39m%s\u001b[39;00m\u001b[39m\"\u001b[39m \u001b[39m%\u001b[39m\n\u001b[0;32m   1273\u001b[0m           \u001b[39mself\u001b[39m\u001b[39m.\u001b[39m\u001b[39m__class__\u001b[39m)\n\u001b[1;32m-> 1274\u001b[0m     \u001b[39mreturn\u001b[39;00m \u001b[39mself\u001b[39;49m\u001b[39m.\u001b[39;49mread(nbytes, buffer)\n\u001b[0;32m   1275\u001b[0m \u001b[39melse\u001b[39;00m:\n\u001b[0;32m   1276\u001b[0m     \u001b[39mreturn\u001b[39;00m \u001b[39msuper\u001b[39m()\u001b[39m.\u001b[39mrecv_into(buffer, nbytes, flags)\n",
      "File \u001b[1;32mc:\\Users\\Я\\AppData\\Local\\Programs\\Python\\Python310\\lib\\ssl.py:1130\u001b[0m, in \u001b[0;36mSSLSocket.read\u001b[1;34m(self, len, buffer)\u001b[0m\n\u001b[0;32m   1128\u001b[0m \u001b[39mtry\u001b[39;00m:\n\u001b[0;32m   1129\u001b[0m     \u001b[39mif\u001b[39;00m buffer \u001b[39mis\u001b[39;00m \u001b[39mnot\u001b[39;00m \u001b[39mNone\u001b[39;00m:\n\u001b[1;32m-> 1130\u001b[0m         \u001b[39mreturn\u001b[39;00m \u001b[39mself\u001b[39;49m\u001b[39m.\u001b[39;49m_sslobj\u001b[39m.\u001b[39;49mread(\u001b[39mlen\u001b[39;49m, buffer)\n\u001b[0;32m   1131\u001b[0m     \u001b[39melse\u001b[39;00m:\n\u001b[0;32m   1132\u001b[0m         \u001b[39mreturn\u001b[39;00m \u001b[39mself\u001b[39m\u001b[39m.\u001b[39m_sslobj\u001b[39m.\u001b[39mread(\u001b[39mlen\u001b[39m)\n",
      "\u001b[1;31mKeyboardInterrupt\u001b[0m: "
     ]
    }
   ],
   "source": [
    "polarity_scores = {}\n",
    "\n",
    "for pdf_name in tqdm(pdf_texts):\n",
    "\n",
    "    try:\n",
    "\n",
    "        text_blocks_scores = []\n",
    "\n",
    "        pdf_name = \"FINAL-Q1-19-Shareholder-Letter\"\n",
    "\n",
    "        text = pdf_texts[pdf_name]\n",
    "        headings = pdf_headings[pdf_name]\n",
    "\n",
    "        # split the text into blocks based on the headings\n",
    "        # text_blocks = split_text_into_blocks(text, headings)\n",
    "\n",
    "        # define dictionary for storing text blocks\n",
    "        text_blocks = {}\n",
    "\n",
    "        # Iterate over the headings\n",
    "        for heading in range(len(headings)):\n",
    "\n",
    "            # in the beginning of document, there is no heading, so let's define it as document intro\n",
    "            if heading == 0:\n",
    "                document_intro = text.split(headings[heading])[0]\n",
    "                text_blocks['Document_intro'] = document_intro\n",
    "            \n",
    "            # prevent the error of index out of range\n",
    "            if len(text.split(headings[heading])) > 1:\n",
    "                text_after_heading = text.split(headings[heading])[1]\n",
    "            else:\n",
    "                text_after_heading = \"\"\n",
    "            \n",
    "            # identify the last heading\n",
    "            if heading == len(headings) - 1:\n",
    "                text_blocks[headings[heading]] = text_after_heading\n",
    "                break\n",
    "            else:\n",
    "                # identify middle headings\n",
    "                text_of_heading = text_after_heading.split(headings[heading+1])[0]\n",
    "                text_blocks[headings[heading]] = text_of_heading\n",
    "\n",
    "        # clean the text blocks\n",
    "        text_blocks = clean_text_blocks(text_blocks)\n",
    "\n",
    "        # iterate over the text blocks individually, otherwise single request with all text will fail\n",
    "        for heading, text in text_blocks.items():\n",
    "            \n",
    "            # the prompt for amazon sentiment analysis should be less than 5000 bytes\n",
    "            if len(text) < 5000:\n",
    "                polarity_score = amazon_analyze_sentiment(text)\n",
    "                key = max(polarity_score, key=polarity_score.get)\n",
    "                text_blocks_scores.append(polarity_score[key])\n",
    "        \n",
    "        polarity_scores[pdf_name] = np.mean(text_blocks_scores)\n",
    "        \n",
    "        # break\n",
    "\n",
    "    except Exception as e:\n",
    "\n",
    "        print(f\"Exception occurred in file {pdf_name}\")\n",
    "        print(f\"Exception message: {str(e)}\")\n",
    "\n",
    "        # break"
   ]
  },
  {
   "cell_type": "code",
   "execution_count": 8,
   "metadata": {},
   "outputs": [],
   "source": [
    "# comprehend = boto3.client(service_name='comprehend', region_name=\"us-west-2\")\n",
    "# sentiment_response = comprehend.detect_sentiment(Text=\"Wow, so amazing\", LanguageCode='en')"
   ]
  },
  {
   "cell_type": "code",
   "execution_count": 9,
   "metadata": {},
   "outputs": [
    {
     "data": {
      "text/plain": [
       "{'Sentiment': 'POSITIVE',\n",
       " 'SentimentScore': {'Positive': 0.9996782541275024,\n",
       "  'Negative': 7.027111132629216e-05,\n",
       "  'Neutral': 0.00021913267846684903,\n",
       "  'Mixed': 3.231415030313656e-05},\n",
       " 'ResponseMetadata': {'RequestId': '39e4554a-7300-4ebd-b513-c9f90813a35e',\n",
       "  'HTTPStatusCode': 200,\n",
       "  'HTTPHeaders': {'x-amzn-requestid': '39e4554a-7300-4ebd-b513-c9f90813a35e',\n",
       "   'content-type': 'application/x-amz-json-1.1',\n",
       "   'content-length': '166',\n",
       "   'date': 'Tue, 08 Aug 2023 21:14:07 GMT'},\n",
       "  'RetryAttempts': 0}}"
      ]
     },
     "execution_count": 9,
     "metadata": {},
     "output_type": "execute_result"
    }
   ],
   "source": [
    "# sentiment_response"
   ]
  },
  {
   "cell_type": "code",
   "execution_count": 50,
   "metadata": {},
   "outputs": [
    {
     "data": {
      "text/plain": [
       "[0.7302021980285645,\n",
       " 0.9798567891120911,\n",
       " 0.9805167317390442,\n",
       " 0.8968285918235779,\n",
       " 0.8543012738227844,\n",
       " 0.9246026277542114,\n",
       " 0.9749899506568909,\n",
       " 0.9163967370986938,\n",
       " 0.9347952008247375]"
      ]
     },
     "execution_count": 50,
     "metadata": {},
     "output_type": "execute_result"
    }
   ],
   "source": [
    "text_blocks_scores"
   ]
  },
  {
   "cell_type": "code",
   "execution_count": 12,
   "metadata": {},
   "outputs": [],
   "source": [
    "polarity_amazon = pd.DataFrame(list(polarity_scores.items()), columns=['pdf_name', 'polarity'])\n",
    "# subjectivity_amazon = pd.DataFrame(list(subjectivity_scores.items()), columns=['pdf_name', 'subjectivity'])"
   ]
  },
  {
   "cell_type": "code",
   "execution_count": 15,
   "metadata": {},
   "outputs": [
    {
     "data": {
      "text/html": [
       "<div>\n",
       "<style scoped>\n",
       "    .dataframe tbody tr th:only-of-type {\n",
       "        vertical-align: middle;\n",
       "    }\n",
       "\n",
       "    .dataframe tbody tr th {\n",
       "        vertical-align: top;\n",
       "    }\n",
       "\n",
       "    .dataframe thead th {\n",
       "        text-align: right;\n",
       "    }\n",
       "</style>\n",
       "<table border=\"1\" class=\"dataframe\">\n",
       "  <thead>\n",
       "    <tr style=\"text-align: right;\">\n",
       "      <th></th>\n",
       "      <th>pdf_name</th>\n",
       "      <th>polarity</th>\n",
       "    </tr>\n",
       "  </thead>\n",
       "  <tbody>\n",
       "    <tr>\n",
       "      <th>0</th>\n",
       "      <td>COMBINED-Q4-17-Shareholder-Letter-FINAL</td>\n",
       "      <td>0.883941</td>\n",
       "    </tr>\n",
       "    <tr>\n",
       "      <th>1</th>\n",
       "      <td>FINAL-Q1-18-Shareholder-Letter</td>\n",
       "      <td>0.870285</td>\n",
       "    </tr>\n",
       "    <tr>\n",
       "      <th>2</th>\n",
       "      <td>FINAL-Q1-20-Shareholder-Letter</td>\n",
       "      <td>0.892680</td>\n",
       "    </tr>\n",
       "    <tr>\n",
       "      <th>3</th>\n",
       "      <td>FINAL-Q1-21-Shareholder-Letter</td>\n",
       "      <td>0.879103</td>\n",
       "    </tr>\n",
       "    <tr>\n",
       "      <th>4</th>\n",
       "      <td>FINAL-Q1-22-Shareholder-Letter</td>\n",
       "      <td>0.848568</td>\n",
       "    </tr>\n",
       "  </tbody>\n",
       "</table>\n",
       "</div>"
      ],
      "text/plain": [
       "                                  pdf_name  polarity\n",
       "0  COMBINED-Q4-17-Shareholder-Letter-FINAL  0.883941\n",
       "1           FINAL-Q1-18-Shareholder-Letter  0.870285\n",
       "2           FINAL-Q1-20-Shareholder-Letter  0.892680\n",
       "3           FINAL-Q1-21-Shareholder-Letter  0.879103\n",
       "4           FINAL-Q1-22-Shareholder-Letter  0.848568"
      ]
     },
     "execution_count": 15,
     "metadata": {},
     "output_type": "execute_result"
    }
   ],
   "source": [
    "polarity_amazon.head()"
   ]
  },
  {
   "cell_type": "code",
   "execution_count": 16,
   "metadata": {},
   "outputs": [],
   "source": [
    "# export to csv\n",
    "polarity_amazon.to_csv(\"Src/polarity_amazon.csv\", index=False)"
   ]
  }
 ],
 "metadata": {
  "kernelspec": {
   "display_name": "Python 3",
   "language": "python",
   "name": "python3"
  },
  "language_info": {
   "codemirror_mode": {
    "name": "ipython",
    "version": 3
   },
   "file_extension": ".py",
   "mimetype": "text/x-python",
   "name": "python",
   "nbconvert_exporter": "python",
   "pygments_lexer": "ipython3",
   "version": "3.10.8"
  },
  "orig_nbformat": 4
 },
 "nbformat": 4,
 "nbformat_minor": 2
}
