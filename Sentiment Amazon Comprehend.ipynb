{
 "cells": [
  {
   "cell_type": "code",
   "execution_count": 29,
   "metadata": {},
   "outputs": [],
   "source": [
    "# Import libraries\n",
    "import pandas as pd\n",
    "import numpy as np\n",
    "import matplotlib.pyplot as plt\n",
    "import seaborn as sns\n",
    "import requests\n",
    "import json\n",
    "import re\n",
    "import pickle\n",
    "from tqdm.notebook import tqdm\n",
    "\n",
    "# Import credentials\n",
    "import amazon_credentials\n",
    "\n",
    "# Connect to Amazon API\n",
    "import boto3\n",
    "os.environ[\"AWS_ACCESS_KEY_ID\"] = amazon_credentials.AWS_ACCESS_KEY_ID\n",
    "os.environ[\"AWS_SECRET_ACCESS_KEY\"] = amazon_credentials.AWS_SECRET_ACCESS_KEY\n",
    "os.environ[\"AWS_REGION\"] = amazon_credentials.AWS_REGION"
   ]
  },
  {
   "cell_type": "code",
   "execution_count": 26,
   "metadata": {},
   "outputs": [
    {
     "data": {
      "text/plain": [
       "0.9998409748077393"
      ]
     },
     "execution_count": 26,
     "metadata": {},
     "output_type": "execute_result"
    }
   ],
   "source": [
    "a = response[\"SentimentScore\"]\n",
    "key = max(a, key=a.get)\n",
    "a[key]"
   ]
  },
  {
   "cell_type": "code",
   "execution_count": null,
   "metadata": {},
   "outputs": [],
   "source": [
    "max(sentiment_score, key=sentiment_score.get)"
   ]
  },
  {
   "cell_type": "code",
   "execution_count": 30,
   "metadata": {},
   "outputs": [],
   "source": [
    "def split_text_into_blocks(text, headings):\n",
    "\n",
    "    # Split the text into blocks based on the headings\n",
    "    text_blocks = {}\n",
    "\n",
    "    # Iterate over the headings\n",
    "    for heading in range(len(headings)):\n",
    "\n",
    "        if heading == 0:\n",
    "            document_intro = text.split(headings[heading])[0]\n",
    "            text_blocks['Document_intro'] = document_intro\n",
    "        \n",
    "        text_after_heading = text.split(headings[heading])[1]\n",
    "        if heading == len(headings) - 1:\n",
    "            text_blocks[headings[heading]] = text_after_heading\n",
    "            break\n",
    "        else:\n",
    "            text_of_heading = text_after_heading.split(headings[heading+1])[0]\n",
    "            text_blocks[headings[heading]] = text_of_heading\n",
    "    \n",
    "    return text_blocks"
   ]
  },
  {
   "cell_type": "code",
   "execution_count": 31,
   "metadata": {},
   "outputs": [],
   "source": [
    "def clean_text_blocks(text_blocks):\n",
    "\n",
    "    # iterate over text blocks, removing '\\u200b' and extra spaces\n",
    "    for key in text_blocks:\n",
    "        text_blocks[key] = re.sub('\\u200b', '', text_blocks[key])\n",
    "        text_blocks[key] = re.sub(' +', ' ', text_blocks[key])\n",
    "\n",
    "    return text_blocks"
   ]
  },
  {
   "cell_type": "code",
   "execution_count": 43,
   "metadata": {},
   "outputs": [],
   "source": [
    "def amazon_analyze_sentiment(text):\n",
    "    comprehend = boto3.client(service_name='comprehend', region_name=\"us-west-2\")\n",
    "    sentiment_response = comprehend.detect_sentiment(Text=text, LanguageCode='en')\n",
    "    return sentiment_response[\"SentimentScore\"]"
   ]
  },
  {
   "cell_type": "code",
   "execution_count": 41,
   "metadata": {},
   "outputs": [],
   "source": [
    "# Load pdf text and headings from the pickle file\n",
    "pdf_texts = pickle.load(open(\"pdf_texts.pkl\", \"rb\"))\n",
    "pdf_headings = pickle.load(open(\"pdf_headings.pkl\", \"rb\"))"
   ]
  },
  {
   "cell_type": "code",
   "execution_count": 48,
   "metadata": {},
   "outputs": [
    {
     "data": {
      "application/vnd.jupyter.widget-view+json": {
       "model_id": "accd694a521147e5af3744b4c326f34c",
       "version_major": 2,
       "version_minor": 0
      },
      "text/plain": [
       "  0%|          | 0/50 [00:00<?, ?it/s]"
      ]
     },
     "metadata": {},
     "output_type": "display_data"
    }
   ],
   "source": [
    "polarity_scores = {}\n",
    "\n",
    "for pdf_name in tqdm(pdf_texts):\n",
    "\n",
    "    try:\n",
    "\n",
    "        if pdf_name == \"FINAL-Q2-23-Shareholder-Letter\" or pdf_name == \"Final-Q1-23-Shareholder-Letter\":\n",
    "            continue\n",
    "\n",
    "        else:\n",
    "\n",
    "            text_blocks_scores = []\n",
    "\n",
    "            text = pdf_texts[pdf_name]\n",
    "            headings = pdf_headings[pdf_name]\n",
    "\n",
    "            # split the text into blocks based on the headings\n",
    "            text_blocks = split_text_into_blocks(text, headings)\n",
    "            # clean the text blocks\n",
    "            text_blocks = clean_text_blocks(text_blocks)\n",
    "\n",
    "            # iterate over the text blocks individually, otherwise single request with all text will fail\n",
    "            for heading, text in text_blocks.items():\n",
    "                \n",
    "                if len(text) < 5000:\n",
    "                    polarity_score = amazon_analyze_sentiment(text)\n",
    "                    key = max(polarity_score, key=polarity_score.get)\n",
    "                    text_blocks_scores.append(polarity_score[key])\n",
    "            \n",
    "            polarity_scores[pdf_name] = np.mean(text_blocks_scores)\n",
    "            \n",
    "            break\n",
    "\n",
    "    except Exception as e:\n",
    "\n",
    "        print(f\"Exception occurred in file {pdf_name}\")\n",
    "        print(f\"Exception message: {str(e)}\")\n",
    "\n",
    "        break"
   ]
  },
  {
   "cell_type": "code",
   "execution_count": 50,
   "metadata": {},
   "outputs": [
    {
     "data": {
      "text/plain": [
       "[0.7302021980285645,\n",
       " 0.9798567891120911,\n",
       " 0.9805167317390442,\n",
       " 0.8968285918235779,\n",
       " 0.8543012738227844,\n",
       " 0.9246026277542114,\n",
       " 0.9749899506568909,\n",
       " 0.9163967370986938,\n",
       " 0.9347952008247375]"
      ]
     },
     "execution_count": 50,
     "metadata": {},
     "output_type": "execute_result"
    }
   ],
   "source": [
    "text_blocks_scores"
   ]
  },
  {
   "cell_type": "code",
   "execution_count": 47,
   "metadata": {},
   "outputs": [
    {
     "name": "stdout",
     "output_type": "stream",
     "text": [
      "340\n",
      "2519\n",
      "1161\n",
      "2104\n",
      "723\n",
      "1193\n",
      "1602\n",
      "311\n",
      "256\n",
      "12245\n"
     ]
    }
   ],
   "source": [
    "for heading, text in text_blocks.items():\n",
    "\n",
    "    print(len(text))"
   ]
  },
  {
   "cell_type": "code",
   "execution_count": 33,
   "metadata": {},
   "outputs": [],
   "source": [
    "polarity_amazon = pd.DataFrame(list(polarity_scores.items()), columns=['pdf_name', 'polarity'])\n",
    "subjectivity_amazon = pd.DataFrame(list(subjectivity_scores.items()), columns=['pdf_name', 'subjectivity'])"
   ]
  },
  {
   "cell_type": "code",
   "execution_count": 35,
   "metadata": {},
   "outputs": [
    {
     "data": {
      "text/html": [
       "<div>\n",
       "<style scoped>\n",
       "    .dataframe tbody tr th:only-of-type {\n",
       "        vertical-align: middle;\n",
       "    }\n",
       "\n",
       "    .dataframe tbody tr th {\n",
       "        vertical-align: top;\n",
       "    }\n",
       "\n",
       "    .dataframe thead th {\n",
       "        text-align: right;\n",
       "    }\n",
       "</style>\n",
       "<table border=\"1\" class=\"dataframe\">\n",
       "  <thead>\n",
       "    <tr style=\"text-align: right;\">\n",
       "      <th></th>\n",
       "      <th>pdf_name</th>\n",
       "      <th>polarity</th>\n",
       "    </tr>\n",
       "  </thead>\n",
       "  <tbody>\n",
       "    <tr>\n",
       "      <th>0</th>\n",
       "      <td>COMBINED-Q4-17-Shareholder-Letter-FINAL</td>\n",
       "      <td>0.2</td>\n",
       "    </tr>\n",
       "    <tr>\n",
       "      <th>1</th>\n",
       "      <td>FINAL-Q1-18-Shareholder-Letter</td>\n",
       "      <td>0.2</td>\n",
       "    </tr>\n",
       "    <tr>\n",
       "      <th>2</th>\n",
       "      <td>FINAL-Q1-19-Shareholder-Letter</td>\n",
       "      <td>0.2</td>\n",
       "    </tr>\n",
       "    <tr>\n",
       "      <th>3</th>\n",
       "      <td>FINAL-Q1-20-Shareholder-Letter</td>\n",
       "      <td>0.0</td>\n",
       "    </tr>\n",
       "    <tr>\n",
       "      <th>4</th>\n",
       "      <td>FINAL-Q1-21-Shareholder-Letter</td>\n",
       "      <td>0.1</td>\n",
       "    </tr>\n",
       "  </tbody>\n",
       "</table>\n",
       "</div>"
      ],
      "text/plain": [
       "                                  pdf_name  polarity\n",
       "0  COMBINED-Q4-17-Shareholder-Letter-FINAL       0.2\n",
       "1           FINAL-Q1-18-Shareholder-Letter       0.2\n",
       "2           FINAL-Q1-19-Shareholder-Letter       0.2\n",
       "3           FINAL-Q1-20-Shareholder-Letter       0.0\n",
       "4           FINAL-Q1-21-Shareholder-Letter       0.1"
      ]
     },
     "execution_count": 35,
     "metadata": {},
     "output_type": "execute_result"
    }
   ],
   "source": [
    "polarity_google.head()"
   ]
  },
  {
   "cell_type": "code",
   "execution_count": 36,
   "metadata": {},
   "outputs": [
    {
     "data": {
      "text/html": [
       "<div>\n",
       "<style scoped>\n",
       "    .dataframe tbody tr th:only-of-type {\n",
       "        vertical-align: middle;\n",
       "    }\n",
       "\n",
       "    .dataframe tbody tr th {\n",
       "        vertical-align: top;\n",
       "    }\n",
       "\n",
       "    .dataframe thead th {\n",
       "        text-align: right;\n",
       "    }\n",
       "</style>\n",
       "<table border=\"1\" class=\"dataframe\">\n",
       "  <thead>\n",
       "    <tr style=\"text-align: right;\">\n",
       "      <th></th>\n",
       "      <th>pdf_name</th>\n",
       "      <th>subjectivity</th>\n",
       "    </tr>\n",
       "  </thead>\n",
       "  <tbody>\n",
       "    <tr>\n",
       "      <th>0</th>\n",
       "      <td>COMBINED-Q4-17-Shareholder-Letter-FINAL</td>\n",
       "      <td>37.099998</td>\n",
       "    </tr>\n",
       "    <tr>\n",
       "      <th>1</th>\n",
       "      <td>FINAL-Q1-18-Shareholder-Letter</td>\n",
       "      <td>27.000000</td>\n",
       "    </tr>\n",
       "    <tr>\n",
       "      <th>2</th>\n",
       "      <td>FINAL-Q1-19-Shareholder-Letter</td>\n",
       "      <td>23.400000</td>\n",
       "    </tr>\n",
       "    <tr>\n",
       "      <th>3</th>\n",
       "      <td>FINAL-Q1-20-Shareholder-Letter</td>\n",
       "      <td>59.700001</td>\n",
       "    </tr>\n",
       "    <tr>\n",
       "      <th>4</th>\n",
       "      <td>FINAL-Q1-21-Shareholder-Letter</td>\n",
       "      <td>23.799999</td>\n",
       "    </tr>\n",
       "  </tbody>\n",
       "</table>\n",
       "</div>"
      ],
      "text/plain": [
       "                                  pdf_name  subjectivity\n",
       "0  COMBINED-Q4-17-Shareholder-Letter-FINAL     37.099998\n",
       "1           FINAL-Q1-18-Shareholder-Letter     27.000000\n",
       "2           FINAL-Q1-19-Shareholder-Letter     23.400000\n",
       "3           FINAL-Q1-20-Shareholder-Letter     59.700001\n",
       "4           FINAL-Q1-21-Shareholder-Letter     23.799999"
      ]
     },
     "execution_count": 36,
     "metadata": {},
     "output_type": "execute_result"
    }
   ],
   "source": [
    "subjectivity_google.head()"
   ]
  }
 ],
 "metadata": {
  "kernelspec": {
   "display_name": "Python 3",
   "language": "python",
   "name": "python3"
  },
  "language_info": {
   "codemirror_mode": {
    "name": "ipython",
    "version": 3
   },
   "file_extension": ".py",
   "mimetype": "text/x-python",
   "name": "python",
   "nbconvert_exporter": "python",
   "pygments_lexer": "ipython3",
   "version": "3.10.8"
  },
  "orig_nbformat": 4
 },
 "nbformat": 4,
 "nbformat_minor": 2
}
