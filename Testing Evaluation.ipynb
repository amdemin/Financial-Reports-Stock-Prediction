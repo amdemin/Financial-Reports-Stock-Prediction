{
 "cells": [
  {
   "cell_type": "code",
   "execution_count": 9,
   "metadata": {},
   "outputs": [],
   "source": [
    "# import libraries\n",
    "import pandas as pd\n",
    "import numpy as np"
   ]
  },
  {
   "cell_type": "code",
   "execution_count": 10,
   "metadata": {},
   "outputs": [],
   "source": [
    "# rates manually assigned to each report by Rachel\n",
    "manual_polarity = pd.read_excel('Src/manual_polarity.xlsx')"
   ]
  },
  {
   "cell_type": "markdown",
   "metadata": {},
   "source": [
    "### Open AI"
   ]
  },
  {
   "cell_type": "code",
   "execution_count": 17,
   "metadata": {},
   "outputs": [
    {
     "data": {
      "text/plain": [
       "0.25137971975486223"
      ]
     },
     "execution_count": 17,
     "metadata": {},
     "output_type": "execute_result"
    }
   ],
   "source": [
    "# read openai polarity scores\n",
    "openai_polarity = pd.read_csv('Scores/openai_polarity.csv')\n",
    "\n",
    "# merge two dataframes on the basis of tweet_id\n",
    "df = pd.merge(manual_polarity, openai_polarity, left_on='name', right_on=\"pdf_name\", how='inner')\n",
    "df.drop(['explanation'], axis=1, inplace=True)\n",
    "df[\"polarity_y\"] = df[\"polarity_y\"].apply(lambda x: 0.5 if x == \"Positive\" else x)\n",
    "df[\"polarity_y\"] = pd.to_numeric(df[\"polarity_y\"])\n",
    "df.dropna(inplace=True)\n",
    "df[\"polarity_y\"].corr(df[\"rate\"]) # find the correlation between OpenAI polarity and manual polarity"
   ]
  },
  {
   "cell_type": "markdown",
   "metadata": {},
   "source": [
    "### TextBlob"
   ]
  },
  {
   "cell_type": "code",
   "execution_count": 18,
   "metadata": {},
   "outputs": [
    {
     "data": {
      "text/plain": [
       "0.19554775742553324"
      ]
     },
     "execution_count": 18,
     "metadata": {},
     "output_type": "execute_result"
    }
   ],
   "source": [
    "# polarity_textblob = pd.read_csv('Scores/textblob_polarity_2.csv')\n",
    "polarity_textblob = pd.read_csv(\"Scores/polarity_textblob.csv\")\n",
    "\n",
    "df = pd.merge(manual_polarity, polarity_textblob, left_on='name', right_on=\"pdf_name\", how='inner')\n",
    "df.drop(['explanation'], axis=1, inplace=True)\n",
    "df[\"polarity_y\"] = df[\"polarity_y\"].apply(lambda x: 0.5 if x == \"Positive\" else x)\n",
    "df[\"polarity_y\"] = pd.to_numeric(df[\"polarity_y\"])\n",
    "df.dropna(inplace=True)\n",
    "df[\"polarity_y\"].corr(df[\"rate\"]) # find the correlation between TextBlob polarity and manual polarity"
   ]
  },
  {
   "cell_type": "code",
   "execution_count": 19,
   "metadata": {},
   "outputs": [
    {
     "data": {
      "text/html": [
       "<div>\n",
       "<style scoped>\n",
       "    .dataframe tbody tr th:only-of-type {\n",
       "        vertical-align: middle;\n",
       "    }\n",
       "\n",
       "    .dataframe tbody tr th {\n",
       "        vertical-align: top;\n",
       "    }\n",
       "\n",
       "    .dataframe thead th {\n",
       "        text-align: right;\n",
       "    }\n",
       "</style>\n",
       "<table border=\"1\" class=\"dataframe\">\n",
       "  <thead>\n",
       "    <tr style=\"text-align: right;\">\n",
       "      <th></th>\n",
       "      <th>name</th>\n",
       "      <th>rate</th>\n",
       "      <th>polarity_x</th>\n",
       "      <th>Unnamed: 0</th>\n",
       "      <th>pdf_name</th>\n",
       "      <th>polarity_y</th>\n",
       "    </tr>\n",
       "  </thead>\n",
       "  <tbody>\n",
       "    <tr>\n",
       "      <th>0</th>\n",
       "      <td>COMBINED-Q4-17-Shareholder-Letter-FINAL</td>\n",
       "      <td>0.70</td>\n",
       "      <td>1</td>\n",
       "      <td>0</td>\n",
       "      <td>COMBINED-Q4-17-Shareholder-Letter-FINAL</td>\n",
       "      <td>0.142138</td>\n",
       "    </tr>\n",
       "    <tr>\n",
       "      <th>1</th>\n",
       "      <td>FINAL_Q2_15_Letter_to_Shareholders_With_Tables_</td>\n",
       "      <td>0.60</td>\n",
       "      <td>1</td>\n",
       "      <td>22</td>\n",
       "      <td>FINAL_Q2_15_Letter_to_Shareholders_With_Tables_</td>\n",
       "      <td>0.118486</td>\n",
       "    </tr>\n",
       "    <tr>\n",
       "      <th>2</th>\n",
       "      <td>FINAL_Q3_15_Letter_to_Shareholders_With_Tables_</td>\n",
       "      <td>0.55</td>\n",
       "      <td>0</td>\n",
       "      <td>23</td>\n",
       "      <td>FINAL_Q3_15_Letter_to_Shareholders_With_Tables_</td>\n",
       "      <td>0.098871</td>\n",
       "    </tr>\n",
       "    <tr>\n",
       "      <th>3</th>\n",
       "      <td>FINAL_Q3_Letter</td>\n",
       "      <td>0.60</td>\n",
       "      <td>1</td>\n",
       "      <td>24</td>\n",
       "      <td>FINAL_Q3_Letter</td>\n",
       "      <td>0.110256</td>\n",
       "    </tr>\n",
       "    <tr>\n",
       "      <th>4</th>\n",
       "      <td>FINAL-Q1-18-Shareholder-Letter</td>\n",
       "      <td>0.70</td>\n",
       "      <td>1</td>\n",
       "      <td>1</td>\n",
       "      <td>FINAL-Q1-18-Shareholder-Letter</td>\n",
       "      <td>0.106489</td>\n",
       "    </tr>\n",
       "  </tbody>\n",
       "</table>\n",
       "</div>"
      ],
      "text/plain": [
       "                                              name  rate  polarity_x  \\\n",
       "0          COMBINED-Q4-17-Shareholder-Letter-FINAL  0.70           1   \n",
       "1  FINAL_Q2_15_Letter_to_Shareholders_With_Tables_  0.60           1   \n",
       "2  FINAL_Q3_15_Letter_to_Shareholders_With_Tables_  0.55           0   \n",
       "3                                  FINAL_Q3_Letter  0.60           1   \n",
       "4                   FINAL-Q1-18-Shareholder-Letter  0.70           1   \n",
       "\n",
       "   Unnamed: 0                                         pdf_name  polarity_y  \n",
       "0           0          COMBINED-Q4-17-Shareholder-Letter-FINAL    0.142138  \n",
       "1          22  FINAL_Q2_15_Letter_to_Shareholders_With_Tables_    0.118486  \n",
       "2          23  FINAL_Q3_15_Letter_to_Shareholders_With_Tables_    0.098871  \n",
       "3          24                                  FINAL_Q3_Letter    0.110256  \n",
       "4           1                   FINAL-Q1-18-Shareholder-Letter    0.106489  "
      ]
     },
     "execution_count": 19,
     "metadata": {},
     "output_type": "execute_result"
    }
   ],
   "source": [
    "df.head()"
   ]
  },
  {
   "cell_type": "code",
   "execution_count": 20,
   "metadata": {},
   "outputs": [
    {
     "name": "stdout",
     "output_type": "stream",
     "text": [
      "                                 OLS Regression Results                                \n",
      "=======================================================================================\n",
      "Dep. Variable:                   rate   R-squared (uncentered):                   0.957\n",
      "Model:                            OLS   Adj. R-squared (uncentered):              0.956\n",
      "Method:                 Least Squares   F-statistic:                              949.8\n",
      "Date:                Fri, 18 Aug 2023   Prob (F-statistic):                    6.01e-31\n",
      "Time:                        17:06:38   Log-Likelihood:                          25.969\n",
      "No. Observations:                  44   AIC:                                     -49.94\n",
      "Df Residuals:                      43   BIC:                                     -48.15\n",
      "Df Model:                           1                                                  \n",
      "Covariance Type:            nonrobust                                                  \n",
      "==============================================================================\n",
      "                 coef    std err          t      P>|t|      [0.025      0.975]\n",
      "------------------------------------------------------------------------------\n",
      "polarity_y     5.0742      0.165     30.819      0.000       4.742       5.406\n",
      "==============================================================================\n",
      "Omnibus:                        4.529   Durbin-Watson:                   1.458\n",
      "Prob(Omnibus):                  0.104   Jarque-Bera (JB):                4.185\n",
      "Skew:                           0.291   Prob(JB):                        0.123\n",
      "Kurtosis:                       4.395   Cond. No.                         1.00\n",
      "==============================================================================\n",
      "\n",
      "Notes:\n",
      "[1] R² is computed without centering (uncentered) since the model does not contain a constant.\n",
      "[2] Standard Errors assume that the covariance matrix of the errors is correctly specified.\n"
     ]
    }
   ],
   "source": [
    "import statsmodels.api as sm\n",
    "\n",
    "x = df[['polarity_y']]\n",
    "y = df['rate']\n",
    "\n",
    "# x = sm.add_constant(x)\n",
    "\n",
    "model = sm.OLS(y, x).fit()\n",
    "predictions = model.predict(x) \n",
    "\n",
    "print_model = model.summary()\n",
    "print(print_model)"
   ]
  },
  {
   "cell_type": "markdown",
   "metadata": {},
   "source": [
    "### Amazon"
   ]
  },
  {
   "cell_type": "code",
   "execution_count": 21,
   "metadata": {},
   "outputs": [
    {
     "data": {
      "text/plain": [
       "-0.030976010219981146"
      ]
     },
     "execution_count": 21,
     "metadata": {},
     "output_type": "execute_result"
    }
   ],
   "source": [
    "polarity_amazon = pd.read_csv('Scores/amazon_polarity.csv')\n",
    "\n",
    "df = pd.merge(manual_polarity, polarity_amazon, left_on='name', right_on=\"pdf_name\", how='inner')\n",
    "df.drop(['explanation'], axis=1, inplace=True)\n",
    "df[\"polarity_y\"] = df[\"polarity_y\"].apply(lambda x: 0.5 if x == \"Positive\" else x)\n",
    "df[\"polarity_y\"] = pd.to_numeric(df[\"polarity_y\"])\n",
    "df.dropna(inplace=True)\n",
    "df[\"polarity_y\"].corr(df[\"rate\"])"
   ]
  },
  {
   "cell_type": "code",
   "execution_count": 62,
   "metadata": {},
   "outputs": [
    {
     "data": {
      "text/html": [
       "<div>\n",
       "<style scoped>\n",
       "    .dataframe tbody tr th:only-of-type {\n",
       "        vertical-align: middle;\n",
       "    }\n",
       "\n",
       "    .dataframe tbody tr th {\n",
       "        vertical-align: top;\n",
       "    }\n",
       "\n",
       "    .dataframe thead th {\n",
       "        text-align: right;\n",
       "    }\n",
       "</style>\n",
       "<table border=\"1\" class=\"dataframe\">\n",
       "  <thead>\n",
       "    <tr style=\"text-align: right;\">\n",
       "      <th></th>\n",
       "      <th>name</th>\n",
       "      <th>rate</th>\n",
       "      <th>polarity_x</th>\n",
       "      <th>pdf_name</th>\n",
       "      <th>polarity_y</th>\n",
       "    </tr>\n",
       "  </thead>\n",
       "  <tbody>\n",
       "    <tr>\n",
       "      <th>0</th>\n",
       "      <td>COMBINED-Q4-17-Shareholder-Letter-FINAL</td>\n",
       "      <td>0.70</td>\n",
       "      <td>1</td>\n",
       "      <td>COMBINED-Q4-17-Shareholder-Letter-FINAL</td>\n",
       "      <td>0.883941</td>\n",
       "    </tr>\n",
       "    <tr>\n",
       "      <th>1</th>\n",
       "      <td>FINAL_Q2_15_Letter_to_Shareholders_With_Tables_</td>\n",
       "      <td>0.60</td>\n",
       "      <td>1</td>\n",
       "      <td>FINAL_Q2_15_Letter_to_Shareholders_With_Tables_</td>\n",
       "      <td>0.897385</td>\n",
       "    </tr>\n",
       "    <tr>\n",
       "      <th>2</th>\n",
       "      <td>FINAL_Q3_15_Letter_to_Shareholders_With_Tables_</td>\n",
       "      <td>0.55</td>\n",
       "      <td>0</td>\n",
       "      <td>FINAL_Q3_15_Letter_to_Shareholders_With_Tables_</td>\n",
       "      <td>0.867095</td>\n",
       "    </tr>\n",
       "    <tr>\n",
       "      <th>3</th>\n",
       "      <td>FINAL_Q3_Letter</td>\n",
       "      <td>0.60</td>\n",
       "      <td>1</td>\n",
       "      <td>FINAL_Q3_Letter</td>\n",
       "      <td>0.881112</td>\n",
       "    </tr>\n",
       "    <tr>\n",
       "      <th>4</th>\n",
       "      <td>FINAL-Q1-18-Shareholder-Letter</td>\n",
       "      <td>0.70</td>\n",
       "      <td>1</td>\n",
       "      <td>FINAL-Q1-18-Shareholder-Letter</td>\n",
       "      <td>0.870285</td>\n",
       "    </tr>\n",
       "  </tbody>\n",
       "</table>\n",
       "</div>"
      ],
      "text/plain": [
       "                                              name  rate  polarity_x  \\\n",
       "0          COMBINED-Q4-17-Shareholder-Letter-FINAL  0.70           1   \n",
       "1  FINAL_Q2_15_Letter_to_Shareholders_With_Tables_  0.60           1   \n",
       "2  FINAL_Q3_15_Letter_to_Shareholders_With_Tables_  0.55           0   \n",
       "3                                  FINAL_Q3_Letter  0.60           1   \n",
       "4                   FINAL-Q1-18-Shareholder-Letter  0.70           1   \n",
       "\n",
       "                                          pdf_name  polarity_y  \n",
       "0          COMBINED-Q4-17-Shareholder-Letter-FINAL    0.883941  \n",
       "1  FINAL_Q2_15_Letter_to_Shareholders_With_Tables_    0.897385  \n",
       "2  FINAL_Q3_15_Letter_to_Shareholders_With_Tables_    0.867095  \n",
       "3                                  FINAL_Q3_Letter    0.881112  \n",
       "4                   FINAL-Q1-18-Shareholder-Letter    0.870285  "
      ]
     },
     "execution_count": 62,
     "metadata": {},
     "output_type": "execute_result"
    }
   ],
   "source": [
    "df.head()"
   ]
  },
  {
   "cell_type": "code",
   "execution_count": 22,
   "metadata": {},
   "outputs": [
    {
     "name": "stdout",
     "output_type": "stream",
     "text": [
      "                                 OLS Regression Results                                \n",
      "=======================================================================================\n",
      "Dep. Variable:                   rate   R-squared (uncentered):                   0.983\n",
      "Model:                            OLS   Adj. R-squared (uncentered):              0.982\n",
      "Method:                 Least Squares   F-statistic:                              2016.\n",
      "Date:                Fri, 18 Aug 2023   Prob (F-statistic):                    1.56e-32\n",
      "Time:                        17:06:46   Log-Likelihood:                          37.822\n",
      "No. Observations:                  36   AIC:                                     -73.64\n",
      "Df Residuals:                      35   BIC:                                     -72.06\n",
      "Df Model:                           1                                                  \n",
      "Covariance Type:            nonrobust                                                  \n",
      "==============================================================================\n",
      "                 coef    std err          t      P>|t|      [0.025      0.975]\n",
      "------------------------------------------------------------------------------\n",
      "polarity_y     0.7464      0.017     44.901      0.000       0.713       0.780\n",
      "==============================================================================\n",
      "Omnibus:                        6.093   Durbin-Watson:                   1.139\n",
      "Prob(Omnibus):                  0.048   Jarque-Bera (JB):                4.734\n",
      "Skew:                          -0.664   Prob(JB):                       0.0938\n",
      "Kurtosis:                       4.180   Cond. No.                         1.00\n",
      "==============================================================================\n",
      "\n",
      "Notes:\n",
      "[1] R² is computed without centering (uncentered) since the model does not contain a constant.\n",
      "[2] Standard Errors assume that the covariance matrix of the errors is correctly specified.\n"
     ]
    }
   ],
   "source": [
    "import statsmodels.api as sm\n",
    "\n",
    "x = df[['polarity_y']]\n",
    "y = df['rate']\n",
    "\n",
    "# x = sm.add_constant(x)\n",
    "\n",
    "model = sm.OLS(y, x).fit()\n",
    "predictions = model.predict(x) \n",
    "\n",
    "print_model = model.summary()\n",
    "print(print_model)"
   ]
  },
  {
   "cell_type": "markdown",
   "metadata": {},
   "source": [
    "### Google "
   ]
  },
  {
   "cell_type": "code",
   "execution_count": 23,
   "metadata": {},
   "outputs": [
    {
     "data": {
      "text/plain": [
       "0.4029289956880446"
      ]
     },
     "execution_count": 23,
     "metadata": {},
     "output_type": "execute_result"
    }
   ],
   "source": [
    "polarity_google = pd.read_csv('Scores/google_polarity.csv')\n",
    "\n",
    "df = pd.merge(manual_polarity, polarity_google, left_on='name', right_on=\"pdf_name\", how='inner')\n",
    "df.drop(['explanation'], axis=1, inplace=True)\n",
    "df[\"polarity_y\"] = df[\"polarity_y\"].apply(lambda x: 0.5 if x == \"Positive\" else x)\n",
    "df[\"polarity_y\"] = pd.to_numeric(df[\"polarity_y\"])\n",
    "df.dropna(inplace=True)\n",
    "df[\"polarity_y\"].corr(df[\"rate\"])"
   ]
  },
  {
   "cell_type": "code",
   "execution_count": 24,
   "metadata": {},
   "outputs": [
    {
     "data": {
      "text/html": [
       "<div>\n",
       "<style scoped>\n",
       "    .dataframe tbody tr th:only-of-type {\n",
       "        vertical-align: middle;\n",
       "    }\n",
       "\n",
       "    .dataframe tbody tr th {\n",
       "        vertical-align: top;\n",
       "    }\n",
       "\n",
       "    .dataframe thead th {\n",
       "        text-align: right;\n",
       "    }\n",
       "</style>\n",
       "<table border=\"1\" class=\"dataframe\">\n",
       "  <thead>\n",
       "    <tr style=\"text-align: right;\">\n",
       "      <th></th>\n",
       "      <th>name</th>\n",
       "      <th>rate</th>\n",
       "      <th>polarity_x</th>\n",
       "      <th>pdf_name</th>\n",
       "      <th>polarity_y</th>\n",
       "    </tr>\n",
       "  </thead>\n",
       "  <tbody>\n",
       "    <tr>\n",
       "      <th>0</th>\n",
       "      <td>COMBINED-Q4-17-Shareholder-Letter-FINAL</td>\n",
       "      <td>0.70</td>\n",
       "      <td>1</td>\n",
       "      <td>COMBINED-Q4-17-Shareholder-Letter-FINAL</td>\n",
       "      <td>0.2</td>\n",
       "    </tr>\n",
       "    <tr>\n",
       "      <th>1</th>\n",
       "      <td>FINAL_Q2_15_Letter_to_Shareholders_With_Tables_</td>\n",
       "      <td>0.60</td>\n",
       "      <td>1</td>\n",
       "      <td>FINAL_Q2_15_Letter_to_Shareholders_With_Tables_</td>\n",
       "      <td>0.2</td>\n",
       "    </tr>\n",
       "    <tr>\n",
       "      <th>2</th>\n",
       "      <td>FINAL_Q3_15_Letter_to_Shareholders_With_Tables_</td>\n",
       "      <td>0.55</td>\n",
       "      <td>0</td>\n",
       "      <td>FINAL_Q3_15_Letter_to_Shareholders_With_Tables_</td>\n",
       "      <td>0.1</td>\n",
       "    </tr>\n",
       "    <tr>\n",
       "      <th>3</th>\n",
       "      <td>FINAL_Q3_Letter</td>\n",
       "      <td>0.60</td>\n",
       "      <td>1</td>\n",
       "      <td>FINAL_Q3_Letter</td>\n",
       "      <td>0.2</td>\n",
       "    </tr>\n",
       "    <tr>\n",
       "      <th>4</th>\n",
       "      <td>FINAL-Q1-18-Shareholder-Letter</td>\n",
       "      <td>0.70</td>\n",
       "      <td>1</td>\n",
       "      <td>FINAL-Q1-18-Shareholder-Letter</td>\n",
       "      <td>0.2</td>\n",
       "    </tr>\n",
       "  </tbody>\n",
       "</table>\n",
       "</div>"
      ],
      "text/plain": [
       "                                              name  rate  polarity_x  \\\n",
       "0          COMBINED-Q4-17-Shareholder-Letter-FINAL  0.70           1   \n",
       "1  FINAL_Q2_15_Letter_to_Shareholders_With_Tables_  0.60           1   \n",
       "2  FINAL_Q3_15_Letter_to_Shareholders_With_Tables_  0.55           0   \n",
       "3                                  FINAL_Q3_Letter  0.60           1   \n",
       "4                   FINAL-Q1-18-Shareholder-Letter  0.70           1   \n",
       "\n",
       "                                          pdf_name  polarity_y  \n",
       "0          COMBINED-Q4-17-Shareholder-Letter-FINAL         0.2  \n",
       "1  FINAL_Q2_15_Letter_to_Shareholders_With_Tables_         0.2  \n",
       "2  FINAL_Q3_15_Letter_to_Shareholders_With_Tables_         0.1  \n",
       "3                                  FINAL_Q3_Letter         0.2  \n",
       "4                   FINAL-Q1-18-Shareholder-Letter         0.2  "
      ]
     },
     "execution_count": 24,
     "metadata": {},
     "output_type": "execute_result"
    }
   ],
   "source": [
    "df.head()"
   ]
  },
  {
   "cell_type": "code",
   "execution_count": 25,
   "metadata": {},
   "outputs": [
    {
     "name": "stdout",
     "output_type": "stream",
     "text": [
      "                                 OLS Regression Results                                \n",
      "=======================================================================================\n",
      "Dep. Variable:                   rate   R-squared (uncentered):                   0.843\n",
      "Model:                            OLS   Adj. R-squared (uncentered):              0.839\n",
      "Method:                 Least Squares   F-statistic:                              230.8\n",
      "Date:                Fri, 18 Aug 2023   Prob (F-statistic):                    6.83e-19\n",
      "Time:                        17:06:52   Log-Likelihood:                         -2.3742\n",
      "No. Observations:                  44   AIC:                                      6.748\n",
      "Df Residuals:                      43   BIC:                                      8.533\n",
      "Df Model:                           1                                                  \n",
      "Covariance Type:            nonrobust                                                  \n",
      "==============================================================================\n",
      "                 coef    std err          t      P>|t|      [0.025      0.975]\n",
      "------------------------------------------------------------------------------\n",
      "polarity_y     3.9845      0.262     15.191      0.000       3.456       4.514\n",
      "==============================================================================\n",
      "Omnibus:                        0.170   Durbin-Watson:                   1.580\n",
      "Prob(Omnibus):                  0.918   Jarque-Bera (JB):                0.304\n",
      "Skew:                          -0.131   Prob(JB):                        0.859\n",
      "Kurtosis:                       2.688   Cond. No.                         1.00\n",
      "==============================================================================\n",
      "\n",
      "Notes:\n",
      "[1] R² is computed without centering (uncentered) since the model does not contain a constant.\n",
      "[2] Standard Errors assume that the covariance matrix of the errors is correctly specified.\n"
     ]
    }
   ],
   "source": [
    "import statsmodels.api as sm\n",
    "\n",
    "x = df[['polarity_y']]\n",
    "y = df['rate']\n",
    "\n",
    "# x = sm.add_constant(x)\n",
    "\n",
    "model = sm.OLS(y, x).fit()\n",
    "predictions = model.predict(x) \n",
    "\n",
    "print_model = model.summary()\n",
    "print(print_model)"
   ]
  },
  {
   "cell_type": "markdown",
   "metadata": {},
   "source": [
    "### BART "
   ]
  },
  {
   "cell_type": "code",
   "execution_count": 26,
   "metadata": {},
   "outputs": [
    {
     "data": {
      "text/plain": [
       "0.22400821489739678"
      ]
     },
     "execution_count": 26,
     "metadata": {},
     "output_type": "execute_result"
    }
   ],
   "source": [
    "polarity_bart = pd.read_csv('Src/bart_positive_sentiment_probs.csv')\n",
    "\n",
    "df = pd.merge(manual_polarity, polarity_bart, left_on='name', right_on=\"pdf_name\", how='inner')\n",
    "df.drop(['explanation'], axis=1, inplace=True)\n",
    "df[\"positive_sentiment_prob\"] = df[\"positive_sentiment_prob\"].apply(lambda x: 0.5 if x == \"Positive\" else x)\n",
    "df[\"positive_sentiment_prob\"] = pd.to_numeric(df[\"positive_sentiment_prob\"])\n",
    "df.dropna(inplace=True)\n",
    "df[\"positive_sentiment_prob\"].corr(df[\"rate\"])"
   ]
  },
  {
   "cell_type": "code",
   "execution_count": 27,
   "metadata": {},
   "outputs": [
    {
     "data": {
      "text/html": [
       "<div>\n",
       "<style scoped>\n",
       "    .dataframe tbody tr th:only-of-type {\n",
       "        vertical-align: middle;\n",
       "    }\n",
       "\n",
       "    .dataframe tbody tr th {\n",
       "        vertical-align: top;\n",
       "    }\n",
       "\n",
       "    .dataframe thead th {\n",
       "        text-align: right;\n",
       "    }\n",
       "</style>\n",
       "<table border=\"1\" class=\"dataframe\">\n",
       "  <thead>\n",
       "    <tr style=\"text-align: right;\">\n",
       "      <th></th>\n",
       "      <th>name</th>\n",
       "      <th>rate</th>\n",
       "      <th>polarity</th>\n",
       "      <th>pdf_name</th>\n",
       "      <th>positive_sentiment_prob</th>\n",
       "    </tr>\n",
       "  </thead>\n",
       "  <tbody>\n",
       "    <tr>\n",
       "      <th>0</th>\n",
       "      <td>COMBINED-Q4-17-Shareholder-Letter-FINAL</td>\n",
       "      <td>0.70</td>\n",
       "      <td>1</td>\n",
       "      <td>COMBINED-Q4-17-Shareholder-Letter-FINAL</td>\n",
       "      <td>0.538636</td>\n",
       "    </tr>\n",
       "    <tr>\n",
       "      <th>1</th>\n",
       "      <td>FINAL_Q2_15_Letter_to_Shareholders_With_Tables_</td>\n",
       "      <td>0.60</td>\n",
       "      <td>1</td>\n",
       "      <td>FINAL_Q2_15_Letter_to_Shareholders_With_Tables_</td>\n",
       "      <td>0.539246</td>\n",
       "    </tr>\n",
       "    <tr>\n",
       "      <th>2</th>\n",
       "      <td>FINAL_Q3_15_Letter_to_Shareholders_With_Tables_</td>\n",
       "      <td>0.55</td>\n",
       "      <td>0</td>\n",
       "      <td>FINAL_Q3_15_Letter_to_Shareholders_With_Tables_</td>\n",
       "      <td>0.539036</td>\n",
       "    </tr>\n",
       "    <tr>\n",
       "      <th>3</th>\n",
       "      <td>FINAL_Q3_Letter</td>\n",
       "      <td>0.60</td>\n",
       "      <td>1</td>\n",
       "      <td>FINAL_Q3_Letter</td>\n",
       "      <td>0.539802</td>\n",
       "    </tr>\n",
       "    <tr>\n",
       "      <th>4</th>\n",
       "      <td>FINAL-Q1-18-Shareholder-Letter</td>\n",
       "      <td>0.70</td>\n",
       "      <td>1</td>\n",
       "      <td>FINAL-Q1-18-Shareholder-Letter</td>\n",
       "      <td>0.539028</td>\n",
       "    </tr>\n",
       "  </tbody>\n",
       "</table>\n",
       "</div>"
      ],
      "text/plain": [
       "                                              name  rate  polarity  \\\n",
       "0          COMBINED-Q4-17-Shareholder-Letter-FINAL  0.70         1   \n",
       "1  FINAL_Q2_15_Letter_to_Shareholders_With_Tables_  0.60         1   \n",
       "2  FINAL_Q3_15_Letter_to_Shareholders_With_Tables_  0.55         0   \n",
       "3                                  FINAL_Q3_Letter  0.60         1   \n",
       "4                   FINAL-Q1-18-Shareholder-Letter  0.70         1   \n",
       "\n",
       "                                          pdf_name  positive_sentiment_prob  \n",
       "0          COMBINED-Q4-17-Shareholder-Letter-FINAL                 0.538636  \n",
       "1  FINAL_Q2_15_Letter_to_Shareholders_With_Tables_                 0.539246  \n",
       "2  FINAL_Q3_15_Letter_to_Shareholders_With_Tables_                 0.539036  \n",
       "3                                  FINAL_Q3_Letter                 0.539802  \n",
       "4                   FINAL-Q1-18-Shareholder-Letter                 0.539028  "
      ]
     },
     "execution_count": 27,
     "metadata": {},
     "output_type": "execute_result"
    }
   ],
   "source": [
    "df.head()"
   ]
  }
 ],
 "metadata": {
  "kernelspec": {
   "display_name": "Python 3",
   "language": "python",
   "name": "python3"
  },
  "language_info": {
   "codemirror_mode": {
    "name": "ipython",
    "version": 3
   },
   "file_extension": ".py",
   "mimetype": "text/x-python",
   "name": "python",
   "nbconvert_exporter": "python",
   "pygments_lexer": "ipython3",
   "version": "3.10.8"
  },
  "orig_nbformat": 4
 },
 "nbformat": 4,
 "nbformat_minor": 2
}
