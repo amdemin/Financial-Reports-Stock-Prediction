{
 "cells": [
  {
   "cell_type": "code",
   "execution_count": 211,
   "metadata": {},
   "outputs": [],
   "source": [
    "# import libraries\n",
    "import pandas as pd\n",
    "import numpy as np\n",
    "\n",
    "from sklearn.metrics import r2_score\n",
    "from sklearn.metrics import mean_squared_error\n",
    "from sklearn.metrics import mean_absolute_error\n",
    "\n",
    "from sklearn.preprocessing import MinMaxScaler\n",
    "from sklearn.preprocessing import StandardScaler"
   ]
  },
  {
   "cell_type": "code",
   "execution_count": 1,
   "metadata": {},
   "outputs": [
    {
     "ename": "NameError",
     "evalue": "name 'pd' is not defined",
     "output_type": "error",
     "traceback": [
      "\u001b[1;31m---------------------------------------------------------------------------\u001b[0m",
      "\u001b[1;31mNameError\u001b[0m                                 Traceback (most recent call last)",
      "Cell \u001b[1;32mIn[1], line 2\u001b[0m\n\u001b[0;32m      1\u001b[0m \u001b[39m# rates manually assigned to each shareholder letter\u001b[39;00m\n\u001b[1;32m----> 2\u001b[0m manual_polarity \u001b[39m=\u001b[39m pd\u001b[39m.\u001b[39mread_excel(\u001b[39m'\u001b[39m\u001b[39mSrc/Manual_Scores.xlsx\u001b[39m\u001b[39m'\u001b[39m)\n",
      "\u001b[1;31mNameError\u001b[0m: name 'pd' is not defined"
     ]
    }
   ],
   "source": [
    "# rates manually assigned to each shareholder letter\n",
    "manual_polarity = pd.read_excel('Src/Manual_Scores.xlsx')"
   ]
  },
  {
   "cell_type": "code",
   "execution_count": 193,
   "metadata": {},
   "outputs": [
    {
     "data": {
      "text/html": [
       "<div>\n",
       "<style scoped>\n",
       "    .dataframe tbody tr th:only-of-type {\n",
       "        vertical-align: middle;\n",
       "    }\n",
       "\n",
       "    .dataframe tbody tr th {\n",
       "        vertical-align: top;\n",
       "    }\n",
       "\n",
       "    .dataframe thead th {\n",
       "        text-align: right;\n",
       "    }\n",
       "</style>\n",
       "<table border=\"1\" class=\"dataframe\">\n",
       "  <thead>\n",
       "    <tr style=\"text-align: right;\">\n",
       "      <th></th>\n",
       "      <th>ReportName</th>\n",
       "      <th>MyReportName</th>\n",
       "      <th>AverageManualScore</th>\n",
       "    </tr>\n",
       "  </thead>\n",
       "  <tbody>\n",
       "    <tr>\n",
       "      <th>0</th>\n",
       "      <td>COMBINED-Q4-17-Shareholder-Letter-FINAL</td>\n",
       "      <td>COMBINED-Q4-17-Shareholder-Letter-FINAL</td>\n",
       "      <td>0.600000</td>\n",
       "    </tr>\n",
       "    <tr>\n",
       "      <th>1</th>\n",
       "      <td>FINAL_Q2_15_Letter_to_Shareholders_With_Tables_</td>\n",
       "      <td>FINAL_Q2_15_Letter_to_Shareholders_With_Tables_</td>\n",
       "      <td>0.333333</td>\n",
       "    </tr>\n",
       "    <tr>\n",
       "      <th>2</th>\n",
       "      <td>FINAL_Q3_15_Letter_to_Shareholders_With_Tables_</td>\n",
       "      <td>FINAL_Q3_15_Letter_to_Shareholders_With_Tables_</td>\n",
       "      <td>0.166667</td>\n",
       "    </tr>\n",
       "    <tr>\n",
       "      <th>3</th>\n",
       "      <td>FINAL_Q3_Letter</td>\n",
       "      <td>FINAL_Q3_Letter</td>\n",
       "      <td>0.483333</td>\n",
       "    </tr>\n",
       "    <tr>\n",
       "      <th>4</th>\n",
       "      <td>FINAL-Q1-18-Shareholder-Letter</td>\n",
       "      <td>FINAL-Q1-18-Shareholder-Letter</td>\n",
       "      <td>0.500000</td>\n",
       "    </tr>\n",
       "  </tbody>\n",
       "</table>\n",
       "</div>"
      ],
      "text/plain": [
       "                                        ReportName  \\\n",
       "0          COMBINED-Q4-17-Shareholder-Letter-FINAL   \n",
       "1  FINAL_Q2_15_Letter_to_Shareholders_With_Tables_   \n",
       "2  FINAL_Q3_15_Letter_to_Shareholders_With_Tables_   \n",
       "3                                  FINAL_Q3_Letter   \n",
       "4                   FINAL-Q1-18-Shareholder-Letter   \n",
       "\n",
       "                                      MyReportName  AverageManualScore  \n",
       "0          COMBINED-Q4-17-Shareholder-Letter-FINAL            0.600000  \n",
       "1  FINAL_Q2_15_Letter_to_Shareholders_With_Tables_            0.333333  \n",
       "2  FINAL_Q3_15_Letter_to_Shareholders_With_Tables_            0.166667  \n",
       "3                                  FINAL_Q3_Letter            0.483333  \n",
       "4                   FINAL-Q1-18-Shareholder-Letter            0.500000  "
      ]
     },
     "execution_count": 193,
     "metadata": {},
     "output_type": "execute_result"
    }
   ],
   "source": [
    "manual_polarity.head()"
   ]
  },
  {
   "cell_type": "code",
   "execution_count": 209,
   "metadata": {},
   "outputs": [
    {
     "name": "stdout",
     "output_type": "stream",
     "text": [
      "TextBlob Results:\n",
      "Correlation between TextBlob polarity and manual polarity:  0.1938667056272002\n",
      "MAE: 0.17062031608790346\n",
      "MSE: 0.04329156851574009\n",
      " \n",
      "Amazon Results:\n",
      "Correlation between Amazon polarity and manual polarity:  -0.0019645297253857233\n",
      "MAE: 0.1850452771179042\n",
      "MSE: 0.06256966925207241\n",
      " \n",
      "Google Results:\n",
      "Correlation between Google polarity and manual polarity:  0.4822743596641784\n",
      "MAE: 0.1452222257449557\n",
      "MSE: 0.03288487713266478\n",
      " \n",
      "OpenAI Results:\n",
      "Correlation between OpenAI polarity and manual polarity:  0.45084574312574344\n",
      "MAE: 0.15056689342578236\n",
      "MSE: 0.045976631392369016\n",
      " \n"
     ]
    }
   ],
   "source": [
    "models_dict = {\n",
    "    'TextBlob': \"Scores/textblob_polarity.csv\",\n",
    "    'Amazon': \"Scores/amazon_polarity.csv\",\n",
    "    'Google': \"Scores/google_polarity.csv\",\n",
    "    'OpenAI': \"Scores/OpenAI.csv\",\n",
    "}\n",
    "\n",
    "for model, path in models_dict.items():\n",
    "\n",
    "    print(f\"{model} Results:\")\n",
    "    \n",
    "    df = pd.read_csv(path)\n",
    "    df = pd.merge(manual_polarity, df, left_on='MyReportName', right_on=\"pdf_name\", how='inner')\n",
    "    df[\"polarity\"] = pd.to_numeric(df[\"polarity\"])\n",
    "    df.dropna(inplace=True)\n",
    "\n",
    "    # apply min max scaling to the polarity scores\n",
    "    scaler = MinMaxScaler(feature_range=(df.AverageManualScore.min(), df.AverageManualScore.max()))\n",
    "    df['predicted_scaled_scores'] = scaler.fit_transform(df[['polarity']])\n",
    "    # calculate the error metrics\n",
    "    predicted = df[\"predicted_scaled_scores\"]\n",
    "    actual = df[\"AverageManualScore\"]\n",
    "\n",
    "    mae = mean_absolute_error(actual, predicted)\n",
    "    mse = mean_squared_error(actual, predicted)\n",
    "    corr_rate = np.corrcoef(actual, predicted)[0, 1]\n",
    "\n",
    "    print(f\"Correlation between {model} polarity and manual polarity: \", corr_rate)\n",
    "    print(\"MAE:\", mae)\n",
    "    print(\"MSE:\", mse)\n",
    "    print(\" \")"
   ]
  },
  {
   "cell_type": "markdown",
   "metadata": {},
   "source": [
    "### Separate Analysis"
   ]
  },
  {
   "cell_type": "markdown",
   "metadata": {},
   "source": [
    "### Open AI"
   ]
  },
  {
   "cell_type": "code",
   "execution_count": 194,
   "metadata": {},
   "outputs": [
    {
     "data": {
      "text/plain": [
       "(49, 5)"
      ]
     },
     "execution_count": 194,
     "metadata": {},
     "output_type": "execute_result"
    }
   ],
   "source": [
    "# read openai polarity scores\n",
    "# openai_polarity = pd.read_csv('Scores/openai_polarity.csv')\n",
    "openai_polarity = pd.read_csv('Scores/OpenAI.csv')\n",
    "# merge two dataframes on the basis of tweet_id\n",
    "df = pd.merge(manual_polarity, openai_polarity, left_on='MyReportName', right_on=\"Report\", how='inner')\n",
    "# df[\"polarity\"] = df[\"polarity\"].apply(lambda x: 0.65 if x == \"Positive\" else x)\n",
    "# df[\"polarity\"] = df[\"polarity\"].apply(lambda x: 0.60 if x == \"Slightly positive\" else x)\n",
    "df[\"polarity\"] = pd.to_numeric(df[\"polarity\"])\n",
    "df.dropna(inplace=True)\n",
    "corr_rate = df[\"polarity\"].corr(df[\"AverageManualScore\"]) # find the correlation between OpenAI polarity and manual polarity\n",
    "df.shape"
   ]
  },
  {
   "cell_type": "code",
   "execution_count": 195,
   "metadata": {},
   "outputs": [
    {
     "name": "stdout",
     "output_type": "stream",
     "text": [
      "MAE: 0.15056689342578236\n",
      "MSE: 0.045976631392369016\n",
      "Correlation between OpenAI polarity and manual polarity:  0.4508457431257436\n"
     ]
    }
   ],
   "source": [
    "# apply min max scaling to the polarity scores\n",
    "scaler = MinMaxScaler(feature_range=(df.AverageManualScore.min(), df.AverageManualScore.max()))\n",
    "df['predicted_scaled_scores'] = scaler.fit_transform(df[['polarity']])\n",
    "\n",
    "# Calculate the mean of the actual values\n",
    "predicted = df[\"predicted_scaled_scores\"]\n",
    "actual = df[\"AverageManualScore\"]\n",
    "\n",
    "mae = mean_absolute_error(actual, predicted)\n",
    "mse = mean_squared_error(actual, predicted)\n",
    "\n",
    "print(\"MAE:\", mae) # 0.2307 (with StandardScaler 0.886)\n",
    "print(\"MSE:\", mse) # 0.1022 (with MSE 1.14)\n",
    "print(\"Correlation between OpenAI polarity and manual polarity: \", corr_rate)"
   ]
  },
  {
   "cell_type": "markdown",
   "metadata": {},
   "source": [
    "### TextBlob"
   ]
  },
  {
   "cell_type": "code",
   "execution_count": 177,
   "metadata": {},
   "outputs": [],
   "source": [
    "textblob_polarity = pd.read_csv(\"Scores/textblob_polarity.csv\")\n",
    "\n",
    "df = pd.merge(manual_polarity, textblob_polarity, left_on='Report', right_on=\"pdf_name\", how='inner')\n",
    "df[\"polarity\"] = pd.to_numeric(df[\"polarity\"])\n",
    "df.dropna(inplace=True)\n",
    "corr_rate = df[\"polarity\"].corr(df[\"AverageManualScore\"]) # find the correlation between TextBlob polarity and manual polarity"
   ]
  },
  {
   "cell_type": "code",
   "execution_count": 178,
   "metadata": {},
   "outputs": [
    {
     "name": "stdout",
     "output_type": "stream",
     "text": [
      "MAE: 0.16107475526787646\n",
      "MSE: 0.04095232160014455\n",
      "Correlation between TextBlob polarity and manual polarity:  0.30989193699837503\n"
     ]
    }
   ],
   "source": [
    "# apply min max scaling to the polarity scores\n",
    "scaler = MinMaxScaler(feature_range=(df.AverageManualScore.min(), df.AverageManualScore.max()))\n",
    "df['predicted_scaled_scores'] = scaler.fit_transform(df[['polarity']])\n",
    "\n",
    "# Calculate the mean of the actual values\n",
    "predicted = df[\"predicted_scaled_scores\"]\n",
    "actual = df[\"AverageManualScore\"]\n",
    "\n",
    "# Compute R^2\n",
    "r2 = r2_score(actual, predicted)\n",
    "mae = mean_absolute_error(actual, predicted)\n",
    "mse = mean_squared_error(actual, predicted)\n",
    "\n",
    "print(\"MAE:\", mae) # 0.2307 (with StandardScaler 0.886)\n",
    "print(\"MSE:\", mse) # 0.1022 (with MSE 1.14)\n",
    "print(\"Correlation between TextBlob polarity and manual polarity: \", corr_rate)"
   ]
  },
  {
   "cell_type": "markdown",
   "metadata": {},
   "source": [
    "### Amazon"
   ]
  },
  {
   "cell_type": "code",
   "execution_count": 180,
   "metadata": {},
   "outputs": [],
   "source": [
    "polarity_amazon = pd.read_csv('Scores/amazon_polarity.csv')\n",
    "\n",
    "df = pd.merge(manual_polarity, polarity_amazon, left_on='Report', right_on=\"pdf_name\", how='inner')\n",
    "df[\"polarity\"] = pd.to_numeric(df[\"polarity\"])\n",
    "df.dropna(inplace=True)\n",
    "corr_rate = df[\"polarity\"].corr(df[\"AverageManualScore\"])"
   ]
  },
  {
   "cell_type": "code",
   "execution_count": 181,
   "metadata": {},
   "outputs": [
    {
     "name": "stdout",
     "output_type": "stream",
     "text": [
      "MAE: 0.19964732480591216\n",
      "MSE: 0.07118832977240773\n",
      "Correlation between TextBlob polarity and manual polarity:  -0.016412256160416847\n"
     ]
    }
   ],
   "source": [
    "# apply min max scaling to the polarity scores\n",
    "scaler = MinMaxScaler(feature_range=(df.AverageManualScore.min(), df.AverageManualScore.max()))\n",
    "df['predicted_scaled_scores'] = scaler.fit_transform(df[['polarity']])\n",
    "\n",
    "# Calculate the mean of the actual values\n",
    "predicted = df[\"predicted_scaled_scores\"]\n",
    "actual = df[\"AverageManualScore\"]\n",
    "\n",
    "# Compute R^2\n",
    "r2 = r2_score(actual, predicted)\n",
    "mae = mean_absolute_error(actual, predicted)\n",
    "mse = mean_squared_error(actual, predicted)\n",
    "\n",
    "print(\"MAE:\", mae) # 0.2307 (with StandardScaler 0.886)\n",
    "print(\"MSE:\", mse) # 0.1022 (with MSE 1.14)\n",
    "print(\"Correlation between TextBlob polarity and manual polarity: \", corr_rate)"
   ]
  },
  {
   "cell_type": "code",
   "execution_count": 83,
   "metadata": {},
   "outputs": [
    {
     "data": {
      "text/plain": [
       "(44, 4)"
      ]
     },
     "execution_count": 83,
     "metadata": {},
     "output_type": "execute_result"
    }
   ],
   "source": [
    "df.shape"
   ]
  },
  {
   "cell_type": "code",
   "execution_count": 84,
   "metadata": {},
   "outputs": [
    {
     "data": {
      "text/html": [
       "<div>\n",
       "<style scoped>\n",
       "    .dataframe tbody tr th:only-of-type {\n",
       "        vertical-align: middle;\n",
       "    }\n",
       "\n",
       "    .dataframe tbody tr th {\n",
       "        vertical-align: top;\n",
       "    }\n",
       "\n",
       "    .dataframe thead th {\n",
       "        text-align: right;\n",
       "    }\n",
       "</style>\n",
       "<table border=\"1\" class=\"dataframe\">\n",
       "  <thead>\n",
       "    <tr style=\"text-align: right;\">\n",
       "      <th></th>\n",
       "      <th>Report</th>\n",
       "      <th>AverageManualScore</th>\n",
       "      <th>pdf_name</th>\n",
       "      <th>polarity</th>\n",
       "    </tr>\n",
       "  </thead>\n",
       "  <tbody>\n",
       "    <tr>\n",
       "      <th>0</th>\n",
       "      <td>COMBINED-Q4-17-Shareholder-Letter-FINAL</td>\n",
       "      <td>0.600000</td>\n",
       "      <td>COMBINED-Q4-17-Shareholder-Letter-FINAL</td>\n",
       "      <td>0.905803</td>\n",
       "    </tr>\n",
       "    <tr>\n",
       "      <th>1</th>\n",
       "      <td>FINAL_Q2_15_Letter_to_Shareholders_With_Tables_</td>\n",
       "      <td>0.333333</td>\n",
       "      <td>FINAL_Q2_15_Letter_to_Shareholders_With_Tables_</td>\n",
       "      <td>0.807176</td>\n",
       "    </tr>\n",
       "    <tr>\n",
       "      <th>2</th>\n",
       "      <td>FINAL_Q3_15_Letter_to_Shareholders_With_Tables_</td>\n",
       "      <td>0.166667</td>\n",
       "      <td>FINAL_Q3_15_Letter_to_Shareholders_With_Tables_</td>\n",
       "      <td>0.765612</td>\n",
       "    </tr>\n",
       "    <tr>\n",
       "      <th>3</th>\n",
       "      <td>FINAL_Q3_Letter</td>\n",
       "      <td>0.483333</td>\n",
       "      <td>FINAL_Q3_Letter</td>\n",
       "      <td>0.769323</td>\n",
       "    </tr>\n",
       "    <tr>\n",
       "      <th>4</th>\n",
       "      <td>FINAL-Q1-18-Shareholder-Letter</td>\n",
       "      <td>0.500000</td>\n",
       "      <td>FINAL-Q1-18-Shareholder-Letter</td>\n",
       "      <td>0.874805</td>\n",
       "    </tr>\n",
       "  </tbody>\n",
       "</table>\n",
       "</div>"
      ],
      "text/plain": [
       "                                            Report  AverageManualScore  \\\n",
       "0          COMBINED-Q4-17-Shareholder-Letter-FINAL            0.600000   \n",
       "1  FINAL_Q2_15_Letter_to_Shareholders_With_Tables_            0.333333   \n",
       "2  FINAL_Q3_15_Letter_to_Shareholders_With_Tables_            0.166667   \n",
       "3                                  FINAL_Q3_Letter            0.483333   \n",
       "4                   FINAL-Q1-18-Shareholder-Letter            0.500000   \n",
       "\n",
       "                                          pdf_name  polarity  \n",
       "0          COMBINED-Q4-17-Shareholder-Letter-FINAL  0.905803  \n",
       "1  FINAL_Q2_15_Letter_to_Shareholders_With_Tables_  0.807176  \n",
       "2  FINAL_Q3_15_Letter_to_Shareholders_With_Tables_  0.765612  \n",
       "3                                  FINAL_Q3_Letter  0.769323  \n",
       "4                   FINAL-Q1-18-Shareholder-Letter  0.874805  "
      ]
     },
     "execution_count": 84,
     "metadata": {},
     "output_type": "execute_result"
    }
   ],
   "source": [
    "df.head()"
   ]
  },
  {
   "cell_type": "code",
   "execution_count": 85,
   "metadata": {},
   "outputs": [
    {
     "data": {
      "text/html": [
       "<div>\n",
       "<style scoped>\n",
       "    .dataframe tbody tr th:only-of-type {\n",
       "        vertical-align: middle;\n",
       "    }\n",
       "\n",
       "    .dataframe tbody tr th {\n",
       "        vertical-align: top;\n",
       "    }\n",
       "\n",
       "    .dataframe thead th {\n",
       "        text-align: right;\n",
       "    }\n",
       "</style>\n",
       "<table border=\"1\" class=\"dataframe\">\n",
       "  <thead>\n",
       "    <tr style=\"text-align: right;\">\n",
       "      <th></th>\n",
       "      <th>Report</th>\n",
       "      <th>AverageManualScore</th>\n",
       "      <th>pdf_name</th>\n",
       "      <th>polarity</th>\n",
       "      <th>polarity_minmaxscale</th>\n",
       "      <th>averagemanualscore_minmax_scale</th>\n",
       "    </tr>\n",
       "  </thead>\n",
       "  <tbody>\n",
       "    <tr>\n",
       "      <th>0</th>\n",
       "      <td>COMBINED-Q4-17-Shareholder-Letter-FINAL</td>\n",
       "      <td>0.600000</td>\n",
       "      <td>COMBINED-Q4-17-Shareholder-Letter-FINAL</td>\n",
       "      <td>0.905803</td>\n",
       "      <td>1.000000</td>\n",
       "      <td>0.872340</td>\n",
       "    </tr>\n",
       "    <tr>\n",
       "      <th>1</th>\n",
       "      <td>FINAL_Q2_15_Letter_to_Shareholders_With_Tables_</td>\n",
       "      <td>0.333333</td>\n",
       "      <td>FINAL_Q2_15_Letter_to_Shareholders_With_Tables_</td>\n",
       "      <td>0.807176</td>\n",
       "      <td>0.544701</td>\n",
       "      <td>0.531915</td>\n",
       "    </tr>\n",
       "    <tr>\n",
       "      <th>2</th>\n",
       "      <td>FINAL_Q3_15_Letter_to_Shareholders_With_Tables_</td>\n",
       "      <td>0.166667</td>\n",
       "      <td>FINAL_Q3_15_Letter_to_Shareholders_With_Tables_</td>\n",
       "      <td>0.765612</td>\n",
       "      <td>0.352828</td>\n",
       "      <td>0.319149</td>\n",
       "    </tr>\n",
       "    <tr>\n",
       "      <th>3</th>\n",
       "      <td>FINAL_Q3_Letter</td>\n",
       "      <td>0.483333</td>\n",
       "      <td>FINAL_Q3_Letter</td>\n",
       "      <td>0.769323</td>\n",
       "      <td>0.369959</td>\n",
       "      <td>0.723404</td>\n",
       "    </tr>\n",
       "    <tr>\n",
       "      <th>4</th>\n",
       "      <td>FINAL-Q1-18-Shareholder-Letter</td>\n",
       "      <td>0.500000</td>\n",
       "      <td>FINAL-Q1-18-Shareholder-Letter</td>\n",
       "      <td>0.874805</td>\n",
       "      <td>0.856901</td>\n",
       "      <td>0.744681</td>\n",
       "    </tr>\n",
       "  </tbody>\n",
       "</table>\n",
       "</div>"
      ],
      "text/plain": [
       "                                            Report  AverageManualScore  \\\n",
       "0          COMBINED-Q4-17-Shareholder-Letter-FINAL            0.600000   \n",
       "1  FINAL_Q2_15_Letter_to_Shareholders_With_Tables_            0.333333   \n",
       "2  FINAL_Q3_15_Letter_to_Shareholders_With_Tables_            0.166667   \n",
       "3                                  FINAL_Q3_Letter            0.483333   \n",
       "4                   FINAL-Q1-18-Shareholder-Letter            0.500000   \n",
       "\n",
       "                                          pdf_name  polarity  \\\n",
       "0          COMBINED-Q4-17-Shareholder-Letter-FINAL  0.905803   \n",
       "1  FINAL_Q2_15_Letter_to_Shareholders_With_Tables_  0.807176   \n",
       "2  FINAL_Q3_15_Letter_to_Shareholders_With_Tables_  0.765612   \n",
       "3                                  FINAL_Q3_Letter  0.769323   \n",
       "4                   FINAL-Q1-18-Shareholder-Letter  0.874805   \n",
       "\n",
       "   polarity_minmaxscale  averagemanualscore_minmax_scale  \n",
       "0              1.000000                         0.872340  \n",
       "1              0.544701                         0.531915  \n",
       "2              0.352828                         0.319149  \n",
       "3              0.369959                         0.723404  \n",
       "4              0.856901                         0.744681  "
      ]
     },
     "execution_count": 85,
     "metadata": {},
     "output_type": "execute_result"
    }
   ],
   "source": [
    "# apply min max scaling to the polarity scores\n",
    "scaler = MinMaxScaler()\n",
    "df['polarity_minmaxscale'] = scaler.fit_transform(df[['polarity']])\n",
    "scaler = MinMaxScaler()\n",
    "df['averagemanualscore_minmax_scale'] = scaler.fit_transform(df[['AverageManualScore']])\n",
    "df.head()"
   ]
  },
  {
   "cell_type": "code",
   "execution_count": 86,
   "metadata": {},
   "outputs": [
    {
     "name": "stdout",
     "output_type": "stream",
     "text": [
      "MAE: 0.25486892528522775\n",
      "MSE: 0.11601538577765905\n",
      "R^2: -0.9534475240211968\n"
     ]
    }
   ],
   "source": [
    "# Calculate the mean of the actual values\n",
    "predicted = df[\"polarity_minmaxscale\"]\n",
    "actual = df[\"averagemanualscore_minmax_scale\"]\n",
    "\n",
    "# Compute R^2\n",
    "r2 = r2_score(actual, predicted)\n",
    "mae = mean_absolute_error(actual, predicted)\n",
    "mse = mean_squared_error(actual, predicted)\n",
    "\n",
    "print(\"MAE:\", mae)\n",
    "print(\"MSE:\", mse)\n",
    "print(\"R^2:\", r2)"
   ]
  },
  {
   "cell_type": "code",
   "execution_count": null,
   "metadata": {},
   "outputs": [],
   "source": [
    "import statsmodels.api as sm\n",
    "\n",
    "x = df[['polarity']]\n",
    "y = df['rate']\n",
    "\n",
    "# x = sm.add_constant(x)\n",
    "\n",
    "model = sm.OLS(y, x).fit()\n",
    "predictions = model.predict(x) \n",
    "\n",
    "print_model = model.summary()\n",
    "print(print_model)"
   ]
  },
  {
   "cell_type": "markdown",
   "metadata": {},
   "source": [
    "### Google "
   ]
  },
  {
   "cell_type": "code",
   "execution_count": 182,
   "metadata": {},
   "outputs": [],
   "source": [
    "polarity_google = pd.read_csv('Scores/google_polarity.csv')\n",
    "\n",
    "df = pd.merge(manual_polarity, polarity_google, left_on='Report', right_on=\"pdf_name\", how='inner')\n",
    "df[\"polarity\"] = pd.to_numeric(df[\"polarity\"])\n",
    "df.dropna(inplace=True)\n",
    "corr_rate = df[\"polarity\"].corr(df[\"AverageManualScore\"])"
   ]
  },
  {
   "cell_type": "code",
   "execution_count": 183,
   "metadata": {},
   "outputs": [
    {
     "name": "stdout",
     "output_type": "stream",
     "text": [
      "MAE: 0.15025252686914561\n",
      "MSE: 0.03488040190305624\n",
      "Correlation between TextBlob polarity and manual polarity:  0.49626973654879064\n"
     ]
    }
   ],
   "source": [
    "# apply min max scaling to the polarity scores\n",
    "scaler = MinMaxScaler(feature_range=(df.AverageManualScore.min(), df.AverageManualScore.max()))\n",
    "df['predicted_scaled_scores'] = scaler.fit_transform(df[['polarity']])\n",
    "\n",
    "# Calculate the mean of the actual values\n",
    "predicted = df[\"predicted_scaled_scores\"]\n",
    "actual = df[\"AverageManualScore\"]\n",
    "\n",
    "# Compute R^2\n",
    "r2 = r2_score(actual, predicted)\n",
    "mae = mean_absolute_error(actual, predicted)\n",
    "mse = mean_squared_error(actual, predicted)\n",
    "\n",
    "print(\"MAE:\", mae) # 0.2307 (with StandardScaler 0.886)\n",
    "print(\"MSE:\", mse) # 0.1022 (with MSE 1.14)\n",
    "print(\"Correlation between TextBlob polarity and manual polarity: \", corr_rate)"
   ]
  },
  {
   "cell_type": "code",
   "execution_count": 94,
   "metadata": {},
   "outputs": [
    {
     "data": {
      "text/plain": [
       "(44, 4)"
      ]
     },
     "execution_count": 94,
     "metadata": {},
     "output_type": "execute_result"
    }
   ],
   "source": [
    "df.shape"
   ]
  },
  {
   "cell_type": "code",
   "execution_count": 95,
   "metadata": {},
   "outputs": [
    {
     "data": {
      "text/html": [
       "<div>\n",
       "<style scoped>\n",
       "    .dataframe tbody tr th:only-of-type {\n",
       "        vertical-align: middle;\n",
       "    }\n",
       "\n",
       "    .dataframe tbody tr th {\n",
       "        vertical-align: top;\n",
       "    }\n",
       "\n",
       "    .dataframe thead th {\n",
       "        text-align: right;\n",
       "    }\n",
       "</style>\n",
       "<table border=\"1\" class=\"dataframe\">\n",
       "  <thead>\n",
       "    <tr style=\"text-align: right;\">\n",
       "      <th></th>\n",
       "      <th>Report</th>\n",
       "      <th>AverageManualScore</th>\n",
       "      <th>pdf_name</th>\n",
       "      <th>polarity</th>\n",
       "    </tr>\n",
       "  </thead>\n",
       "  <tbody>\n",
       "    <tr>\n",
       "      <th>0</th>\n",
       "      <td>COMBINED-Q4-17-Shareholder-Letter-FINAL</td>\n",
       "      <td>0.600000</td>\n",
       "      <td>COMBINED-Q4-17-Shareholder-Letter-FINAL</td>\n",
       "      <td>0.2</td>\n",
       "    </tr>\n",
       "    <tr>\n",
       "      <th>1</th>\n",
       "      <td>FINAL_Q2_15_Letter_to_Shareholders_With_Tables_</td>\n",
       "      <td>0.333333</td>\n",
       "      <td>FINAL_Q2_15_Letter_to_Shareholders_With_Tables_</td>\n",
       "      <td>0.2</td>\n",
       "    </tr>\n",
       "    <tr>\n",
       "      <th>2</th>\n",
       "      <td>FINAL_Q3_15_Letter_to_Shareholders_With_Tables_</td>\n",
       "      <td>0.166667</td>\n",
       "      <td>FINAL_Q3_15_Letter_to_Shareholders_With_Tables_</td>\n",
       "      <td>0.1</td>\n",
       "    </tr>\n",
       "    <tr>\n",
       "      <th>3</th>\n",
       "      <td>FINAL_Q3_Letter</td>\n",
       "      <td>0.483333</td>\n",
       "      <td>FINAL_Q3_Letter</td>\n",
       "      <td>0.2</td>\n",
       "    </tr>\n",
       "    <tr>\n",
       "      <th>4</th>\n",
       "      <td>FINAL-Q1-18-Shareholder-Letter</td>\n",
       "      <td>0.500000</td>\n",
       "      <td>FINAL-Q1-18-Shareholder-Letter</td>\n",
       "      <td>0.2</td>\n",
       "    </tr>\n",
       "  </tbody>\n",
       "</table>\n",
       "</div>"
      ],
      "text/plain": [
       "                                            Report  AverageManualScore  \\\n",
       "0          COMBINED-Q4-17-Shareholder-Letter-FINAL            0.600000   \n",
       "1  FINAL_Q2_15_Letter_to_Shareholders_With_Tables_            0.333333   \n",
       "2  FINAL_Q3_15_Letter_to_Shareholders_With_Tables_            0.166667   \n",
       "3                                  FINAL_Q3_Letter            0.483333   \n",
       "4                   FINAL-Q1-18-Shareholder-Letter            0.500000   \n",
       "\n",
       "                                          pdf_name  polarity  \n",
       "0          COMBINED-Q4-17-Shareholder-Letter-FINAL       0.2  \n",
       "1  FINAL_Q2_15_Letter_to_Shareholders_With_Tables_       0.2  \n",
       "2  FINAL_Q3_15_Letter_to_Shareholders_With_Tables_       0.1  \n",
       "3                                  FINAL_Q3_Letter       0.2  \n",
       "4                   FINAL-Q1-18-Shareholder-Letter       0.2  "
      ]
     },
     "execution_count": 95,
     "metadata": {},
     "output_type": "execute_result"
    }
   ],
   "source": [
    "df.head()"
   ]
  },
  {
   "cell_type": "code",
   "execution_count": 96,
   "metadata": {},
   "outputs": [
    {
     "data": {
      "text/html": [
       "<div>\n",
       "<style scoped>\n",
       "    .dataframe tbody tr th:only-of-type {\n",
       "        vertical-align: middle;\n",
       "    }\n",
       "\n",
       "    .dataframe tbody tr th {\n",
       "        vertical-align: top;\n",
       "    }\n",
       "\n",
       "    .dataframe thead th {\n",
       "        text-align: right;\n",
       "    }\n",
       "</style>\n",
       "<table border=\"1\" class=\"dataframe\">\n",
       "  <thead>\n",
       "    <tr style=\"text-align: right;\">\n",
       "      <th></th>\n",
       "      <th>Report</th>\n",
       "      <th>AverageManualScore</th>\n",
       "      <th>pdf_name</th>\n",
       "      <th>polarity</th>\n",
       "      <th>polarity_minmaxscale</th>\n",
       "      <th>averagemanualscore_minmax_scale</th>\n",
       "    </tr>\n",
       "  </thead>\n",
       "  <tbody>\n",
       "    <tr>\n",
       "      <th>0</th>\n",
       "      <td>COMBINED-Q4-17-Shareholder-Letter-FINAL</td>\n",
       "      <td>0.600000</td>\n",
       "      <td>COMBINED-Q4-17-Shareholder-Letter-FINAL</td>\n",
       "      <td>0.2</td>\n",
       "      <td>0.666667</td>\n",
       "      <td>0.872340</td>\n",
       "    </tr>\n",
       "    <tr>\n",
       "      <th>1</th>\n",
       "      <td>FINAL_Q2_15_Letter_to_Shareholders_With_Tables_</td>\n",
       "      <td>0.333333</td>\n",
       "      <td>FINAL_Q2_15_Letter_to_Shareholders_With_Tables_</td>\n",
       "      <td>0.2</td>\n",
       "      <td>0.666667</td>\n",
       "      <td>0.531915</td>\n",
       "    </tr>\n",
       "    <tr>\n",
       "      <th>2</th>\n",
       "      <td>FINAL_Q3_15_Letter_to_Shareholders_With_Tables_</td>\n",
       "      <td>0.166667</td>\n",
       "      <td>FINAL_Q3_15_Letter_to_Shareholders_With_Tables_</td>\n",
       "      <td>0.1</td>\n",
       "      <td>0.333333</td>\n",
       "      <td>0.319149</td>\n",
       "    </tr>\n",
       "    <tr>\n",
       "      <th>3</th>\n",
       "      <td>FINAL_Q3_Letter</td>\n",
       "      <td>0.483333</td>\n",
       "      <td>FINAL_Q3_Letter</td>\n",
       "      <td>0.2</td>\n",
       "      <td>0.666667</td>\n",
       "      <td>0.723404</td>\n",
       "    </tr>\n",
       "    <tr>\n",
       "      <th>4</th>\n",
       "      <td>FINAL-Q1-18-Shareholder-Letter</td>\n",
       "      <td>0.500000</td>\n",
       "      <td>FINAL-Q1-18-Shareholder-Letter</td>\n",
       "      <td>0.2</td>\n",
       "      <td>0.666667</td>\n",
       "      <td>0.744681</td>\n",
       "    </tr>\n",
       "  </tbody>\n",
       "</table>\n",
       "</div>"
      ],
      "text/plain": [
       "                                            Report  AverageManualScore  \\\n",
       "0          COMBINED-Q4-17-Shareholder-Letter-FINAL            0.600000   \n",
       "1  FINAL_Q2_15_Letter_to_Shareholders_With_Tables_            0.333333   \n",
       "2  FINAL_Q3_15_Letter_to_Shareholders_With_Tables_            0.166667   \n",
       "3                                  FINAL_Q3_Letter            0.483333   \n",
       "4                   FINAL-Q1-18-Shareholder-Letter            0.500000   \n",
       "\n",
       "                                          pdf_name  polarity  \\\n",
       "0          COMBINED-Q4-17-Shareholder-Letter-FINAL       0.2   \n",
       "1  FINAL_Q2_15_Letter_to_Shareholders_With_Tables_       0.2   \n",
       "2  FINAL_Q3_15_Letter_to_Shareholders_With_Tables_       0.1   \n",
       "3                                  FINAL_Q3_Letter       0.2   \n",
       "4                   FINAL-Q1-18-Shareholder-Letter       0.2   \n",
       "\n",
       "   polarity_minmaxscale  averagemanualscore_minmax_scale  \n",
       "0              0.666667                         0.872340  \n",
       "1              0.666667                         0.531915  \n",
       "2              0.333333                         0.319149  \n",
       "3              0.666667                         0.723404  \n",
       "4              0.666667                         0.744681  "
      ]
     },
     "execution_count": 96,
     "metadata": {},
     "output_type": "execute_result"
    }
   ],
   "source": [
    "# apply min max scaling to the polarity scores\n",
    "\n",
    "from sklearn.preprocessing import MinMaxScaler\n",
    "\n",
    "scaler = MinMaxScaler()\n",
    "df['polarity_minmaxscale'] = scaler.fit_transform(df[['polarity']])\n",
    "scaler = MinMaxScaler()\n",
    "df['averagemanualscore_minmax_scale'] = scaler.fit_transform(df[['AverageManualScore']])\n",
    "df.head()"
   ]
  },
  {
   "cell_type": "code",
   "execution_count": 97,
   "metadata": {},
   "outputs": [
    {
     "name": "stdout",
     "output_type": "stream",
     "text": [
      "MAE: 0.1918117364295128\n",
      "MSE: 0.0568444757139299\n",
      "R^2: 0.04286229284734422\n"
     ]
    }
   ],
   "source": [
    "# Calculate the mean of the actual values\n",
    "predicted = df[\"polarity_minmaxscale\"]\n",
    "actual = df[\"averagemanualscore_minmax_scale\"]\n",
    "\n",
    "# Compute R^2\n",
    "r2 = r2_score(actual, predicted)\n",
    "mae = mean_absolute_error(actual, predicted)\n",
    "mse = mean_squared_error(actual, predicted)\n",
    "\n",
    "print(\"MAE:\", mae)\n",
    "print(\"MSE:\", mse)\n",
    "print(\"R^2:\", r2)"
   ]
  },
  {
   "cell_type": "code",
   "execution_count": 49,
   "metadata": {},
   "outputs": [
    {
     "name": "stdout",
     "output_type": "stream",
     "text": [
      "R^2: 0.24628365141420605\n"
     ]
    }
   ],
   "source": [
    "from sklearn.linear_model import LinearRegression\n",
    "\n",
    "x = df[['polarity_minmaxscale']]\n",
    "y = df['averagemanualscore_minmax_scale']\n",
    "\n",
    "# Train a simple linear regression model\n",
    "model = LinearRegression().fit(x, y)\n",
    "\n",
    "# Get R^2\n",
    "r2 = model.score(x, y)\n",
    "\n",
    "print(\"R^2:\", r2)"
   ]
  },
  {
   "cell_type": "code",
   "execution_count": 41,
   "metadata": {},
   "outputs": [
    {
     "name": "stdout",
     "output_type": "stream",
     "text": [
      "                                       OLS Regression Results                                       \n",
      "====================================================================================================\n",
      "Dep. Variable:     averagemanualscore_minmax_scale   R-squared (uncentered):                   0.847\n",
      "Model:                                         OLS   Adj. R-squared (uncentered):              0.844\n",
      "Method:                              Least Squares   F-statistic:                              238.2\n",
      "Date:                             Wed, 23 Aug 2023   Prob (F-statistic):                    3.83e-19\n",
      "Time:                                     13:50:42   Log-Likelihood:                         0.99475\n",
      "No. Observations:                               44   AIC:                                    0.01050\n",
      "Df Residuals:                                   43   BIC:                                      1.795\n",
      "Df Model:                                        1                                                  \n",
      "Covariance Type:                         nonrobust                                                  \n",
      "========================================================================================\n",
      "                           coef    std err          t      P>|t|      [0.025      0.975]\n",
      "----------------------------------------------------------------------------------------\n",
      "polarity_minmaxscale     1.0564      0.068     15.433      0.000       0.918       1.194\n",
      "==============================================================================\n",
      "Omnibus:                        8.008   Durbin-Watson:                   1.414\n",
      "Prob(Omnibus):                  0.018   Jarque-Bera (JB):                6.995\n",
      "Skew:                          -0.922   Prob(JB):                       0.0303\n",
      "Kurtosis:                       3.644   Cond. No.                         1.00\n",
      "==============================================================================\n",
      "\n",
      "Notes:\n",
      "[1] R² is computed without centering (uncentered) since the model does not contain a constant.\n",
      "[2] Standard Errors assume that the covariance matrix of the errors is correctly specified.\n"
     ]
    }
   ],
   "source": [
    "# calculate R squared value for min max scaled polarity scores\n",
    "\n",
    "import statsmodels.api as sm\n",
    "\n",
    "x = df[['polarity_minmaxscale']]\n",
    "\n",
    "y = df['averagemanualscore_minmax_scale']\n",
    "\n",
    "# x = sm.add_constant(x)\n",
    "\n",
    "model = sm.OLS(y, x).fit()\n",
    "\n",
    "predictions = model.predict(x)\n",
    "\n",
    "print_model = model.summary()\n",
    "print(print_model)\n",
    "\n"
   ]
  },
  {
   "cell_type": "code",
   "execution_count": null,
   "metadata": {},
   "outputs": [],
   "source": []
  },
  {
   "cell_type": "code",
   "execution_count": 33,
   "metadata": {},
   "outputs": [],
   "source": [
    "# export the dataframe to xlsx\n",
    "\n",
    "df.to_excel('Scores/google_api_model.xlsx', index=False)"
   ]
  },
  {
   "cell_type": "code",
   "execution_count": 17,
   "metadata": {},
   "outputs": [
    {
     "name": "stdout",
     "output_type": "stream",
     "text": [
      "                                 OLS Regression Results                                \n",
      "=======================================================================================\n",
      "Dep. Variable:                   rate   R-squared (uncentered):                   0.866\n",
      "Model:                            OLS   Adj. R-squared (uncentered):              0.864\n",
      "Method:                 Least Squares   F-statistic:                              317.9\n",
      "Date:                Mon, 21 Aug 2023   Prob (F-statistic):                    4.59e-23\n",
      "Time:                        00:56:26   Log-Likelihood:                          1.3654\n",
      "No. Observations:                  50   AIC:                                    -0.7309\n",
      "Df Residuals:                      49   BIC:                                      1.181\n",
      "Df Model:                           1                                                  \n",
      "Covariance Type:            nonrobust                                                  \n",
      "==============================================================================\n",
      "                 coef    std err          t      P>|t|      [0.025      0.975]\n",
      "------------------------------------------------------------------------------\n",
      "polarity       3.5971      0.202     17.831      0.000       3.192       4.003\n",
      "==============================================================================\n",
      "Omnibus:                        3.779   Durbin-Watson:                   1.501\n",
      "Prob(Omnibus):                  0.151   Jarque-Bera (JB):                1.804\n",
      "Skew:                          -0.087   Prob(JB):                        0.406\n",
      "Kurtosis:                       2.086   Cond. No.                         1.00\n",
      "==============================================================================\n",
      "\n",
      "Notes:\n",
      "[1] R² is computed without centering (uncentered) since the model does not contain a constant.\n",
      "[2] Standard Errors assume that the covariance matrix of the errors is correctly specified.\n"
     ]
    }
   ],
   "source": [
    "import statsmodels.api as sm\n",
    "\n",
    "x = df[['polarity']]\n",
    "y = df['rate']\n",
    "\n",
    "# x = sm.add_constant(x)\n",
    "\n",
    "model = sm.OLS(y, x).fit()\n",
    "predictions = model.predict(x) \n",
    "\n",
    "print_model = model.summary()\n",
    "print(print_model)"
   ]
  },
  {
   "cell_type": "markdown",
   "metadata": {},
   "source": [
    "### BART "
   ]
  },
  {
   "cell_type": "code",
   "execution_count": 103,
   "metadata": {},
   "outputs": [
    {
     "data": {
      "text/plain": [
       "0.18240878308212977"
      ]
     },
     "execution_count": 103,
     "metadata": {},
     "output_type": "execute_result"
    }
   ],
   "source": [
    "polarity_bart = pd.read_csv('Src/bart_positive_sentiment_probs.csv')\n",
    "\n",
    "df = pd.merge(manual_polarity, polarity_bart, left_on='Report', right_on=\"pdf_name\", how='inner')\n",
    "df[\"positive_sentiment_prob\"] = df[\"positive_sentiment_prob\"].apply(lambda x: 0.5 if x == \"Positive\" else x)\n",
    "df[\"positive_sentiment_prob\"] = pd.to_numeric(df[\"positive_sentiment_prob\"])\n",
    "df.dropna(inplace=True)\n",
    "df[\"positive_sentiment_prob\"].corr(df[\"AverageManualScore\"])"
   ]
  },
  {
   "cell_type": "code",
   "execution_count": 104,
   "metadata": {},
   "outputs": [
    {
     "data": {
      "text/html": [
       "<div>\n",
       "<style scoped>\n",
       "    .dataframe tbody tr th:only-of-type {\n",
       "        vertical-align: middle;\n",
       "    }\n",
       "\n",
       "    .dataframe tbody tr th {\n",
       "        vertical-align: top;\n",
       "    }\n",
       "\n",
       "    .dataframe thead th {\n",
       "        text-align: right;\n",
       "    }\n",
       "</style>\n",
       "<table border=\"1\" class=\"dataframe\">\n",
       "  <thead>\n",
       "    <tr style=\"text-align: right;\">\n",
       "      <th></th>\n",
       "      <th>Report</th>\n",
       "      <th>AverageManualScore</th>\n",
       "      <th>pdf_name</th>\n",
       "      <th>positive_sentiment_prob</th>\n",
       "      <th>polarity_minmaxscale</th>\n",
       "      <th>averagemanualscore_minmax_scale</th>\n",
       "    </tr>\n",
       "  </thead>\n",
       "  <tbody>\n",
       "    <tr>\n",
       "      <th>0</th>\n",
       "      <td>COMBINED-Q4-17-Shareholder-Letter-FINAL</td>\n",
       "      <td>0.600000</td>\n",
       "      <td>COMBINED-Q4-17-Shareholder-Letter-FINAL</td>\n",
       "      <td>0.538636</td>\n",
       "      <td>0.570633</td>\n",
       "      <td>0.872340</td>\n",
       "    </tr>\n",
       "    <tr>\n",
       "      <th>1</th>\n",
       "      <td>FINAL_Q2_15_Letter_to_Shareholders_With_Tables_</td>\n",
       "      <td>0.333333</td>\n",
       "      <td>FINAL_Q2_15_Letter_to_Shareholders_With_Tables_</td>\n",
       "      <td>0.539246</td>\n",
       "      <td>0.681668</td>\n",
       "      <td>0.531915</td>\n",
       "    </tr>\n",
       "    <tr>\n",
       "      <th>2</th>\n",
       "      <td>FINAL_Q3_15_Letter_to_Shareholders_With_Tables_</td>\n",
       "      <td>0.166667</td>\n",
       "      <td>FINAL_Q3_15_Letter_to_Shareholders_With_Tables_</td>\n",
       "      <td>0.539036</td>\n",
       "      <td>0.643519</td>\n",
       "      <td>0.319149</td>\n",
       "    </tr>\n",
       "    <tr>\n",
       "      <th>3</th>\n",
       "      <td>FINAL_Q3_Letter</td>\n",
       "      <td>0.483333</td>\n",
       "      <td>FINAL_Q3_Letter</td>\n",
       "      <td>0.539802</td>\n",
       "      <td>0.782959</td>\n",
       "      <td>0.723404</td>\n",
       "    </tr>\n",
       "    <tr>\n",
       "      <th>4</th>\n",
       "      <td>FINAL-Q1-18-Shareholder-Letter</td>\n",
       "      <td>0.500000</td>\n",
       "      <td>FINAL-Q1-18-Shareholder-Letter</td>\n",
       "      <td>0.539028</td>\n",
       "      <td>0.641955</td>\n",
       "      <td>0.744681</td>\n",
       "    </tr>\n",
       "  </tbody>\n",
       "</table>\n",
       "</div>"
      ],
      "text/plain": [
       "                                            Report  AverageManualScore  \\\n",
       "0          COMBINED-Q4-17-Shareholder-Letter-FINAL            0.600000   \n",
       "1  FINAL_Q2_15_Letter_to_Shareholders_With_Tables_            0.333333   \n",
       "2  FINAL_Q3_15_Letter_to_Shareholders_With_Tables_            0.166667   \n",
       "3                                  FINAL_Q3_Letter            0.483333   \n",
       "4                   FINAL-Q1-18-Shareholder-Letter            0.500000   \n",
       "\n",
       "                                          pdf_name  positive_sentiment_prob  \\\n",
       "0          COMBINED-Q4-17-Shareholder-Letter-FINAL                 0.538636   \n",
       "1  FINAL_Q2_15_Letter_to_Shareholders_With_Tables_                 0.539246   \n",
       "2  FINAL_Q3_15_Letter_to_Shareholders_With_Tables_                 0.539036   \n",
       "3                                  FINAL_Q3_Letter                 0.539802   \n",
       "4                   FINAL-Q1-18-Shareholder-Letter                 0.539028   \n",
       "\n",
       "   polarity_minmaxscale  averagemanualscore_minmax_scale  \n",
       "0              0.570633                         0.872340  \n",
       "1              0.681668                         0.531915  \n",
       "2              0.643519                         0.319149  \n",
       "3              0.782959                         0.723404  \n",
       "4              0.641955                         0.744681  "
      ]
     },
     "execution_count": 104,
     "metadata": {},
     "output_type": "execute_result"
    }
   ],
   "source": [
    "# apply min max scaling to the polarity scores\n",
    "\n",
    "from sklearn.preprocessing import MinMaxScaler\n",
    "\n",
    "scaler = MinMaxScaler()\n",
    "df['polarity_minmaxscale'] = scaler.fit_transform(df[['positive_sentiment_prob']])\n",
    "scaler = MinMaxScaler()\n",
    "df['averagemanualscore_minmax_scale'] = scaler.fit_transform(df[['AverageManualScore']])\n",
    "df.head()"
   ]
  },
  {
   "cell_type": "code",
   "execution_count": 105,
   "metadata": {},
   "outputs": [
    {
     "name": "stdout",
     "output_type": "stream",
     "text": [
      "MAE: 0.24623830801969884\n",
      "MSE: 0.09318467852776129\n",
      "R^2: -0.5690279209658071\n"
     ]
    }
   ],
   "source": [
    "# Calculate the mean of the actual values\n",
    "predicted = df[\"polarity_minmaxscale\"]\n",
    "actual = df[\"averagemanualscore_minmax_scale\"]\n",
    "\n",
    "# Compute R^2\n",
    "r2 = r2_score(actual, predicted)\n",
    "mae = mean_absolute_error(actual, predicted)\n",
    "mse = mean_squared_error(actual, predicted)\n",
    "\n",
    "print(\"MAE:\", mae)\n",
    "print(\"MSE:\", mse)\n",
    "print(\"R^2:\", r2)"
   ]
  },
  {
   "cell_type": "code",
   "execution_count": 101,
   "metadata": {},
   "outputs": [
    {
     "data": {
      "text/html": [
       "<div>\n",
       "<style scoped>\n",
       "    .dataframe tbody tr th:only-of-type {\n",
       "        vertical-align: middle;\n",
       "    }\n",
       "\n",
       "    .dataframe tbody tr th {\n",
       "        vertical-align: top;\n",
       "    }\n",
       "\n",
       "    .dataframe thead th {\n",
       "        text-align: right;\n",
       "    }\n",
       "</style>\n",
       "<table border=\"1\" class=\"dataframe\">\n",
       "  <thead>\n",
       "    <tr style=\"text-align: right;\">\n",
       "      <th></th>\n",
       "      <th>Report</th>\n",
       "      <th>AverageManualScore</th>\n",
       "      <th>pdf_name</th>\n",
       "      <th>positive_sentiment_prob</th>\n",
       "    </tr>\n",
       "  </thead>\n",
       "  <tbody>\n",
       "    <tr>\n",
       "      <th>0</th>\n",
       "      <td>COMBINED-Q4-17-Shareholder-Letter-FINAL</td>\n",
       "      <td>0.600000</td>\n",
       "      <td>COMBINED-Q4-17-Shareholder-Letter-FINAL</td>\n",
       "      <td>0.538636</td>\n",
       "    </tr>\n",
       "    <tr>\n",
       "      <th>1</th>\n",
       "      <td>FINAL_Q2_15_Letter_to_Shareholders_With_Tables_</td>\n",
       "      <td>0.333333</td>\n",
       "      <td>FINAL_Q2_15_Letter_to_Shareholders_With_Tables_</td>\n",
       "      <td>0.539246</td>\n",
       "    </tr>\n",
       "    <tr>\n",
       "      <th>2</th>\n",
       "      <td>FINAL_Q3_15_Letter_to_Shareholders_With_Tables_</td>\n",
       "      <td>0.166667</td>\n",
       "      <td>FINAL_Q3_15_Letter_to_Shareholders_With_Tables_</td>\n",
       "      <td>0.539036</td>\n",
       "    </tr>\n",
       "    <tr>\n",
       "      <th>3</th>\n",
       "      <td>FINAL_Q3_Letter</td>\n",
       "      <td>0.483333</td>\n",
       "      <td>FINAL_Q3_Letter</td>\n",
       "      <td>0.539802</td>\n",
       "    </tr>\n",
       "    <tr>\n",
       "      <th>4</th>\n",
       "      <td>FINAL-Q1-18-Shareholder-Letter</td>\n",
       "      <td>0.500000</td>\n",
       "      <td>FINAL-Q1-18-Shareholder-Letter</td>\n",
       "      <td>0.539028</td>\n",
       "    </tr>\n",
       "  </tbody>\n",
       "</table>\n",
       "</div>"
      ],
      "text/plain": [
       "                                            Report  AverageManualScore  \\\n",
       "0          COMBINED-Q4-17-Shareholder-Letter-FINAL            0.600000   \n",
       "1  FINAL_Q2_15_Letter_to_Shareholders_With_Tables_            0.333333   \n",
       "2  FINAL_Q3_15_Letter_to_Shareholders_With_Tables_            0.166667   \n",
       "3                                  FINAL_Q3_Letter            0.483333   \n",
       "4                   FINAL-Q1-18-Shareholder-Letter            0.500000   \n",
       "\n",
       "                                          pdf_name  positive_sentiment_prob  \n",
       "0          COMBINED-Q4-17-Shareholder-Letter-FINAL                 0.538636  \n",
       "1  FINAL_Q2_15_Letter_to_Shareholders_With_Tables_                 0.539246  \n",
       "2  FINAL_Q3_15_Letter_to_Shareholders_With_Tables_                 0.539036  \n",
       "3                                  FINAL_Q3_Letter                 0.539802  \n",
       "4                   FINAL-Q1-18-Shareholder-Letter                 0.539028  "
      ]
     },
     "execution_count": 101,
     "metadata": {},
     "output_type": "execute_result"
    }
   ],
   "source": [
    "df.head()"
   ]
  },
  {
   "cell_type": "code",
   "execution_count": 20,
   "metadata": {},
   "outputs": [
    {
     "data": {
      "text/plain": [
       "(50, 4)"
      ]
     },
     "execution_count": 20,
     "metadata": {},
     "output_type": "execute_result"
    }
   ],
   "source": [
    "df.shape"
   ]
  },
  {
   "cell_type": "code",
   "execution_count": null,
   "metadata": {},
   "outputs": [],
   "source": []
  }
 ],
 "metadata": {
  "kernelspec": {
   "display_name": "Python 3",
   "language": "python",
   "name": "python3"
  },
  "language_info": {
   "codemirror_mode": {
    "name": "ipython",
    "version": 3
   },
   "file_extension": ".py",
   "mimetype": "text/x-python",
   "name": "python",
   "nbconvert_exporter": "python",
   "pygments_lexer": "ipython3",
   "version": "3.10.12"
  },
  "orig_nbformat": 4
 },
 "nbformat": 4,
 "nbformat_minor": 2
}
