{
 "cells": [
  {
   "cell_type": "code",
   "execution_count": 1,
   "metadata": {},
   "outputs": [],
   "source": [
    "# import libraries\n",
    "import pandas as pd\n",
    "import numpy as np"
   ]
  },
  {
   "cell_type": "code",
   "execution_count": 2,
   "metadata": {},
   "outputs": [],
   "source": [
    "# rates manually assigned to each report by Rachel\n",
    "manual_polarity = pd.read_excel('Src/manual_polarity.xlsx')\n",
    "manual_polarity = manual_polarity[['name', 'rate']]"
   ]
  },
  {
   "cell_type": "code",
   "execution_count": 3,
   "metadata": {},
   "outputs": [
    {
     "data": {
      "text/html": [
       "<div>\n",
       "<style scoped>\n",
       "    .dataframe tbody tr th:only-of-type {\n",
       "        vertical-align: middle;\n",
       "    }\n",
       "\n",
       "    .dataframe tbody tr th {\n",
       "        vertical-align: top;\n",
       "    }\n",
       "\n",
       "    .dataframe thead th {\n",
       "        text-align: right;\n",
       "    }\n",
       "</style>\n",
       "<table border=\"1\" class=\"dataframe\">\n",
       "  <thead>\n",
       "    <tr style=\"text-align: right;\">\n",
       "      <th></th>\n",
       "      <th>name</th>\n",
       "      <th>rate</th>\n",
       "    </tr>\n",
       "  </thead>\n",
       "  <tbody>\n",
       "    <tr>\n",
       "      <th>0</th>\n",
       "      <td>COMBINED-Q4-17-Shareholder-Letter-FINAL</td>\n",
       "      <td>0.70</td>\n",
       "    </tr>\n",
       "    <tr>\n",
       "      <th>1</th>\n",
       "      <td>FINAL_Q2_15_Letter_to_Shareholders_With_Tables_</td>\n",
       "      <td>0.60</td>\n",
       "    </tr>\n",
       "    <tr>\n",
       "      <th>2</th>\n",
       "      <td>FINAL_Q3_15_Letter_to_Shareholders_With_Tables_</td>\n",
       "      <td>0.55</td>\n",
       "    </tr>\n",
       "    <tr>\n",
       "      <th>3</th>\n",
       "      <td>FINAL_Q3_Letter</td>\n",
       "      <td>0.60</td>\n",
       "    </tr>\n",
       "    <tr>\n",
       "      <th>4</th>\n",
       "      <td>FINAL-Q1-18-Shareholder-Letter</td>\n",
       "      <td>0.70</td>\n",
       "    </tr>\n",
       "  </tbody>\n",
       "</table>\n",
       "</div>"
      ],
      "text/plain": [
       "                                              name  rate\n",
       "0          COMBINED-Q4-17-Shareholder-Letter-FINAL  0.70\n",
       "1  FINAL_Q2_15_Letter_to_Shareholders_With_Tables_  0.60\n",
       "2  FINAL_Q3_15_Letter_to_Shareholders_With_Tables_  0.55\n",
       "3                                  FINAL_Q3_Letter  0.60\n",
       "4                   FINAL-Q1-18-Shareholder-Letter  0.70"
      ]
     },
     "execution_count": 3,
     "metadata": {},
     "output_type": "execute_result"
    }
   ],
   "source": [
    "manual_polarity.head()"
   ]
  },
  {
   "cell_type": "markdown",
   "metadata": {},
   "source": [
    "### Open AI"
   ]
  },
  {
   "cell_type": "code",
   "execution_count": 4,
   "metadata": {},
   "outputs": [
    {
     "data": {
      "text/html": [
       "<div>\n",
       "<style scoped>\n",
       "    .dataframe tbody tr th:only-of-type {\n",
       "        vertical-align: middle;\n",
       "    }\n",
       "\n",
       "    .dataframe tbody tr th {\n",
       "        vertical-align: top;\n",
       "    }\n",
       "\n",
       "    .dataframe thead th {\n",
       "        text-align: right;\n",
       "    }\n",
       "</style>\n",
       "<table border=\"1\" class=\"dataframe\">\n",
       "  <thead>\n",
       "    <tr style=\"text-align: right;\">\n",
       "      <th></th>\n",
       "      <th>name</th>\n",
       "      <th>rate</th>\n",
       "      <th>pdf_name</th>\n",
       "      <th>polarity</th>\n",
       "    </tr>\n",
       "  </thead>\n",
       "  <tbody>\n",
       "    <tr>\n",
       "      <th>0</th>\n",
       "      <td>COMBINED-Q4-17-Shareholder-Letter-FINAL</td>\n",
       "      <td>0.70</td>\n",
       "      <td>COMBINED-Q4-17-Shareholder-Letter-FINAL</td>\n",
       "      <td>0.75</td>\n",
       "    </tr>\n",
       "    <tr>\n",
       "      <th>1</th>\n",
       "      <td>FINAL_Q2_15_Letter_to_Shareholders_With_Tables_</td>\n",
       "      <td>0.60</td>\n",
       "      <td>FINAL_Q2_15_Letter_to_Shareholders_With_Tables_</td>\n",
       "      <td>Positive</td>\n",
       "    </tr>\n",
       "    <tr>\n",
       "      <th>2</th>\n",
       "      <td>FINAL_Q3_15_Letter_to_Shareholders_With_Tables_</td>\n",
       "      <td>0.55</td>\n",
       "      <td>FINAL_Q3_15_Letter_to_Shareholders_With_Tables_</td>\n",
       "      <td>0.4667</td>\n",
       "    </tr>\n",
       "    <tr>\n",
       "      <th>3</th>\n",
       "      <td>FINAL_Q3_Letter</td>\n",
       "      <td>0.60</td>\n",
       "      <td>FINAL_Q3_Letter</td>\n",
       "      <td>0.4</td>\n",
       "    </tr>\n",
       "    <tr>\n",
       "      <th>4</th>\n",
       "      <td>FINAL-Q1-18-Shareholder-Letter</td>\n",
       "      <td>0.70</td>\n",
       "      <td>FINAL-Q1-18-Shareholder-Letter</td>\n",
       "      <td>0.5</td>\n",
       "    </tr>\n",
       "  </tbody>\n",
       "</table>\n",
       "</div>"
      ],
      "text/plain": [
       "                                              name  rate  \\\n",
       "0          COMBINED-Q4-17-Shareholder-Letter-FINAL  0.70   \n",
       "1  FINAL_Q2_15_Letter_to_Shareholders_With_Tables_  0.60   \n",
       "2  FINAL_Q3_15_Letter_to_Shareholders_With_Tables_  0.55   \n",
       "3                                  FINAL_Q3_Letter  0.60   \n",
       "4                   FINAL-Q1-18-Shareholder-Letter  0.70   \n",
       "\n",
       "                                          pdf_name  polarity  \n",
       "0          COMBINED-Q4-17-Shareholder-Letter-FINAL      0.75  \n",
       "1  FINAL_Q2_15_Letter_to_Shareholders_With_Tables_  Positive  \n",
       "2  FINAL_Q3_15_Letter_to_Shareholders_With_Tables_    0.4667  \n",
       "3                                  FINAL_Q3_Letter       0.4  \n",
       "4                   FINAL-Q1-18-Shareholder-Letter       0.5  "
      ]
     },
     "execution_count": 4,
     "metadata": {},
     "output_type": "execute_result"
    }
   ],
   "source": [
    "# read openai polarity scores\n",
    "openai_polarity = pd.read_csv('Scores/openai_polarity.csv')\n",
    "# merge two dataframes on the basis of tweet_id\n",
    "df = pd.merge(manual_polarity, openai_polarity, left_on='name', right_on=\"pdf_name\", how='inner')\n",
    "df.head()"
   ]
  },
  {
   "cell_type": "code",
   "execution_count": 5,
   "metadata": {},
   "outputs": [
    {
     "data": {
      "text/plain": [
       "(50, 2)"
      ]
     },
     "execution_count": 5,
     "metadata": {},
     "output_type": "execute_result"
    }
   ],
   "source": [
    "openai_polarity.shape"
   ]
  },
  {
   "cell_type": "code",
   "execution_count": 6,
   "metadata": {},
   "outputs": [
    {
     "data": {
      "text/plain": [
       "0.07654057092161448"
      ]
     },
     "execution_count": 6,
     "metadata": {},
     "output_type": "execute_result"
    }
   ],
   "source": [
    "df[\"polarity\"] = df[\"polarity\"].apply(lambda x: 0.65 if x == \"Positive\" else x)\n",
    "df[\"polarity\"] = df[\"polarity\"].apply(lambda x: 0.60 if x == \"Slightly positive\" else x)\n",
    "df[\"polarity\"] = pd.to_numeric(df[\"polarity\"])\n",
    "df.dropna(inplace=True)\n",
    "df[\"polarity\"].corr(df[\"rate\"]) # find the correlation between OpenAI polarity and manual polarity"
   ]
  },
  {
   "cell_type": "markdown",
   "metadata": {},
   "source": [
    "### TextBlob"
   ]
  },
  {
   "cell_type": "code",
   "execution_count": 9,
   "metadata": {},
   "outputs": [
    {
     "data": {
      "text/plain": [
       "0.1456781225852711"
      ]
     },
     "execution_count": 9,
     "metadata": {},
     "output_type": "execute_result"
    }
   ],
   "source": [
    "textblob_polarity = pd.read_csv(\"Scores/textblob_polarity.csv\")\n",
    "\n",
    "df = pd.merge(manual_polarity, textblob_polarity, left_on='name', right_on=\"pdf_name\", how='inner')\n",
    "df[\"polarity\"] = pd.to_numeric(df[\"polarity\"])\n",
    "df.dropna(inplace=True)\n",
    "df[\"polarity\"].corr(df[\"rate\"]) # find the correlation between TextBlob polarity and manual polarity"
   ]
  },
  {
   "cell_type": "code",
   "execution_count": 10,
   "metadata": {},
   "outputs": [
    {
     "data": {
      "text/plain": [
       "(50, 5)"
      ]
     },
     "execution_count": 10,
     "metadata": {},
     "output_type": "execute_result"
    }
   ],
   "source": [
    "df.shape"
   ]
  },
  {
   "cell_type": "code",
   "execution_count": 11,
   "metadata": {},
   "outputs": [
    {
     "name": "stdout",
     "output_type": "stream",
     "text": [
      "                                 OLS Regression Results                                \n",
      "=======================================================================================\n",
      "Dep. Variable:                   rate   R-squared (uncentered):                   0.966\n",
      "Model:                            OLS   Adj. R-squared (uncentered):              0.965\n",
      "Method:                 Least Squares   F-statistic:                              1384.\n",
      "Date:                Mon, 21 Aug 2023   Prob (F-statistic):                    1.38e-37\n",
      "Time:                        00:56:02   Log-Likelihood:                          35.430\n",
      "No. Observations:                  50   AIC:                                     -68.86\n",
      "Df Residuals:                      49   BIC:                                     -66.95\n",
      "Df Model:                           1                                                  \n",
      "Covariance Type:            nonrobust                                                  \n",
      "==============================================================================\n",
      "                 coef    std err          t      P>|t|      [0.025      0.975]\n",
      "------------------------------------------------------------------------------\n",
      "polarity       4.5929      0.123     37.207      0.000       4.345       4.841\n",
      "==============================================================================\n",
      "Omnibus:                        7.475   Durbin-Watson:                   1.628\n",
      "Prob(Omnibus):                  0.024   Jarque-Bera (JB):                7.717\n",
      "Skew:                           0.573   Prob(JB):                       0.0211\n",
      "Kurtosis:                       4.546   Cond. No.                         1.00\n",
      "==============================================================================\n",
      "\n",
      "Notes:\n",
      "[1] R² is computed without centering (uncentered) since the model does not contain a constant.\n",
      "[2] Standard Errors assume that the covariance matrix of the errors is correctly specified.\n"
     ]
    }
   ],
   "source": [
    "import statsmodels.api as sm\n",
    "\n",
    "x = df[['polarity']]\n",
    "y = df['rate']\n",
    "\n",
    "# x = sm.add_constant(x)\n",
    "\n",
    "model = sm.OLS(y, x).fit()\n",
    "predictions = model.predict(x) \n",
    "\n",
    "print_model = model.summary()\n",
    "print(print_model)"
   ]
  },
  {
   "cell_type": "markdown",
   "metadata": {},
   "source": [
    "### Amazon"
   ]
  },
  {
   "cell_type": "code",
   "execution_count": 21,
   "metadata": {},
   "outputs": [
    {
     "data": {
      "text/plain": [
       "0.23833402723200006"
      ]
     },
     "execution_count": 21,
     "metadata": {},
     "output_type": "execute_result"
    }
   ],
   "source": [
    "polarity_amazon = pd.read_csv('Scores/amazon_polarity.csv')\n",
    "\n",
    "df = pd.merge(manual_polarity, polarity_amazon, left_on='name', right_on=\"pdf_name\", how='inner')\n",
    "df[\"polarity\"] = pd.to_numeric(df[\"polarity\"])\n",
    "df.dropna(inplace=True)\n",
    "df[\"polarity\"].corr(df[\"rate\"])"
   ]
  },
  {
   "cell_type": "code",
   "execution_count": 22,
   "metadata": {},
   "outputs": [
    {
     "data": {
      "text/plain": [
       "(49, 4)"
      ]
     },
     "execution_count": 22,
     "metadata": {},
     "output_type": "execute_result"
    }
   ],
   "source": [
    "df.shape"
   ]
  },
  {
   "cell_type": "code",
   "execution_count": 23,
   "metadata": {},
   "outputs": [
    {
     "data": {
      "text/html": [
       "<div>\n",
       "<style scoped>\n",
       "    .dataframe tbody tr th:only-of-type {\n",
       "        vertical-align: middle;\n",
       "    }\n",
       "\n",
       "    .dataframe tbody tr th {\n",
       "        vertical-align: top;\n",
       "    }\n",
       "\n",
       "    .dataframe thead th {\n",
       "        text-align: right;\n",
       "    }\n",
       "</style>\n",
       "<table border=\"1\" class=\"dataframe\">\n",
       "  <thead>\n",
       "    <tr style=\"text-align: right;\">\n",
       "      <th></th>\n",
       "      <th>name</th>\n",
       "      <th>rate</th>\n",
       "      <th>pdf_name</th>\n",
       "      <th>polarity</th>\n",
       "    </tr>\n",
       "  </thead>\n",
       "  <tbody>\n",
       "    <tr>\n",
       "      <th>0</th>\n",
       "      <td>COMBINED-Q4-17-Shareholder-Letter-FINAL</td>\n",
       "      <td>0.70</td>\n",
       "      <td>COMBINED-Q4-17-Shareholder-Letter-FINAL</td>\n",
       "      <td>0.905803</td>\n",
       "    </tr>\n",
       "    <tr>\n",
       "      <th>1</th>\n",
       "      <td>FINAL_Q2_15_Letter_to_Shareholders_With_Tables_</td>\n",
       "      <td>0.60</td>\n",
       "      <td>FINAL_Q2_15_Letter_to_Shareholders_With_Tables_</td>\n",
       "      <td>0.807176</td>\n",
       "    </tr>\n",
       "    <tr>\n",
       "      <th>2</th>\n",
       "      <td>FINAL_Q3_15_Letter_to_Shareholders_With_Tables_</td>\n",
       "      <td>0.55</td>\n",
       "      <td>FINAL_Q3_15_Letter_to_Shareholders_With_Tables_</td>\n",
       "      <td>0.765612</td>\n",
       "    </tr>\n",
       "    <tr>\n",
       "      <th>3</th>\n",
       "      <td>FINAL_Q3_Letter</td>\n",
       "      <td>0.60</td>\n",
       "      <td>FINAL_Q3_Letter</td>\n",
       "      <td>0.769323</td>\n",
       "    </tr>\n",
       "    <tr>\n",
       "      <th>4</th>\n",
       "      <td>FINAL-Q1-18-Shareholder-Letter</td>\n",
       "      <td>0.70</td>\n",
       "      <td>FINAL-Q1-18-Shareholder-Letter</td>\n",
       "      <td>0.874805</td>\n",
       "    </tr>\n",
       "  </tbody>\n",
       "</table>\n",
       "</div>"
      ],
      "text/plain": [
       "                                              name  rate  \\\n",
       "0          COMBINED-Q4-17-Shareholder-Letter-FINAL  0.70   \n",
       "1  FINAL_Q2_15_Letter_to_Shareholders_With_Tables_  0.60   \n",
       "2  FINAL_Q3_15_Letter_to_Shareholders_With_Tables_  0.55   \n",
       "3                                  FINAL_Q3_Letter  0.60   \n",
       "4                   FINAL-Q1-18-Shareholder-Letter  0.70   \n",
       "\n",
       "                                          pdf_name  polarity  \n",
       "0          COMBINED-Q4-17-Shareholder-Letter-FINAL  0.905803  \n",
       "1  FINAL_Q2_15_Letter_to_Shareholders_With_Tables_  0.807176  \n",
       "2  FINAL_Q3_15_Letter_to_Shareholders_With_Tables_  0.765612  \n",
       "3                                  FINAL_Q3_Letter  0.769323  \n",
       "4                   FINAL-Q1-18-Shareholder-Letter  0.874805  "
      ]
     },
     "execution_count": 23,
     "metadata": {},
     "output_type": "execute_result"
    }
   ],
   "source": [
    "df.head()"
   ]
  },
  {
   "cell_type": "code",
   "execution_count": 24,
   "metadata": {},
   "outputs": [
    {
     "name": "stdout",
     "output_type": "stream",
     "text": [
      "                                 OLS Regression Results                                \n",
      "=======================================================================================\n",
      "Dep. Variable:                   rate   R-squared (uncentered):                   0.986\n",
      "Model:                            OLS   Adj. R-squared (uncentered):              0.986\n",
      "Method:                 Least Squares   F-statistic:                              3374.\n",
      "Date:                Mon, 21 Aug 2023   Prob (F-statistic):                    3.87e-46\n",
      "Time:                        01:21:53   Log-Likelihood:                          56.244\n",
      "No. Observations:                  49   AIC:                                     -110.5\n",
      "Df Residuals:                      48   BIC:                                     -108.6\n",
      "Df Model:                           1                                                  \n",
      "Covariance Type:            nonrobust                                                  \n",
      "==============================================================================\n",
      "                 coef    std err          t      P>|t|      [0.025      0.975]\n",
      "------------------------------------------------------------------------------\n",
      "polarity       0.7939      0.014     58.090      0.000       0.766       0.821\n",
      "==============================================================================\n",
      "Omnibus:                        4.590   Durbin-Watson:                   1.155\n",
      "Prob(Omnibus):                  0.101   Jarque-Bera (JB):                3.834\n",
      "Skew:                          -0.400   Prob(JB):                        0.147\n",
      "Kurtosis:                       4.113   Cond. No.                         1.00\n",
      "==============================================================================\n",
      "\n",
      "Notes:\n",
      "[1] R² is computed without centering (uncentered) since the model does not contain a constant.\n",
      "[2] Standard Errors assume that the covariance matrix of the errors is correctly specified.\n"
     ]
    }
   ],
   "source": [
    "import statsmodels.api as sm\n",
    "\n",
    "x = df[['polarity']]\n",
    "y = df['rate']\n",
    "\n",
    "# x = sm.add_constant(x)\n",
    "\n",
    "model = sm.OLS(y, x).fit()\n",
    "predictions = model.predict(x) \n",
    "\n",
    "print_model = model.summary()\n",
    "print(print_model)"
   ]
  },
  {
   "cell_type": "markdown",
   "metadata": {},
   "source": [
    "### Google "
   ]
  },
  {
   "cell_type": "code",
   "execution_count": 14,
   "metadata": {},
   "outputs": [
    {
     "data": {
      "text/plain": [
       "0.3018331223455835"
      ]
     },
     "execution_count": 14,
     "metadata": {},
     "output_type": "execute_result"
    }
   ],
   "source": [
    "polarity_google = pd.read_csv('Scores/google_polarity.csv')\n",
    "\n",
    "df = pd.merge(manual_polarity, polarity_google, left_on='name', right_on=\"pdf_name\", how='inner')\n",
    "df[\"polarity\"] = pd.to_numeric(df[\"polarity\"])\n",
    "df.dropna(inplace=True)\n",
    "df[\"polarity\"].corr(df[\"rate\"])"
   ]
  },
  {
   "cell_type": "code",
   "execution_count": 15,
   "metadata": {},
   "outputs": [
    {
     "data": {
      "text/plain": [
       "(50, 4)"
      ]
     },
     "execution_count": 15,
     "metadata": {},
     "output_type": "execute_result"
    }
   ],
   "source": [
    "df.shape"
   ]
  },
  {
   "cell_type": "code",
   "execution_count": 16,
   "metadata": {},
   "outputs": [
    {
     "data": {
      "text/html": [
       "<div>\n",
       "<style scoped>\n",
       "    .dataframe tbody tr th:only-of-type {\n",
       "        vertical-align: middle;\n",
       "    }\n",
       "\n",
       "    .dataframe tbody tr th {\n",
       "        vertical-align: top;\n",
       "    }\n",
       "\n",
       "    .dataframe thead th {\n",
       "        text-align: right;\n",
       "    }\n",
       "</style>\n",
       "<table border=\"1\" class=\"dataframe\">\n",
       "  <thead>\n",
       "    <tr style=\"text-align: right;\">\n",
       "      <th></th>\n",
       "      <th>name</th>\n",
       "      <th>rate</th>\n",
       "      <th>pdf_name</th>\n",
       "      <th>polarity</th>\n",
       "    </tr>\n",
       "  </thead>\n",
       "  <tbody>\n",
       "    <tr>\n",
       "      <th>0</th>\n",
       "      <td>COMBINED-Q4-17-Shareholder-Letter-FINAL</td>\n",
       "      <td>0.70</td>\n",
       "      <td>COMBINED-Q4-17-Shareholder-Letter-FINAL</td>\n",
       "      <td>0.2</td>\n",
       "    </tr>\n",
       "    <tr>\n",
       "      <th>1</th>\n",
       "      <td>FINAL_Q2_15_Letter_to_Shareholders_With_Tables_</td>\n",
       "      <td>0.60</td>\n",
       "      <td>FINAL_Q2_15_Letter_to_Shareholders_With_Tables_</td>\n",
       "      <td>0.2</td>\n",
       "    </tr>\n",
       "    <tr>\n",
       "      <th>2</th>\n",
       "      <td>FINAL_Q3_15_Letter_to_Shareholders_With_Tables_</td>\n",
       "      <td>0.55</td>\n",
       "      <td>FINAL_Q3_15_Letter_to_Shareholders_With_Tables_</td>\n",
       "      <td>0.1</td>\n",
       "    </tr>\n",
       "    <tr>\n",
       "      <th>3</th>\n",
       "      <td>FINAL_Q3_Letter</td>\n",
       "      <td>0.60</td>\n",
       "      <td>FINAL_Q3_Letter</td>\n",
       "      <td>0.2</td>\n",
       "    </tr>\n",
       "    <tr>\n",
       "      <th>4</th>\n",
       "      <td>FINAL-Q1-18-Shareholder-Letter</td>\n",
       "      <td>0.70</td>\n",
       "      <td>FINAL-Q1-18-Shareholder-Letter</td>\n",
       "      <td>0.2</td>\n",
       "    </tr>\n",
       "  </tbody>\n",
       "</table>\n",
       "</div>"
      ],
      "text/plain": [
       "                                              name  rate  \\\n",
       "0          COMBINED-Q4-17-Shareholder-Letter-FINAL  0.70   \n",
       "1  FINAL_Q2_15_Letter_to_Shareholders_With_Tables_  0.60   \n",
       "2  FINAL_Q3_15_Letter_to_Shareholders_With_Tables_  0.55   \n",
       "3                                  FINAL_Q3_Letter  0.60   \n",
       "4                   FINAL-Q1-18-Shareholder-Letter  0.70   \n",
       "\n",
       "                                          pdf_name  polarity  \n",
       "0          COMBINED-Q4-17-Shareholder-Letter-FINAL       0.2  \n",
       "1  FINAL_Q2_15_Letter_to_Shareholders_With_Tables_       0.2  \n",
       "2  FINAL_Q3_15_Letter_to_Shareholders_With_Tables_       0.1  \n",
       "3                                  FINAL_Q3_Letter       0.2  \n",
       "4                   FINAL-Q1-18-Shareholder-Letter       0.2  "
      ]
     },
     "execution_count": 16,
     "metadata": {},
     "output_type": "execute_result"
    }
   ],
   "source": [
    "df.head()"
   ]
  },
  {
   "cell_type": "code",
   "execution_count": 17,
   "metadata": {},
   "outputs": [
    {
     "name": "stdout",
     "output_type": "stream",
     "text": [
      "                                 OLS Regression Results                                \n",
      "=======================================================================================\n",
      "Dep. Variable:                   rate   R-squared (uncentered):                   0.866\n",
      "Model:                            OLS   Adj. R-squared (uncentered):              0.864\n",
      "Method:                 Least Squares   F-statistic:                              317.9\n",
      "Date:                Mon, 21 Aug 2023   Prob (F-statistic):                    4.59e-23\n",
      "Time:                        00:56:26   Log-Likelihood:                          1.3654\n",
      "No. Observations:                  50   AIC:                                    -0.7309\n",
      "Df Residuals:                      49   BIC:                                      1.181\n",
      "Df Model:                           1                                                  \n",
      "Covariance Type:            nonrobust                                                  \n",
      "==============================================================================\n",
      "                 coef    std err          t      P>|t|      [0.025      0.975]\n",
      "------------------------------------------------------------------------------\n",
      "polarity       3.5971      0.202     17.831      0.000       3.192       4.003\n",
      "==============================================================================\n",
      "Omnibus:                        3.779   Durbin-Watson:                   1.501\n",
      "Prob(Omnibus):                  0.151   Jarque-Bera (JB):                1.804\n",
      "Skew:                          -0.087   Prob(JB):                        0.406\n",
      "Kurtosis:                       2.086   Cond. No.                         1.00\n",
      "==============================================================================\n",
      "\n",
      "Notes:\n",
      "[1] R² is computed without centering (uncentered) since the model does not contain a constant.\n",
      "[2] Standard Errors assume that the covariance matrix of the errors is correctly specified.\n"
     ]
    }
   ],
   "source": [
    "import statsmodels.api as sm\n",
    "\n",
    "x = df[['polarity']]\n",
    "y = df['rate']\n",
    "\n",
    "# x = sm.add_constant(x)\n",
    "\n",
    "model = sm.OLS(y, x).fit()\n",
    "predictions = model.predict(x) \n",
    "\n",
    "print_model = model.summary()\n",
    "print(print_model)"
   ]
  },
  {
   "cell_type": "markdown",
   "metadata": {},
   "source": [
    "### BART "
   ]
  },
  {
   "cell_type": "code",
   "execution_count": 18,
   "metadata": {},
   "outputs": [
    {
     "data": {
      "text/plain": [
       "0.2141413668331887"
      ]
     },
     "execution_count": 18,
     "metadata": {},
     "output_type": "execute_result"
    }
   ],
   "source": [
    "polarity_bart = pd.read_csv('Src/bart_positive_sentiment_probs.csv')\n",
    "\n",
    "df = pd.merge(manual_polarity, polarity_bart, left_on='name', right_on=\"pdf_name\", how='inner')\n",
    "df[\"positive_sentiment_prob\"] = df[\"positive_sentiment_prob\"].apply(lambda x: 0.5 if x == \"Positive\" else x)\n",
    "df[\"positive_sentiment_prob\"] = pd.to_numeric(df[\"positive_sentiment_prob\"])\n",
    "df.dropna(inplace=True)\n",
    "df[\"positive_sentiment_prob\"].corr(df[\"rate\"])"
   ]
  },
  {
   "cell_type": "code",
   "execution_count": 19,
   "metadata": {},
   "outputs": [
    {
     "data": {
      "text/html": [
       "<div>\n",
       "<style scoped>\n",
       "    .dataframe tbody tr th:only-of-type {\n",
       "        vertical-align: middle;\n",
       "    }\n",
       "\n",
       "    .dataframe tbody tr th {\n",
       "        vertical-align: top;\n",
       "    }\n",
       "\n",
       "    .dataframe thead th {\n",
       "        text-align: right;\n",
       "    }\n",
       "</style>\n",
       "<table border=\"1\" class=\"dataframe\">\n",
       "  <thead>\n",
       "    <tr style=\"text-align: right;\">\n",
       "      <th></th>\n",
       "      <th>name</th>\n",
       "      <th>rate</th>\n",
       "      <th>pdf_name</th>\n",
       "      <th>positive_sentiment_prob</th>\n",
       "    </tr>\n",
       "  </thead>\n",
       "  <tbody>\n",
       "    <tr>\n",
       "      <th>0</th>\n",
       "      <td>COMBINED-Q4-17-Shareholder-Letter-FINAL</td>\n",
       "      <td>0.70</td>\n",
       "      <td>COMBINED-Q4-17-Shareholder-Letter-FINAL</td>\n",
       "      <td>0.538636</td>\n",
       "    </tr>\n",
       "    <tr>\n",
       "      <th>1</th>\n",
       "      <td>FINAL_Q2_15_Letter_to_Shareholders_With_Tables_</td>\n",
       "      <td>0.60</td>\n",
       "      <td>FINAL_Q2_15_Letter_to_Shareholders_With_Tables_</td>\n",
       "      <td>0.539246</td>\n",
       "    </tr>\n",
       "    <tr>\n",
       "      <th>2</th>\n",
       "      <td>FINAL_Q3_15_Letter_to_Shareholders_With_Tables_</td>\n",
       "      <td>0.55</td>\n",
       "      <td>FINAL_Q3_15_Letter_to_Shareholders_With_Tables_</td>\n",
       "      <td>0.539036</td>\n",
       "    </tr>\n",
       "    <tr>\n",
       "      <th>3</th>\n",
       "      <td>FINAL_Q3_Letter</td>\n",
       "      <td>0.60</td>\n",
       "      <td>FINAL_Q3_Letter</td>\n",
       "      <td>0.539802</td>\n",
       "    </tr>\n",
       "    <tr>\n",
       "      <th>4</th>\n",
       "      <td>FINAL-Q1-18-Shareholder-Letter</td>\n",
       "      <td>0.70</td>\n",
       "      <td>FINAL-Q1-18-Shareholder-Letter</td>\n",
       "      <td>0.539028</td>\n",
       "    </tr>\n",
       "  </tbody>\n",
       "</table>\n",
       "</div>"
      ],
      "text/plain": [
       "                                              name  rate  \\\n",
       "0          COMBINED-Q4-17-Shareholder-Letter-FINAL  0.70   \n",
       "1  FINAL_Q2_15_Letter_to_Shareholders_With_Tables_  0.60   \n",
       "2  FINAL_Q3_15_Letter_to_Shareholders_With_Tables_  0.55   \n",
       "3                                  FINAL_Q3_Letter  0.60   \n",
       "4                   FINAL-Q1-18-Shareholder-Letter  0.70   \n",
       "\n",
       "                                          pdf_name  positive_sentiment_prob  \n",
       "0          COMBINED-Q4-17-Shareholder-Letter-FINAL                 0.538636  \n",
       "1  FINAL_Q2_15_Letter_to_Shareholders_With_Tables_                 0.539246  \n",
       "2  FINAL_Q3_15_Letter_to_Shareholders_With_Tables_                 0.539036  \n",
       "3                                  FINAL_Q3_Letter                 0.539802  \n",
       "4                   FINAL-Q1-18-Shareholder-Letter                 0.539028  "
      ]
     },
     "execution_count": 19,
     "metadata": {},
     "output_type": "execute_result"
    }
   ],
   "source": [
    "df.head()"
   ]
  },
  {
   "cell_type": "code",
   "execution_count": 20,
   "metadata": {},
   "outputs": [
    {
     "data": {
      "text/plain": [
       "(50, 4)"
      ]
     },
     "execution_count": 20,
     "metadata": {},
     "output_type": "execute_result"
    }
   ],
   "source": [
    "df.shape"
   ]
  },
  {
   "cell_type": "code",
   "execution_count": null,
   "metadata": {},
   "outputs": [],
   "source": []
  }
 ],
 "metadata": {
  "kernelspec": {
   "display_name": "Python 3",
   "language": "python",
   "name": "python3"
  },
  "language_info": {
   "codemirror_mode": {
    "name": "ipython",
    "version": 3
   },
   "file_extension": ".py",
   "mimetype": "text/x-python",
   "name": "python",
   "nbconvert_exporter": "python",
   "pygments_lexer": "ipython3",
   "version": "3.10.8"
  },
  "orig_nbformat": 4
 },
 "nbformat": 4,
 "nbformat_minor": 2
}
