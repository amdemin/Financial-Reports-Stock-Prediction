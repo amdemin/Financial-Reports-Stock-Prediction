{
 "cells": [
  {
   "cell_type": "code",
   "execution_count": 1,
   "metadata": {},
   "outputs": [],
   "source": [
    "# import libraries\n",
    "import pandas as pd\n",
    "import numpy as np"
   ]
  },
  {
   "cell_type": "code",
   "execution_count": 2,
   "metadata": {},
   "outputs": [],
   "source": [
    "# rates manually assigned to each report by Rachel\n",
    "manual_polarity = pd.read_excel('Src/manual_polarity.xlsx')\n",
    "manual_polarity = manual_polarity[['name', 'rate']]"
   ]
  },
  {
   "cell_type": "code",
   "execution_count": 3,
   "metadata": {},
   "outputs": [
    {
     "data": {
      "text/html": [
       "<div>\n",
       "<style scoped>\n",
       "    .dataframe tbody tr th:only-of-type {\n",
       "        vertical-align: middle;\n",
       "    }\n",
       "\n",
       "    .dataframe tbody tr th {\n",
       "        vertical-align: top;\n",
       "    }\n",
       "\n",
       "    .dataframe thead th {\n",
       "        text-align: right;\n",
       "    }\n",
       "</style>\n",
       "<table border=\"1\" class=\"dataframe\">\n",
       "  <thead>\n",
       "    <tr style=\"text-align: right;\">\n",
       "      <th></th>\n",
       "      <th>name</th>\n",
       "      <th>rate</th>\n",
       "    </tr>\n",
       "  </thead>\n",
       "  <tbody>\n",
       "    <tr>\n",
       "      <th>0</th>\n",
       "      <td>COMBINED-Q4-17-Shareholder-Letter-FINAL</td>\n",
       "      <td>0.70</td>\n",
       "    </tr>\n",
       "    <tr>\n",
       "      <th>1</th>\n",
       "      <td>FINAL_Q2_15_Letter_to_Shareholders_With_Tables_</td>\n",
       "      <td>0.60</td>\n",
       "    </tr>\n",
       "    <tr>\n",
       "      <th>2</th>\n",
       "      <td>FINAL_Q3_15_Letter_to_Shareholders_With_Tables_</td>\n",
       "      <td>0.55</td>\n",
       "    </tr>\n",
       "    <tr>\n",
       "      <th>3</th>\n",
       "      <td>FINAL_Q3_Letter</td>\n",
       "      <td>0.60</td>\n",
       "    </tr>\n",
       "    <tr>\n",
       "      <th>4</th>\n",
       "      <td>FINAL-Q1-18-Shareholder-Letter</td>\n",
       "      <td>0.70</td>\n",
       "    </tr>\n",
       "  </tbody>\n",
       "</table>\n",
       "</div>"
      ],
      "text/plain": [
       "                                              name  rate\n",
       "0          COMBINED-Q4-17-Shareholder-Letter-FINAL  0.70\n",
       "1  FINAL_Q2_15_Letter_to_Shareholders_With_Tables_  0.60\n",
       "2  FINAL_Q3_15_Letter_to_Shareholders_With_Tables_  0.55\n",
       "3                                  FINAL_Q3_Letter  0.60\n",
       "4                   FINAL-Q1-18-Shareholder-Letter  0.70"
      ]
     },
     "execution_count": 3,
     "metadata": {},
     "output_type": "execute_result"
    }
   ],
   "source": [
    "manual_polarity.head()"
   ]
  },
  {
   "cell_type": "markdown",
   "metadata": {},
   "source": [
    "### Open AI"
   ]
  },
  {
   "cell_type": "code",
   "execution_count": 4,
   "metadata": {},
   "outputs": [
    {
     "data": {
      "text/html": [
       "<div>\n",
       "<style scoped>\n",
       "    .dataframe tbody tr th:only-of-type {\n",
       "        vertical-align: middle;\n",
       "    }\n",
       "\n",
       "    .dataframe tbody tr th {\n",
       "        vertical-align: top;\n",
       "    }\n",
       "\n",
       "    .dataframe thead th {\n",
       "        text-align: right;\n",
       "    }\n",
       "</style>\n",
       "<table border=\"1\" class=\"dataframe\">\n",
       "  <thead>\n",
       "    <tr style=\"text-align: right;\">\n",
       "      <th></th>\n",
       "      <th>name</th>\n",
       "      <th>rate</th>\n",
       "      <th>pdf_name</th>\n",
       "      <th>polarity</th>\n",
       "    </tr>\n",
       "  </thead>\n",
       "  <tbody>\n",
       "    <tr>\n",
       "      <th>0</th>\n",
       "      <td>COMBINED-Q4-17-Shareholder-Letter-FINAL</td>\n",
       "      <td>0.70</td>\n",
       "      <td>COMBINED-Q4-17-Shareholder-Letter-FINAL</td>\n",
       "      <td>0.75</td>\n",
       "    </tr>\n",
       "    <tr>\n",
       "      <th>1</th>\n",
       "      <td>FINAL_Q2_15_Letter_to_Shareholders_With_Tables_</td>\n",
       "      <td>0.60</td>\n",
       "      <td>FINAL_Q2_15_Letter_to_Shareholders_With_Tables_</td>\n",
       "      <td>Positive</td>\n",
       "    </tr>\n",
       "    <tr>\n",
       "      <th>2</th>\n",
       "      <td>FINAL_Q3_15_Letter_to_Shareholders_With_Tables_</td>\n",
       "      <td>0.55</td>\n",
       "      <td>FINAL_Q3_15_Letter_to_Shareholders_With_Tables_</td>\n",
       "      <td>0.4667</td>\n",
       "    </tr>\n",
       "    <tr>\n",
       "      <th>3</th>\n",
       "      <td>FINAL_Q3_Letter</td>\n",
       "      <td>0.60</td>\n",
       "      <td>FINAL_Q3_Letter</td>\n",
       "      <td>0.4</td>\n",
       "    </tr>\n",
       "    <tr>\n",
       "      <th>4</th>\n",
       "      <td>FINAL-Q1-18-Shareholder-Letter</td>\n",
       "      <td>0.70</td>\n",
       "      <td>FINAL-Q1-18-Shareholder-Letter</td>\n",
       "      <td>0.5</td>\n",
       "    </tr>\n",
       "  </tbody>\n",
       "</table>\n",
       "</div>"
      ],
      "text/plain": [
       "                                              name  rate  \\\n",
       "0          COMBINED-Q4-17-Shareholder-Letter-FINAL  0.70   \n",
       "1  FINAL_Q2_15_Letter_to_Shareholders_With_Tables_  0.60   \n",
       "2  FINAL_Q3_15_Letter_to_Shareholders_With_Tables_  0.55   \n",
       "3                                  FINAL_Q3_Letter  0.60   \n",
       "4                   FINAL-Q1-18-Shareholder-Letter  0.70   \n",
       "\n",
       "                                          pdf_name  polarity  \n",
       "0          COMBINED-Q4-17-Shareholder-Letter-FINAL      0.75  \n",
       "1  FINAL_Q2_15_Letter_to_Shareholders_With_Tables_  Positive  \n",
       "2  FINAL_Q3_15_Letter_to_Shareholders_With_Tables_    0.4667  \n",
       "3                                  FINAL_Q3_Letter       0.4  \n",
       "4                   FINAL-Q1-18-Shareholder-Letter       0.5  "
      ]
     },
     "execution_count": 4,
     "metadata": {},
     "output_type": "execute_result"
    }
   ],
   "source": [
    "# read openai polarity scores\n",
    "openai_polarity = pd.read_csv('Scores/openai_polarity.csv')\n",
    "# merge two dataframes on the basis of tweet_id\n",
    "df = pd.merge(manual_polarity, openai_polarity, left_on='name', right_on=\"pdf_name\", how='inner')\n",
    "df.head()"
   ]
  },
  {
   "cell_type": "code",
   "execution_count": 5,
   "metadata": {},
   "outputs": [
    {
     "data": {
      "text/plain": [
       "(50, 2)"
      ]
     },
     "execution_count": 5,
     "metadata": {},
     "output_type": "execute_result"
    }
   ],
   "source": [
    "openai_polarity.shape"
   ]
  },
  {
   "cell_type": "code",
   "execution_count": 6,
   "metadata": {},
   "outputs": [
    {
     "data": {
      "text/plain": [
       "0.07654057092161448"
      ]
     },
     "execution_count": 6,
     "metadata": {},
     "output_type": "execute_result"
    }
   ],
   "source": [
    "df[\"polarity\"] = df[\"polarity\"].apply(lambda x: 0.65 if x == \"Positive\" else x)\n",
    "df[\"polarity\"] = df[\"polarity\"].apply(lambda x: 0.60 if x == \"Slightly positive\" else x)\n",
    "df[\"polarity\"] = pd.to_numeric(df[\"polarity\"])\n",
    "df.dropna(inplace=True)\n",
    "df[\"polarity\"].corr(df[\"rate\"]) # find the correlation between OpenAI polarity and manual polarity"
   ]
  },
  {
   "cell_type": "markdown",
   "metadata": {},
   "source": [
    "### TextBlob"
   ]
  },
  {
   "cell_type": "code",
   "execution_count": 103,
   "metadata": {},
   "outputs": [
    {
     "data": {
      "text/plain": [
       "0.22257150610438023"
      ]
     },
     "execution_count": 103,
     "metadata": {},
     "output_type": "execute_result"
    }
   ],
   "source": [
    "textblob_polarity = pd.read_csv(\"Scores/textblob_polarity.csv\")\n",
    "\n",
    "df = pd.merge(manual_polarity, polarity_textblob, left_on='name', right_on=\"pdf_name\", how='inner')\n",
    "df[\"polarity\"] = pd.to_numeric(df[\"polarity\"])\n",
    "df.dropna(inplace=True)\n",
    "df[\"polarity\"].corr(df[\"rate\"]) # find the correlation between TextBlob polarity and manual polarity"
   ]
  },
  {
   "cell_type": "code",
   "execution_count": 85,
   "metadata": {},
   "outputs": [
    {
     "data": {
      "text/plain": [
       "(50, 5)"
      ]
     },
     "execution_count": 85,
     "metadata": {},
     "output_type": "execute_result"
    }
   ],
   "source": [
    "df.shape"
   ]
  },
  {
   "cell_type": "code",
   "execution_count": 104,
   "metadata": {},
   "outputs": [
    {
     "name": "stdout",
     "output_type": "stream",
     "text": [
      "                                 OLS Regression Results                                \n",
      "=======================================================================================\n",
      "Dep. Variable:                   rate   R-squared (uncentered):                   0.958\n",
      "Model:                            OLS   Adj. R-squared (uncentered):              0.957\n",
      "Method:                 Least Squares   F-statistic:                              1105.\n",
      "Date:                Sat, 19 Aug 2023   Prob (F-statistic):                    2.79e-35\n",
      "Time:                        11:31:30   Log-Likelihood:                          30.020\n",
      "No. Observations:                  50   AIC:                                     -58.04\n",
      "Df Residuals:                      49   BIC:                                     -56.13\n",
      "Df Model:                           1                                                  \n",
      "Covariance Type:            nonrobust                                                  \n",
      "==============================================================================\n",
      "                 coef    std err          t      P>|t|      [0.025      0.975]\n",
      "------------------------------------------------------------------------------\n",
      "polarity       5.1506      0.155     33.249      0.000       4.839       5.462\n",
      "==============================================================================\n",
      "Omnibus:                        3.760   Durbin-Watson:                   1.477\n",
      "Prob(Omnibus):                  0.153   Jarque-Bera (JB):                3.540\n",
      "Skew:                           0.143   Prob(JB):                        0.170\n",
      "Kurtosis:                       4.272   Cond. No.                         1.00\n",
      "==============================================================================\n",
      "\n",
      "Notes:\n",
      "[1] R² is computed without centering (uncentered) since the model does not contain a constant.\n",
      "[2] Standard Errors assume that the covariance matrix of the errors is correctly specified.\n"
     ]
    }
   ],
   "source": [
    "import statsmodels.api as sm\n",
    "\n",
    "x = df[['polarity']]\n",
    "y = df['rate']\n",
    "\n",
    "# x = sm.add_constant(x)\n",
    "\n",
    "model = sm.OLS(y, x).fit()\n",
    "predictions = model.predict(x) \n",
    "\n",
    "print_model = model.summary()\n",
    "print(print_model)"
   ]
  },
  {
   "cell_type": "markdown",
   "metadata": {},
   "source": [
    "### Amazon"
   ]
  },
  {
   "cell_type": "code",
   "execution_count": 119,
   "metadata": {},
   "outputs": [
    {
     "data": {
      "text/plain": [
       "-0.03792775640146495"
      ]
     },
     "execution_count": 119,
     "metadata": {},
     "output_type": "execute_result"
    }
   ],
   "source": [
    "polarity_amazon = pd.read_csv('Scores/amazon_polarity.csv')\n",
    "\n",
    "df = pd.merge(manual_polarity, polarity_amazon, left_on='name', right_on=\"pdf_name\", how='inner')\n",
    "df[\"polarity\"] = pd.to_numeric(df[\"polarity\"])\n",
    "df.dropna(inplace=True)\n",
    "df[\"polarity\"].corr(df[\"rate\"])"
   ]
  },
  {
   "cell_type": "code",
   "execution_count": 120,
   "metadata": {},
   "outputs": [
    {
     "data": {
      "text/plain": [
       "(42, 4)"
      ]
     },
     "execution_count": 120,
     "metadata": {},
     "output_type": "execute_result"
    }
   ],
   "source": [
    "df.shape"
   ]
  },
  {
   "cell_type": "code",
   "execution_count": 109,
   "metadata": {},
   "outputs": [
    {
     "data": {
      "text/html": [
       "<div>\n",
       "<style scoped>\n",
       "    .dataframe tbody tr th:only-of-type {\n",
       "        vertical-align: middle;\n",
       "    }\n",
       "\n",
       "    .dataframe tbody tr th {\n",
       "        vertical-align: top;\n",
       "    }\n",
       "\n",
       "    .dataframe thead th {\n",
       "        text-align: right;\n",
       "    }\n",
       "</style>\n",
       "<table border=\"1\" class=\"dataframe\">\n",
       "  <thead>\n",
       "    <tr style=\"text-align: right;\">\n",
       "      <th></th>\n",
       "      <th>name</th>\n",
       "      <th>rate</th>\n",
       "      <th>pdf_name</th>\n",
       "      <th>polarity</th>\n",
       "    </tr>\n",
       "  </thead>\n",
       "  <tbody>\n",
       "    <tr>\n",
       "      <th>0</th>\n",
       "      <td>COMBINED-Q4-17-Shareholder-Letter-FINAL</td>\n",
       "      <td>0.70</td>\n",
       "      <td>COMBINED-Q4-17-Shareholder-Letter-FINAL</td>\n",
       "      <td>0.883941</td>\n",
       "    </tr>\n",
       "    <tr>\n",
       "      <th>1</th>\n",
       "      <td>FINAL_Q2_15_Letter_to_Shareholders_With_Tables_</td>\n",
       "      <td>0.60</td>\n",
       "      <td>FINAL_Q2_15_Letter_to_Shareholders_With_Tables_</td>\n",
       "      <td>0.897385</td>\n",
       "    </tr>\n",
       "    <tr>\n",
       "      <th>2</th>\n",
       "      <td>FINAL_Q3_15_Letter_to_Shareholders_With_Tables_</td>\n",
       "      <td>0.55</td>\n",
       "      <td>FINAL_Q3_15_Letter_to_Shareholders_With_Tables_</td>\n",
       "      <td>0.867095</td>\n",
       "    </tr>\n",
       "    <tr>\n",
       "      <th>3</th>\n",
       "      <td>FINAL_Q3_Letter</td>\n",
       "      <td>0.60</td>\n",
       "      <td>FINAL_Q3_Letter</td>\n",
       "      <td>0.881112</td>\n",
       "    </tr>\n",
       "    <tr>\n",
       "      <th>4</th>\n",
       "      <td>FINAL-Q1-18-Shareholder-Letter</td>\n",
       "      <td>0.70</td>\n",
       "      <td>FINAL-Q1-18-Shareholder-Letter</td>\n",
       "      <td>0.870285</td>\n",
       "    </tr>\n",
       "  </tbody>\n",
       "</table>\n",
       "</div>"
      ],
      "text/plain": [
       "                                              name  rate  \\\n",
       "0          COMBINED-Q4-17-Shareholder-Letter-FINAL  0.70   \n",
       "1  FINAL_Q2_15_Letter_to_Shareholders_With_Tables_  0.60   \n",
       "2  FINAL_Q3_15_Letter_to_Shareholders_With_Tables_  0.55   \n",
       "3                                  FINAL_Q3_Letter  0.60   \n",
       "4                   FINAL-Q1-18-Shareholder-Letter  0.70   \n",
       "\n",
       "                                          pdf_name  polarity  \n",
       "0          COMBINED-Q4-17-Shareholder-Letter-FINAL  0.883941  \n",
       "1  FINAL_Q2_15_Letter_to_Shareholders_With_Tables_  0.897385  \n",
       "2  FINAL_Q3_15_Letter_to_Shareholders_With_Tables_  0.867095  \n",
       "3                                  FINAL_Q3_Letter  0.881112  \n",
       "4                   FINAL-Q1-18-Shareholder-Letter  0.870285  "
      ]
     },
     "execution_count": 109,
     "metadata": {},
     "output_type": "execute_result"
    }
   ],
   "source": [
    "df.head()"
   ]
  },
  {
   "cell_type": "code",
   "execution_count": 91,
   "metadata": {},
   "outputs": [
    {
     "name": "stdout",
     "output_type": "stream",
     "text": [
      "                                 OLS Regression Results                                \n",
      "=======================================================================================\n",
      "Dep. Variable:                   rate   R-squared (uncentered):                   0.984\n",
      "Model:                            OLS   Adj. R-squared (uncentered):              0.983\n",
      "Method:                 Least Squares   F-statistic:                              2460.\n",
      "Date:                Sat, 19 Aug 2023   Prob (F-statistic):                    3.14e-38\n",
      "Time:                        11:24:18   Log-Likelihood:                          45.006\n",
      "No. Observations:                  42   AIC:                                     -88.01\n",
      "Df Residuals:                      41   BIC:                                     -86.27\n",
      "Df Model:                           1                                                  \n",
      "Covariance Type:            nonrobust                                                  \n",
      "==============================================================================\n",
      "                 coef    std err          t      P>|t|      [0.025      0.975]\n",
      "------------------------------------------------------------------------------\n",
      "polarity       0.7484      0.015     49.600      0.000       0.718       0.779\n",
      "==============================================================================\n",
      "Omnibus:                        5.628   Durbin-Watson:                   1.024\n",
      "Prob(Omnibus):                  0.060   Jarque-Bera (JB):                4.506\n",
      "Skew:                          -0.577   Prob(JB):                        0.105\n",
      "Kurtosis:                       4.115   Cond. No.                         1.00\n",
      "==============================================================================\n",
      "\n",
      "Notes:\n",
      "[1] R² is computed without centering (uncentered) since the model does not contain a constant.\n",
      "[2] Standard Errors assume that the covariance matrix of the errors is correctly specified.\n"
     ]
    }
   ],
   "source": [
    "import statsmodels.api as sm\n",
    "\n",
    "x = df[['polarity']]\n",
    "y = df['rate']\n",
    "\n",
    "# x = sm.add_constant(x)\n",
    "\n",
    "model = sm.OLS(y, x).fit()\n",
    "predictions = model.predict(x) \n",
    "\n",
    "print_model = model.summary()\n",
    "print(print_model)"
   ]
  },
  {
   "cell_type": "markdown",
   "metadata": {},
   "source": [
    "### Google "
   ]
  },
  {
   "cell_type": "code",
   "execution_count": 116,
   "metadata": {},
   "outputs": [
    {
     "data": {
      "text/plain": [
       "0.335086967891047"
      ]
     },
     "execution_count": 116,
     "metadata": {},
     "output_type": "execute_result"
    }
   ],
   "source": [
    "polarity_google = pd.read_csv('Scores/google_polarity.csv')\n",
    "\n",
    "df = pd.merge(manual_polarity, polarity_google, left_on='name', right_on=\"pdf_name\", how='inner')\n",
    "df[\"polarity\"] = pd.to_numeric(df[\"polarity\"])\n",
    "df.dropna(inplace=True)\n",
    "df[\"polarity\"].corr(df[\"rate\"])"
   ]
  },
  {
   "cell_type": "code",
   "execution_count": 118,
   "metadata": {},
   "outputs": [
    {
     "data": {
      "text/plain": [
       "(50, 4)"
      ]
     },
     "execution_count": 118,
     "metadata": {},
     "output_type": "execute_result"
    }
   ],
   "source": [
    "df.shape"
   ]
  },
  {
   "cell_type": "code",
   "execution_count": 117,
   "metadata": {},
   "outputs": [
    {
     "data": {
      "text/html": [
       "<div>\n",
       "<style scoped>\n",
       "    .dataframe tbody tr th:only-of-type {\n",
       "        vertical-align: middle;\n",
       "    }\n",
       "\n",
       "    .dataframe tbody tr th {\n",
       "        vertical-align: top;\n",
       "    }\n",
       "\n",
       "    .dataframe thead th {\n",
       "        text-align: right;\n",
       "    }\n",
       "</style>\n",
       "<table border=\"1\" class=\"dataframe\">\n",
       "  <thead>\n",
       "    <tr style=\"text-align: right;\">\n",
       "      <th></th>\n",
       "      <th>name</th>\n",
       "      <th>rate</th>\n",
       "      <th>pdf_name</th>\n",
       "      <th>polarity</th>\n",
       "    </tr>\n",
       "  </thead>\n",
       "  <tbody>\n",
       "    <tr>\n",
       "      <th>0</th>\n",
       "      <td>COMBINED-Q4-17-Shareholder-Letter-FINAL</td>\n",
       "      <td>0.70</td>\n",
       "      <td>COMBINED-Q4-17-Shareholder-Letter-FINAL</td>\n",
       "      <td>0.2</td>\n",
       "    </tr>\n",
       "    <tr>\n",
       "      <th>1</th>\n",
       "      <td>FINAL_Q2_15_Letter_to_Shareholders_With_Tables_</td>\n",
       "      <td>0.60</td>\n",
       "      <td>FINAL_Q2_15_Letter_to_Shareholders_With_Tables_</td>\n",
       "      <td>0.2</td>\n",
       "    </tr>\n",
       "    <tr>\n",
       "      <th>2</th>\n",
       "      <td>FINAL_Q3_15_Letter_to_Shareholders_With_Tables_</td>\n",
       "      <td>0.55</td>\n",
       "      <td>FINAL_Q3_15_Letter_to_Shareholders_With_Tables_</td>\n",
       "      <td>0.1</td>\n",
       "    </tr>\n",
       "    <tr>\n",
       "      <th>3</th>\n",
       "      <td>FINAL_Q3_Letter</td>\n",
       "      <td>0.60</td>\n",
       "      <td>FINAL_Q3_Letter</td>\n",
       "      <td>0.2</td>\n",
       "    </tr>\n",
       "    <tr>\n",
       "      <th>4</th>\n",
       "      <td>FINAL-Q1-18-Shareholder-Letter</td>\n",
       "      <td>0.70</td>\n",
       "      <td>FINAL-Q1-18-Shareholder-Letter</td>\n",
       "      <td>0.2</td>\n",
       "    </tr>\n",
       "  </tbody>\n",
       "</table>\n",
       "</div>"
      ],
      "text/plain": [
       "                                              name  rate  \\\n",
       "0          COMBINED-Q4-17-Shareholder-Letter-FINAL  0.70   \n",
       "1  FINAL_Q2_15_Letter_to_Shareholders_With_Tables_  0.60   \n",
       "2  FINAL_Q3_15_Letter_to_Shareholders_With_Tables_  0.55   \n",
       "3                                  FINAL_Q3_Letter  0.60   \n",
       "4                   FINAL-Q1-18-Shareholder-Letter  0.70   \n",
       "\n",
       "                                          pdf_name  polarity  \n",
       "0          COMBINED-Q4-17-Shareholder-Letter-FINAL       0.2  \n",
       "1  FINAL_Q2_15_Letter_to_Shareholders_With_Tables_       0.2  \n",
       "2  FINAL_Q3_15_Letter_to_Shareholders_With_Tables_       0.1  \n",
       "3                                  FINAL_Q3_Letter       0.2  \n",
       "4                   FINAL-Q1-18-Shareholder-Letter       0.2  "
      ]
     },
     "execution_count": 117,
     "metadata": {},
     "output_type": "execute_result"
    }
   ],
   "source": [
    "df.head()"
   ]
  },
  {
   "cell_type": "code",
   "execution_count": 96,
   "metadata": {},
   "outputs": [
    {
     "name": "stdout",
     "output_type": "stream",
     "text": [
      "                                 OLS Regression Results                                \n",
      "=======================================================================================\n",
      "Dep. Variable:                   rate   R-squared (uncentered):                   0.808\n",
      "Model:                            OLS   Adj. R-squared (uncentered):              0.804\n",
      "Method:                 Least Squares   F-statistic:                              206.1\n",
      "Date:                Sat, 19 Aug 2023   Prob (F-statistic):                    3.50e-19\n",
      "Time:                        11:24:36   Log-Likelihood:                         -7.7225\n",
      "No. Observations:                  50   AIC:                                      17.44\n",
      "Df Residuals:                      49   BIC:                                      19.36\n",
      "Df Model:                           1                                                  \n",
      "Covariance Type:            nonrobust                                                  \n",
      "==============================================================================\n",
      "                 coef    std err          t      P>|t|      [0.025      0.975]\n",
      "------------------------------------------------------------------------------\n",
      "polarity       3.5644      0.248     14.356      0.000       3.065       4.063\n",
      "==============================================================================\n",
      "Omnibus:                       14.812   Durbin-Watson:                   1.690\n",
      "Prob(Omnibus):                  0.001   Jarque-Bera (JB):               19.759\n",
      "Skew:                          -1.002   Prob(JB):                     5.12e-05\n",
      "Kurtosis:                       5.339   Cond. No.                         1.00\n",
      "==============================================================================\n",
      "\n",
      "Notes:\n",
      "[1] R² is computed without centering (uncentered) since the model does not contain a constant.\n",
      "[2] Standard Errors assume that the covariance matrix of the errors is correctly specified.\n"
     ]
    }
   ],
   "source": [
    "import statsmodels.api as sm\n",
    "\n",
    "x = df[['polarity']]\n",
    "y = df['rate']\n",
    "\n",
    "# x = sm.add_constant(x)\n",
    "\n",
    "model = sm.OLS(y, x).fit()\n",
    "predictions = model.predict(x) \n",
    "\n",
    "print_model = model.summary()\n",
    "print(print_model)"
   ]
  },
  {
   "cell_type": "markdown",
   "metadata": {},
   "source": [
    "### BART "
   ]
  },
  {
   "cell_type": "code",
   "execution_count": 113,
   "metadata": {},
   "outputs": [
    {
     "data": {
      "text/plain": [
       "0.2141413668331887"
      ]
     },
     "execution_count": 113,
     "metadata": {},
     "output_type": "execute_result"
    }
   ],
   "source": [
    "polarity_bart = pd.read_csv('Src/bart_positive_sentiment_probs.csv')\n",
    "\n",
    "df = pd.merge(manual_polarity, polarity_bart, left_on='name', right_on=\"pdf_name\", how='inner')\n",
    "df[\"positive_sentiment_prob\"] = df[\"positive_sentiment_prob\"].apply(lambda x: 0.5 if x == \"Positive\" else x)\n",
    "df[\"positive_sentiment_prob\"] = pd.to_numeric(df[\"positive_sentiment_prob\"])\n",
    "df.dropna(inplace=True)\n",
    "df[\"positive_sentiment_prob\"].corr(df[\"rate\"])"
   ]
  },
  {
   "cell_type": "code",
   "execution_count": 114,
   "metadata": {},
   "outputs": [
    {
     "data": {
      "text/html": [
       "<div>\n",
       "<style scoped>\n",
       "    .dataframe tbody tr th:only-of-type {\n",
       "        vertical-align: middle;\n",
       "    }\n",
       "\n",
       "    .dataframe tbody tr th {\n",
       "        vertical-align: top;\n",
       "    }\n",
       "\n",
       "    .dataframe thead th {\n",
       "        text-align: right;\n",
       "    }\n",
       "</style>\n",
       "<table border=\"1\" class=\"dataframe\">\n",
       "  <thead>\n",
       "    <tr style=\"text-align: right;\">\n",
       "      <th></th>\n",
       "      <th>name</th>\n",
       "      <th>rate</th>\n",
       "      <th>pdf_name</th>\n",
       "      <th>positive_sentiment_prob</th>\n",
       "    </tr>\n",
       "  </thead>\n",
       "  <tbody>\n",
       "    <tr>\n",
       "      <th>0</th>\n",
       "      <td>COMBINED-Q4-17-Shareholder-Letter-FINAL</td>\n",
       "      <td>0.70</td>\n",
       "      <td>COMBINED-Q4-17-Shareholder-Letter-FINAL</td>\n",
       "      <td>0.538636</td>\n",
       "    </tr>\n",
       "    <tr>\n",
       "      <th>1</th>\n",
       "      <td>FINAL_Q2_15_Letter_to_Shareholders_With_Tables_</td>\n",
       "      <td>0.60</td>\n",
       "      <td>FINAL_Q2_15_Letter_to_Shareholders_With_Tables_</td>\n",
       "      <td>0.539246</td>\n",
       "    </tr>\n",
       "    <tr>\n",
       "      <th>2</th>\n",
       "      <td>FINAL_Q3_15_Letter_to_Shareholders_With_Tables_</td>\n",
       "      <td>0.55</td>\n",
       "      <td>FINAL_Q3_15_Letter_to_Shareholders_With_Tables_</td>\n",
       "      <td>0.539036</td>\n",
       "    </tr>\n",
       "    <tr>\n",
       "      <th>3</th>\n",
       "      <td>FINAL_Q3_Letter</td>\n",
       "      <td>0.60</td>\n",
       "      <td>FINAL_Q3_Letter</td>\n",
       "      <td>0.539802</td>\n",
       "    </tr>\n",
       "    <tr>\n",
       "      <th>4</th>\n",
       "      <td>FINAL-Q1-18-Shareholder-Letter</td>\n",
       "      <td>0.70</td>\n",
       "      <td>FINAL-Q1-18-Shareholder-Letter</td>\n",
       "      <td>0.539028</td>\n",
       "    </tr>\n",
       "  </tbody>\n",
       "</table>\n",
       "</div>"
      ],
      "text/plain": [
       "                                              name  rate  \\\n",
       "0          COMBINED-Q4-17-Shareholder-Letter-FINAL  0.70   \n",
       "1  FINAL_Q2_15_Letter_to_Shareholders_With_Tables_  0.60   \n",
       "2  FINAL_Q3_15_Letter_to_Shareholders_With_Tables_  0.55   \n",
       "3                                  FINAL_Q3_Letter  0.60   \n",
       "4                   FINAL-Q1-18-Shareholder-Letter  0.70   \n",
       "\n",
       "                                          pdf_name  positive_sentiment_prob  \n",
       "0          COMBINED-Q4-17-Shareholder-Letter-FINAL                 0.538636  \n",
       "1  FINAL_Q2_15_Letter_to_Shareholders_With_Tables_                 0.539246  \n",
       "2  FINAL_Q3_15_Letter_to_Shareholders_With_Tables_                 0.539036  \n",
       "3                                  FINAL_Q3_Letter                 0.539802  \n",
       "4                   FINAL-Q1-18-Shareholder-Letter                 0.539028  "
      ]
     },
     "execution_count": 114,
     "metadata": {},
     "output_type": "execute_result"
    }
   ],
   "source": [
    "df.head()"
   ]
  },
  {
   "cell_type": "code",
   "execution_count": 115,
   "metadata": {},
   "outputs": [
    {
     "data": {
      "text/plain": [
       "(50, 4)"
      ]
     },
     "execution_count": 115,
     "metadata": {},
     "output_type": "execute_result"
    }
   ],
   "source": [
    "df.shape"
   ]
  },
  {
   "cell_type": "code",
   "execution_count": null,
   "metadata": {},
   "outputs": [],
   "source": []
  }
 ],
 "metadata": {
  "kernelspec": {
   "display_name": "Python 3",
   "language": "python",
   "name": "python3"
  },
  "language_info": {
   "codemirror_mode": {
    "name": "ipython",
    "version": 3
   },
   "file_extension": ".py",
   "mimetype": "text/x-python",
   "name": "python",
   "nbconvert_exporter": "python",
   "pygments_lexer": "ipython3",
   "version": "3.10.8"
  },
  "orig_nbformat": 4
 },
 "nbformat": 4,
 "nbformat_minor": 2
}
